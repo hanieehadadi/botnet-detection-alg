{
 "cells": [
  {
   "cell_type": "code",
   "execution_count": 1,
   "metadata": {},
   "outputs": [
    {
     "name": "stderr",
     "output_type": "stream",
     "text": [
      "C:\\Users\\moham\\AppData\\Local\\Temp\\ipykernel_9028\\2619883542.py:1: DeprecationWarning: \n",
      "Pyarrow will become a required dependency of pandas in the next major release of pandas (pandas 3.0),\n",
      "(to allow more performant data types, such as the Arrow string type, and better interoperability with other libraries)\n",
      "but was not found to be installed on your system.\n",
      "If this would cause problems for you,\n",
      "please provide us feedback at https://github.com/pandas-dev/pandas/issues/54466\n",
      "        \n",
      "  import pandas as pd\n"
     ]
    }
   ],
   "source": [
    "import pandas as pd\n",
    "import numpy as np\n",
    "import os"
   ]
  },
  {
   "cell_type": "code",
   "execution_count": 2,
   "metadata": {},
   "outputs": [],
   "source": [
    "dataset_path = os.path.join(os.getcwd(), 'CICIoT2023')\n",
    "csvs = os.listdir(dataset_path)"
   ]
  },
  {
   "cell_type": "markdown",
   "metadata": {},
   "source": [
    "# find unique values in all dataset"
   ]
  },
  {
   "cell_type": "code",
   "execution_count": 3,
   "metadata": {},
   "outputs": [],
   "source": [
    "csv_data = {}\n",
    "for csv in csvs:\n",
    "    df = pd.read_csv(os.path.join(dataset_path,csv))\n",
    "    unique_labels = df['label'].unique()\n",
    "    for idx, label in enumerate(unique_labels):\n",
    "        if idx == 0:\n",
    "            csv_data[label] = df[df['label'] == label].count().unique()[0]\n",
    "        keys = csv_data.keys()\n",
    "        if label in keys:\n",
    "            csv_data[label] = df[df['label'] == label].count().unique()[0] + csv_data[label]\n",
    "        else:\n",
    "            csv_data[label] = df[df['label'] == label].count().unique()[0]"
   ]
  },
  {
   "cell_type": "code",
   "execution_count": 4,
   "metadata": {},
   "outputs": [
    {
     "data": {
      "text/plain": [
       "{'DDoS-RSTFINFlood': 118219,\n",
       " 'DoS-TCP_Flood': 130828,\n",
       " 'DDoS-ICMP_Flood': 277923,\n",
       " 'DoS-UDP_Flood': 309593,\n",
       " 'DoS-SYN_Flood': 29809,\n",
       " 'Mirai-greeth_flood': 67871,\n",
       " 'DDoS-SynonymousIP_Flood': 298337,\n",
       " 'Mirai-udpplain': 135136,\n",
       " 'DDoS-SYN_Flood': 256187,\n",
       " 'DDoS-PSHACK_Flood': 498249,\n",
       " 'DDoS-TCP_Flood': 44846,\n",
       " 'DDoS-UDP_Flood': 261078,\n",
       " 'BenignTraffic': 216378,\n",
       " 'MITM-ArpSpoofing': 18815,\n",
       " 'DDoS-ACK_Fragmentation': 141882,\n",
       " 'Mirai-greip_flood': 159168,\n",
       " 'DoS-HTTP_Flood': 59150,\n",
       " 'DDoS-ICMP_Fragmentation': 399664,\n",
       " 'Recon-PortScan': 38255,\n",
       " 'DNS_Spoofing': 105973,\n",
       " 'DDoS-UDP_Fragmentation': 286925,\n",
       " 'Recon-OSScan': 48624,\n",
       " 'XSS': 3846,\n",
       " 'DDoS-HTTP_Flood': 28790,\n",
       " 'Recon-HostDiscovery': 102270,\n",
       " 'CommandInjection': 5409,\n",
       " 'VulnerabilityScan': 37382,\n",
       " 'DDoS-SlowLoris': 23426,\n",
       " 'Backdoor_Malware': 3218,\n",
       " 'BrowserHijacking': 5859,\n",
       " 'DictionaryBruteForce': 13064,\n",
       " 'SqlInjection': 5245,\n",
       " 'Recon-PingSweep': 2262,\n",
       " 'Uploading_Attack': 1252}"
      ]
     },
     "execution_count": 4,
     "metadata": {},
     "output_type": "execute_result"
    }
   ],
   "source": [
    "csv_data"
   ]
  },
  {
   "cell_type": "code",
   "execution_count": 5,
   "metadata": {},
   "outputs": [
    {
     "data": {
      "text/plain": [
       "34"
      ]
     },
     "execution_count": 5,
     "metadata": {},
     "output_type": "execute_result"
    }
   ],
   "source": [
    "len(csv_data.keys())"
   ]
  },
  {
   "cell_type": "code",
   "execution_count": 6,
   "metadata": {},
   "outputs": [
    {
     "name": "stdout",
     "output_type": "stream",
     "text": [
      "4134933\n"
     ]
    }
   ],
   "source": [
    "sum = 0\n",
    "for val in csv_data.values():\n",
    "    sum += val\n",
    "print(sum)"
   ]
  },
  {
   "cell_type": "markdown",
   "metadata": {},
   "source": [
    "# concatenate csvs into one dataframe"
   ]
  },
  {
   "cell_type": "code",
   "execution_count": 7,
   "metadata": {},
   "outputs": [],
   "source": [
    "frames = [pd.read_csv(os.path.join(dataset_path,f)) for f in csvs]\n",
    "result = pd.concat(frames)\n",
    "result.to_csv(os.path.join(os.getcwd(),'full_data.csv'))"
   ]
  },
  {
   "cell_type": "markdown",
   "metadata": {},
   "source": [
    "{'BenignTraffic': 30000\n",
    " 'CommandInjection': 5000\n",
    " 'BrowserHijacking': 5000\n",
    " 'SqlInjection': 5000\n",
    "'Backdoor_Malware': 1000\n",
    " 'Recon-PingSweep': 1000\n",
    " 'Uploading_Attack': 1000\n",
    "'XSS':1000}"
   ]
  },
  {
   "cell_type": "code",
   "execution_count": 38,
   "metadata": {},
   "outputs": [],
   "source": [
    "Uploading_Attack = [result[result['label'] == 'Uploading_Attack'].sample(1000, replace=False)]\n",
    "BenignTraffic = [result[result['label'] == 'BenignTraffic'].sample(30000, replace=False)]\n",
    "BrowserHijacking = [result[result['label'] == 'BrowserHijacking'].sample(5000, replace=False)]\n",
    "CommandInjection = [result[result['label'] == 'CommandInjection'].sample(5000, replace=False)]\n",
    "SqlInjection = [result[result['label'] == 'SqlInjection'].sample(5000, replace=False)]\n",
    "Backdoor_Malware = [result[result['label'] == 'Backdoor_Malware'].sample(1000, replace=False)]\n",
    "Recon_PingSweep = [result[result['label'] == 'Recon-PingSweep'].sample(1000, replace=False)]\n",
    "XSS = [result[result['label'] == 'XSS'].sample(1000, replace=False)]"
   ]
  },
  {
   "cell_type": "code",
   "execution_count": 39,
   "metadata": {},
   "outputs": [
    {
     "data": {
      "text/plain": [
       "3846"
      ]
     },
     "execution_count": 39,
     "metadata": {},
     "output_type": "execute_result"
    }
   ],
   "source": [
    "csv_data.pop('Uploading_Attack')\n",
    "csv_data.pop('BenignTraffic')\n",
    "csv_data.pop('CommandInjection')\n",
    "csv_data.pop('BrowserHijacking')\n",
    "csv_data.pop('SqlInjection')\n",
    "csv_data.pop('Backdoor_Malware')\n",
    "csv_data.pop('Recon-PingSweep')\n",
    "csv_data.pop('XSS')"
   ]
  },
  {
   "cell_type": "markdown",
   "metadata": {},
   "source": [
    "random select from all dataset"
   ]
  },
  {
   "cell_type": "code",
   "execution_count": 46,
   "metadata": {},
   "outputs": [
    {
     "data": {
      "text/plain": [
       "26"
      ]
     },
     "execution_count": 46,
     "metadata": {},
     "output_type": "execute_result"
    }
   ],
   "source": [
    "len(csv_data)"
   ]
  },
  {
   "cell_type": "code",
   "execution_count": 40,
   "metadata": {},
   "outputs": [],
   "source": [
    "number_of_sampels = 10000\n",
    "\n",
    "keys = csv_data.keys()\n",
    "new_data = [result[result['label'] == key].sample(number_of_sampels, replace=False) for key in keys]"
   ]
  },
  {
   "cell_type": "code",
   "execution_count": 41,
   "metadata": {},
   "outputs": [],
   "source": [
    "Uploading_Attack = pd.concat(Uploading_Attack)\n",
    "BenignTraffic = pd.concat(BenignTraffic)\n",
    "BrowserHijacking = pd.concat(BrowserHijacking)\n",
    "CommandInjection = pd.concat(CommandInjection)\n",
    "SqlInjection = pd.concat(SqlInjection)\n",
    "Backdoor_Malware = pd.concat(Backdoor_Malware)\n",
    "Recon_PingSweep = pd.concat(Recon_PingSweep)\n",
    "XSS = pd.concat(XSS)\n",
    "new_dataset = pd.concat(new_data)"
   ]
  },
  {
   "cell_type": "code",
   "execution_count": 42,
   "metadata": {},
   "outputs": [],
   "source": [
    "frames_result = [Uploading_Attack, BenignTraffic, BrowserHijacking, CommandInjection, SqlInjection ,Backdoor_Malware ,Recon_PingSweep ,XSS ,new_dataset ]"
   ]
  },
  {
   "cell_type": "code",
   "execution_count": 43,
   "metadata": {},
   "outputs": [],
   "source": [
    "Final_result = pd.concat(frames_result)"
   ]
  },
  {
   "cell_type": "code",
   "execution_count": 45,
   "metadata": {},
   "outputs": [
    {
     "name": "stdout",
     "output_type": "stream",
     "text": [
      "<class 'pandas.core.frame.DataFrame'>\n",
      "Int64Index: 309000 entries, 205529 to 194256\n",
      "Data columns (total 47 columns):\n",
      " #   Column           Non-Null Count   Dtype  \n",
      "---  ------           --------------   -----  \n",
      " 0   flow_duration    309000 non-null  float64\n",
      " 1   Header_Length    309000 non-null  float64\n",
      " 2   Protocol Type    309000 non-null  float64\n",
      " 3   Duration         309000 non-null  float64\n",
      " 4   Rate             309000 non-null  float64\n",
      " 5   Srate            309000 non-null  float64\n",
      " 6   Drate            309000 non-null  float64\n",
      " 7   fin_flag_number  309000 non-null  float64\n",
      " 8   syn_flag_number  309000 non-null  float64\n",
      " 9   rst_flag_number  309000 non-null  float64\n",
      " 10  psh_flag_number  309000 non-null  float64\n",
      " 11  ack_flag_number  309000 non-null  float64\n",
      " 12  ece_flag_number  309000 non-null  float64\n",
      " 13  cwr_flag_number  309000 non-null  float64\n",
      " 14  ack_count        309000 non-null  float64\n",
      " 15  syn_count        309000 non-null  float64\n",
      " 16  fin_count        309000 non-null  float64\n",
      " 17  urg_count        309000 non-null  float64\n",
      " 18  rst_count        309000 non-null  float64\n",
      " 19  HTTP             309000 non-null  float64\n",
      " 20  HTTPS            309000 non-null  float64\n",
      " 21  DNS              309000 non-null  float64\n",
      " 22  Telnet           309000 non-null  float64\n",
      " 23  SMTP             309000 non-null  float64\n",
      " 24  SSH              309000 non-null  float64\n",
      " 25  IRC              309000 non-null  float64\n",
      " 26  TCP              309000 non-null  float64\n",
      " 27  UDP              309000 non-null  float64\n",
      " 28  DHCP             309000 non-null  float64\n",
      " 29  ARP              309000 non-null  float64\n",
      " 30  ICMP             309000 non-null  float64\n",
      " 31  IPv              309000 non-null  float64\n",
      " 32  LLC              309000 non-null  float64\n",
      " 33  Tot sum          309000 non-null  float64\n",
      " 34  Min              309000 non-null  float64\n",
      " 35  Max              309000 non-null  float64\n",
      " 36  AVG              309000 non-null  float64\n",
      " 37  Std              309000 non-null  float64\n",
      " 38  Tot size         309000 non-null  float64\n",
      " 39  IAT              309000 non-null  float64\n",
      " 40  Number           309000 non-null  float64\n",
      " 41  Magnitue         309000 non-null  float64\n",
      " 42  Radius           309000 non-null  float64\n",
      " 43  Covariance       309000 non-null  float64\n",
      " 44  Variance         309000 non-null  float64\n",
      " 45  Weight           309000 non-null  float64\n",
      " 46  label            309000 non-null  object \n",
      "dtypes: float64(46), object(1)\n",
      "memory usage: 113.2+ MB\n"
     ]
    }
   ],
   "source": [
    "Final_result.info()"
   ]
  },
  {
   "cell_type": "code",
   "execution_count": 44,
   "metadata": {},
   "outputs": [],
   "source": [
    "Final_result.to_csv(os.path.join(os.getcwd(),'FinalResult_TEST.csv'))"
   ]
  }
 ],
 "metadata": {
  "kernelspec": {
   "display_name": "Python 3",
   "language": "python",
   "name": "python3"
  },
  "language_info": {
   "codemirror_mode": {
    "name": "ipython",
    "version": 3
   },
   "file_extension": ".py",
   "mimetype": "text/x-python",
   "name": "python",
   "nbconvert_exporter": "python",
   "pygments_lexer": "ipython3",
   "version": "3.10.11"
  },
  "orig_nbformat": 4
 },
 "nbformat": 4,
 "nbformat_minor": 2
}
