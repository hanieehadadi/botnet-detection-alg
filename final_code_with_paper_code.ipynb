{
  "cells": [
    {
      "cell_type": "code",
      "execution_count": null,
      "metadata": {
        "colab": {
          "base_uri": "https://localhost:8080/"
        },
        "id": "mveuLMNL3Bs4",
        "outputId": "48b5ac5e-9a4d-4928-b254-35cc9b05cc6a"
      },
      "outputs": [
        {
          "output_type": "stream",
          "name": "stdout",
          "text": [
            "Looking in indexes: https://pypi.org/simple, https://us-python.pkg.dev/colab-wheels/public/simple/\n",
            "Requirement already satisfied: mlxtend in /usr/local/lib/python3.7/dist-packages (0.14.0)\n",
            "Requirement already satisfied: numpy>=1.10.4 in /usr/local/lib/python3.7/dist-packages (from mlxtend) (1.21.6)\n",
            "Requirement already satisfied: scikit-learn>=0.18 in /usr/local/lib/python3.7/dist-packages (from mlxtend) (1.0.2)\n",
            "Requirement already satisfied: scipy>=0.17 in /usr/local/lib/python3.7/dist-packages (from mlxtend) (1.7.3)\n",
            "Requirement already satisfied: pandas>=0.17.1 in /usr/local/lib/python3.7/dist-packages (from mlxtend) (1.3.5)\n",
            "Requirement already satisfied: matplotlib>=1.5.1 in /usr/local/lib/python3.7/dist-packages (from mlxtend) (3.2.2)\n",
            "Requirement already satisfied: setuptools in /usr/local/lib/python3.7/dist-packages (from mlxtend) (57.4.0)\n",
            "Requirement already satisfied: kiwisolver>=1.0.1 in /usr/local/lib/python3.7/dist-packages (from matplotlib>=1.5.1->mlxtend) (1.4.4)\n",
            "Requirement already satisfied: pyparsing!=2.0.4,!=2.1.2,!=2.1.6,>=2.0.1 in /usr/local/lib/python3.7/dist-packages (from matplotlib>=1.5.1->mlxtend) (3.0.9)\n",
            "Requirement already satisfied: python-dateutil>=2.1 in /usr/local/lib/python3.7/dist-packages (from matplotlib>=1.5.1->mlxtend) (2.8.2)\n",
            "Requirement already satisfied: cycler>=0.10 in /usr/local/lib/python3.7/dist-packages (from matplotlib>=1.5.1->mlxtend) (0.11.0)\n",
            "Requirement already satisfied: typing-extensions in /usr/local/lib/python3.7/dist-packages (from kiwisolver>=1.0.1->matplotlib>=1.5.1->mlxtend) (4.1.1)\n",
            "Requirement already satisfied: pytz>=2017.3 in /usr/local/lib/python3.7/dist-packages (from pandas>=0.17.1->mlxtend) (2022.4)\n",
            "Requirement already satisfied: six>=1.5 in /usr/local/lib/python3.7/dist-packages (from python-dateutil>=2.1->matplotlib>=1.5.1->mlxtend) (1.15.0)\n",
            "Requirement already satisfied: joblib>=0.11 in /usr/local/lib/python3.7/dist-packages (from scikit-learn>=0.18->mlxtend) (1.2.0)\n",
            "Requirement already satisfied: threadpoolctl>=2.0.0 in /usr/local/lib/python3.7/dist-packages (from scikit-learn>=0.18->mlxtend) (3.1.0)\n"
          ]
        }
      ],
      "source": [
        "pip install mlxtend"
      ]
    },
    {
      "cell_type": "code",
      "execution_count": null,
      "metadata": {
        "id": "CO-NR4wr5EHP"
      },
      "outputs": [],
      "source": [
        "import pandas as pd\n",
        "import numpy as np\n",
        "import matplotlib.pyplot as plt\n",
        "import time"
      ]
    },
    {
      "cell_type": "code",
      "execution_count": null,
      "metadata": {
        "colab": {
          "base_uri": "https://localhost:8080/"
        },
        "id": "zel2ehFW5EFk",
        "outputId": "f8d2ab1d-d98f-4ec0-9697-69fb573cc6fe"
      },
      "outputs": [
        {
          "output_type": "stream",
          "name": "stdout",
          "text": [
            "Drive already mounted at /content/drive; to attempt to forcibly remount, call drive.mount(\"/content/drive\", force_remount=True).\n"
          ]
        }
      ],
      "source": [
        "from google.colab import drive\n",
        "drive.mount('/content/drive')"
      ]
    },
    {
      "cell_type": "code",
      "execution_count": null,
      "metadata": {
        "id": "hIKSd09losX_"
      },
      "outputs": [],
      "source": [
        "# import os\n",
        "# os.getcwd()"
      ]
    },
    {
      "cell_type": "code",
      "execution_count": null,
      "metadata": {
        "id": "t-mQjqEJosYA"
      },
      "outputs": [],
      "source": [
        "# os.chdir('C:\\\\Users\\\\tahere\\\\Desktop\\\\content')\n",
        "# os.getcwd()"
      ]
    },
    {
      "cell_type": "code",
      "execution_count": null,
      "metadata": {
        "id": "4wDhiFFaRLJO"
      },
      "outputs": [],
      "source": [
        "start_all=time.time()"
      ]
    },
    {
      "cell_type": "markdown",
      "metadata": {
        "id": "mJPiLqSR5VNQ"
      },
      "source": [
        "#BOT-IOT dataset"
      ]
    },
    {
      "cell_type": "markdown",
      "metadata": {
        "id": "4qLne_Xy5acJ"
      },
      "source": [
        "##import bot-iot dataset"
      ]
    },
    {
      "cell_type": "code",
      "execution_count": null,
      "metadata": {
        "colab": {
          "base_uri": "https://localhost:8080/"
        },
        "id": "nqhU3WO-5D-2",
        "outputId": "61e3fe31-e2de-4612-99b5-a1535d2b26ae"
      },
      "outputs": [
        {
          "output_type": "execute_result",
          "data": {
            "text/plain": [
              "166.84776091575623"
            ]
          },
          "metadata": {},
          "execution_count": 676
        }
      ],
      "source": [
        "s=time.time()\n",
        "dataset=pd.read_excel('/content/drive/MyDrive/step3/dataset.xlsx', engine='openpyxl')\n",
        "e=time.time()\n",
        "sf_time= e-s\n",
        "sf_time"
      ]
    },
    {
      "cell_type": "code",
      "execution_count": null,
      "metadata": {
        "colab": {
          "base_uri": "https://localhost:8080/",
          "height": 488
        },
        "id": "_U7mCM5g5D8K",
        "outputId": "601a2784-77d6-410a-c777-a76061f30a28"
      },
      "outputs": [
        {
          "output_type": "execute_result",
          "data": {
            "text/plain": [
              "        pkSeqID         stime flgs  flgs_number proto  proto_number  \\\n",
              "0       2594359  1.528096e+09  e s            2   tcp             1   \n",
              "1       2576875  1.528096e+09  e s            2   tcp             1   \n",
              "2       2966518  1.528099e+09    e            1   udp             3   \n",
              "3       2391310  1.528096e+09  e s            2   tcp             1   \n",
              "4       2844854  1.528099e+09    e            1   udp             3   \n",
              "...         ...           ...  ...          ...   ...           ...   \n",
              "290524  3640660  1.526349e+09    e            1   udp             3   \n",
              "290525  3635361  1.526349e+09    e            1   tcp             1   \n",
              "290526  3660781  1.526350e+09   eU            6   udp             3   \n",
              "290527  3593919  1.526876e+09    e            1   tcp             1   \n",
              "290528  3577785  1.526876e+09    e            1   tcp             1   \n",
              "\n",
              "                  saddr  sport          daddr  dport  ...  AR_P_Proto_P_DstIP  \\\n",
              "0       192.168.100.147  41788  192.168.100.3     80  ...            0.120031   \n",
              "1       192.168.100.148  22741  192.168.100.3     80  ...            0.180796   \n",
              "2       192.168.100.147  60331  192.168.100.3     80  ...            1.097860   \n",
              "3       192.168.100.150  56409  192.168.100.3     80  ...            0.378991   \n",
              "4       192.168.100.150  46002  192.168.100.3     80  ...            0.546667   \n",
              "...                 ...    ...            ...    ...  ...                 ...   \n",
              "290524  192.168.100.148  63061  192.168.100.5  35777  ...         7710.720000   \n",
              "290525  192.168.100.148  48968  192.168.100.5  49163  ...         3227.990000   \n",
              "290526  192.168.100.150  41433  192.168.100.5  45380  ...         8745.480000   \n",
              "290527  192.168.100.148  55499  192.168.100.7   1072  ...         3270.630000   \n",
              "290528  192.168.100.150  46997  192.168.100.3   3737  ...        17471.800000   \n",
              "\n",
              "        N_IN_Conn_P_DstIP N_IN_Conn_P_SrcIP  AR_P_Proto_P_Sport  \\\n",
              "0                     100               100            0.134867   \n",
              "1                     100                89            0.158467   \n",
              "2                     100               100            1.097860   \n",
              "3                     100               100            0.521621   \n",
              "4                     100                99            0.544177   \n",
              "...                   ...               ...                 ...   \n",
              "290524                 58                15         9401.710000   \n",
              "290525                100                93         3151.530000   \n",
              "290526                 58                15         8358.660000   \n",
              "290527                100               100         3270.630000   \n",
              "290528                100               100        17471.800000   \n",
              "\n",
              "        AR_P_Proto_P_Dport  Pkts_P_State_P_Protocol_P_DestIP  \\\n",
              "0                 0.120031                               396   \n",
              "1                 0.180796                               659   \n",
              "2                 1.097860                              1500   \n",
              "3                 0.378991                                84   \n",
              "4                 0.546667                               603   \n",
              "...                    ...                               ...   \n",
              "290524         8474.580000                                58   \n",
              "290525         2869.440000                               200   \n",
              "290526         5076.140000                                58   \n",
              "290527        31250.000000                               201   \n",
              "290528        14598.500000                               200   \n",
              "\n",
              "        Pkts_P_State_P_Protocol_P_SrcIP  attack        category  \\\n",
              "0                                   396       1            DDoS   \n",
              "1                                   659       1            DDoS   \n",
              "2                                  1500       1            DDoS   \n",
              "3                                    84       1            DDoS   \n",
              "4                                   594       1            DDoS   \n",
              "...                                 ...     ...             ...   \n",
              "290524                               15       1  Reconnaissance   \n",
              "290525                              186       1  Reconnaissance   \n",
              "290526                               15       1  Reconnaissance   \n",
              "290527                              201       1  Reconnaissance   \n",
              "290528                              200       1  Reconnaissance   \n",
              "\n",
              "           subcategory  \n",
              "0                  TCP  \n",
              "1                  TCP  \n",
              "2                  UDP  \n",
              "3                  TCP  \n",
              "4                  UDP  \n",
              "...                ...  \n",
              "290524    Service_Scan  \n",
              "290525    Service_Scan  \n",
              "290526    Service_Scan  \n",
              "290527  OS_Fingerprint  \n",
              "290528  OS_Fingerprint  \n",
              "\n",
              "[290529 rows x 46 columns]"
            ],
            "text/html": [
              "\n",
              "  <div id=\"df-347d1eab-ab48-4ada-8327-df77c680f650\">\n",
              "    <div class=\"colab-df-container\">\n",
              "      <div>\n",
              "<style scoped>\n",
              "    .dataframe tbody tr th:only-of-type {\n",
              "        vertical-align: middle;\n",
              "    }\n",
              "\n",
              "    .dataframe tbody tr th {\n",
              "        vertical-align: top;\n",
              "    }\n",
              "\n",
              "    .dataframe thead th {\n",
              "        text-align: right;\n",
              "    }\n",
              "</style>\n",
              "<table border=\"1\" class=\"dataframe\">\n",
              "  <thead>\n",
              "    <tr style=\"text-align: right;\">\n",
              "      <th></th>\n",
              "      <th>pkSeqID</th>\n",
              "      <th>stime</th>\n",
              "      <th>flgs</th>\n",
              "      <th>flgs_number</th>\n",
              "      <th>proto</th>\n",
              "      <th>proto_number</th>\n",
              "      <th>saddr</th>\n",
              "      <th>sport</th>\n",
              "      <th>daddr</th>\n",
              "      <th>dport</th>\n",
              "      <th>...</th>\n",
              "      <th>AR_P_Proto_P_DstIP</th>\n",
              "      <th>N_IN_Conn_P_DstIP</th>\n",
              "      <th>N_IN_Conn_P_SrcIP</th>\n",
              "      <th>AR_P_Proto_P_Sport</th>\n",
              "      <th>AR_P_Proto_P_Dport</th>\n",
              "      <th>Pkts_P_State_P_Protocol_P_DestIP</th>\n",
              "      <th>Pkts_P_State_P_Protocol_P_SrcIP</th>\n",
              "      <th>attack</th>\n",
              "      <th>category</th>\n",
              "      <th>subcategory</th>\n",
              "    </tr>\n",
              "  </thead>\n",
              "  <tbody>\n",
              "    <tr>\n",
              "      <th>0</th>\n",
              "      <td>2594359</td>\n",
              "      <td>1.528096e+09</td>\n",
              "      <td>e s</td>\n",
              "      <td>2</td>\n",
              "      <td>tcp</td>\n",
              "      <td>1</td>\n",
              "      <td>192.168.100.147</td>\n",
              "      <td>41788</td>\n",
              "      <td>192.168.100.3</td>\n",
              "      <td>80</td>\n",
              "      <td>...</td>\n",
              "      <td>0.120031</td>\n",
              "      <td>100</td>\n",
              "      <td>100</td>\n",
              "      <td>0.134867</td>\n",
              "      <td>0.120031</td>\n",
              "      <td>396</td>\n",
              "      <td>396</td>\n",
              "      <td>1</td>\n",
              "      <td>DDoS</td>\n",
              "      <td>TCP</td>\n",
              "    </tr>\n",
              "    <tr>\n",
              "      <th>1</th>\n",
              "      <td>2576875</td>\n",
              "      <td>1.528096e+09</td>\n",
              "      <td>e s</td>\n",
              "      <td>2</td>\n",
              "      <td>tcp</td>\n",
              "      <td>1</td>\n",
              "      <td>192.168.100.148</td>\n",
              "      <td>22741</td>\n",
              "      <td>192.168.100.3</td>\n",
              "      <td>80</td>\n",
              "      <td>...</td>\n",
              "      <td>0.180796</td>\n",
              "      <td>100</td>\n",
              "      <td>89</td>\n",
              "      <td>0.158467</td>\n",
              "      <td>0.180796</td>\n",
              "      <td>659</td>\n",
              "      <td>659</td>\n",
              "      <td>1</td>\n",
              "      <td>DDoS</td>\n",
              "      <td>TCP</td>\n",
              "    </tr>\n",
              "    <tr>\n",
              "      <th>2</th>\n",
              "      <td>2966518</td>\n",
              "      <td>1.528099e+09</td>\n",
              "      <td>e</td>\n",
              "      <td>1</td>\n",
              "      <td>udp</td>\n",
              "      <td>3</td>\n",
              "      <td>192.168.100.147</td>\n",
              "      <td>60331</td>\n",
              "      <td>192.168.100.3</td>\n",
              "      <td>80</td>\n",
              "      <td>...</td>\n",
              "      <td>1.097860</td>\n",
              "      <td>100</td>\n",
              "      <td>100</td>\n",
              "      <td>1.097860</td>\n",
              "      <td>1.097860</td>\n",
              "      <td>1500</td>\n",
              "      <td>1500</td>\n",
              "      <td>1</td>\n",
              "      <td>DDoS</td>\n",
              "      <td>UDP</td>\n",
              "    </tr>\n",
              "    <tr>\n",
              "      <th>3</th>\n",
              "      <td>2391310</td>\n",
              "      <td>1.528096e+09</td>\n",
              "      <td>e s</td>\n",
              "      <td>2</td>\n",
              "      <td>tcp</td>\n",
              "      <td>1</td>\n",
              "      <td>192.168.100.150</td>\n",
              "      <td>56409</td>\n",
              "      <td>192.168.100.3</td>\n",
              "      <td>80</td>\n",
              "      <td>...</td>\n",
              "      <td>0.378991</td>\n",
              "      <td>100</td>\n",
              "      <td>100</td>\n",
              "      <td>0.521621</td>\n",
              "      <td>0.378991</td>\n",
              "      <td>84</td>\n",
              "      <td>84</td>\n",
              "      <td>1</td>\n",
              "      <td>DDoS</td>\n",
              "      <td>TCP</td>\n",
              "    </tr>\n",
              "    <tr>\n",
              "      <th>4</th>\n",
              "      <td>2844854</td>\n",
              "      <td>1.528099e+09</td>\n",
              "      <td>e</td>\n",
              "      <td>1</td>\n",
              "      <td>udp</td>\n",
              "      <td>3</td>\n",
              "      <td>192.168.100.150</td>\n",
              "      <td>46002</td>\n",
              "      <td>192.168.100.3</td>\n",
              "      <td>80</td>\n",
              "      <td>...</td>\n",
              "      <td>0.546667</td>\n",
              "      <td>100</td>\n",
              "      <td>99</td>\n",
              "      <td>0.544177</td>\n",
              "      <td>0.546667</td>\n",
              "      <td>603</td>\n",
              "      <td>594</td>\n",
              "      <td>1</td>\n",
              "      <td>DDoS</td>\n",
              "      <td>UDP</td>\n",
              "    </tr>\n",
              "    <tr>\n",
              "      <th>...</th>\n",
              "      <td>...</td>\n",
              "      <td>...</td>\n",
              "      <td>...</td>\n",
              "      <td>...</td>\n",
              "      <td>...</td>\n",
              "      <td>...</td>\n",
              "      <td>...</td>\n",
              "      <td>...</td>\n",
              "      <td>...</td>\n",
              "      <td>...</td>\n",
              "      <td>...</td>\n",
              "      <td>...</td>\n",
              "      <td>...</td>\n",
              "      <td>...</td>\n",
              "      <td>...</td>\n",
              "      <td>...</td>\n",
              "      <td>...</td>\n",
              "      <td>...</td>\n",
              "      <td>...</td>\n",
              "      <td>...</td>\n",
              "      <td>...</td>\n",
              "    </tr>\n",
              "    <tr>\n",
              "      <th>290524</th>\n",
              "      <td>3640660</td>\n",
              "      <td>1.526349e+09</td>\n",
              "      <td>e</td>\n",
              "      <td>1</td>\n",
              "      <td>udp</td>\n",
              "      <td>3</td>\n",
              "      <td>192.168.100.148</td>\n",
              "      <td>63061</td>\n",
              "      <td>192.168.100.5</td>\n",
              "      <td>35777</td>\n",
              "      <td>...</td>\n",
              "      <td>7710.720000</td>\n",
              "      <td>58</td>\n",
              "      <td>15</td>\n",
              "      <td>9401.710000</td>\n",
              "      <td>8474.580000</td>\n",
              "      <td>58</td>\n",
              "      <td>15</td>\n",
              "      <td>1</td>\n",
              "      <td>Reconnaissance</td>\n",
              "      <td>Service_Scan</td>\n",
              "    </tr>\n",
              "    <tr>\n",
              "      <th>290525</th>\n",
              "      <td>3635361</td>\n",
              "      <td>1.526349e+09</td>\n",
              "      <td>e</td>\n",
              "      <td>1</td>\n",
              "      <td>tcp</td>\n",
              "      <td>1</td>\n",
              "      <td>192.168.100.148</td>\n",
              "      <td>48968</td>\n",
              "      <td>192.168.100.5</td>\n",
              "      <td>49163</td>\n",
              "      <td>...</td>\n",
              "      <td>3227.990000</td>\n",
              "      <td>100</td>\n",
              "      <td>93</td>\n",
              "      <td>3151.530000</td>\n",
              "      <td>2869.440000</td>\n",
              "      <td>200</td>\n",
              "      <td>186</td>\n",
              "      <td>1</td>\n",
              "      <td>Reconnaissance</td>\n",
              "      <td>Service_Scan</td>\n",
              "    </tr>\n",
              "    <tr>\n",
              "      <th>290526</th>\n",
              "      <td>3660781</td>\n",
              "      <td>1.526350e+09</td>\n",
              "      <td>eU</td>\n",
              "      <td>6</td>\n",
              "      <td>udp</td>\n",
              "      <td>3</td>\n",
              "      <td>192.168.100.150</td>\n",
              "      <td>41433</td>\n",
              "      <td>192.168.100.5</td>\n",
              "      <td>45380</td>\n",
              "      <td>...</td>\n",
              "      <td>8745.480000</td>\n",
              "      <td>58</td>\n",
              "      <td>15</td>\n",
              "      <td>8358.660000</td>\n",
              "      <td>5076.140000</td>\n",
              "      <td>58</td>\n",
              "      <td>15</td>\n",
              "      <td>1</td>\n",
              "      <td>Reconnaissance</td>\n",
              "      <td>Service_Scan</td>\n",
              "    </tr>\n",
              "    <tr>\n",
              "      <th>290527</th>\n",
              "      <td>3593919</td>\n",
              "      <td>1.526876e+09</td>\n",
              "      <td>e</td>\n",
              "      <td>1</td>\n",
              "      <td>tcp</td>\n",
              "      <td>1</td>\n",
              "      <td>192.168.100.148</td>\n",
              "      <td>55499</td>\n",
              "      <td>192.168.100.7</td>\n",
              "      <td>1072</td>\n",
              "      <td>...</td>\n",
              "      <td>3270.630000</td>\n",
              "      <td>100</td>\n",
              "      <td>100</td>\n",
              "      <td>3270.630000</td>\n",
              "      <td>31250.000000</td>\n",
              "      <td>201</td>\n",
              "      <td>201</td>\n",
              "      <td>1</td>\n",
              "      <td>Reconnaissance</td>\n",
              "      <td>OS_Fingerprint</td>\n",
              "    </tr>\n",
              "    <tr>\n",
              "      <th>290528</th>\n",
              "      <td>3577785</td>\n",
              "      <td>1.526876e+09</td>\n",
              "      <td>e</td>\n",
              "      <td>1</td>\n",
              "      <td>tcp</td>\n",
              "      <td>1</td>\n",
              "      <td>192.168.100.150</td>\n",
              "      <td>46997</td>\n",
              "      <td>192.168.100.3</td>\n",
              "      <td>3737</td>\n",
              "      <td>...</td>\n",
              "      <td>17471.800000</td>\n",
              "      <td>100</td>\n",
              "      <td>100</td>\n",
              "      <td>17471.800000</td>\n",
              "      <td>14598.500000</td>\n",
              "      <td>200</td>\n",
              "      <td>200</td>\n",
              "      <td>1</td>\n",
              "      <td>Reconnaissance</td>\n",
              "      <td>OS_Fingerprint</td>\n",
              "    </tr>\n",
              "  </tbody>\n",
              "</table>\n",
              "<p>290529 rows × 46 columns</p>\n",
              "</div>\n",
              "      <button class=\"colab-df-convert\" onclick=\"convertToInteractive('df-347d1eab-ab48-4ada-8327-df77c680f650')\"\n",
              "              title=\"Convert this dataframe to an interactive table.\"\n",
              "              style=\"display:none;\">\n",
              "        \n",
              "  <svg xmlns=\"http://www.w3.org/2000/svg\" height=\"24px\"viewBox=\"0 0 24 24\"\n",
              "       width=\"24px\">\n",
              "    <path d=\"M0 0h24v24H0V0z\" fill=\"none\"/>\n",
              "    <path d=\"M18.56 5.44l.94 2.06.94-2.06 2.06-.94-2.06-.94-.94-2.06-.94 2.06-2.06.94zm-11 1L8.5 8.5l.94-2.06 2.06-.94-2.06-.94L8.5 2.5l-.94 2.06-2.06.94zm10 10l.94 2.06.94-2.06 2.06-.94-2.06-.94-.94-2.06-.94 2.06-2.06.94z\"/><path d=\"M17.41 7.96l-1.37-1.37c-.4-.4-.92-.59-1.43-.59-.52 0-1.04.2-1.43.59L10.3 9.45l-7.72 7.72c-.78.78-.78 2.05 0 2.83L4 21.41c.39.39.9.59 1.41.59.51 0 1.02-.2 1.41-.59l7.78-7.78 2.81-2.81c.8-.78.8-2.07 0-2.86zM5.41 20L4 18.59l7.72-7.72 1.47 1.35L5.41 20z\"/>\n",
              "  </svg>\n",
              "      </button>\n",
              "      \n",
              "  <style>\n",
              "    .colab-df-container {\n",
              "      display:flex;\n",
              "      flex-wrap:wrap;\n",
              "      gap: 12px;\n",
              "    }\n",
              "\n",
              "    .colab-df-convert {\n",
              "      background-color: #E8F0FE;\n",
              "      border: none;\n",
              "      border-radius: 50%;\n",
              "      cursor: pointer;\n",
              "      display: none;\n",
              "      fill: #1967D2;\n",
              "      height: 32px;\n",
              "      padding: 0 0 0 0;\n",
              "      width: 32px;\n",
              "    }\n",
              "\n",
              "    .colab-df-convert:hover {\n",
              "      background-color: #E2EBFA;\n",
              "      box-shadow: 0px 1px 2px rgba(60, 64, 67, 0.3), 0px 1px 3px 1px rgba(60, 64, 67, 0.15);\n",
              "      fill: #174EA6;\n",
              "    }\n",
              "\n",
              "    [theme=dark] .colab-df-convert {\n",
              "      background-color: #3B4455;\n",
              "      fill: #D2E3FC;\n",
              "    }\n",
              "\n",
              "    [theme=dark] .colab-df-convert:hover {\n",
              "      background-color: #434B5C;\n",
              "      box-shadow: 0px 1px 3px 1px rgba(0, 0, 0, 0.15);\n",
              "      filter: drop-shadow(0px 1px 2px rgba(0, 0, 0, 0.3));\n",
              "      fill: #FFFFFF;\n",
              "    }\n",
              "  </style>\n",
              "\n",
              "      <script>\n",
              "        const buttonEl =\n",
              "          document.querySelector('#df-347d1eab-ab48-4ada-8327-df77c680f650 button.colab-df-convert');\n",
              "        buttonEl.style.display =\n",
              "          google.colab.kernel.accessAllowed ? 'block' : 'none';\n",
              "\n",
              "        async function convertToInteractive(key) {\n",
              "          const element = document.querySelector('#df-347d1eab-ab48-4ada-8327-df77c680f650');\n",
              "          const dataTable =\n",
              "            await google.colab.kernel.invokeFunction('convertToInteractive',\n",
              "                                                     [key], {});\n",
              "          if (!dataTable) return;\n",
              "\n",
              "          const docLinkHtml = 'Like what you see? Visit the ' +\n",
              "            '<a target=\"_blank\" href=https://colab.research.google.com/notebooks/data_table.ipynb>data table notebook</a>'\n",
              "            + ' to learn more about interactive tables.';\n",
              "          element.innerHTML = '';\n",
              "          dataTable['output_type'] = 'display_data';\n",
              "          await google.colab.output.renderOutput(dataTable, element);\n",
              "          const docLink = document.createElement('div');\n",
              "          docLink.innerHTML = docLinkHtml;\n",
              "          element.appendChild(docLink);\n",
              "        }\n",
              "      </script>\n",
              "    </div>\n",
              "  </div>\n",
              "  "
            ]
          },
          "metadata": {},
          "execution_count": 677
        }
      ],
      "source": [
        "dataset"
      ]
    },
    {
      "cell_type": "markdown",
      "metadata": {
        "id": "IzV5BlR85_RB"
      },
      "source": [
        "##check & fill miss value\n"
      ]
    },
    {
      "cell_type": "code",
      "execution_count": null,
      "metadata": {
        "colab": {
          "base_uri": "https://localhost:8080/"
        },
        "id": "ltYe2V_M5D5d",
        "outputId": "09ff62ee-1d1a-4fd4-e055-15f8ffe98af3"
      },
      "outputs": [
        {
          "output_type": "execute_result",
          "data": {
            "text/plain": [
              "pkSeqID                             0\n",
              "stime                               0\n",
              "flgs                                0\n",
              "flgs_number                         0\n",
              "proto                               0\n",
              "proto_number                        0\n",
              "saddr                               0\n",
              "sport                               0\n",
              "daddr                               0\n",
              "dport                               0\n",
              "pkts                                0\n",
              "bytes                               0\n",
              "state                               0\n",
              "state_number                        0\n",
              "ltime                               0\n",
              "seq                                 0\n",
              "dur                                 0\n",
              "mean                                0\n",
              "stddev                              0\n",
              "sum                                 0\n",
              "min                                 0\n",
              "max                                 0\n",
              "spkts                               0\n",
              "dpkts                               0\n",
              "sbytes                              0\n",
              "dbytes                              0\n",
              "rate                                0\n",
              "srate                               0\n",
              "drate                               0\n",
              "TnBPSrcIP                           0\n",
              "TnBPDstIP                           0\n",
              "TnP_PSrcIP                          0\n",
              "TnP_PDstIP                          0\n",
              "TnP_PerProto                        0\n",
              "TnP_Per_Dport                       0\n",
              "AR_P_Proto_P_SrcIP                  0\n",
              "AR_P_Proto_P_DstIP                  0\n",
              "N_IN_Conn_P_DstIP                   0\n",
              "N_IN_Conn_P_SrcIP                   0\n",
              "AR_P_Proto_P_Sport                  0\n",
              "AR_P_Proto_P_Dport                  0\n",
              "Pkts_P_State_P_Protocol_P_DestIP    0\n",
              "Pkts_P_State_P_Protocol_P_SrcIP     0\n",
              "attack                              0\n",
              "category                            0\n",
              "subcategory                         0\n",
              "dtype: int64"
            ]
          },
          "metadata": {},
          "execution_count": 678
        }
      ],
      "source": [
        "dataset.isnull().sum()"
      ]
    },
    {
      "cell_type": "code",
      "execution_count": null,
      "metadata": {
        "colab": {
          "base_uri": "https://localhost:8080/",
          "height": 488
        },
        "id": "JbDaLfJ85D27",
        "outputId": "4f0d7061-b85b-4824-b6d5-59ea77447c17"
      },
      "outputs": [
        {
          "output_type": "execute_result",
          "data": {
            "text/plain": [
              "        pkSeqID         stime flgs  flgs_number proto  proto_number  \\\n",
              "0       2594359  1.528096e+09  e s            2   tcp             1   \n",
              "1       2576875  1.528096e+09  e s            2   tcp             1   \n",
              "2       2966518  1.528099e+09    e            1   udp             3   \n",
              "3       2391310  1.528096e+09  e s            2   tcp             1   \n",
              "4       2844854  1.528099e+09    e            1   udp             3   \n",
              "...         ...           ...  ...          ...   ...           ...   \n",
              "290524  3640660  1.526349e+09    e            1   udp             3   \n",
              "290525  3635361  1.526349e+09    e            1   tcp             1   \n",
              "290526  3660781  1.526350e+09   eU            6   udp             3   \n",
              "290527  3593919  1.526876e+09    e            1   tcp             1   \n",
              "290528  3577785  1.526876e+09    e            1   tcp             1   \n",
              "\n",
              "                  saddr  sport          daddr  dport  ...  AR_P_Proto_P_DstIP  \\\n",
              "0       192.168.100.147  41788  192.168.100.3     80  ...            0.120031   \n",
              "1       192.168.100.148  22741  192.168.100.3     80  ...            0.180796   \n",
              "2       192.168.100.147  60331  192.168.100.3     80  ...            1.097860   \n",
              "3       192.168.100.150  56409  192.168.100.3     80  ...            0.378991   \n",
              "4       192.168.100.150  46002  192.168.100.3     80  ...            0.546667   \n",
              "...                 ...    ...            ...    ...  ...                 ...   \n",
              "290524  192.168.100.148  63061  192.168.100.5  35777  ...         7710.720000   \n",
              "290525  192.168.100.148  48968  192.168.100.5  49163  ...         3227.990000   \n",
              "290526  192.168.100.150  41433  192.168.100.5  45380  ...         8745.480000   \n",
              "290527  192.168.100.148  55499  192.168.100.7   1072  ...         3270.630000   \n",
              "290528  192.168.100.150  46997  192.168.100.3   3737  ...        17471.800000   \n",
              "\n",
              "        N_IN_Conn_P_DstIP N_IN_Conn_P_SrcIP  AR_P_Proto_P_Sport  \\\n",
              "0                     100               100            0.134867   \n",
              "1                     100                89            0.158467   \n",
              "2                     100               100            1.097860   \n",
              "3                     100               100            0.521621   \n",
              "4                     100                99            0.544177   \n",
              "...                   ...               ...                 ...   \n",
              "290524                 58                15         9401.710000   \n",
              "290525                100                93         3151.530000   \n",
              "290526                 58                15         8358.660000   \n",
              "290527                100               100         3270.630000   \n",
              "290528                100               100        17471.800000   \n",
              "\n",
              "        AR_P_Proto_P_Dport  Pkts_P_State_P_Protocol_P_DestIP  \\\n",
              "0                 0.120031                               396   \n",
              "1                 0.180796                               659   \n",
              "2                 1.097860                              1500   \n",
              "3                 0.378991                                84   \n",
              "4                 0.546667                               603   \n",
              "...                    ...                               ...   \n",
              "290524         8474.580000                                58   \n",
              "290525         2869.440000                               200   \n",
              "290526         5076.140000                                58   \n",
              "290527        31250.000000                               201   \n",
              "290528        14598.500000                               200   \n",
              "\n",
              "        Pkts_P_State_P_Protocol_P_SrcIP  attack        category  \\\n",
              "0                                   396       1            DDoS   \n",
              "1                                   659       1            DDoS   \n",
              "2                                  1500       1            DDoS   \n",
              "3                                    84       1            DDoS   \n",
              "4                                   594       1            DDoS   \n",
              "...                                 ...     ...             ...   \n",
              "290524                               15       1  Reconnaissance   \n",
              "290525                              186       1  Reconnaissance   \n",
              "290526                               15       1  Reconnaissance   \n",
              "290527                              201       1  Reconnaissance   \n",
              "290528                              200       1  Reconnaissance   \n",
              "\n",
              "           subcategory  \n",
              "0                  TCP  \n",
              "1                  TCP  \n",
              "2                  UDP  \n",
              "3                  TCP  \n",
              "4                  UDP  \n",
              "...                ...  \n",
              "290524    Service_Scan  \n",
              "290525    Service_Scan  \n",
              "290526    Service_Scan  \n",
              "290527  OS_Fingerprint  \n",
              "290528  OS_Fingerprint  \n",
              "\n",
              "[290529 rows x 46 columns]"
            ],
            "text/html": [
              "\n",
              "  <div id=\"df-f52b0e59-8046-466a-8331-b8222399fb10\">\n",
              "    <div class=\"colab-df-container\">\n",
              "      <div>\n",
              "<style scoped>\n",
              "    .dataframe tbody tr th:only-of-type {\n",
              "        vertical-align: middle;\n",
              "    }\n",
              "\n",
              "    .dataframe tbody tr th {\n",
              "        vertical-align: top;\n",
              "    }\n",
              "\n",
              "    .dataframe thead th {\n",
              "        text-align: right;\n",
              "    }\n",
              "</style>\n",
              "<table border=\"1\" class=\"dataframe\">\n",
              "  <thead>\n",
              "    <tr style=\"text-align: right;\">\n",
              "      <th></th>\n",
              "      <th>pkSeqID</th>\n",
              "      <th>stime</th>\n",
              "      <th>flgs</th>\n",
              "      <th>flgs_number</th>\n",
              "      <th>proto</th>\n",
              "      <th>proto_number</th>\n",
              "      <th>saddr</th>\n",
              "      <th>sport</th>\n",
              "      <th>daddr</th>\n",
              "      <th>dport</th>\n",
              "      <th>...</th>\n",
              "      <th>AR_P_Proto_P_DstIP</th>\n",
              "      <th>N_IN_Conn_P_DstIP</th>\n",
              "      <th>N_IN_Conn_P_SrcIP</th>\n",
              "      <th>AR_P_Proto_P_Sport</th>\n",
              "      <th>AR_P_Proto_P_Dport</th>\n",
              "      <th>Pkts_P_State_P_Protocol_P_DestIP</th>\n",
              "      <th>Pkts_P_State_P_Protocol_P_SrcIP</th>\n",
              "      <th>attack</th>\n",
              "      <th>category</th>\n",
              "      <th>subcategory</th>\n",
              "    </tr>\n",
              "  </thead>\n",
              "  <tbody>\n",
              "    <tr>\n",
              "      <th>0</th>\n",
              "      <td>2594359</td>\n",
              "      <td>1.528096e+09</td>\n",
              "      <td>e s</td>\n",
              "      <td>2</td>\n",
              "      <td>tcp</td>\n",
              "      <td>1</td>\n",
              "      <td>192.168.100.147</td>\n",
              "      <td>41788</td>\n",
              "      <td>192.168.100.3</td>\n",
              "      <td>80</td>\n",
              "      <td>...</td>\n",
              "      <td>0.120031</td>\n",
              "      <td>100</td>\n",
              "      <td>100</td>\n",
              "      <td>0.134867</td>\n",
              "      <td>0.120031</td>\n",
              "      <td>396</td>\n",
              "      <td>396</td>\n",
              "      <td>1</td>\n",
              "      <td>DDoS</td>\n",
              "      <td>TCP</td>\n",
              "    </tr>\n",
              "    <tr>\n",
              "      <th>1</th>\n",
              "      <td>2576875</td>\n",
              "      <td>1.528096e+09</td>\n",
              "      <td>e s</td>\n",
              "      <td>2</td>\n",
              "      <td>tcp</td>\n",
              "      <td>1</td>\n",
              "      <td>192.168.100.148</td>\n",
              "      <td>22741</td>\n",
              "      <td>192.168.100.3</td>\n",
              "      <td>80</td>\n",
              "      <td>...</td>\n",
              "      <td>0.180796</td>\n",
              "      <td>100</td>\n",
              "      <td>89</td>\n",
              "      <td>0.158467</td>\n",
              "      <td>0.180796</td>\n",
              "      <td>659</td>\n",
              "      <td>659</td>\n",
              "      <td>1</td>\n",
              "      <td>DDoS</td>\n",
              "      <td>TCP</td>\n",
              "    </tr>\n",
              "    <tr>\n",
              "      <th>2</th>\n",
              "      <td>2966518</td>\n",
              "      <td>1.528099e+09</td>\n",
              "      <td>e</td>\n",
              "      <td>1</td>\n",
              "      <td>udp</td>\n",
              "      <td>3</td>\n",
              "      <td>192.168.100.147</td>\n",
              "      <td>60331</td>\n",
              "      <td>192.168.100.3</td>\n",
              "      <td>80</td>\n",
              "      <td>...</td>\n",
              "      <td>1.097860</td>\n",
              "      <td>100</td>\n",
              "      <td>100</td>\n",
              "      <td>1.097860</td>\n",
              "      <td>1.097860</td>\n",
              "      <td>1500</td>\n",
              "      <td>1500</td>\n",
              "      <td>1</td>\n",
              "      <td>DDoS</td>\n",
              "      <td>UDP</td>\n",
              "    </tr>\n",
              "    <tr>\n",
              "      <th>3</th>\n",
              "      <td>2391310</td>\n",
              "      <td>1.528096e+09</td>\n",
              "      <td>e s</td>\n",
              "      <td>2</td>\n",
              "      <td>tcp</td>\n",
              "      <td>1</td>\n",
              "      <td>192.168.100.150</td>\n",
              "      <td>56409</td>\n",
              "      <td>192.168.100.3</td>\n",
              "      <td>80</td>\n",
              "      <td>...</td>\n",
              "      <td>0.378991</td>\n",
              "      <td>100</td>\n",
              "      <td>100</td>\n",
              "      <td>0.521621</td>\n",
              "      <td>0.378991</td>\n",
              "      <td>84</td>\n",
              "      <td>84</td>\n",
              "      <td>1</td>\n",
              "      <td>DDoS</td>\n",
              "      <td>TCP</td>\n",
              "    </tr>\n",
              "    <tr>\n",
              "      <th>4</th>\n",
              "      <td>2844854</td>\n",
              "      <td>1.528099e+09</td>\n",
              "      <td>e</td>\n",
              "      <td>1</td>\n",
              "      <td>udp</td>\n",
              "      <td>3</td>\n",
              "      <td>192.168.100.150</td>\n",
              "      <td>46002</td>\n",
              "      <td>192.168.100.3</td>\n",
              "      <td>80</td>\n",
              "      <td>...</td>\n",
              "      <td>0.546667</td>\n",
              "      <td>100</td>\n",
              "      <td>99</td>\n",
              "      <td>0.544177</td>\n",
              "      <td>0.546667</td>\n",
              "      <td>603</td>\n",
              "      <td>594</td>\n",
              "      <td>1</td>\n",
              "      <td>DDoS</td>\n",
              "      <td>UDP</td>\n",
              "    </tr>\n",
              "    <tr>\n",
              "      <th>...</th>\n",
              "      <td>...</td>\n",
              "      <td>...</td>\n",
              "      <td>...</td>\n",
              "      <td>...</td>\n",
              "      <td>...</td>\n",
              "      <td>...</td>\n",
              "      <td>...</td>\n",
              "      <td>...</td>\n",
              "      <td>...</td>\n",
              "      <td>...</td>\n",
              "      <td>...</td>\n",
              "      <td>...</td>\n",
              "      <td>...</td>\n",
              "      <td>...</td>\n",
              "      <td>...</td>\n",
              "      <td>...</td>\n",
              "      <td>...</td>\n",
              "      <td>...</td>\n",
              "      <td>...</td>\n",
              "      <td>...</td>\n",
              "      <td>...</td>\n",
              "    </tr>\n",
              "    <tr>\n",
              "      <th>290524</th>\n",
              "      <td>3640660</td>\n",
              "      <td>1.526349e+09</td>\n",
              "      <td>e</td>\n",
              "      <td>1</td>\n",
              "      <td>udp</td>\n",
              "      <td>3</td>\n",
              "      <td>192.168.100.148</td>\n",
              "      <td>63061</td>\n",
              "      <td>192.168.100.5</td>\n",
              "      <td>35777</td>\n",
              "      <td>...</td>\n",
              "      <td>7710.720000</td>\n",
              "      <td>58</td>\n",
              "      <td>15</td>\n",
              "      <td>9401.710000</td>\n",
              "      <td>8474.580000</td>\n",
              "      <td>58</td>\n",
              "      <td>15</td>\n",
              "      <td>1</td>\n",
              "      <td>Reconnaissance</td>\n",
              "      <td>Service_Scan</td>\n",
              "    </tr>\n",
              "    <tr>\n",
              "      <th>290525</th>\n",
              "      <td>3635361</td>\n",
              "      <td>1.526349e+09</td>\n",
              "      <td>e</td>\n",
              "      <td>1</td>\n",
              "      <td>tcp</td>\n",
              "      <td>1</td>\n",
              "      <td>192.168.100.148</td>\n",
              "      <td>48968</td>\n",
              "      <td>192.168.100.5</td>\n",
              "      <td>49163</td>\n",
              "      <td>...</td>\n",
              "      <td>3227.990000</td>\n",
              "      <td>100</td>\n",
              "      <td>93</td>\n",
              "      <td>3151.530000</td>\n",
              "      <td>2869.440000</td>\n",
              "      <td>200</td>\n",
              "      <td>186</td>\n",
              "      <td>1</td>\n",
              "      <td>Reconnaissance</td>\n",
              "      <td>Service_Scan</td>\n",
              "    </tr>\n",
              "    <tr>\n",
              "      <th>290526</th>\n",
              "      <td>3660781</td>\n",
              "      <td>1.526350e+09</td>\n",
              "      <td>eU</td>\n",
              "      <td>6</td>\n",
              "      <td>udp</td>\n",
              "      <td>3</td>\n",
              "      <td>192.168.100.150</td>\n",
              "      <td>41433</td>\n",
              "      <td>192.168.100.5</td>\n",
              "      <td>45380</td>\n",
              "      <td>...</td>\n",
              "      <td>8745.480000</td>\n",
              "      <td>58</td>\n",
              "      <td>15</td>\n",
              "      <td>8358.660000</td>\n",
              "      <td>5076.140000</td>\n",
              "      <td>58</td>\n",
              "      <td>15</td>\n",
              "      <td>1</td>\n",
              "      <td>Reconnaissance</td>\n",
              "      <td>Service_Scan</td>\n",
              "    </tr>\n",
              "    <tr>\n",
              "      <th>290527</th>\n",
              "      <td>3593919</td>\n",
              "      <td>1.526876e+09</td>\n",
              "      <td>e</td>\n",
              "      <td>1</td>\n",
              "      <td>tcp</td>\n",
              "      <td>1</td>\n",
              "      <td>192.168.100.148</td>\n",
              "      <td>55499</td>\n",
              "      <td>192.168.100.7</td>\n",
              "      <td>1072</td>\n",
              "      <td>...</td>\n",
              "      <td>3270.630000</td>\n",
              "      <td>100</td>\n",
              "      <td>100</td>\n",
              "      <td>3270.630000</td>\n",
              "      <td>31250.000000</td>\n",
              "      <td>201</td>\n",
              "      <td>201</td>\n",
              "      <td>1</td>\n",
              "      <td>Reconnaissance</td>\n",
              "      <td>OS_Fingerprint</td>\n",
              "    </tr>\n",
              "    <tr>\n",
              "      <th>290528</th>\n",
              "      <td>3577785</td>\n",
              "      <td>1.526876e+09</td>\n",
              "      <td>e</td>\n",
              "      <td>1</td>\n",
              "      <td>tcp</td>\n",
              "      <td>1</td>\n",
              "      <td>192.168.100.150</td>\n",
              "      <td>46997</td>\n",
              "      <td>192.168.100.3</td>\n",
              "      <td>3737</td>\n",
              "      <td>...</td>\n",
              "      <td>17471.800000</td>\n",
              "      <td>100</td>\n",
              "      <td>100</td>\n",
              "      <td>17471.800000</td>\n",
              "      <td>14598.500000</td>\n",
              "      <td>200</td>\n",
              "      <td>200</td>\n",
              "      <td>1</td>\n",
              "      <td>Reconnaissance</td>\n",
              "      <td>OS_Fingerprint</td>\n",
              "    </tr>\n",
              "  </tbody>\n",
              "</table>\n",
              "<p>290529 rows × 46 columns</p>\n",
              "</div>\n",
              "      <button class=\"colab-df-convert\" onclick=\"convertToInteractive('df-f52b0e59-8046-466a-8331-b8222399fb10')\"\n",
              "              title=\"Convert this dataframe to an interactive table.\"\n",
              "              style=\"display:none;\">\n",
              "        \n",
              "  <svg xmlns=\"http://www.w3.org/2000/svg\" height=\"24px\"viewBox=\"0 0 24 24\"\n",
              "       width=\"24px\">\n",
              "    <path d=\"M0 0h24v24H0V0z\" fill=\"none\"/>\n",
              "    <path d=\"M18.56 5.44l.94 2.06.94-2.06 2.06-.94-2.06-.94-.94-2.06-.94 2.06-2.06.94zm-11 1L8.5 8.5l.94-2.06 2.06-.94-2.06-.94L8.5 2.5l-.94 2.06-2.06.94zm10 10l.94 2.06.94-2.06 2.06-.94-2.06-.94-.94-2.06-.94 2.06-2.06.94z\"/><path d=\"M17.41 7.96l-1.37-1.37c-.4-.4-.92-.59-1.43-.59-.52 0-1.04.2-1.43.59L10.3 9.45l-7.72 7.72c-.78.78-.78 2.05 0 2.83L4 21.41c.39.39.9.59 1.41.59.51 0 1.02-.2 1.41-.59l7.78-7.78 2.81-2.81c.8-.78.8-2.07 0-2.86zM5.41 20L4 18.59l7.72-7.72 1.47 1.35L5.41 20z\"/>\n",
              "  </svg>\n",
              "      </button>\n",
              "      \n",
              "  <style>\n",
              "    .colab-df-container {\n",
              "      display:flex;\n",
              "      flex-wrap:wrap;\n",
              "      gap: 12px;\n",
              "    }\n",
              "\n",
              "    .colab-df-convert {\n",
              "      background-color: #E8F0FE;\n",
              "      border: none;\n",
              "      border-radius: 50%;\n",
              "      cursor: pointer;\n",
              "      display: none;\n",
              "      fill: #1967D2;\n",
              "      height: 32px;\n",
              "      padding: 0 0 0 0;\n",
              "      width: 32px;\n",
              "    }\n",
              "\n",
              "    .colab-df-convert:hover {\n",
              "      background-color: #E2EBFA;\n",
              "      box-shadow: 0px 1px 2px rgba(60, 64, 67, 0.3), 0px 1px 3px 1px rgba(60, 64, 67, 0.15);\n",
              "      fill: #174EA6;\n",
              "    }\n",
              "\n",
              "    [theme=dark] .colab-df-convert {\n",
              "      background-color: #3B4455;\n",
              "      fill: #D2E3FC;\n",
              "    }\n",
              "\n",
              "    [theme=dark] .colab-df-convert:hover {\n",
              "      background-color: #434B5C;\n",
              "      box-shadow: 0px 1px 3px 1px rgba(0, 0, 0, 0.15);\n",
              "      filter: drop-shadow(0px 1px 2px rgba(0, 0, 0, 0.3));\n",
              "      fill: #FFFFFF;\n",
              "    }\n",
              "  </style>\n",
              "\n",
              "      <script>\n",
              "        const buttonEl =\n",
              "          document.querySelector('#df-f52b0e59-8046-466a-8331-b8222399fb10 button.colab-df-convert');\n",
              "        buttonEl.style.display =\n",
              "          google.colab.kernel.accessAllowed ? 'block' : 'none';\n",
              "\n",
              "        async function convertToInteractive(key) {\n",
              "          const element = document.querySelector('#df-f52b0e59-8046-466a-8331-b8222399fb10');\n",
              "          const dataTable =\n",
              "            await google.colab.kernel.invokeFunction('convertToInteractive',\n",
              "                                                     [key], {});\n",
              "          if (!dataTable) return;\n",
              "\n",
              "          const docLinkHtml = 'Like what you see? Visit the ' +\n",
              "            '<a target=\"_blank\" href=https://colab.research.google.com/notebooks/data_table.ipynb>data table notebook</a>'\n",
              "            + ' to learn more about interactive tables.';\n",
              "          element.innerHTML = '';\n",
              "          dataTable['output_type'] = 'display_data';\n",
              "          await google.colab.output.renderOutput(dataTable, element);\n",
              "          const docLink = document.createElement('div');\n",
              "          docLink.innerHTML = docLinkHtml;\n",
              "          element.appendChild(docLink);\n",
              "        }\n",
              "      </script>\n",
              "    </div>\n",
              "  </div>\n",
              "  "
            ]
          },
          "metadata": {},
          "execution_count": 679
        }
      ],
      "source": [
        "dataset"
      ]
    },
    {
      "cell_type": "code",
      "execution_count": null,
      "metadata": {
        "colab": {
          "base_uri": "https://localhost:8080/"
        },
        "id": "w-9Cl2K95D0O",
        "outputId": "81864ac8-1e7c-48cb-f8a3-f76bb22576d9"
      },
      "outputs": [
        {
          "output_type": "stream",
          "name": "stdout",
          "text": [
            "<class 'pandas.core.frame.DataFrame'>\n",
            "RangeIndex: 290529 entries, 0 to 290528\n",
            "Data columns (total 46 columns):\n",
            " #   Column                            Non-Null Count   Dtype  \n",
            "---  ------                            --------------   -----  \n",
            " 0   pkSeqID                           290529 non-null  int64  \n",
            " 1   stime                             290529 non-null  float64\n",
            " 2   flgs                              290529 non-null  object \n",
            " 3   flgs_number                       290529 non-null  int64  \n",
            " 4   proto                             290529 non-null  object \n",
            " 5   proto_number                      290529 non-null  int64  \n",
            " 6   saddr                             290529 non-null  object \n",
            " 7   sport                             290529 non-null  object \n",
            " 8   daddr                             290529 non-null  object \n",
            " 9   dport                             290529 non-null  object \n",
            " 10  pkts                              290529 non-null  int64  \n",
            " 11  bytes                             290529 non-null  int64  \n",
            " 12  state                             290529 non-null  object \n",
            " 13  state_number                      290529 non-null  int64  \n",
            " 14  ltime                             290529 non-null  float64\n",
            " 15  seq                               290529 non-null  int64  \n",
            " 16  dur                               290529 non-null  float64\n",
            " 17  mean                              290529 non-null  float64\n",
            " 18  stddev                            290529 non-null  float64\n",
            " 19  sum                               290529 non-null  float64\n",
            " 20  min                               290529 non-null  float64\n",
            " 21  max                               290529 non-null  float64\n",
            " 22  spkts                             290529 non-null  int64  \n",
            " 23  dpkts                             290529 non-null  int64  \n",
            " 24  sbytes                            290529 non-null  int64  \n",
            " 25  dbytes                            290529 non-null  int64  \n",
            " 26  rate                              290529 non-null  float64\n",
            " 27  srate                             290529 non-null  float64\n",
            " 28  drate                             290529 non-null  float64\n",
            " 29  TnBPSrcIP                         290529 non-null  int64  \n",
            " 30  TnBPDstIP                         290529 non-null  int64  \n",
            " 31  TnP_PSrcIP                        290529 non-null  int64  \n",
            " 32  TnP_PDstIP                        290529 non-null  int64  \n",
            " 33  TnP_PerProto                      290529 non-null  int64  \n",
            " 34  TnP_Per_Dport                     290529 non-null  int64  \n",
            " 35  AR_P_Proto_P_SrcIP                290529 non-null  float64\n",
            " 36  AR_P_Proto_P_DstIP                290529 non-null  float64\n",
            " 37  N_IN_Conn_P_DstIP                 290529 non-null  int64  \n",
            " 38  N_IN_Conn_P_SrcIP                 290529 non-null  int64  \n",
            " 39  AR_P_Proto_P_Sport                290529 non-null  float64\n",
            " 40  AR_P_Proto_P_Dport                290529 non-null  float64\n",
            " 41  Pkts_P_State_P_Protocol_P_DestIP  290529 non-null  int64  \n",
            " 42  Pkts_P_State_P_Protocol_P_SrcIP   290529 non-null  int64  \n",
            " 43  attack                            290529 non-null  int64  \n",
            " 44  category                          290529 non-null  object \n",
            " 45  subcategory                       290529 non-null  object \n",
            "dtypes: float64(15), int64(22), object(9)\n",
            "memory usage: 102.0+ MB\n"
          ]
        }
      ],
      "source": [
        "dataset.info()"
      ]
    },
    {
      "cell_type": "code",
      "execution_count": null,
      "metadata": {
        "colab": {
          "base_uri": "https://localhost:8080/"
        },
        "id": "K30JsKHF5Dxn",
        "outputId": "934c8008-6204-41a9-e045-6e4e83bbe085"
      },
      "outputs": [
        {
          "output_type": "execute_result",
          "data": {
            "text/plain": [
              "pkSeqID                             290529\n",
              "stime                               178283\n",
              "flgs                                     9\n",
              "flgs_number                              9\n",
              "proto                                    5\n",
              "proto_number                             5\n",
              "saddr                                   21\n",
              "sport                                63365\n",
              "daddr                                   84\n",
              "dport                                 4237\n",
              "pkts                                   116\n",
              "bytes                                  971\n",
              "state                                   11\n",
              "state_number                            11\n",
              "ltime                               181745\n",
              "seq                                 157389\n",
              "dur                                 145907\n",
              "mean                                121869\n",
              "stddev                              104753\n",
              "sum                                 148587\n",
              "min                                  59871\n",
              "max                                 128267\n",
              "spkts                                   86\n",
              "dpkts                                   60\n",
              "sbytes                                 678\n",
              "dbytes                                 455\n",
              "rate                                 58800\n",
              "srate                                48288\n",
              "drate                                12518\n",
              "TnBPSrcIP                             6913\n",
              "TnBPDstIP                             6272\n",
              "TnP_PSrcIP                            1261\n",
              "TnP_PDstIP                            1395\n",
              "TnP_PerProto                          1288\n",
              "TnP_Per_Dport                         1313\n",
              "AR_P_Proto_P_SrcIP                   27870\n",
              "AR_P_Proto_P_DstIP                   23494\n",
              "N_IN_Conn_P_DstIP                      100\n",
              "N_IN_Conn_P_SrcIP                      100\n",
              "AR_P_Proto_P_Sport                   57827\n",
              "AR_P_Proto_P_Dport                   27869\n",
              "Pkts_P_State_P_Protocol_P_DestIP      1400\n",
              "Pkts_P_State_P_Protocol_P_SrcIP       1258\n",
              "attack                                   2\n",
              "category                                 5\n",
              "subcategory                              8\n",
              "dtype: int64"
            ]
          },
          "metadata": {},
          "execution_count": 681
        }
      ],
      "source": [
        "dataset.nunique()"
      ]
    },
    {
      "cell_type": "markdown",
      "metadata": {
        "id": "AfR5q3tlqAcr"
      },
      "source": [
        "##remove redandant feature"
      ]
    },
    {
      "cell_type": "code",
      "execution_count": null,
      "metadata": {
        "id": "Knt-YBmv5Duy"
      },
      "outputs": [],
      "source": [
        "dataset=dataset.drop(['pkSeqID','attack','subcategory','stime','ltime','flgs','proto','saddr','daddr','state'],axis=1)"
      ]
    },
    {
      "cell_type": "code",
      "execution_count": null,
      "metadata": {
        "colab": {
          "base_uri": "https://localhost:8080/"
        },
        "id": "AX5GbCOs5DsK",
        "outputId": "90b87c7b-03be-4b75-c63c-9ec13b12745d"
      },
      "outputs": [
        {
          "output_type": "execute_result",
          "data": {
            "text/plain": [
              "(290529, 36)"
            ]
          },
          "metadata": {},
          "execution_count": 683
        }
      ],
      "source": [
        "dataset.shape"
      ]
    },
    {
      "cell_type": "markdown",
      "metadata": {
        "id": "uubleNZvqO4g"
      },
      "source": [
        "##change columns type"
      ]
    },
    {
      "cell_type": "code",
      "execution_count": null,
      "metadata": {
        "id": "VYsHmzsu5Dpm"
      },
      "outputs": [],
      "source": [
        "dataset=dataset[(dataset.sport != \"0x000d\" )]\n",
        "dataset=dataset[(dataset.sport != \"0x0008\" )]\n",
        "dataset=dataset[(dataset.sport != \"0x0011\" )]\n",
        "dataset=dataset[(dataset.sport != \"0x0303\" )]\n",
        "dataset['sport']=pd.to_numeric(dataset['sport'],downcast='float')"
      ]
    },
    {
      "cell_type": "code",
      "execution_count": null,
      "metadata": {
        "id": "lS2liRKq5Dm6"
      },
      "outputs": [],
      "source": [
        "dataset['dport']=pd.to_numeric(dataset['dport'],downcast='float')"
      ]
    },
    {
      "cell_type": "code",
      "execution_count": null,
      "metadata": {
        "colab": {
          "base_uri": "https://localhost:8080/"
        },
        "id": "nikBPKDY5DkQ",
        "outputId": "c6478ea0-8376-4b77-d7dd-a47a4c71a8c2"
      },
      "outputs": [
        {
          "output_type": "execute_result",
          "data": {
            "text/plain": [
              "        flgs_number  proto_number    sport    dport  pkts  bytes  \\\n",
              "0                 2             1  41788.0     80.0     6    736   \n",
              "1                 2             1  22741.0     80.0     7    890   \n",
              "2                 1             3  60331.0     80.0    15    900   \n",
              "3                 2             1  56409.0     80.0     6    736   \n",
              "4                 1             3  46002.0     80.0     6    360   \n",
              "...             ...           ...      ...      ...   ...    ...   \n",
              "290524            1             3  63061.0  35777.0     1     60   \n",
              "290525            1             1  48968.0  49163.0     2    120   \n",
              "290526            6             3  41433.0  45380.0     1     60   \n",
              "290527            1             1  55499.0   1072.0     2    120   \n",
              "290528            1             1  46997.0   3737.0     2    120   \n",
              "\n",
              "        state_number     seq        dur      mean  ...  TnP_Per_Dport  \\\n",
              "0                  1  156672  44.488319  0.081464  ...            532   \n",
              "1                  1  139188  44.173359  0.050757  ...            795   \n",
              "2                  4   75740  13.662967  3.906158  ...           1500   \n",
              "3                  1  215770  11.502605  3.783005  ...            428   \n",
              "4                  4  216237  11.025832  4.504828  ...            603   \n",
              "...              ...     ...        ...       ...  ...            ...   \n",
              "290524             4   17204   0.000000  0.000000  ...              2   \n",
              "290525             1   11685   0.000697  0.000697  ...              2   \n",
              "290526             4    1302   0.000197  0.000197  ...              1   \n",
              "290527             1   16729   0.000064  0.000064  ...              2   \n",
              "290528             1     506   0.000137  0.000137  ...              2   \n",
              "\n",
              "        AR_P_Proto_P_SrcIP  AR_P_Proto_P_DstIP  N_IN_Conn_P_DstIP  \\\n",
              "0                 0.120031            0.120031                100   \n",
              "1                 0.185537            0.180796                100   \n",
              "2                 1.097860            1.097860                100   \n",
              "3                 0.378991            0.378991                100   \n",
              "4                 0.544176            0.546667                100   \n",
              "...                    ...                 ...                ...   \n",
              "290524         7462.690000         7710.720000                 58   \n",
              "290525         3151.530000         3227.990000                100   \n",
              "290526         7894.740000         8745.480000                 58   \n",
              "290527         3270.630000         3270.630000                100   \n",
              "290528        17471.800000        17471.800000                100   \n",
              "\n",
              "        N_IN_Conn_P_SrcIP  AR_P_Proto_P_Sport  AR_P_Proto_P_Dport  \\\n",
              "0                     100            0.134867            0.120031   \n",
              "1                      89            0.158467            0.180796   \n",
              "2                     100            1.097860            1.097860   \n",
              "3                     100            0.521621            0.378991   \n",
              "4                      99            0.544177            0.546667   \n",
              "...                   ...                 ...                 ...   \n",
              "290524                 15         9401.710000         8474.580000   \n",
              "290525                 93         3151.530000         2869.440000   \n",
              "290526                 15         8358.660000         5076.140000   \n",
              "290527                100         3270.630000        31250.000000   \n",
              "290528                100        17471.800000        14598.500000   \n",
              "\n",
              "        Pkts_P_State_P_Protocol_P_DestIP  Pkts_P_State_P_Protocol_P_SrcIP  \\\n",
              "0                                    396                              396   \n",
              "1                                    659                              659   \n",
              "2                                   1500                             1500   \n",
              "3                                     84                               84   \n",
              "4                                    603                              594   \n",
              "...                                  ...                              ...   \n",
              "290524                                58                               15   \n",
              "290525                               200                              186   \n",
              "290526                                58                               15   \n",
              "290527                               201                              201   \n",
              "290528                               200                              200   \n",
              "\n",
              "              category  \n",
              "0                 DDoS  \n",
              "1                 DDoS  \n",
              "2                 DDoS  \n",
              "3                 DDoS  \n",
              "4                 DDoS  \n",
              "...                ...  \n",
              "290524  Reconnaissance  \n",
              "290525  Reconnaissance  \n",
              "290526  Reconnaissance  \n",
              "290527  Reconnaissance  \n",
              "290528  Reconnaissance  \n",
              "\n",
              "[281622 rows x 36 columns]"
            ],
            "text/html": [
              "\n",
              "  <div id=\"df-25acc995-5062-4d31-b426-3ab30ad33230\">\n",
              "    <div class=\"colab-df-container\">\n",
              "      <div>\n",
              "<style scoped>\n",
              "    .dataframe tbody tr th:only-of-type {\n",
              "        vertical-align: middle;\n",
              "    }\n",
              "\n",
              "    .dataframe tbody tr th {\n",
              "        vertical-align: top;\n",
              "    }\n",
              "\n",
              "    .dataframe thead th {\n",
              "        text-align: right;\n",
              "    }\n",
              "</style>\n",
              "<table border=\"1\" class=\"dataframe\">\n",
              "  <thead>\n",
              "    <tr style=\"text-align: right;\">\n",
              "      <th></th>\n",
              "      <th>flgs_number</th>\n",
              "      <th>proto_number</th>\n",
              "      <th>sport</th>\n",
              "      <th>dport</th>\n",
              "      <th>pkts</th>\n",
              "      <th>bytes</th>\n",
              "      <th>state_number</th>\n",
              "      <th>seq</th>\n",
              "      <th>dur</th>\n",
              "      <th>mean</th>\n",
              "      <th>...</th>\n",
              "      <th>TnP_Per_Dport</th>\n",
              "      <th>AR_P_Proto_P_SrcIP</th>\n",
              "      <th>AR_P_Proto_P_DstIP</th>\n",
              "      <th>N_IN_Conn_P_DstIP</th>\n",
              "      <th>N_IN_Conn_P_SrcIP</th>\n",
              "      <th>AR_P_Proto_P_Sport</th>\n",
              "      <th>AR_P_Proto_P_Dport</th>\n",
              "      <th>Pkts_P_State_P_Protocol_P_DestIP</th>\n",
              "      <th>Pkts_P_State_P_Protocol_P_SrcIP</th>\n",
              "      <th>category</th>\n",
              "    </tr>\n",
              "  </thead>\n",
              "  <tbody>\n",
              "    <tr>\n",
              "      <th>0</th>\n",
              "      <td>2</td>\n",
              "      <td>1</td>\n",
              "      <td>41788.0</td>\n",
              "      <td>80.0</td>\n",
              "      <td>6</td>\n",
              "      <td>736</td>\n",
              "      <td>1</td>\n",
              "      <td>156672</td>\n",
              "      <td>44.488319</td>\n",
              "      <td>0.081464</td>\n",
              "      <td>...</td>\n",
              "      <td>532</td>\n",
              "      <td>0.120031</td>\n",
              "      <td>0.120031</td>\n",
              "      <td>100</td>\n",
              "      <td>100</td>\n",
              "      <td>0.134867</td>\n",
              "      <td>0.120031</td>\n",
              "      <td>396</td>\n",
              "      <td>396</td>\n",
              "      <td>DDoS</td>\n",
              "    </tr>\n",
              "    <tr>\n",
              "      <th>1</th>\n",
              "      <td>2</td>\n",
              "      <td>1</td>\n",
              "      <td>22741.0</td>\n",
              "      <td>80.0</td>\n",
              "      <td>7</td>\n",
              "      <td>890</td>\n",
              "      <td>1</td>\n",
              "      <td>139188</td>\n",
              "      <td>44.173359</td>\n",
              "      <td>0.050757</td>\n",
              "      <td>...</td>\n",
              "      <td>795</td>\n",
              "      <td>0.185537</td>\n",
              "      <td>0.180796</td>\n",
              "      <td>100</td>\n",
              "      <td>89</td>\n",
              "      <td>0.158467</td>\n",
              "      <td>0.180796</td>\n",
              "      <td>659</td>\n",
              "      <td>659</td>\n",
              "      <td>DDoS</td>\n",
              "    </tr>\n",
              "    <tr>\n",
              "      <th>2</th>\n",
              "      <td>1</td>\n",
              "      <td>3</td>\n",
              "      <td>60331.0</td>\n",
              "      <td>80.0</td>\n",
              "      <td>15</td>\n",
              "      <td>900</td>\n",
              "      <td>4</td>\n",
              "      <td>75740</td>\n",
              "      <td>13.662967</td>\n",
              "      <td>3.906158</td>\n",
              "      <td>...</td>\n",
              "      <td>1500</td>\n",
              "      <td>1.097860</td>\n",
              "      <td>1.097860</td>\n",
              "      <td>100</td>\n",
              "      <td>100</td>\n",
              "      <td>1.097860</td>\n",
              "      <td>1.097860</td>\n",
              "      <td>1500</td>\n",
              "      <td>1500</td>\n",
              "      <td>DDoS</td>\n",
              "    </tr>\n",
              "    <tr>\n",
              "      <th>3</th>\n",
              "      <td>2</td>\n",
              "      <td>1</td>\n",
              "      <td>56409.0</td>\n",
              "      <td>80.0</td>\n",
              "      <td>6</td>\n",
              "      <td>736</td>\n",
              "      <td>1</td>\n",
              "      <td>215770</td>\n",
              "      <td>11.502605</td>\n",
              "      <td>3.783005</td>\n",
              "      <td>...</td>\n",
              "      <td>428</td>\n",
              "      <td>0.378991</td>\n",
              "      <td>0.378991</td>\n",
              "      <td>100</td>\n",
              "      <td>100</td>\n",
              "      <td>0.521621</td>\n",
              "      <td>0.378991</td>\n",
              "      <td>84</td>\n",
              "      <td>84</td>\n",
              "      <td>DDoS</td>\n",
              "    </tr>\n",
              "    <tr>\n",
              "      <th>4</th>\n",
              "      <td>1</td>\n",
              "      <td>3</td>\n",
              "      <td>46002.0</td>\n",
              "      <td>80.0</td>\n",
              "      <td>6</td>\n",
              "      <td>360</td>\n",
              "      <td>4</td>\n",
              "      <td>216237</td>\n",
              "      <td>11.025832</td>\n",
              "      <td>4.504828</td>\n",
              "      <td>...</td>\n",
              "      <td>603</td>\n",
              "      <td>0.544176</td>\n",
              "      <td>0.546667</td>\n",
              "      <td>100</td>\n",
              "      <td>99</td>\n",
              "      <td>0.544177</td>\n",
              "      <td>0.546667</td>\n",
              "      <td>603</td>\n",
              "      <td>594</td>\n",
              "      <td>DDoS</td>\n",
              "    </tr>\n",
              "    <tr>\n",
              "      <th>...</th>\n",
              "      <td>...</td>\n",
              "      <td>...</td>\n",
              "      <td>...</td>\n",
              "      <td>...</td>\n",
              "      <td>...</td>\n",
              "      <td>...</td>\n",
              "      <td>...</td>\n",
              "      <td>...</td>\n",
              "      <td>...</td>\n",
              "      <td>...</td>\n",
              "      <td>...</td>\n",
              "      <td>...</td>\n",
              "      <td>...</td>\n",
              "      <td>...</td>\n",
              "      <td>...</td>\n",
              "      <td>...</td>\n",
              "      <td>...</td>\n",
              "      <td>...</td>\n",
              "      <td>...</td>\n",
              "      <td>...</td>\n",
              "      <td>...</td>\n",
              "    </tr>\n",
              "    <tr>\n",
              "      <th>290524</th>\n",
              "      <td>1</td>\n",
              "      <td>3</td>\n",
              "      <td>63061.0</td>\n",
              "      <td>35777.0</td>\n",
              "      <td>1</td>\n",
              "      <td>60</td>\n",
              "      <td>4</td>\n",
              "      <td>17204</td>\n",
              "      <td>0.000000</td>\n",
              "      <td>0.000000</td>\n",
              "      <td>...</td>\n",
              "      <td>2</td>\n",
              "      <td>7462.690000</td>\n",
              "      <td>7710.720000</td>\n",
              "      <td>58</td>\n",
              "      <td>15</td>\n",
              "      <td>9401.710000</td>\n",
              "      <td>8474.580000</td>\n",
              "      <td>58</td>\n",
              "      <td>15</td>\n",
              "      <td>Reconnaissance</td>\n",
              "    </tr>\n",
              "    <tr>\n",
              "      <th>290525</th>\n",
              "      <td>1</td>\n",
              "      <td>1</td>\n",
              "      <td>48968.0</td>\n",
              "      <td>49163.0</td>\n",
              "      <td>2</td>\n",
              "      <td>120</td>\n",
              "      <td>1</td>\n",
              "      <td>11685</td>\n",
              "      <td>0.000697</td>\n",
              "      <td>0.000697</td>\n",
              "      <td>...</td>\n",
              "      <td>2</td>\n",
              "      <td>3151.530000</td>\n",
              "      <td>3227.990000</td>\n",
              "      <td>100</td>\n",
              "      <td>93</td>\n",
              "      <td>3151.530000</td>\n",
              "      <td>2869.440000</td>\n",
              "      <td>200</td>\n",
              "      <td>186</td>\n",
              "      <td>Reconnaissance</td>\n",
              "    </tr>\n",
              "    <tr>\n",
              "      <th>290526</th>\n",
              "      <td>6</td>\n",
              "      <td>3</td>\n",
              "      <td>41433.0</td>\n",
              "      <td>45380.0</td>\n",
              "      <td>1</td>\n",
              "      <td>60</td>\n",
              "      <td>4</td>\n",
              "      <td>1302</td>\n",
              "      <td>0.000197</td>\n",
              "      <td>0.000197</td>\n",
              "      <td>...</td>\n",
              "      <td>1</td>\n",
              "      <td>7894.740000</td>\n",
              "      <td>8745.480000</td>\n",
              "      <td>58</td>\n",
              "      <td>15</td>\n",
              "      <td>8358.660000</td>\n",
              "      <td>5076.140000</td>\n",
              "      <td>58</td>\n",
              "      <td>15</td>\n",
              "      <td>Reconnaissance</td>\n",
              "    </tr>\n",
              "    <tr>\n",
              "      <th>290527</th>\n",
              "      <td>1</td>\n",
              "      <td>1</td>\n",
              "      <td>55499.0</td>\n",
              "      <td>1072.0</td>\n",
              "      <td>2</td>\n",
              "      <td>120</td>\n",
              "      <td>1</td>\n",
              "      <td>16729</td>\n",
              "      <td>0.000064</td>\n",
              "      <td>0.000064</td>\n",
              "      <td>...</td>\n",
              "      <td>2</td>\n",
              "      <td>3270.630000</td>\n",
              "      <td>3270.630000</td>\n",
              "      <td>100</td>\n",
              "      <td>100</td>\n",
              "      <td>3270.630000</td>\n",
              "      <td>31250.000000</td>\n",
              "      <td>201</td>\n",
              "      <td>201</td>\n",
              "      <td>Reconnaissance</td>\n",
              "    </tr>\n",
              "    <tr>\n",
              "      <th>290528</th>\n",
              "      <td>1</td>\n",
              "      <td>1</td>\n",
              "      <td>46997.0</td>\n",
              "      <td>3737.0</td>\n",
              "      <td>2</td>\n",
              "      <td>120</td>\n",
              "      <td>1</td>\n",
              "      <td>506</td>\n",
              "      <td>0.000137</td>\n",
              "      <td>0.000137</td>\n",
              "      <td>...</td>\n",
              "      <td>2</td>\n",
              "      <td>17471.800000</td>\n",
              "      <td>17471.800000</td>\n",
              "      <td>100</td>\n",
              "      <td>100</td>\n",
              "      <td>17471.800000</td>\n",
              "      <td>14598.500000</td>\n",
              "      <td>200</td>\n",
              "      <td>200</td>\n",
              "      <td>Reconnaissance</td>\n",
              "    </tr>\n",
              "  </tbody>\n",
              "</table>\n",
              "<p>281622 rows × 36 columns</p>\n",
              "</div>\n",
              "      <button class=\"colab-df-convert\" onclick=\"convertToInteractive('df-25acc995-5062-4d31-b426-3ab30ad33230')\"\n",
              "              title=\"Convert this dataframe to an interactive table.\"\n",
              "              style=\"display:none;\">\n",
              "        \n",
              "  <svg xmlns=\"http://www.w3.org/2000/svg\" height=\"24px\"viewBox=\"0 0 24 24\"\n",
              "       width=\"24px\">\n",
              "    <path d=\"M0 0h24v24H0V0z\" fill=\"none\"/>\n",
              "    <path d=\"M18.56 5.44l.94 2.06.94-2.06 2.06-.94-2.06-.94-.94-2.06-.94 2.06-2.06.94zm-11 1L8.5 8.5l.94-2.06 2.06-.94-2.06-.94L8.5 2.5l-.94 2.06-2.06.94zm10 10l.94 2.06.94-2.06 2.06-.94-2.06-.94-.94-2.06-.94 2.06-2.06.94z\"/><path d=\"M17.41 7.96l-1.37-1.37c-.4-.4-.92-.59-1.43-.59-.52 0-1.04.2-1.43.59L10.3 9.45l-7.72 7.72c-.78.78-.78 2.05 0 2.83L4 21.41c.39.39.9.59 1.41.59.51 0 1.02-.2 1.41-.59l7.78-7.78 2.81-2.81c.8-.78.8-2.07 0-2.86zM5.41 20L4 18.59l7.72-7.72 1.47 1.35L5.41 20z\"/>\n",
              "  </svg>\n",
              "      </button>\n",
              "      \n",
              "  <style>\n",
              "    .colab-df-container {\n",
              "      display:flex;\n",
              "      flex-wrap:wrap;\n",
              "      gap: 12px;\n",
              "    }\n",
              "\n",
              "    .colab-df-convert {\n",
              "      background-color: #E8F0FE;\n",
              "      border: none;\n",
              "      border-radius: 50%;\n",
              "      cursor: pointer;\n",
              "      display: none;\n",
              "      fill: #1967D2;\n",
              "      height: 32px;\n",
              "      padding: 0 0 0 0;\n",
              "      width: 32px;\n",
              "    }\n",
              "\n",
              "    .colab-df-convert:hover {\n",
              "      background-color: #E2EBFA;\n",
              "      box-shadow: 0px 1px 2px rgba(60, 64, 67, 0.3), 0px 1px 3px 1px rgba(60, 64, 67, 0.15);\n",
              "      fill: #174EA6;\n",
              "    }\n",
              "\n",
              "    [theme=dark] .colab-df-convert {\n",
              "      background-color: #3B4455;\n",
              "      fill: #D2E3FC;\n",
              "    }\n",
              "\n",
              "    [theme=dark] .colab-df-convert:hover {\n",
              "      background-color: #434B5C;\n",
              "      box-shadow: 0px 1px 3px 1px rgba(0, 0, 0, 0.15);\n",
              "      filter: drop-shadow(0px 1px 2px rgba(0, 0, 0, 0.3));\n",
              "      fill: #FFFFFF;\n",
              "    }\n",
              "  </style>\n",
              "\n",
              "      <script>\n",
              "        const buttonEl =\n",
              "          document.querySelector('#df-25acc995-5062-4d31-b426-3ab30ad33230 button.colab-df-convert');\n",
              "        buttonEl.style.display =\n",
              "          google.colab.kernel.accessAllowed ? 'block' : 'none';\n",
              "\n",
              "        async function convertToInteractive(key) {\n",
              "          const element = document.querySelector('#df-25acc995-5062-4d31-b426-3ab30ad33230');\n",
              "          const dataTable =\n",
              "            await google.colab.kernel.invokeFunction('convertToInteractive',\n",
              "                                                     [key], {});\n",
              "          if (!dataTable) return;\n",
              "\n",
              "          const docLinkHtml = 'Like what you see? Visit the ' +\n",
              "            '<a target=\"_blank\" href=https://colab.research.google.com/notebooks/data_table.ipynb>data table notebook</a>'\n",
              "            + ' to learn more about interactive tables.';\n",
              "          element.innerHTML = '';\n",
              "          dataTable['output_type'] = 'display_data';\n",
              "          await google.colab.output.renderOutput(dataTable, element);\n",
              "          const docLink = document.createElement('div');\n",
              "          docLink.innerHTML = docLinkHtml;\n",
              "          element.appendChild(docLink);\n",
              "        }\n",
              "      </script>\n",
              "    </div>\n",
              "  </div>\n",
              "  "
            ]
          },
          "metadata": {},
          "execution_count": 686
        }
      ],
      "source": [
        "dataset"
      ]
    },
    {
      "cell_type": "code",
      "execution_count": null,
      "metadata": {
        "colab": {
          "base_uri": "https://localhost:8080/"
        },
        "id": "CeJ_7-3H5Dhh",
        "outputId": "2243ff3e-3acb-465d-937e-40b032e416ae"
      },
      "outputs": [
        {
          "output_type": "stream",
          "name": "stdout",
          "text": [
            "<class 'pandas.core.frame.DataFrame'>\n",
            "Int64Index: 281622 entries, 0 to 290528\n",
            "Data columns (total 36 columns):\n",
            " #   Column                            Non-Null Count   Dtype  \n",
            "---  ------                            --------------   -----  \n",
            " 0   flgs_number                       281622 non-null  int64  \n",
            " 1   proto_number                      281622 non-null  int64  \n",
            " 2   sport                             281622 non-null  float32\n",
            " 3   dport                             281622 non-null  float32\n",
            " 4   pkts                              281622 non-null  int64  \n",
            " 5   bytes                             281622 non-null  int64  \n",
            " 6   state_number                      281622 non-null  int64  \n",
            " 7   seq                               281622 non-null  int64  \n",
            " 8   dur                               281622 non-null  float64\n",
            " 9   mean                              281622 non-null  float64\n",
            " 10  stddev                            281622 non-null  float64\n",
            " 11  sum                               281622 non-null  float64\n",
            " 12  min                               281622 non-null  float64\n",
            " 13  max                               281622 non-null  float64\n",
            " 14  spkts                             281622 non-null  int64  \n",
            " 15  dpkts                             281622 non-null  int64  \n",
            " 16  sbytes                            281622 non-null  int64  \n",
            " 17  dbytes                            281622 non-null  int64  \n",
            " 18  rate                              281622 non-null  float64\n",
            " 19  srate                             281622 non-null  float64\n",
            " 20  drate                             281622 non-null  float64\n",
            " 21  TnBPSrcIP                         281622 non-null  int64  \n",
            " 22  TnBPDstIP                         281622 non-null  int64  \n",
            " 23  TnP_PSrcIP                        281622 non-null  int64  \n",
            " 24  TnP_PDstIP                        281622 non-null  int64  \n",
            " 25  TnP_PerProto                      281622 non-null  int64  \n",
            " 26  TnP_Per_Dport                     281622 non-null  int64  \n",
            " 27  AR_P_Proto_P_SrcIP                281622 non-null  float64\n",
            " 28  AR_P_Proto_P_DstIP                281622 non-null  float64\n",
            " 29  N_IN_Conn_P_DstIP                 281622 non-null  int64  \n",
            " 30  N_IN_Conn_P_SrcIP                 281622 non-null  int64  \n",
            " 31  AR_P_Proto_P_Sport                281622 non-null  float64\n",
            " 32  AR_P_Proto_P_Dport                281622 non-null  float64\n",
            " 33  Pkts_P_State_P_Protocol_P_DestIP  281622 non-null  int64  \n",
            " 34  Pkts_P_State_P_Protocol_P_SrcIP   281622 non-null  int64  \n",
            " 35  category                          281622 non-null  object \n",
            "dtypes: float32(2), float64(13), int64(20), object(1)\n",
            "memory usage: 77.3+ MB\n"
          ]
        }
      ],
      "source": [
        "dataset.info()"
      ]
    },
    {
      "cell_type": "markdown",
      "metadata": {
        "id": "MefWVl8Cqkf7"
      },
      "source": [
        "##shuffle dataset"
      ]
    },
    {
      "cell_type": "code",
      "execution_count": null,
      "metadata": {
        "id": "gyaMIYs15Dek"
      },
      "outputs": [],
      "source": [
        "dataset= dataset.sample(frac = 1)"
      ]
    },
    {
      "cell_type": "markdown",
      "metadata": {
        "id": "k1VSjYemqttu"
      },
      "source": [
        "##split data to x & y"
      ]
    },
    {
      "cell_type": "code",
      "execution_count": null,
      "metadata": {
        "colab": {
          "base_uri": "https://localhost:8080/"
        },
        "id": "sAFO2mtp5DcX",
        "outputId": "ea2cc662-8952-4537-84d7-5dec4cd1817b"
      },
      "outputs": [
        {
          "output_type": "execute_result",
          "data": {
            "text/plain": [
              "        flgs_number  proto_number    sport   dport  pkts  bytes  state_number  \\\n",
              "235882            1             1  35996.0  2006.0     2    134             1   \n",
              "194215            1             3  41394.0    80.0    11    660             4   \n",
              "130868            1             1   3900.0    80.0     3    274             1   \n",
              "159846            5             1  43136.0    80.0     6    548             1   \n",
              "55773             1             3  47280.0    80.0    13    780             4   \n",
              "...             ...           ...      ...     ...   ...    ...           ...   \n",
              "5954              1             3  12269.0    80.0     5    300             4   \n",
              "145113            1             3  26688.0    80.0    10    600             4   \n",
              "102339            1             3  57466.0    80.0     6    360             4   \n",
              "14298             2             1  40516.0    80.0     7    890             1   \n",
              "68458             2             1  25624.0    80.0     5    770             3   \n",
              "\n",
              "           seq        dur      mean  ...  TnP_PerProto  TnP_Per_Dport  \\\n",
              "235882   27055   0.000980  0.000980  ...           208              2   \n",
              "194215  153957  25.096107  4.527031  ...          1100           1100   \n",
              "130868  235784   0.162942  0.162942  ...           300            300   \n",
              "159846  192477  28.320900  0.140242  ...           548            548   \n",
              "55773    80441  14.280066  4.001678  ...          1197           1197   \n",
              "...        ...        ...       ...  ...           ...            ...   \n",
              "5954    103684  12.857875  2.942011  ...           523            523   \n",
              "145113   32772  29.243759  1.752940  ...          1000           1000   \n",
              "102339  249457  21.570436  4.387115  ...           600            600   \n",
              "14298   238143  11.999708  2.098042  ...           477            477   \n",
              "68458   169180  12.835119  2.149765  ...           500            500   \n",
              "\n",
              "        AR_P_Proto_P_SrcIP  AR_P_Proto_P_DstIP  N_IN_Conn_P_DstIP  \\\n",
              "235882           25.118700           25.118700                100   \n",
              "194215            0.438260            0.438260                100   \n",
              "130868           18.312300           18.312300                100   \n",
              "159846            0.211858            0.211858                 48   \n",
              "55773             0.910335            0.830052                100   \n",
              "...                    ...                 ...                ...   \n",
              "5954              0.406755            0.406755                100   \n",
              "145113            0.341963            0.341963                100   \n",
              "102339            0.278191            0.278191                100   \n",
              "14298             0.516747            0.409988                100   \n",
              "68458             0.389533            0.389533                100   \n",
              "\n",
              "        N_IN_Conn_P_SrcIP  AR_P_Proto_P_Sport  AR_P_Proto_P_Dport  \\\n",
              "235882                100         2040.820000         2040.820000   \n",
              "194215                100            0.438315            0.438260   \n",
              "130868                100           18.411500           18.312300   \n",
              "159846                 48            0.211858            0.203300   \n",
              "55773                  71            0.910360            0.830052   \n",
              "...                   ...                 ...                 ...   \n",
              "5954                  100            0.388867            0.406755   \n",
              "145113                100            0.341953            0.341963   \n",
              "102339                100            0.278158            0.278191   \n",
              "14298                  35            0.583347            0.409988   \n",
              "68458                 100            0.389556            0.389533   \n",
              "\n",
              "        Pkts_P_State_P_Protocol_P_DestIP  Pkts_P_State_P_Protocol_P_SrcIP  \n",
              "235882                               208                              208  \n",
              "194215                              1100                             1100  \n",
              "130868                               300                              300  \n",
              "159846                               288                              288  \n",
              "55773                               1197                              923  \n",
              "...                                  ...                              ...  \n",
              "5954                                 523                              523  \n",
              "145113                              1000                             1000  \n",
              "102339                               600                              600  \n",
              "14298                                147                              147  \n",
              "68458                                500                              500  \n",
              "\n",
              "[281622 rows x 35 columns]"
            ],
            "text/html": [
              "\n",
              "  <div id=\"df-bd567b90-02a5-4297-9e69-a20985235af4\">\n",
              "    <div class=\"colab-df-container\">\n",
              "      <div>\n",
              "<style scoped>\n",
              "    .dataframe tbody tr th:only-of-type {\n",
              "        vertical-align: middle;\n",
              "    }\n",
              "\n",
              "    .dataframe tbody tr th {\n",
              "        vertical-align: top;\n",
              "    }\n",
              "\n",
              "    .dataframe thead th {\n",
              "        text-align: right;\n",
              "    }\n",
              "</style>\n",
              "<table border=\"1\" class=\"dataframe\">\n",
              "  <thead>\n",
              "    <tr style=\"text-align: right;\">\n",
              "      <th></th>\n",
              "      <th>flgs_number</th>\n",
              "      <th>proto_number</th>\n",
              "      <th>sport</th>\n",
              "      <th>dport</th>\n",
              "      <th>pkts</th>\n",
              "      <th>bytes</th>\n",
              "      <th>state_number</th>\n",
              "      <th>seq</th>\n",
              "      <th>dur</th>\n",
              "      <th>mean</th>\n",
              "      <th>...</th>\n",
              "      <th>TnP_PerProto</th>\n",
              "      <th>TnP_Per_Dport</th>\n",
              "      <th>AR_P_Proto_P_SrcIP</th>\n",
              "      <th>AR_P_Proto_P_DstIP</th>\n",
              "      <th>N_IN_Conn_P_DstIP</th>\n",
              "      <th>N_IN_Conn_P_SrcIP</th>\n",
              "      <th>AR_P_Proto_P_Sport</th>\n",
              "      <th>AR_P_Proto_P_Dport</th>\n",
              "      <th>Pkts_P_State_P_Protocol_P_DestIP</th>\n",
              "      <th>Pkts_P_State_P_Protocol_P_SrcIP</th>\n",
              "    </tr>\n",
              "  </thead>\n",
              "  <tbody>\n",
              "    <tr>\n",
              "      <th>235882</th>\n",
              "      <td>1</td>\n",
              "      <td>1</td>\n",
              "      <td>35996.0</td>\n",
              "      <td>2006.0</td>\n",
              "      <td>2</td>\n",
              "      <td>134</td>\n",
              "      <td>1</td>\n",
              "      <td>27055</td>\n",
              "      <td>0.000980</td>\n",
              "      <td>0.000980</td>\n",
              "      <td>...</td>\n",
              "      <td>208</td>\n",
              "      <td>2</td>\n",
              "      <td>25.118700</td>\n",
              "      <td>25.118700</td>\n",
              "      <td>100</td>\n",
              "      <td>100</td>\n",
              "      <td>2040.820000</td>\n",
              "      <td>2040.820000</td>\n",
              "      <td>208</td>\n",
              "      <td>208</td>\n",
              "    </tr>\n",
              "    <tr>\n",
              "      <th>194215</th>\n",
              "      <td>1</td>\n",
              "      <td>3</td>\n",
              "      <td>41394.0</td>\n",
              "      <td>80.0</td>\n",
              "      <td>11</td>\n",
              "      <td>660</td>\n",
              "      <td>4</td>\n",
              "      <td>153957</td>\n",
              "      <td>25.096107</td>\n",
              "      <td>4.527031</td>\n",
              "      <td>...</td>\n",
              "      <td>1100</td>\n",
              "      <td>1100</td>\n",
              "      <td>0.438260</td>\n",
              "      <td>0.438260</td>\n",
              "      <td>100</td>\n",
              "      <td>100</td>\n",
              "      <td>0.438315</td>\n",
              "      <td>0.438260</td>\n",
              "      <td>1100</td>\n",
              "      <td>1100</td>\n",
              "    </tr>\n",
              "    <tr>\n",
              "      <th>130868</th>\n",
              "      <td>1</td>\n",
              "      <td>1</td>\n",
              "      <td>3900.0</td>\n",
              "      <td>80.0</td>\n",
              "      <td>3</td>\n",
              "      <td>274</td>\n",
              "      <td>1</td>\n",
              "      <td>235784</td>\n",
              "      <td>0.162942</td>\n",
              "      <td>0.162942</td>\n",
              "      <td>...</td>\n",
              "      <td>300</td>\n",
              "      <td>300</td>\n",
              "      <td>18.312300</td>\n",
              "      <td>18.312300</td>\n",
              "      <td>100</td>\n",
              "      <td>100</td>\n",
              "      <td>18.411500</td>\n",
              "      <td>18.312300</td>\n",
              "      <td>300</td>\n",
              "      <td>300</td>\n",
              "    </tr>\n",
              "    <tr>\n",
              "      <th>159846</th>\n",
              "      <td>5</td>\n",
              "      <td>1</td>\n",
              "      <td>43136.0</td>\n",
              "      <td>80.0</td>\n",
              "      <td>6</td>\n",
              "      <td>548</td>\n",
              "      <td>1</td>\n",
              "      <td>192477</td>\n",
              "      <td>28.320900</td>\n",
              "      <td>0.140242</td>\n",
              "      <td>...</td>\n",
              "      <td>548</td>\n",
              "      <td>548</td>\n",
              "      <td>0.211858</td>\n",
              "      <td>0.211858</td>\n",
              "      <td>48</td>\n",
              "      <td>48</td>\n",
              "      <td>0.211858</td>\n",
              "      <td>0.203300</td>\n",
              "      <td>288</td>\n",
              "      <td>288</td>\n",
              "    </tr>\n",
              "    <tr>\n",
              "      <th>55773</th>\n",
              "      <td>1</td>\n",
              "      <td>3</td>\n",
              "      <td>47280.0</td>\n",
              "      <td>80.0</td>\n",
              "      <td>13</td>\n",
              "      <td>780</td>\n",
              "      <td>4</td>\n",
              "      <td>80441</td>\n",
              "      <td>14.280066</td>\n",
              "      <td>4.001678</td>\n",
              "      <td>...</td>\n",
              "      <td>1197</td>\n",
              "      <td>1197</td>\n",
              "      <td>0.910335</td>\n",
              "      <td>0.830052</td>\n",
              "      <td>100</td>\n",
              "      <td>71</td>\n",
              "      <td>0.910360</td>\n",
              "      <td>0.830052</td>\n",
              "      <td>1197</td>\n",
              "      <td>923</td>\n",
              "    </tr>\n",
              "    <tr>\n",
              "      <th>...</th>\n",
              "      <td>...</td>\n",
              "      <td>...</td>\n",
              "      <td>...</td>\n",
              "      <td>...</td>\n",
              "      <td>...</td>\n",
              "      <td>...</td>\n",
              "      <td>...</td>\n",
              "      <td>...</td>\n",
              "      <td>...</td>\n",
              "      <td>...</td>\n",
              "      <td>...</td>\n",
              "      <td>...</td>\n",
              "      <td>...</td>\n",
              "      <td>...</td>\n",
              "      <td>...</td>\n",
              "      <td>...</td>\n",
              "      <td>...</td>\n",
              "      <td>...</td>\n",
              "      <td>...</td>\n",
              "      <td>...</td>\n",
              "      <td>...</td>\n",
              "    </tr>\n",
              "    <tr>\n",
              "      <th>5954</th>\n",
              "      <td>1</td>\n",
              "      <td>3</td>\n",
              "      <td>12269.0</td>\n",
              "      <td>80.0</td>\n",
              "      <td>5</td>\n",
              "      <td>300</td>\n",
              "      <td>4</td>\n",
              "      <td>103684</td>\n",
              "      <td>12.857875</td>\n",
              "      <td>2.942011</td>\n",
              "      <td>...</td>\n",
              "      <td>523</td>\n",
              "      <td>523</td>\n",
              "      <td>0.406755</td>\n",
              "      <td>0.406755</td>\n",
              "      <td>100</td>\n",
              "      <td>100</td>\n",
              "      <td>0.388867</td>\n",
              "      <td>0.406755</td>\n",
              "      <td>523</td>\n",
              "      <td>523</td>\n",
              "    </tr>\n",
              "    <tr>\n",
              "      <th>145113</th>\n",
              "      <td>1</td>\n",
              "      <td>3</td>\n",
              "      <td>26688.0</td>\n",
              "      <td>80.0</td>\n",
              "      <td>10</td>\n",
              "      <td>600</td>\n",
              "      <td>4</td>\n",
              "      <td>32772</td>\n",
              "      <td>29.243759</td>\n",
              "      <td>1.752940</td>\n",
              "      <td>...</td>\n",
              "      <td>1000</td>\n",
              "      <td>1000</td>\n",
              "      <td>0.341963</td>\n",
              "      <td>0.341963</td>\n",
              "      <td>100</td>\n",
              "      <td>100</td>\n",
              "      <td>0.341953</td>\n",
              "      <td>0.341963</td>\n",
              "      <td>1000</td>\n",
              "      <td>1000</td>\n",
              "    </tr>\n",
              "    <tr>\n",
              "      <th>102339</th>\n",
              "      <td>1</td>\n",
              "      <td>3</td>\n",
              "      <td>57466.0</td>\n",
              "      <td>80.0</td>\n",
              "      <td>6</td>\n",
              "      <td>360</td>\n",
              "      <td>4</td>\n",
              "      <td>249457</td>\n",
              "      <td>21.570436</td>\n",
              "      <td>4.387115</td>\n",
              "      <td>...</td>\n",
              "      <td>600</td>\n",
              "      <td>600</td>\n",
              "      <td>0.278191</td>\n",
              "      <td>0.278191</td>\n",
              "      <td>100</td>\n",
              "      <td>100</td>\n",
              "      <td>0.278158</td>\n",
              "      <td>0.278191</td>\n",
              "      <td>600</td>\n",
              "      <td>600</td>\n",
              "    </tr>\n",
              "    <tr>\n",
              "      <th>14298</th>\n",
              "      <td>2</td>\n",
              "      <td>1</td>\n",
              "      <td>40516.0</td>\n",
              "      <td>80.0</td>\n",
              "      <td>7</td>\n",
              "      <td>890</td>\n",
              "      <td>1</td>\n",
              "      <td>238143</td>\n",
              "      <td>11.999708</td>\n",
              "      <td>2.098042</td>\n",
              "      <td>...</td>\n",
              "      <td>477</td>\n",
              "      <td>477</td>\n",
              "      <td>0.516747</td>\n",
              "      <td>0.409988</td>\n",
              "      <td>100</td>\n",
              "      <td>35</td>\n",
              "      <td>0.583347</td>\n",
              "      <td>0.409988</td>\n",
              "      <td>147</td>\n",
              "      <td>147</td>\n",
              "    </tr>\n",
              "    <tr>\n",
              "      <th>68458</th>\n",
              "      <td>2</td>\n",
              "      <td>1</td>\n",
              "      <td>25624.0</td>\n",
              "      <td>80.0</td>\n",
              "      <td>5</td>\n",
              "      <td>770</td>\n",
              "      <td>3</td>\n",
              "      <td>169180</td>\n",
              "      <td>12.835119</td>\n",
              "      <td>2.149765</td>\n",
              "      <td>...</td>\n",
              "      <td>500</td>\n",
              "      <td>500</td>\n",
              "      <td>0.389533</td>\n",
              "      <td>0.389533</td>\n",
              "      <td>100</td>\n",
              "      <td>100</td>\n",
              "      <td>0.389556</td>\n",
              "      <td>0.389533</td>\n",
              "      <td>500</td>\n",
              "      <td>500</td>\n",
              "    </tr>\n",
              "  </tbody>\n",
              "</table>\n",
              "<p>281622 rows × 35 columns</p>\n",
              "</div>\n",
              "      <button class=\"colab-df-convert\" onclick=\"convertToInteractive('df-bd567b90-02a5-4297-9e69-a20985235af4')\"\n",
              "              title=\"Convert this dataframe to an interactive table.\"\n",
              "              style=\"display:none;\">\n",
              "        \n",
              "  <svg xmlns=\"http://www.w3.org/2000/svg\" height=\"24px\"viewBox=\"0 0 24 24\"\n",
              "       width=\"24px\">\n",
              "    <path d=\"M0 0h24v24H0V0z\" fill=\"none\"/>\n",
              "    <path d=\"M18.56 5.44l.94 2.06.94-2.06 2.06-.94-2.06-.94-.94-2.06-.94 2.06-2.06.94zm-11 1L8.5 8.5l.94-2.06 2.06-.94-2.06-.94L8.5 2.5l-.94 2.06-2.06.94zm10 10l.94 2.06.94-2.06 2.06-.94-2.06-.94-.94-2.06-.94 2.06-2.06.94z\"/><path d=\"M17.41 7.96l-1.37-1.37c-.4-.4-.92-.59-1.43-.59-.52 0-1.04.2-1.43.59L10.3 9.45l-7.72 7.72c-.78.78-.78 2.05 0 2.83L4 21.41c.39.39.9.59 1.41.59.51 0 1.02-.2 1.41-.59l7.78-7.78 2.81-2.81c.8-.78.8-2.07 0-2.86zM5.41 20L4 18.59l7.72-7.72 1.47 1.35L5.41 20z\"/>\n",
              "  </svg>\n",
              "      </button>\n",
              "      \n",
              "  <style>\n",
              "    .colab-df-container {\n",
              "      display:flex;\n",
              "      flex-wrap:wrap;\n",
              "      gap: 12px;\n",
              "    }\n",
              "\n",
              "    .colab-df-convert {\n",
              "      background-color: #E8F0FE;\n",
              "      border: none;\n",
              "      border-radius: 50%;\n",
              "      cursor: pointer;\n",
              "      display: none;\n",
              "      fill: #1967D2;\n",
              "      height: 32px;\n",
              "      padding: 0 0 0 0;\n",
              "      width: 32px;\n",
              "    }\n",
              "\n",
              "    .colab-df-convert:hover {\n",
              "      background-color: #E2EBFA;\n",
              "      box-shadow: 0px 1px 2px rgba(60, 64, 67, 0.3), 0px 1px 3px 1px rgba(60, 64, 67, 0.15);\n",
              "      fill: #174EA6;\n",
              "    }\n",
              "\n",
              "    [theme=dark] .colab-df-convert {\n",
              "      background-color: #3B4455;\n",
              "      fill: #D2E3FC;\n",
              "    }\n",
              "\n",
              "    [theme=dark] .colab-df-convert:hover {\n",
              "      background-color: #434B5C;\n",
              "      box-shadow: 0px 1px 3px 1px rgba(0, 0, 0, 0.15);\n",
              "      filter: drop-shadow(0px 1px 2px rgba(0, 0, 0, 0.3));\n",
              "      fill: #FFFFFF;\n",
              "    }\n",
              "  </style>\n",
              "\n",
              "      <script>\n",
              "        const buttonEl =\n",
              "          document.querySelector('#df-bd567b90-02a5-4297-9e69-a20985235af4 button.colab-df-convert');\n",
              "        buttonEl.style.display =\n",
              "          google.colab.kernel.accessAllowed ? 'block' : 'none';\n",
              "\n",
              "        async function convertToInteractive(key) {\n",
              "          const element = document.querySelector('#df-bd567b90-02a5-4297-9e69-a20985235af4');\n",
              "          const dataTable =\n",
              "            await google.colab.kernel.invokeFunction('convertToInteractive',\n",
              "                                                     [key], {});\n",
              "          if (!dataTable) return;\n",
              "\n",
              "          const docLinkHtml = 'Like what you see? Visit the ' +\n",
              "            '<a target=\"_blank\" href=https://colab.research.google.com/notebooks/data_table.ipynb>data table notebook</a>'\n",
              "            + ' to learn more about interactive tables.';\n",
              "          element.innerHTML = '';\n",
              "          dataTable['output_type'] = 'display_data';\n",
              "          await google.colab.output.renderOutput(dataTable, element);\n",
              "          const docLink = document.createElement('div');\n",
              "          docLink.innerHTML = docLinkHtml;\n",
              "          element.appendChild(docLink);\n",
              "        }\n",
              "      </script>\n",
              "    </div>\n",
              "  </div>\n",
              "  "
            ]
          },
          "metadata": {},
          "execution_count": 689
        }
      ],
      "source": [
        "y=dataset['category']\n",
        "X=dataset.iloc[:,0:-1]\n",
        "X"
      ]
    },
    {
      "cell_type": "code",
      "execution_count": null,
      "metadata": {
        "colab": {
          "base_uri": "https://localhost:8080/"
        },
        "id": "QATHC2fy5DZr",
        "outputId": "a7cf519f-e963-4546-ff5e-e705d8897f6f"
      },
      "outputs": [
        {
          "output_type": "execute_result",
          "data": {
            "text/plain": [
              "((281622,), (281622, 35))"
            ]
          },
          "metadata": {},
          "execution_count": 690
        }
      ],
      "source": [
        "y.shape, X.shape"
      ]
    },
    {
      "cell_type": "code",
      "execution_count": null,
      "metadata": {
        "colab": {
          "base_uri": "https://localhost:8080/"
        },
        "id": "sjKQLXiA5DXJ",
        "outputId": "2d7ff4a0-79d0-47aa-adeb-4692c3f8c3f8"
      },
      "outputs": [
        {
          "output_type": "stream",
          "name": "stdout",
          "text": [
            "<class 'pandas.core.frame.DataFrame'>\n",
            "Int64Index: 281622 entries, 235882 to 68458\n",
            "Data columns (total 35 columns):\n",
            " #   Column                            Non-Null Count   Dtype  \n",
            "---  ------                            --------------   -----  \n",
            " 0   flgs_number                       281622 non-null  int64  \n",
            " 1   proto_number                      281622 non-null  int64  \n",
            " 2   sport                             281622 non-null  float32\n",
            " 3   dport                             281622 non-null  float32\n",
            " 4   pkts                              281622 non-null  int64  \n",
            " 5   bytes                             281622 non-null  int64  \n",
            " 6   state_number                      281622 non-null  int64  \n",
            " 7   seq                               281622 non-null  int64  \n",
            " 8   dur                               281622 non-null  float64\n",
            " 9   mean                              281622 non-null  float64\n",
            " 10  stddev                            281622 non-null  float64\n",
            " 11  sum                               281622 non-null  float64\n",
            " 12  min                               281622 non-null  float64\n",
            " 13  max                               281622 non-null  float64\n",
            " 14  spkts                             281622 non-null  int64  \n",
            " 15  dpkts                             281622 non-null  int64  \n",
            " 16  sbytes                            281622 non-null  int64  \n",
            " 17  dbytes                            281622 non-null  int64  \n",
            " 18  rate                              281622 non-null  float64\n",
            " 19  srate                             281622 non-null  float64\n",
            " 20  drate                             281622 non-null  float64\n",
            " 21  TnBPSrcIP                         281622 non-null  int64  \n",
            " 22  TnBPDstIP                         281622 non-null  int64  \n",
            " 23  TnP_PSrcIP                        281622 non-null  int64  \n",
            " 24  TnP_PDstIP                        281622 non-null  int64  \n",
            " 25  TnP_PerProto                      281622 non-null  int64  \n",
            " 26  TnP_Per_Dport                     281622 non-null  int64  \n",
            " 27  AR_P_Proto_P_SrcIP                281622 non-null  float64\n",
            " 28  AR_P_Proto_P_DstIP                281622 non-null  float64\n",
            " 29  N_IN_Conn_P_DstIP                 281622 non-null  int64  \n",
            " 30  N_IN_Conn_P_SrcIP                 281622 non-null  int64  \n",
            " 31  AR_P_Proto_P_Sport                281622 non-null  float64\n",
            " 32  AR_P_Proto_P_Dport                281622 non-null  float64\n",
            " 33  Pkts_P_State_P_Protocol_P_DestIP  281622 non-null  int64  \n",
            " 34  Pkts_P_State_P_Protocol_P_SrcIP   281622 non-null  int64  \n",
            "dtypes: float32(2), float64(13), int64(20)\n",
            "memory usage: 75.2 MB\n"
          ]
        }
      ],
      "source": [
        "X.info()"
      ]
    },
    {
      "cell_type": "code",
      "execution_count": null,
      "metadata": {
        "id": "_OkWxbeG5DVE"
      },
      "outputs": [],
      "source": [
        "X=X.astype({'flgs_number': 'float','proto_number': 'float', 'pkts': 'float','bytes': 'float','state_number': 'float','spkts': 'float','dpkts': 'float', 'sbytes':'float', 'dbytes':'float'})\n",
        "X=X.astype({'Pkts_P_State_P_Protocol_P_SrcIP':'float', 'Pkts_P_State_P_Protocol_P_DestIP':'float', 'TnBPDstIP':'float', 'TnP_PSrcIP': 'float', 'TnP_PDstIP':'float', 'TnP_PerProto':'float', 'TnP_Per_Dport' :'float','N_IN_Conn_P_DstIP':'float', 'N_IN_Conn_P_SrcIP':'float'})"
      ]
    },
    {
      "cell_type": "code",
      "execution_count": null,
      "metadata": {
        "id": "nQ7_rEfh5DRr"
      },
      "outputs": [],
      "source": [
        "X=X.astype({'seq':'float', 'TnBPSrcIP':'float'})"
      ]
    },
    {
      "cell_type": "code",
      "execution_count": null,
      "metadata": {
        "id": "HyA-0NtF5DOx"
      },
      "outputs": [],
      "source": [
        "X=X.astype({'sport':'float64', 'dport':'float64'})"
      ]
    },
    {
      "cell_type": "code",
      "execution_count": null,
      "metadata": {
        "colab": {
          "base_uri": "https://localhost:8080/"
        },
        "id": "s7ud1-EW5DMT",
        "outputId": "9a3cb9e2-4b81-412e-f0f5-51e823e2f0bf"
      },
      "outputs": [
        {
          "output_type": "stream",
          "name": "stdout",
          "text": [
            "<class 'pandas.core.frame.DataFrame'>\n",
            "Int64Index: 281622 entries, 235882 to 68458\n",
            "Data columns (total 35 columns):\n",
            " #   Column                            Non-Null Count   Dtype  \n",
            "---  ------                            --------------   -----  \n",
            " 0   flgs_number                       281622 non-null  float64\n",
            " 1   proto_number                      281622 non-null  float64\n",
            " 2   sport                             281622 non-null  float64\n",
            " 3   dport                             281622 non-null  float64\n",
            " 4   pkts                              281622 non-null  float64\n",
            " 5   bytes                             281622 non-null  float64\n",
            " 6   state_number                      281622 non-null  float64\n",
            " 7   seq                               281622 non-null  float64\n",
            " 8   dur                               281622 non-null  float64\n",
            " 9   mean                              281622 non-null  float64\n",
            " 10  stddev                            281622 non-null  float64\n",
            " 11  sum                               281622 non-null  float64\n",
            " 12  min                               281622 non-null  float64\n",
            " 13  max                               281622 non-null  float64\n",
            " 14  spkts                             281622 non-null  float64\n",
            " 15  dpkts                             281622 non-null  float64\n",
            " 16  sbytes                            281622 non-null  float64\n",
            " 17  dbytes                            281622 non-null  float64\n",
            " 18  rate                              281622 non-null  float64\n",
            " 19  srate                             281622 non-null  float64\n",
            " 20  drate                             281622 non-null  float64\n",
            " 21  TnBPSrcIP                         281622 non-null  float64\n",
            " 22  TnBPDstIP                         281622 non-null  float64\n",
            " 23  TnP_PSrcIP                        281622 non-null  float64\n",
            " 24  TnP_PDstIP                        281622 non-null  float64\n",
            " 25  TnP_PerProto                      281622 non-null  float64\n",
            " 26  TnP_Per_Dport                     281622 non-null  float64\n",
            " 27  AR_P_Proto_P_SrcIP                281622 non-null  float64\n",
            " 28  AR_P_Proto_P_DstIP                281622 non-null  float64\n",
            " 29  N_IN_Conn_P_DstIP                 281622 non-null  float64\n",
            " 30  N_IN_Conn_P_SrcIP                 281622 non-null  float64\n",
            " 31  AR_P_Proto_P_Sport                281622 non-null  float64\n",
            " 32  AR_P_Proto_P_Dport                281622 non-null  float64\n",
            " 33  Pkts_P_State_P_Protocol_P_DestIP  281622 non-null  float64\n",
            " 34  Pkts_P_State_P_Protocol_P_SrcIP   281622 non-null  float64\n",
            "dtypes: float64(35)\n",
            "memory usage: 77.3 MB\n"
          ]
        }
      ],
      "source": [
        "X.info()"
      ]
    },
    {
      "cell_type": "code",
      "execution_count": null,
      "metadata": {
        "colab": {
          "base_uri": "https://localhost:8080/"
        },
        "id": "ygT383hcDcTo",
        "outputId": "659ae9ca-4a18-44af-f841-186548732ff6"
      },
      "outputs": [
        {
          "output_type": "execute_result",
          "data": {
            "text/plain": [
              "235882    Reconnaissance\n",
              "194215               DoS\n",
              "130868               DoS\n",
              "159846               DoS\n",
              "55773               DDoS\n",
              "               ...      \n",
              "5954                DDoS\n",
              "145113               DoS\n",
              "102339               DoS\n",
              "14298               DDoS\n",
              "68458               DDoS\n",
              "Name: category, Length: 281622, dtype: object"
            ]
          },
          "metadata": {},
          "execution_count": 696
        }
      ],
      "source": [
        "y"
      ]
    },
    {
      "cell_type": "code",
      "execution_count": null,
      "metadata": {
        "colab": {
          "base_uri": "https://localhost:8080/"
        },
        "id": "ltALN48-5DJa",
        "outputId": "0818ca14-d6b8-46ef-ca77-52ab30b9ec56"
      },
      "outputs": [
        {
          "output_type": "execute_result",
          "data": {
            "text/plain": [
              "        flgs_number  proto_number    sport   dport  pkts  bytes  state_number  \\\n",
              "235882          1.0           1.0  35996.0  2006.0   2.0  134.0           1.0   \n",
              "194215          1.0           3.0  41394.0    80.0  11.0  660.0           4.0   \n",
              "130868          1.0           1.0   3900.0    80.0   3.0  274.0           1.0   \n",
              "159846          5.0           1.0  43136.0    80.0   6.0  548.0           1.0   \n",
              "55773           1.0           3.0  47280.0    80.0  13.0  780.0           4.0   \n",
              "...             ...           ...      ...     ...   ...    ...           ...   \n",
              "5954            1.0           3.0  12269.0    80.0   5.0  300.0           4.0   \n",
              "145113          1.0           3.0  26688.0    80.0  10.0  600.0           4.0   \n",
              "102339          1.0           3.0  57466.0    80.0   6.0  360.0           4.0   \n",
              "14298           2.0           1.0  40516.0    80.0   7.0  890.0           1.0   \n",
              "68458           2.0           1.0  25624.0    80.0   5.0  770.0           3.0   \n",
              "\n",
              "             seq        dur      mean  ...  TnP_PerProto  TnP_Per_Dport  \\\n",
              "235882   27055.0   0.000980  0.000980  ...         208.0            2.0   \n",
              "194215  153957.0  25.096107  4.527031  ...        1100.0         1100.0   \n",
              "130868  235784.0   0.162942  0.162942  ...         300.0          300.0   \n",
              "159846  192477.0  28.320900  0.140242  ...         548.0          548.0   \n",
              "55773    80441.0  14.280066  4.001678  ...        1197.0         1197.0   \n",
              "...          ...        ...       ...  ...           ...            ...   \n",
              "5954    103684.0  12.857875  2.942011  ...         523.0          523.0   \n",
              "145113   32772.0  29.243759  1.752940  ...        1000.0         1000.0   \n",
              "102339  249457.0  21.570436  4.387115  ...         600.0          600.0   \n",
              "14298   238143.0  11.999708  2.098042  ...         477.0          477.0   \n",
              "68458   169180.0  12.835119  2.149765  ...         500.0          500.0   \n",
              "\n",
              "        AR_P_Proto_P_SrcIP  AR_P_Proto_P_DstIP  N_IN_Conn_P_DstIP  \\\n",
              "235882           25.118700           25.118700              100.0   \n",
              "194215            0.438260            0.438260              100.0   \n",
              "130868           18.312300           18.312300              100.0   \n",
              "159846            0.211858            0.211858               48.0   \n",
              "55773             0.910335            0.830052              100.0   \n",
              "...                    ...                 ...                ...   \n",
              "5954              0.406755            0.406755              100.0   \n",
              "145113            0.341963            0.341963              100.0   \n",
              "102339            0.278191            0.278191              100.0   \n",
              "14298             0.516747            0.409988              100.0   \n",
              "68458             0.389533            0.389533              100.0   \n",
              "\n",
              "        N_IN_Conn_P_SrcIP  AR_P_Proto_P_Sport  AR_P_Proto_P_Dport  \\\n",
              "235882              100.0         2040.820000         2040.820000   \n",
              "194215              100.0            0.438315            0.438260   \n",
              "130868              100.0           18.411500           18.312300   \n",
              "159846               48.0            0.211858            0.203300   \n",
              "55773                71.0            0.910360            0.830052   \n",
              "...                   ...                 ...                 ...   \n",
              "5954                100.0            0.388867            0.406755   \n",
              "145113              100.0            0.341953            0.341963   \n",
              "102339              100.0            0.278158            0.278191   \n",
              "14298                35.0            0.583347            0.409988   \n",
              "68458               100.0            0.389556            0.389533   \n",
              "\n",
              "        Pkts_P_State_P_Protocol_P_DestIP  Pkts_P_State_P_Protocol_P_SrcIP  \n",
              "235882                             208.0                            208.0  \n",
              "194215                            1100.0                           1100.0  \n",
              "130868                             300.0                            300.0  \n",
              "159846                             288.0                            288.0  \n",
              "55773                             1197.0                            923.0  \n",
              "...                                  ...                              ...  \n",
              "5954                               523.0                            523.0  \n",
              "145113                            1000.0                           1000.0  \n",
              "102339                             600.0                            600.0  \n",
              "14298                              147.0                            147.0  \n",
              "68458                              500.0                            500.0  \n",
              "\n",
              "[281622 rows x 35 columns]"
            ],
            "text/html": [
              "\n",
              "  <div id=\"df-4e6a4781-1bbf-4d78-b11b-13c7aaa472f1\">\n",
              "    <div class=\"colab-df-container\">\n",
              "      <div>\n",
              "<style scoped>\n",
              "    .dataframe tbody tr th:only-of-type {\n",
              "        vertical-align: middle;\n",
              "    }\n",
              "\n",
              "    .dataframe tbody tr th {\n",
              "        vertical-align: top;\n",
              "    }\n",
              "\n",
              "    .dataframe thead th {\n",
              "        text-align: right;\n",
              "    }\n",
              "</style>\n",
              "<table border=\"1\" class=\"dataframe\">\n",
              "  <thead>\n",
              "    <tr style=\"text-align: right;\">\n",
              "      <th></th>\n",
              "      <th>flgs_number</th>\n",
              "      <th>proto_number</th>\n",
              "      <th>sport</th>\n",
              "      <th>dport</th>\n",
              "      <th>pkts</th>\n",
              "      <th>bytes</th>\n",
              "      <th>state_number</th>\n",
              "      <th>seq</th>\n",
              "      <th>dur</th>\n",
              "      <th>mean</th>\n",
              "      <th>...</th>\n",
              "      <th>TnP_PerProto</th>\n",
              "      <th>TnP_Per_Dport</th>\n",
              "      <th>AR_P_Proto_P_SrcIP</th>\n",
              "      <th>AR_P_Proto_P_DstIP</th>\n",
              "      <th>N_IN_Conn_P_DstIP</th>\n",
              "      <th>N_IN_Conn_P_SrcIP</th>\n",
              "      <th>AR_P_Proto_P_Sport</th>\n",
              "      <th>AR_P_Proto_P_Dport</th>\n",
              "      <th>Pkts_P_State_P_Protocol_P_DestIP</th>\n",
              "      <th>Pkts_P_State_P_Protocol_P_SrcIP</th>\n",
              "    </tr>\n",
              "  </thead>\n",
              "  <tbody>\n",
              "    <tr>\n",
              "      <th>235882</th>\n",
              "      <td>1.0</td>\n",
              "      <td>1.0</td>\n",
              "      <td>35996.0</td>\n",
              "      <td>2006.0</td>\n",
              "      <td>2.0</td>\n",
              "      <td>134.0</td>\n",
              "      <td>1.0</td>\n",
              "      <td>27055.0</td>\n",
              "      <td>0.000980</td>\n",
              "      <td>0.000980</td>\n",
              "      <td>...</td>\n",
              "      <td>208.0</td>\n",
              "      <td>2.0</td>\n",
              "      <td>25.118700</td>\n",
              "      <td>25.118700</td>\n",
              "      <td>100.0</td>\n",
              "      <td>100.0</td>\n",
              "      <td>2040.820000</td>\n",
              "      <td>2040.820000</td>\n",
              "      <td>208.0</td>\n",
              "      <td>208.0</td>\n",
              "    </tr>\n",
              "    <tr>\n",
              "      <th>194215</th>\n",
              "      <td>1.0</td>\n",
              "      <td>3.0</td>\n",
              "      <td>41394.0</td>\n",
              "      <td>80.0</td>\n",
              "      <td>11.0</td>\n",
              "      <td>660.0</td>\n",
              "      <td>4.0</td>\n",
              "      <td>153957.0</td>\n",
              "      <td>25.096107</td>\n",
              "      <td>4.527031</td>\n",
              "      <td>...</td>\n",
              "      <td>1100.0</td>\n",
              "      <td>1100.0</td>\n",
              "      <td>0.438260</td>\n",
              "      <td>0.438260</td>\n",
              "      <td>100.0</td>\n",
              "      <td>100.0</td>\n",
              "      <td>0.438315</td>\n",
              "      <td>0.438260</td>\n",
              "      <td>1100.0</td>\n",
              "      <td>1100.0</td>\n",
              "    </tr>\n",
              "    <tr>\n",
              "      <th>130868</th>\n",
              "      <td>1.0</td>\n",
              "      <td>1.0</td>\n",
              "      <td>3900.0</td>\n",
              "      <td>80.0</td>\n",
              "      <td>3.0</td>\n",
              "      <td>274.0</td>\n",
              "      <td>1.0</td>\n",
              "      <td>235784.0</td>\n",
              "      <td>0.162942</td>\n",
              "      <td>0.162942</td>\n",
              "      <td>...</td>\n",
              "      <td>300.0</td>\n",
              "      <td>300.0</td>\n",
              "      <td>18.312300</td>\n",
              "      <td>18.312300</td>\n",
              "      <td>100.0</td>\n",
              "      <td>100.0</td>\n",
              "      <td>18.411500</td>\n",
              "      <td>18.312300</td>\n",
              "      <td>300.0</td>\n",
              "      <td>300.0</td>\n",
              "    </tr>\n",
              "    <tr>\n",
              "      <th>159846</th>\n",
              "      <td>5.0</td>\n",
              "      <td>1.0</td>\n",
              "      <td>43136.0</td>\n",
              "      <td>80.0</td>\n",
              "      <td>6.0</td>\n",
              "      <td>548.0</td>\n",
              "      <td>1.0</td>\n",
              "      <td>192477.0</td>\n",
              "      <td>28.320900</td>\n",
              "      <td>0.140242</td>\n",
              "      <td>...</td>\n",
              "      <td>548.0</td>\n",
              "      <td>548.0</td>\n",
              "      <td>0.211858</td>\n",
              "      <td>0.211858</td>\n",
              "      <td>48.0</td>\n",
              "      <td>48.0</td>\n",
              "      <td>0.211858</td>\n",
              "      <td>0.203300</td>\n",
              "      <td>288.0</td>\n",
              "      <td>288.0</td>\n",
              "    </tr>\n",
              "    <tr>\n",
              "      <th>55773</th>\n",
              "      <td>1.0</td>\n",
              "      <td>3.0</td>\n",
              "      <td>47280.0</td>\n",
              "      <td>80.0</td>\n",
              "      <td>13.0</td>\n",
              "      <td>780.0</td>\n",
              "      <td>4.0</td>\n",
              "      <td>80441.0</td>\n",
              "      <td>14.280066</td>\n",
              "      <td>4.001678</td>\n",
              "      <td>...</td>\n",
              "      <td>1197.0</td>\n",
              "      <td>1197.0</td>\n",
              "      <td>0.910335</td>\n",
              "      <td>0.830052</td>\n",
              "      <td>100.0</td>\n",
              "      <td>71.0</td>\n",
              "      <td>0.910360</td>\n",
              "      <td>0.830052</td>\n",
              "      <td>1197.0</td>\n",
              "      <td>923.0</td>\n",
              "    </tr>\n",
              "    <tr>\n",
              "      <th>...</th>\n",
              "      <td>...</td>\n",
              "      <td>...</td>\n",
              "      <td>...</td>\n",
              "      <td>...</td>\n",
              "      <td>...</td>\n",
              "      <td>...</td>\n",
              "      <td>...</td>\n",
              "      <td>...</td>\n",
              "      <td>...</td>\n",
              "      <td>...</td>\n",
              "      <td>...</td>\n",
              "      <td>...</td>\n",
              "      <td>...</td>\n",
              "      <td>...</td>\n",
              "      <td>...</td>\n",
              "      <td>...</td>\n",
              "      <td>...</td>\n",
              "      <td>...</td>\n",
              "      <td>...</td>\n",
              "      <td>...</td>\n",
              "      <td>...</td>\n",
              "    </tr>\n",
              "    <tr>\n",
              "      <th>5954</th>\n",
              "      <td>1.0</td>\n",
              "      <td>3.0</td>\n",
              "      <td>12269.0</td>\n",
              "      <td>80.0</td>\n",
              "      <td>5.0</td>\n",
              "      <td>300.0</td>\n",
              "      <td>4.0</td>\n",
              "      <td>103684.0</td>\n",
              "      <td>12.857875</td>\n",
              "      <td>2.942011</td>\n",
              "      <td>...</td>\n",
              "      <td>523.0</td>\n",
              "      <td>523.0</td>\n",
              "      <td>0.406755</td>\n",
              "      <td>0.406755</td>\n",
              "      <td>100.0</td>\n",
              "      <td>100.0</td>\n",
              "      <td>0.388867</td>\n",
              "      <td>0.406755</td>\n",
              "      <td>523.0</td>\n",
              "      <td>523.0</td>\n",
              "    </tr>\n",
              "    <tr>\n",
              "      <th>145113</th>\n",
              "      <td>1.0</td>\n",
              "      <td>3.0</td>\n",
              "      <td>26688.0</td>\n",
              "      <td>80.0</td>\n",
              "      <td>10.0</td>\n",
              "      <td>600.0</td>\n",
              "      <td>4.0</td>\n",
              "      <td>32772.0</td>\n",
              "      <td>29.243759</td>\n",
              "      <td>1.752940</td>\n",
              "      <td>...</td>\n",
              "      <td>1000.0</td>\n",
              "      <td>1000.0</td>\n",
              "      <td>0.341963</td>\n",
              "      <td>0.341963</td>\n",
              "      <td>100.0</td>\n",
              "      <td>100.0</td>\n",
              "      <td>0.341953</td>\n",
              "      <td>0.341963</td>\n",
              "      <td>1000.0</td>\n",
              "      <td>1000.0</td>\n",
              "    </tr>\n",
              "    <tr>\n",
              "      <th>102339</th>\n",
              "      <td>1.0</td>\n",
              "      <td>3.0</td>\n",
              "      <td>57466.0</td>\n",
              "      <td>80.0</td>\n",
              "      <td>6.0</td>\n",
              "      <td>360.0</td>\n",
              "      <td>4.0</td>\n",
              "      <td>249457.0</td>\n",
              "      <td>21.570436</td>\n",
              "      <td>4.387115</td>\n",
              "      <td>...</td>\n",
              "      <td>600.0</td>\n",
              "      <td>600.0</td>\n",
              "      <td>0.278191</td>\n",
              "      <td>0.278191</td>\n",
              "      <td>100.0</td>\n",
              "      <td>100.0</td>\n",
              "      <td>0.278158</td>\n",
              "      <td>0.278191</td>\n",
              "      <td>600.0</td>\n",
              "      <td>600.0</td>\n",
              "    </tr>\n",
              "    <tr>\n",
              "      <th>14298</th>\n",
              "      <td>2.0</td>\n",
              "      <td>1.0</td>\n",
              "      <td>40516.0</td>\n",
              "      <td>80.0</td>\n",
              "      <td>7.0</td>\n",
              "      <td>890.0</td>\n",
              "      <td>1.0</td>\n",
              "      <td>238143.0</td>\n",
              "      <td>11.999708</td>\n",
              "      <td>2.098042</td>\n",
              "      <td>...</td>\n",
              "      <td>477.0</td>\n",
              "      <td>477.0</td>\n",
              "      <td>0.516747</td>\n",
              "      <td>0.409988</td>\n",
              "      <td>100.0</td>\n",
              "      <td>35.0</td>\n",
              "      <td>0.583347</td>\n",
              "      <td>0.409988</td>\n",
              "      <td>147.0</td>\n",
              "      <td>147.0</td>\n",
              "    </tr>\n",
              "    <tr>\n",
              "      <th>68458</th>\n",
              "      <td>2.0</td>\n",
              "      <td>1.0</td>\n",
              "      <td>25624.0</td>\n",
              "      <td>80.0</td>\n",
              "      <td>5.0</td>\n",
              "      <td>770.0</td>\n",
              "      <td>3.0</td>\n",
              "      <td>169180.0</td>\n",
              "      <td>12.835119</td>\n",
              "      <td>2.149765</td>\n",
              "      <td>...</td>\n",
              "      <td>500.0</td>\n",
              "      <td>500.0</td>\n",
              "      <td>0.389533</td>\n",
              "      <td>0.389533</td>\n",
              "      <td>100.0</td>\n",
              "      <td>100.0</td>\n",
              "      <td>0.389556</td>\n",
              "      <td>0.389533</td>\n",
              "      <td>500.0</td>\n",
              "      <td>500.0</td>\n",
              "    </tr>\n",
              "  </tbody>\n",
              "</table>\n",
              "<p>281622 rows × 35 columns</p>\n",
              "</div>\n",
              "      <button class=\"colab-df-convert\" onclick=\"convertToInteractive('df-4e6a4781-1bbf-4d78-b11b-13c7aaa472f1')\"\n",
              "              title=\"Convert this dataframe to an interactive table.\"\n",
              "              style=\"display:none;\">\n",
              "        \n",
              "  <svg xmlns=\"http://www.w3.org/2000/svg\" height=\"24px\"viewBox=\"0 0 24 24\"\n",
              "       width=\"24px\">\n",
              "    <path d=\"M0 0h24v24H0V0z\" fill=\"none\"/>\n",
              "    <path d=\"M18.56 5.44l.94 2.06.94-2.06 2.06-.94-2.06-.94-.94-2.06-.94 2.06-2.06.94zm-11 1L8.5 8.5l.94-2.06 2.06-.94-2.06-.94L8.5 2.5l-.94 2.06-2.06.94zm10 10l.94 2.06.94-2.06 2.06-.94-2.06-.94-.94-2.06-.94 2.06-2.06.94z\"/><path d=\"M17.41 7.96l-1.37-1.37c-.4-.4-.92-.59-1.43-.59-.52 0-1.04.2-1.43.59L10.3 9.45l-7.72 7.72c-.78.78-.78 2.05 0 2.83L4 21.41c.39.39.9.59 1.41.59.51 0 1.02-.2 1.41-.59l7.78-7.78 2.81-2.81c.8-.78.8-2.07 0-2.86zM5.41 20L4 18.59l7.72-7.72 1.47 1.35L5.41 20z\"/>\n",
              "  </svg>\n",
              "      </button>\n",
              "      \n",
              "  <style>\n",
              "    .colab-df-container {\n",
              "      display:flex;\n",
              "      flex-wrap:wrap;\n",
              "      gap: 12px;\n",
              "    }\n",
              "\n",
              "    .colab-df-convert {\n",
              "      background-color: #E8F0FE;\n",
              "      border: none;\n",
              "      border-radius: 50%;\n",
              "      cursor: pointer;\n",
              "      display: none;\n",
              "      fill: #1967D2;\n",
              "      height: 32px;\n",
              "      padding: 0 0 0 0;\n",
              "      width: 32px;\n",
              "    }\n",
              "\n",
              "    .colab-df-convert:hover {\n",
              "      background-color: #E2EBFA;\n",
              "      box-shadow: 0px 1px 2px rgba(60, 64, 67, 0.3), 0px 1px 3px 1px rgba(60, 64, 67, 0.15);\n",
              "      fill: #174EA6;\n",
              "    }\n",
              "\n",
              "    [theme=dark] .colab-df-convert {\n",
              "      background-color: #3B4455;\n",
              "      fill: #D2E3FC;\n",
              "    }\n",
              "\n",
              "    [theme=dark] .colab-df-convert:hover {\n",
              "      background-color: #434B5C;\n",
              "      box-shadow: 0px 1px 3px 1px rgba(0, 0, 0, 0.15);\n",
              "      filter: drop-shadow(0px 1px 2px rgba(0, 0, 0, 0.3));\n",
              "      fill: #FFFFFF;\n",
              "    }\n",
              "  </style>\n",
              "\n",
              "      <script>\n",
              "        const buttonEl =\n",
              "          document.querySelector('#df-4e6a4781-1bbf-4d78-b11b-13c7aaa472f1 button.colab-df-convert');\n",
              "        buttonEl.style.display =\n",
              "          google.colab.kernel.accessAllowed ? 'block' : 'none';\n",
              "\n",
              "        async function convertToInteractive(key) {\n",
              "          const element = document.querySelector('#df-4e6a4781-1bbf-4d78-b11b-13c7aaa472f1');\n",
              "          const dataTable =\n",
              "            await google.colab.kernel.invokeFunction('convertToInteractive',\n",
              "                                                     [key], {});\n",
              "          if (!dataTable) return;\n",
              "\n",
              "          const docLinkHtml = 'Like what you see? Visit the ' +\n",
              "            '<a target=\"_blank\" href=https://colab.research.google.com/notebooks/data_table.ipynb>data table notebook</a>'\n",
              "            + ' to learn more about interactive tables.';\n",
              "          element.innerHTML = '';\n",
              "          dataTable['output_type'] = 'display_data';\n",
              "          await google.colab.output.renderOutput(dataTable, element);\n",
              "          const docLink = document.createElement('div');\n",
              "          docLink.innerHTML = docLinkHtml;\n",
              "          element.appendChild(docLink);\n",
              "        }\n",
              "      </script>\n",
              "    </div>\n",
              "  </div>\n",
              "  "
            ]
          },
          "metadata": {},
          "execution_count": 697
        }
      ],
      "source": [
        "X"
      ]
    },
    {
      "cell_type": "markdown",
      "metadata": {
        "id": "hxNfHBaurSCq"
      },
      "source": [
        "##Encode categurial features & scale"
      ]
    },
    {
      "cell_type": "code",
      "execution_count": null,
      "metadata": {
        "id": "Ersq8Dsm5DG0"
      },
      "outputs": [],
      "source": [
        "from sklearn.compose import ColumnTransformer\n",
        "from sklearn.preprocessing import MinMaxScaler , StandardScaler\n",
        "#from sklearn.preprocessing import OneHotEncoder"
      ]
    },
    {
      "cell_type": "code",
      "execution_count": null,
      "metadata": {
        "id": "ep8tRxpZ5DER"
      },
      "outputs": [],
      "source": [
        "# MMS = MinMaxScaler()\n",
        "MMS = StandardScaler()\n",
        "#Encoder=OneHotEncoder(handle_unknown = 'ignore')"
      ]
    },
    {
      "cell_type": "code",
      "execution_count": null,
      "metadata": {
        "id": "i9G506gN5DBm"
      },
      "outputs": [],
      "source": [
        "#cat_X= X.select_dtypes(include='object').columns\n",
        "num_X= X.select_dtypes(include='float').columns"
      ]
    },
    {
      "cell_type": "code",
      "execution_count": null,
      "metadata": {
        "id": "jGxpOBDH5C_D"
      },
      "outputs": [],
      "source": [
        "preprocessing = ColumnTransformer(\n",
        "    [(\"MM\", MMS, num_X)]\n",
        "         )"
      ]
    },
    {
      "cell_type": "code",
      "execution_count": null,
      "metadata": {
        "id": "R3RVJ9Gd5C8W"
      },
      "outputs": [],
      "source": [
        "# preprocessing = ColumnTransformer(\n",
        "#     [('ENC',Encoder,cat_X)] )"
      ]
    },
    {
      "cell_type": "code",
      "execution_count": null,
      "metadata": {
        "id": "RYNQc3_lrh-U"
      },
      "outputs": [],
      "source": [
        "from sklearn.preprocessing import LabelEncoder\n",
        "le=LabelEncoder()\n",
        "y_org=le.fit_transform(y)"
      ]
    },
    {
      "cell_type": "markdown",
      "metadata": {
        "id": "i7ghLSYKrkt6"
      },
      "source": [
        "##creat deffrent  target variabel"
      ]
    },
    {
      "cell_type": "code",
      "execution_count": null,
      "metadata": {
        "id": "tR2ooQFurh60"
      },
      "outputs": [],
      "source": [
        "y_normal = y.apply(lambda x: 1 if x == 'Normal' else 0)\n",
        "y_dos = y.apply(lambda x: 1 if x == 'DoS' else 0)\n",
        "y_ddos = y.apply(lambda x: 1 if x == 'DDoS' else 0)\n",
        "y_Theft = y.apply(lambda x: 1 if x == 'Theft' else 0)\n",
        "y_Reconnaissance= y.apply(lambda x: 1 if x == 'Reconnaissance' else 0)\n",
        "# y_paper=y.apply(lambda x: 1 if x!= 'Normal' else 0)"
      ]
    },
    {
      "cell_type": "code",
      "execution_count": null,
      "metadata": {
        "colab": {
          "base_uri": "https://localhost:8080/"
        },
        "id": "d7yoiwmhrh3h",
        "outputId": "435f936f-61ba-4158-8a30-49e39ab0597a"
      },
      "outputs": [
        {
          "output_type": "stream",
          "name": "stdout",
          "text": [
            "0    181623\n",
            "1     99999\n",
            "Name: category, dtype: int64\n",
            "0    181624\n",
            "1     99998\n",
            "Name: category, dtype: int64\n",
            "0    281172\n",
            "1       450\n",
            "Name: category, dtype: int64\n",
            "0    281543\n",
            "1        79\n",
            "Name: category, dtype: int64\n",
            "0    200526\n",
            "1     81096\n",
            "Name: category, dtype: int64\n"
          ]
        }
      ],
      "source": [
        "print(y_dos.value_counts())\n",
        "print(y_ddos.value_counts())\n",
        "print( y_normal.value_counts())\n",
        "print(y_Theft.value_counts())\n",
        "print(y_Reconnaissance.value_counts())\n",
        "# print(y_paper.value_counts())"
      ]
    },
    {
      "cell_type": "code",
      "execution_count": null,
      "metadata": {
        "colab": {
          "base_uri": "https://localhost:8080/"
        },
        "id": "r27kk3zIrh1H",
        "outputId": "015d2c39-1228-4085-a066-aa84f84c827e"
      },
      "outputs": [
        {
          "output_type": "stream",
          "name": "stdout",
          "text": [
            "(281622, 35) (281622,)\n"
          ]
        }
      ],
      "source": [
        "print(X.shape , y.shape)"
      ]
    },
    {
      "cell_type": "code",
      "execution_count": null,
      "metadata": {
        "colab": {
          "base_uri": "https://localhost:8080/"
        },
        "id": "YXRODeDGrhxo",
        "outputId": "156cf4b6-85d3-4632-ec73-ccef8580928c"
      },
      "outputs": [
        {
          "output_type": "stream",
          "name": "stdout",
          "text": [
            "<class 'pandas.core.frame.DataFrame'>\n",
            "Int64Index: 281622 entries, 235882 to 68458\n",
            "Data columns (total 35 columns):\n",
            " #   Column                            Non-Null Count   Dtype  \n",
            "---  ------                            --------------   -----  \n",
            " 0   flgs_number                       281622 non-null  float64\n",
            " 1   proto_number                      281622 non-null  float64\n",
            " 2   sport                             281622 non-null  float64\n",
            " 3   dport                             281622 non-null  float64\n",
            " 4   pkts                              281622 non-null  float64\n",
            " 5   bytes                             281622 non-null  float64\n",
            " 6   state_number                      281622 non-null  float64\n",
            " 7   seq                               281622 non-null  float64\n",
            " 8   dur                               281622 non-null  float64\n",
            " 9   mean                              281622 non-null  float64\n",
            " 10  stddev                            281622 non-null  float64\n",
            " 11  sum                               281622 non-null  float64\n",
            " 12  min                               281622 non-null  float64\n",
            " 13  max                               281622 non-null  float64\n",
            " 14  spkts                             281622 non-null  float64\n",
            " 15  dpkts                             281622 non-null  float64\n",
            " 16  sbytes                            281622 non-null  float64\n",
            " 17  dbytes                            281622 non-null  float64\n",
            " 18  rate                              281622 non-null  float64\n",
            " 19  srate                             281622 non-null  float64\n",
            " 20  drate                             281622 non-null  float64\n",
            " 21  TnBPSrcIP                         281622 non-null  float64\n",
            " 22  TnBPDstIP                         281622 non-null  float64\n",
            " 23  TnP_PSrcIP                        281622 non-null  float64\n",
            " 24  TnP_PDstIP                        281622 non-null  float64\n",
            " 25  TnP_PerProto                      281622 non-null  float64\n",
            " 26  TnP_Per_Dport                     281622 non-null  float64\n",
            " 27  AR_P_Proto_P_SrcIP                281622 non-null  float64\n",
            " 28  AR_P_Proto_P_DstIP                281622 non-null  float64\n",
            " 29  N_IN_Conn_P_DstIP                 281622 non-null  float64\n",
            " 30  N_IN_Conn_P_SrcIP                 281622 non-null  float64\n",
            " 31  AR_P_Proto_P_Sport                281622 non-null  float64\n",
            " 32  AR_P_Proto_P_Dport                281622 non-null  float64\n",
            " 33  Pkts_P_State_P_Protocol_P_DestIP  281622 non-null  float64\n",
            " 34  Pkts_P_State_P_Protocol_P_SrcIP   281622 non-null  float64\n",
            "dtypes: float64(35)\n",
            "memory usage: 77.3 MB\n"
          ]
        }
      ],
      "source": [
        "X.info()"
      ]
    },
    {
      "cell_type": "markdown",
      "metadata": {
        "id": "xQ90svMpr2S1"
      },
      "source": [
        "##split data to test & train"
      ]
    },
    {
      "cell_type": "code",
      "execution_count": null,
      "metadata": {
        "id": "mg86gIpDrhu1"
      },
      "outputs": [],
      "source": [
        "from sklearn.model_selection import train_test_split"
      ]
    },
    {
      "cell_type": "code",
      "execution_count": null,
      "metadata": {
        "id": "BcMvcJqorhr6"
      },
      "outputs": [],
      "source": [
        "X_train ,X_test, y_train, y_test =train_test_split(X,y_org,test_size=0.3,shuffle=True,random_state=44)\n",
        "X_train_p, X_test_p , y_train_p , y_test_p =train_test_split(X,y_org,test_size=0.3,shuffle=True,random_state=44)\n",
        "X_train_n ,X_test_n, y_train_n, y_test_n =train_test_split(X,y_normal,test_size=0.3,shuffle=True,random_state=44)\n",
        "X_train_dos ,X_test_dos, y_train_dos, y_test_dos =train_test_split(X,y_dos,test_size=0.3,shuffle=True,random_state=44)\n",
        "X_train_ddos ,X_test_ddos, y_train_ddos, y_test_ddos =train_test_split(X,y_ddos,test_size=0.3,shuffle=True,random_state=44)\n",
        "X_train_theft ,X_test_theft, y_train_theft, y_test_theft =train_test_split(X,y_Theft,test_size=0.3,shuffle=True,random_state=44)\n",
        "X_train_reconn ,X_test_reconn, y_train_reconn, y_test_reconn =train_test_split(X,y_Reconnaissance,test_size=0.3,shuffle=True,random_state=44)"
      ]
    },
    {
      "cell_type": "code",
      "execution_count": null,
      "metadata": {
        "colab": {
          "base_uri": "https://localhost:8080/"
        },
        "id": "oT4kjOpPxzom",
        "outputId": "688f2f18-2163-472f-bab6-af9d4e30658b"
      },
      "outputs": [
        {
          "output_type": "stream",
          "name": "stdout",
          "text": [
            "(197135, 35) (197135,) (84487, 35) (84487,)\n"
          ]
        }
      ],
      "source": [
        "print(X_train_reconn.shape , y_train_reconn.shape , X_test_reconn.shape ,  y_test_reconn.shape)"
      ]
    },
    {
      "cell_type": "code",
      "execution_count": null,
      "metadata": {
        "colab": {
          "base_uri": "https://localhost:8080/"
        },
        "id": "xens-oZQrhpj",
        "outputId": "287ba027-9dc1-488b-f091-03a0ff830164"
      },
      "outputs": [
        {
          "output_type": "stream",
          "name": "stdout",
          "text": [
            "(197135, 35) (197135,) (84487, 35) (84487,)\n"
          ]
        }
      ],
      "source": [
        "print(X_train_n.shape , y_train_n.shape , X_test_n.shape ,  y_test_n.shape)"
      ]
    },
    {
      "cell_type": "code",
      "execution_count": null,
      "metadata": {
        "colab": {
          "base_uri": "https://localhost:8080/"
        },
        "id": "wPp2wFqCaKOt",
        "outputId": "73ece76f-1232-4458-de8b-81dfca59c516"
      },
      "outputs": [
        {
          "output_type": "stream",
          "name": "stdout",
          "text": [
            "(197135, 35) (84487, 35) (197135,) (84487,)\n"
          ]
        }
      ],
      "source": [
        "print(X_train_p.shape, X_test_p.shape, y_train_p.shape, y_test_p.shape)"
      ]
    },
    {
      "cell_type": "code",
      "execution_count": null,
      "metadata": {
        "id": "rjjU4KsWC_Ge"
      },
      "outputs": [],
      "source": [
        "#y_test"
      ]
    },
    {
      "cell_type": "code",
      "execution_count": null,
      "metadata": {
        "id": "ZG-e7MMaDGZG"
      },
      "outputs": [],
      "source": [
        "#y_test_n"
      ]
    },
    {
      "cell_type": "markdown",
      "metadata": {
        "id": "UhzhTclbsNPD"
      },
      "source": [
        "#feature selection using gini and Information Gain and RFE metric"
      ]
    },
    {
      "cell_type": "markdown",
      "metadata": {
        "id": "pTIw1I7ispaK"
      },
      "source": [
        "##gini & rfe & IG"
      ]
    },
    {
      "cell_type": "code",
      "execution_count": null,
      "metadata": {
        "id": "Vrd0xJINrhnB"
      },
      "outputs": [],
      "source": [
        "from sklearn.feature_selection import SelectKBest\n",
        "from sklearn.feature_selection import f_classif\n",
        "from sklearn.tree import DecisionTreeClassifier\n",
        "from sklearn.metrics import accuracy_score, f1_score, precision_score,recall_score\n",
        "from sklearn.ensemble import RandomForestClassifier\n",
        "from sklearn.feature_selection import RFE\n",
        "from sklearn.feature_selection import mutual_info_classif\n",
        "from matplotlib import pyplot"
      ]
    },
    {
      "cell_type": "markdown",
      "metadata": {
        "id": "M9Svgpa1SE22"
      },
      "source": [
        "##paper method"
      ]
    },
    {
      "cell_type": "markdown",
      "metadata": {
        "id": "9S7pJP8fSP26"
      },
      "source": [
        "###gini"
      ]
    },
    {
      "cell_type": "code",
      "execution_count": null,
      "metadata": {
        "id": "UwjqAqixSCrS"
      },
      "outputs": [],
      "source": [
        "# from sklearn.pipeline import Pipeline\n",
        "# rf_model_paper = RandomForestClassifier()\n",
        "# gini_pipe_p= Pipeline(steps=[\n",
        "#     ('preprocessing' ,preprocessing),\n",
        "#     ('rf',rf_model_paper )])\n",
        "\n",
        "# gini_pipe_p.fit(X_train_p,y_train_p)"
      ]
    },
    {
      "cell_type": "code",
      "execution_count": null,
      "metadata": {
        "id": "b3z49v31SV-E"
      },
      "outputs": [],
      "source": [
        "# gini_pipe_p[-1]"
      ]
    },
    {
      "cell_type": "code",
      "execution_count": null,
      "metadata": {
        "id": "z7aStVu_Sax6"
      },
      "outputs": [],
      "source": [
        "# feat_importances_p = pd.Series(gini_pipe_p[-1].feature_importances_)\n",
        "# df_imp_feat_p= feat_importances_p.nlargest(18)\n",
        "# print(rf_model_paper.feature_importances_)\n",
        "\n",
        "\n",
        "# df_imp_feat_p.plot(kind='barh')\n",
        "# plt.show()\n",
        "# print(df_imp_feat_p)"
      ]
    },
    {
      "cell_type": "code",
      "execution_count": null,
      "metadata": {
        "id": "znRJnogFaKOw"
      },
      "outputs": [],
      "source": [
        "# df_imp_feat_p.index"
      ]
    },
    {
      "cell_type": "markdown",
      "metadata": {
        "id": "r3e03j_-aKOw"
      },
      "source": [
        "###IG"
      ]
    },
    {
      "cell_type": "code",
      "execution_count": null,
      "metadata": {
        "id": "ZBeviypmaKOw"
      },
      "outputs": [],
      "source": [
        "# MI=SelectKBest(score_func=mutual_info_classif, k=18)"
      ]
    },
    {
      "cell_type": "code",
      "execution_count": null,
      "metadata": {
        "id": "Pigt3OFAaKOx"
      },
      "outputs": [],
      "source": [
        "# MI_pipe=Pipeline([('preprocessing',preprocessing),\n",
        "#                  ('MI',MI)])"
      ]
    },
    {
      "cell_type": "code",
      "execution_count": null,
      "metadata": {
        "id": "MOAi3BqeaKOx"
      },
      "outputs": [],
      "source": [
        "# X_train_MI_P=MI_pipe.fit_transform(X_train_p,y_train_p)\n",
        "# X_test_MI_P=MI_pipe.transform(X_test_p)\n",
        "# IG_P=MI_pipe[-1]"
      ]
    },
    {
      "cell_type": "code",
      "execution_count": null,
      "metadata": {
        "id": "Tk7YE4lnaKOx"
      },
      "outputs": [],
      "source": [
        "# # what are scores for the features\n",
        "# for i in range(len(IG_P.scores_)):\n",
        "# \tprint('Feature %d: %f' % (i,IG_P.scores_[i]))\n",
        "# # plot the scores\n",
        "# pyplot.bar([i for i in range(len(IG_P.scores_))], IG_P.scores_)\n",
        "# pyplot.show()"
      ]
    },
    {
      "cell_type": "code",
      "execution_count": null,
      "metadata": {
        "id": "j1pnH9N8aKO4"
      },
      "outputs": [],
      "source": [
        "# # IG_n.get_feature_names_out()\n",
        "\n",
        "# IG_features_P=pd.DataFrame(IG_P.get_feature_names_out())\n",
        "# IG_features_P=IG_features_P.iloc[:,0].str.replace('x','')\n",
        "# IG_features_P=pd.to_numeric(IG_features_P)"
      ]
    },
    {
      "cell_type": "code",
      "execution_count": null,
      "metadata": {
        "id": "4bWSVd4IaKO4"
      },
      "outputs": [],
      "source": []
    },
    {
      "cell_type": "markdown",
      "metadata": {
        "id": "Xq3N9Bc4acU4"
      },
      "source": [
        "###intersect paper"
      ]
    },
    {
      "cell_type": "code",
      "execution_count": null,
      "metadata": {
        "id": "vSN75OdoagLy"
      },
      "outputs": [],
      "source": [
        "# def intersect(lst1,lst2):\n",
        "#    return list(set(lst1) & set(lst2) )"
      ]
    },
    {
      "cell_type": "code",
      "execution_count": null,
      "metadata": {
        "id": "3P8cseaTahFU"
      },
      "outputs": [],
      "source": [
        "# int_gini_IG_p=intersect(IG_features_P,df_imp_feat_p.index)\n",
        "# print(int_gini_IG_p , len(int_gini_IG_p))"
      ]
    },
    {
      "cell_type": "markdown",
      "metadata": {
        "id": "r-m7gXG5bFXO"
      },
      "source": [
        "###union paper"
      ]
    },
    {
      "cell_type": "code",
      "execution_count": null,
      "metadata": {
        "id": "-S2SKnpAbKqj"
      },
      "outputs": [],
      "source": [
        "# def union(lst1,lst2):\n",
        "#   return list(set(lst1) | set(lst2))"
      ]
    },
    {
      "cell_type": "code",
      "execution_count": null,
      "metadata": {
        "id": "sr9RrfydbKnb"
      },
      "outputs": [],
      "source": [
        "# un_gini_IG_p=union(IG_features_P,df_imp_feat_p.index)\n",
        "# print(un_gini_IG_p, len(un_gini_IG_p))"
      ]
    },
    {
      "cell_type": "markdown",
      "metadata": {
        "id": "N57-WQRqtHuw"
      },
      "source": [
        "##Normal class"
      ]
    },
    {
      "cell_type": "markdown",
      "metadata": {
        "id": "NV3hYk5YtOcB"
      },
      "source": [
        "###gini"
      ]
    },
    {
      "cell_type": "code",
      "execution_count": null,
      "metadata": {
        "id": "vvPNxhwYrhkH"
      },
      "outputs": [],
      "source": [
        "# from sklearn.pipeline import Pipeline\n",
        "# rf_model_n = RandomForestClassifier()\n",
        "# gini_pipe= Pipeline(steps=[\n",
        "#     ('preprocessing' ,preprocessing),\n",
        "#     ('rf',rf_model_n )])\n",
        "\n",
        "# gini_pipe.fit(X_train_n,y_train_n)"
      ]
    },
    {
      "cell_type": "code",
      "execution_count": null,
      "metadata": {
        "id": "-5DGOCAwrhhF"
      },
      "outputs": [],
      "source": [
        "# gini_pipe[-1]"
      ]
    },
    {
      "cell_type": "code",
      "execution_count": null,
      "metadata": {
        "id": "UVYQQKcE5C5g"
      },
      "outputs": [],
      "source": [
        "# gini_pipe[-1].feature_importances_.shape"
      ]
    },
    {
      "cell_type": "code",
      "execution_count": null,
      "metadata": {
        "id": "NZX_0I7s5C2t"
      },
      "outputs": [],
      "source": [
        "# X_train.shape"
      ]
    },
    {
      "cell_type": "code",
      "execution_count": null,
      "metadata": {
        "id": "QGq7PaX5tif3"
      },
      "outputs": [],
      "source": [
        "# X_train"
      ]
    },
    {
      "cell_type": "code",
      "execution_count": null,
      "metadata": {
        "id": "OMNtPLvm5C0E"
      },
      "outputs": [],
      "source": [
        "# feat_importances_n = pd.Series(gini_pipe[-1].feature_importances_)\n",
        "# # determine 20 most important features\n",
        "# df_imp_feat_n= feat_importances_n.nlargest(5)\n",
        "# print(rf_model_n.feature_importances_)\n",
        "\n",
        "\n",
        "# # plot 20 most important features\n",
        "# # feat_importances.nlargest(18).plot(kind='barh')\n",
        "# df_imp_feat_n.plot(kind='barh')\n",
        "# plt.show()\n",
        "# print(df_imp_feat_n)"
      ]
    },
    {
      "cell_type": "code",
      "execution_count": null,
      "metadata": {
        "id": "fAmZUHKQ0cAs"
      },
      "outputs": [],
      "source": [
        "# df_imp_feat_n.index"
      ]
    },
    {
      "cell_type": "markdown",
      "metadata": {
        "id": "3FleK5HFtpBP"
      },
      "source": [
        "###IG"
      ]
    },
    {
      "cell_type": "code",
      "execution_count": null,
      "metadata": {
        "id": "1fGmZbcjtgR3"
      },
      "outputs": [],
      "source": []
    },
    {
      "cell_type": "code",
      "execution_count": null,
      "metadata": {
        "id": "duo_wmXRtgPJ"
      },
      "outputs": [],
      "source": []
    },
    {
      "cell_type": "code",
      "execution_count": null,
      "metadata": {
        "id": "jpWehnaHtgM7"
      },
      "outputs": [],
      "source": [
        "# X_train_MI_n=MI_pipe.fit_transform(X_train_n,y_train_n)\n",
        "# X_test_MI_n=MI_pipe.transform(X_test_n)\n",
        "# IG_n=MI_pipe[-1]"
      ]
    },
    {
      "cell_type": "code",
      "execution_count": null,
      "metadata": {
        "id": "_V0apHl3tgJx"
      },
      "outputs": [],
      "source": [
        "# # what are scores for the features\n",
        "# for i in range(len(IG_n.scores_)):\n",
        "# \tprint('Feature %d: %f' % (i,IG_n.scores_[i]))\n",
        "# # plot the scores\n",
        "# pyplot.bar([i for i in range(len(IG_n.scores_))], IG_n.scores_)\n",
        "# pyplot.show()"
      ]
    },
    {
      "cell_type": "code",
      "execution_count": null,
      "metadata": {
        "id": "jpOqnoqMtgHH"
      },
      "outputs": [],
      "source": [
        "# # IG_n.get_feature_names_out()\n",
        "\n",
        "# IG_features_n=pd.DataFrame(IG_n.get_feature_names_out())\n",
        "# IG_features_n=IG_features_n.iloc[:,0].str.replace('x','')\n",
        "# IG_features_n=pd.to_numeric(IG_features_n)"
      ]
    },
    {
      "cell_type": "code",
      "execution_count": null,
      "metadata": {
        "id": "FA_lVRuJ0Bx2"
      },
      "outputs": [],
      "source": []
    },
    {
      "cell_type": "markdown",
      "metadata": {
        "id": "UpO29IlUuAA1"
      },
      "source": [
        "###RFE"
      ]
    },
    {
      "cell_type": "code",
      "execution_count": null,
      "metadata": {
        "id": "jUcOagvCrMHv"
      },
      "outputs": [],
      "source": [
        "# s_n=time.time()"
      ]
    },
    {
      "cell_type": "code",
      "execution_count": null,
      "metadata": {
        "id": "MaFKMjV1tgD_"
      },
      "outputs": [],
      "source": [
        "# estimator= DecisionTreeClassifier()\n",
        "\n",
        "# selector = RFE(estimator, n_features_to_select=5, step=1,)\n",
        "# rfe_pipe= Pipeline(steps=[\n",
        "#     ('preprocessing' ,preprocessing),\n",
        "#     ('rfe',selector)])\n",
        "# rfe_pipe.fit(X_train_n, y_train_n)\n",
        "# rfe_pipe[-1].support_\n",
        "# rfe_normal_features=rfe_pipe[-1].get_feature_names_out()\n",
        "# rfe_normal_features=pd.DataFrame(rfe_normal_features)\n",
        "# rfe_normal_features=rfe_normal_features.iloc[:,0].str.replace('x','')\n",
        "# rfe_normal_features=pd.to_numeric(rfe_normal_features)"
      ]
    },
    {
      "cell_type": "code",
      "execution_count": null,
      "metadata": {
        "id": "M6ok8NP8rMwH"
      },
      "outputs": [],
      "source": [
        "# e_n=time.time()\n",
        "# t_n=e_n-s_n\n",
        "# t_n"
      ]
    },
    {
      "cell_type": "code",
      "execution_count": null,
      "metadata": {
        "id": "vOwjw1GqtgBA"
      },
      "outputs": [],
      "source": []
    },
    {
      "cell_type": "markdown",
      "metadata": {
        "id": "nJjmNSviuL9t"
      },
      "source": [
        "###Intersect for normal class"
      ]
    },
    {
      "cell_type": "code",
      "execution_count": null,
      "metadata": {
        "id": "M0oEN-y_udCt"
      },
      "outputs": [],
      "source": [
        "# int_rfe_gini_normal=intersect(df_imp_feat_n.index,rfe_normal_features)"
      ]
    },
    {
      "cell_type": "code",
      "execution_count": null,
      "metadata": {
        "id": "WXP_26SZ9Mk1"
      },
      "outputs": [],
      "source": [
        "# int_rfe_gini_normal"
      ]
    },
    {
      "cell_type": "code",
      "execution_count": null,
      "metadata": {
        "id": "4h2LUMBF9lZ0"
      },
      "outputs": [],
      "source": [
        "# int_rfe_IG_normal=intersect(rfe_normal_features,IG_features_n)"
      ]
    },
    {
      "cell_type": "code",
      "execution_count": null,
      "metadata": {
        "id": "2ytKjRF998Yy"
      },
      "outputs": [],
      "source": [
        "# int_rfe_IG_normal"
      ]
    },
    {
      "cell_type": "markdown",
      "metadata": {
        "id": "K_gCerwjudhO"
      },
      "source": [
        "###union for normal class"
      ]
    },
    {
      "cell_type": "code",
      "execution_count": null,
      "metadata": {
        "id": "TC876zOculuM"
      },
      "outputs": [],
      "source": [
        "# un_rfe_gini_normal=union(rfe_normal_features,df_imp_feat_n.index)"
      ]
    },
    {
      "cell_type": "code",
      "execution_count": null,
      "metadata": {
        "id": "tY164rnQ_nqY"
      },
      "outputs": [],
      "source": [
        "# un_rfe_gini_normal"
      ]
    },
    {
      "cell_type": "code",
      "execution_count": null,
      "metadata": {
        "id": "fKP9Ee2U_5-j"
      },
      "outputs": [],
      "source": [
        "# un_rfe_IG_normal=union(rfe_normal_features,IG_features_n)"
      ]
    },
    {
      "cell_type": "code",
      "execution_count": null,
      "metadata": {
        "id": "g2F9eDe7_543"
      },
      "outputs": [],
      "source": [
        "# un_rfe_IG_normal"
      ]
    },
    {
      "cell_type": "markdown",
      "metadata": {
        "id": "YhO8BMSYBC5I"
      },
      "source": [
        "##Dos class"
      ]
    },
    {
      "cell_type": "markdown",
      "metadata": {
        "id": "XFxL82eUBsqU"
      },
      "source": [
        "###gini"
      ]
    },
    {
      "cell_type": "code",
      "execution_count": null,
      "metadata": {
        "id": "7v7wbiZvAgEz"
      },
      "outputs": [],
      "source": [
        "# from sklearn.pipeline import Pipeline\n",
        "# rf_model_dos = RandomForestClassifier()\n",
        "# gini_pipe_dos= Pipeline(steps=[\n",
        "#     ('preprocessing' ,preprocessing),\n",
        "#     ('rf',rf_model_dos )])\n",
        "\n",
        "# gini_pipe_dos.fit(X_train_dos,y_train_dos)"
      ]
    },
    {
      "cell_type": "code",
      "execution_count": null,
      "metadata": {
        "id": "EEx3GTrqAgCF"
      },
      "outputs": [],
      "source": [
        "\n",
        "# feat_importances_dos= pd.Series(gini_pipe_dos[-1].feature_importances_)\n",
        "# # determine 20 most important features\n",
        "# df_imp_feat_dos= feat_importances_dos.nlargest(5)\n",
        "# print(rf_model_dos.feature_importances_)\n",
        "\n",
        "\n",
        "# # plot 20 most important features\n",
        "# # feat_importances.nlargest(18).plot(kind='barh')\n",
        "# df_imp_feat_dos.plot(kind='barh')\n",
        "# plt.show()\n",
        "# print(df_imp_feat_dos)"
      ]
    },
    {
      "cell_type": "code",
      "execution_count": null,
      "metadata": {
        "id": "OcrMvLQsAf-5"
      },
      "outputs": [],
      "source": [
        "# df_imp_feat_dos.index"
      ]
    },
    {
      "cell_type": "markdown",
      "metadata": {
        "id": "tPwq_PxvCl2u"
      },
      "source": [
        "###IG"
      ]
    },
    {
      "cell_type": "code",
      "execution_count": null,
      "metadata": {
        "id": "bAbkwaeTFMP_"
      },
      "outputs": [],
      "source": [
        "# X_train_MI_dos=MI_pipe.fit_transform(X_train_dos,y_train_dos)\n",
        "# X_test_MI_dos=MI_pipe.transform(X_test_dos)\n",
        "# IG_dos=MI_pipe[-1]"
      ]
    },
    {
      "cell_type": "code",
      "execution_count": null,
      "metadata": {
        "id": "a0Mk9qxBAf8L"
      },
      "outputs": [],
      "source": [
        "\n",
        "# # what are scores for the features\n",
        "# for i in range(len(IG_dos.scores_)):\n",
        "# \tprint('Feature %d: %f' % (i,IG_dos.scores_[i]))\n",
        "# # plot the scores\n",
        "# pyplot.bar([i for i in range(len(IG_dos.scores_))], IG_dos.scores_)\n",
        "# pyplot.show()"
      ]
    },
    {
      "cell_type": "code",
      "execution_count": null,
      "metadata": {
        "id": "l7G3Fd4AAf5m"
      },
      "outputs": [],
      "source": [
        "# IG_features_dos=pd.DataFrame(IG_dos.get_feature_names_out())\n",
        "# IG_features_dos=IG_features_dos.iloc[:,0].str.replace('x','')\n",
        "# IG_features_dos=pd.to_numeric(IG_features_dos)"
      ]
    },
    {
      "cell_type": "code",
      "execution_count": null,
      "metadata": {
        "id": "zdWyT-zXAf2j"
      },
      "outputs": [],
      "source": [
        "# IG_features_dos"
      ]
    },
    {
      "cell_type": "markdown",
      "metadata": {
        "id": "GEEEeyocCz91"
      },
      "source": [
        "###RFE"
      ]
    },
    {
      "cell_type": "code",
      "execution_count": null,
      "metadata": {
        "id": "9_9jYB05rVMm"
      },
      "outputs": [],
      "source": [
        "# s_dos=time.time()"
      ]
    },
    {
      "cell_type": "code",
      "execution_count": null,
      "metadata": {
        "id": "6xtFb_cbC2HY"
      },
      "outputs": [],
      "source": [
        "# estimator= DecisionTreeClassifier()\n",
        "\n",
        "# selector = RFE(estimator, n_features_to_select=5, step=1,)\n",
        "# rfe_pipe_dos= Pipeline(steps=[\n",
        "#     ('preprocessing' ,preprocessing),\n",
        "#     ('rfe',selector)])\n",
        "# rfe_pipe_dos.fit(X_train_dos, y_train_dos)\n",
        "# rfe_pipe_dos[-1].support_\n",
        "# rfe_dos_features=rfe_pipe_dos[-1].get_feature_names_out()\n",
        "# rfe_dos_features=pd.DataFrame(rfe_dos_features)\n",
        "# rfe_dos_features=rfe_dos_features.iloc[:,0].str.replace('x','')\n",
        "# rfe_dos_features=pd.to_numeric(rfe_dos_features)"
      ]
    },
    {
      "cell_type": "code",
      "execution_count": null,
      "metadata": {
        "id": "FPbXd_O2rY8E"
      },
      "outputs": [],
      "source": [
        "# e_dos=time.time()\n",
        "# t_dos=e_dos-s_dos\n",
        "# t_dos"
      ]
    },
    {
      "cell_type": "code",
      "execution_count": null,
      "metadata": {
        "id": "WILaF1NQC2rK"
      },
      "outputs": [],
      "source": [
        "# rfe_dos_features"
      ]
    },
    {
      "cell_type": "markdown",
      "metadata": {
        "id": "9GVZZGq8DR-7"
      },
      "source": [
        "###Iintersect for dos class"
      ]
    },
    {
      "cell_type": "code",
      "execution_count": null,
      "metadata": {
        "id": "lZnE_pr6C2i1"
      },
      "outputs": [],
      "source": [
        "# int_rfe_gini_dos=intersect(rfe_dos_features,df_imp_feat_dos.index)"
      ]
    },
    {
      "cell_type": "code",
      "execution_count": null,
      "metadata": {
        "id": "lxaUYAOjC2f2"
      },
      "outputs": [],
      "source": []
    },
    {
      "cell_type": "code",
      "execution_count": null,
      "metadata": {
        "id": "O_YpfwuIENJR"
      },
      "outputs": [],
      "source": [
        "# int_rfe_IG_dos=intersect(rfe_dos_features,IG_features_dos)"
      ]
    },
    {
      "cell_type": "code",
      "execution_count": null,
      "metadata": {
        "id": "m3_qWfFLE4LX"
      },
      "outputs": [],
      "source": [
        "# int_rfe_IG_dos"
      ]
    },
    {
      "cell_type": "markdown",
      "metadata": {
        "id": "gde-XuO1F1rb"
      },
      "source": [
        "###union for dos class"
      ]
    },
    {
      "cell_type": "code",
      "execution_count": null,
      "metadata": {
        "id": "jnqjzYIvF5Vl"
      },
      "outputs": [],
      "source": [
        "# un_rfe_gini_dos=union(df_imp_feat_dos.index,rfe_dos_features)"
      ]
    },
    {
      "cell_type": "code",
      "execution_count": null,
      "metadata": {
        "id": "AkuARDKhF5P-"
      },
      "outputs": [],
      "source": [
        "# un_rfe_gini_dos"
      ]
    },
    {
      "cell_type": "code",
      "execution_count": null,
      "metadata": {
        "id": "3YebmMn0F5Lg"
      },
      "outputs": [],
      "source": [
        "# un_rfe_IG_dos=union(rfe_dos_features,IG_features_dos)"
      ]
    },
    {
      "cell_type": "code",
      "execution_count": null,
      "metadata": {
        "id": "VtO82DuGF5IV"
      },
      "outputs": [],
      "source": [
        "# un_rfe_IG_dos"
      ]
    },
    {
      "cell_type": "markdown",
      "metadata": {
        "id": "aKVWF81TGoW7"
      },
      "source": [
        "##DDos class\n"
      ]
    },
    {
      "cell_type": "markdown",
      "metadata": {
        "id": "rmvWYW-mHKcJ"
      },
      "source": [
        "###gini"
      ]
    },
    {
      "cell_type": "code",
      "execution_count": null,
      "metadata": {
        "id": "mnLYMrALF4tO"
      },
      "outputs": [],
      "source": [
        "# from sklearn.pipeline import Pipeline\n",
        "# rf_model_ddos = RandomForestClassifier()\n",
        "# gini_pipe_ddos= Pipeline(steps=[\n",
        "#     ('preprocessing' ,preprocessing),\n",
        "#     ('rf',rf_model_ddos )])\n",
        "\n",
        "# gini_pipe_ddos.fit(X_train_ddos,y_train_ddos)"
      ]
    },
    {
      "cell_type": "code",
      "execution_count": null,
      "metadata": {
        "id": "s6Dkdw9WHVqy"
      },
      "outputs": [],
      "source": [
        "# feat_importances_ddos= pd.Series(gini_pipe_ddos[-1].feature_importances_)\n",
        "# # determine 20 most important features\n",
        "# df_imp_feat_ddos= feat_importances_ddos.nlargest(5)\n",
        "# print(rf_model_ddos.feature_importances_)\n",
        "\n",
        "\n",
        "# # plot 20 most important features\n",
        "# # feat_importances.nlargest(18).plot(kind='barh')\n",
        "# df_imp_feat_ddos.plot(kind='barh')\n",
        "# plt.show()\n",
        "# print(df_imp_feat_ddos)"
      ]
    },
    {
      "cell_type": "code",
      "execution_count": null,
      "metadata": {
        "id": "9rFGdAq7HVn8"
      },
      "outputs": [],
      "source": [
        "# df_imp_feat_ddos.index"
      ]
    },
    {
      "cell_type": "markdown",
      "metadata": {
        "id": "oP6scWFeHj4Z"
      },
      "source": [
        "###IG"
      ]
    },
    {
      "cell_type": "code",
      "execution_count": null,
      "metadata": {
        "id": "pOKdQoa6HVlt"
      },
      "outputs": [],
      "source": [
        "# X_train_MI_ddos=MI_pipe.fit_transform(X_train_ddos,y_train_ddos)\n",
        "# X_test_MI_ddos=MI_pipe.transform(X_test_ddos)\n",
        "# IG_ddos=MI_pipe[-1]"
      ]
    },
    {
      "cell_type": "code",
      "execution_count": null,
      "metadata": {
        "id": "0RkDaYW5HVjB"
      },
      "outputs": [],
      "source": [
        "\n",
        "# # what are scores for the features\n",
        "# for i in range(len(IG_ddos.scores_)):\n",
        "# \tprint('Feature %d: %f' % (i,IG_ddos.scores_[i]))\n",
        "# # plot the scores\n",
        "# pyplot.bar([i for i in range(len(IG_ddos.scores_))], IG_ddos.scores_)\n",
        "# pyplot.show()"
      ]
    },
    {
      "cell_type": "code",
      "execution_count": null,
      "metadata": {
        "id": "zqIaCH3XHVgd"
      },
      "outputs": [],
      "source": [
        "# IG_n.get_feature_names_out()\n",
        "\n",
        "# IG_features_ddos=pd.DataFrame(IG_ddos.get_feature_names_out())\n",
        "# IG_features_ddos=IG_features_ddos.iloc[:,0].str.replace('x','')\n",
        "# IG_features_ddos=pd.to_numeric(IG_features_ddos)"
      ]
    },
    {
      "cell_type": "code",
      "execution_count": null,
      "metadata": {
        "id": "JoP1PaoyHVd5"
      },
      "outputs": [],
      "source": [
        "# IG_features_ddos"
      ]
    },
    {
      "cell_type": "markdown",
      "metadata": {
        "id": "AVmidTupKtKt"
      },
      "source": [
        "###RFE"
      ]
    },
    {
      "cell_type": "code",
      "execution_count": null,
      "metadata": {
        "id": "nXlHKMzjr1q2"
      },
      "outputs": [],
      "source": [
        "# s_ddos=time.time()"
      ]
    },
    {
      "cell_type": "code",
      "execution_count": null,
      "metadata": {
        "id": "7luVURVFHVac"
      },
      "outputs": [],
      "source": []
    },
    {
      "cell_type": "code",
      "execution_count": null,
      "metadata": {
        "id": "UhFrO7Kyr5Zk"
      },
      "outputs": [],
      "source": [
        "# e_ddos=time.time()\n",
        "# t_ddos=e_ddos-s_ddos\n",
        "# t_ddos"
      ]
    },
    {
      "cell_type": "code",
      "execution_count": null,
      "metadata": {
        "id": "6iMfIlyuHVXv"
      },
      "outputs": [],
      "source": []
    },
    {
      "cell_type": "markdown",
      "metadata": {
        "id": "soMQqIcMK5h2"
      },
      "source": [
        "###Intersect for ddos class"
      ]
    },
    {
      "cell_type": "code",
      "execution_count": null,
      "metadata": {
        "id": "LgWNpE6DHVU7"
      },
      "outputs": [],
      "source": [
        "# int_rfe_gini_ddos=intersect(df_imp_feat_ddos.index,rfe_ddos_features)"
      ]
    },
    {
      "cell_type": "code",
      "execution_count": null,
      "metadata": {
        "id": "PdafMaliHVS2"
      },
      "outputs": [],
      "source": [
        "# int_rfe_gini_ddos"
      ]
    },
    {
      "cell_type": "code",
      "execution_count": null,
      "metadata": {
        "id": "ga5TvyOYHVPM"
      },
      "outputs": [],
      "source": [
        "# int_rfe_IG_ddos=intersect(rfe_ddos_features,IG_features_ddos)"
      ]
    },
    {
      "cell_type": "code",
      "execution_count": null,
      "metadata": {
        "id": "1ocv9FHtHVMU"
      },
      "outputs": [],
      "source": [
        "# int_rfe_IG_ddos"
      ]
    },
    {
      "cell_type": "markdown",
      "metadata": {
        "id": "LlAmIdaOLtkA"
      },
      "source": [
        "###union for ddos class"
      ]
    },
    {
      "cell_type": "code",
      "execution_count": null,
      "metadata": {
        "id": "p0sCoUlyHVJm"
      },
      "outputs": [],
      "source": [
        "# un_rfe_gini_ddos=union(rfe_ddos_features,df_imp_feat_ddos.index)"
      ]
    },
    {
      "cell_type": "code",
      "execution_count": null,
      "metadata": {
        "id": "Y2d_AWaWHVG6"
      },
      "outputs": [],
      "source": []
    },
    {
      "cell_type": "code",
      "execution_count": null,
      "metadata": {
        "id": "mm--OQ87HUmV"
      },
      "outputs": [],
      "source": [
        "# un_rfe_IG_ddos=union(rfe_ddos_features,IG_features_ddos)"
      ]
    },
    {
      "cell_type": "code",
      "execution_count": null,
      "metadata": {
        "id": "lR3Sfr8QHUji"
      },
      "outputs": [],
      "source": [
        "# un_rfe_IG_ddos"
      ]
    },
    {
      "cell_type": "markdown",
      "metadata": {
        "id": "MZck9E1kMKtl"
      },
      "source": [
        "##Theft class"
      ]
    },
    {
      "cell_type": "markdown",
      "metadata": {
        "id": "O63BrzsrMXlG"
      },
      "source": [
        "###gini"
      ]
    },
    {
      "cell_type": "code",
      "execution_count": null,
      "metadata": {
        "id": "ihr8uF4bHUfv"
      },
      "outputs": [],
      "source": [
        "# from sklearn.pipeline import Pipeline\n",
        "# rf_model_theft = RandomForestClassifier()\n",
        "# gini_pipe_theft= Pipeline(steps=[\n",
        "#     ('preprocessing' ,preprocessing),\n",
        "#     ('rf',rf_model_theft )])\n",
        "\n",
        "# gini_pipe_theft.fit(X_train_theft,y_train_theft)"
      ]
    },
    {
      "cell_type": "code",
      "execution_count": null,
      "metadata": {
        "id": "cUUQZqR0HUdR"
      },
      "outputs": [],
      "source": [
        "# feat_importances_theft= pd.Series(gini_pipe_theft[-1].feature_importances_)\n",
        "# # determine 20 most important features\n",
        "# df_imp_feat_theft= feat_importances_theft.nlargest(5)\n",
        "# print(rf_model_theft.feature_importances_)\n",
        "\n",
        "\n",
        "# # plot 20 most important features\n",
        "# # feat_importances.nlargest(18).plot(kind='barh')\n",
        "# df_imp_feat_theft.plot(kind='barh')\n",
        "# plt.show()\n",
        "# print(df_imp_feat_theft)"
      ]
    },
    {
      "cell_type": "code",
      "execution_count": null,
      "metadata": {
        "id": "Xr0YMZFWHUZH"
      },
      "outputs": [],
      "source": [
        "# df_imp_feat_theft.index"
      ]
    },
    {
      "cell_type": "markdown",
      "metadata": {
        "id": "3pTJTsuUMi9i"
      },
      "source": [
        "###IG"
      ]
    },
    {
      "cell_type": "code",
      "execution_count": null,
      "metadata": {
        "id": "gz1MSs7RHUWI"
      },
      "outputs": [],
      "source": [
        "# X_train_MI_theft=MI_pipe.fit_transform(X_train_theft,y_train_theft)\n",
        "# X_test_MI_theft=MI_pipe.transform(X_test_theft)\n",
        "# IG_theft=MI_pipe[-1]"
      ]
    },
    {
      "cell_type": "code",
      "execution_count": null,
      "metadata": {
        "id": "gtdhuK-iHUS4"
      },
      "outputs": [],
      "source": [
        "# # what are scores for the features\n",
        "# for i in range(len(IG_theft.scores_)):\n",
        "# \tprint('Feature %d: %f' % (i,IG_theft.scores_[i]))\n",
        "# # plot the scores\n",
        "# pyplot.bar([i for i in range(len(IG_theft.scores_))], IG_theft.scores_)\n",
        "# pyplot.show()"
      ]
    },
    {
      "cell_type": "code",
      "execution_count": null,
      "metadata": {
        "id": "dnsAnoSCHUQJ"
      },
      "outputs": [],
      "source": [
        "# # IG_n.get_feature_names_out()\n",
        "\n",
        "# IG_features_theft=pd.DataFrame(IG_theft.get_feature_names_out())\n",
        "# IG_features_theft=IG_features_theft.iloc[:,0].str.replace('x','')\n",
        "# IG_features_theft=pd.to_numeric(IG_features_theft)"
      ]
    },
    {
      "cell_type": "code",
      "execution_count": null,
      "metadata": {
        "id": "lG0N4Y4FHUMv"
      },
      "outputs": [],
      "source": [
        "# IG_features_theft"
      ]
    },
    {
      "cell_type": "markdown",
      "metadata": {
        "id": "tFWcd0abMzai"
      },
      "source": [
        "###RFE"
      ]
    },
    {
      "cell_type": "code",
      "execution_count": null,
      "metadata": {
        "id": "B2URlKOArelt"
      },
      "outputs": [],
      "source": [
        "# s_theft=time.time()"
      ]
    },
    {
      "cell_type": "code",
      "execution_count": null,
      "metadata": {
        "id": "6JyTBzNRHUJ1"
      },
      "outputs": [],
      "source": [
        "# estimator= DecisionTreeClassifier()\n",
        "\n",
        "# selector = RFE(estimator, n_features_to_select=5, step=1,)\n",
        "# rfe_pipe_theft= Pipeline(steps=[\n",
        "#     ('preprocessing' ,preprocessing),\n",
        "#     ('rfe',selector)])\n",
        "# rfe_pipe_theft.fit(X_train_theft, y_train_theft)\n",
        "# rfe_pipe_theft[-1].support_\n",
        "# rfe_theft_features=rfe_pipe_theft[-1].get_feature_names_out()\n",
        "# rfe_theft_features=pd.DataFrame(rfe_theft_features)\n",
        "# rfe_theft_features=rfe_theft_features.iloc[:,0].str.replace('x','')\n",
        "# rfe_theft_features=pd.to_numeric(rfe_theft_features)"
      ]
    },
    {
      "cell_type": "code",
      "execution_count": null,
      "metadata": {
        "id": "QCOCDXH2rk6C"
      },
      "outputs": [],
      "source": [
        "# e_theft=time.time()\n",
        "# t_theft=e_theft-s_theft\n",
        "# t_theft"
      ]
    },
    {
      "cell_type": "code",
      "execution_count": null,
      "metadata": {
        "id": "m3QlMQ5uHUHD"
      },
      "outputs": [],
      "source": [
        "# rfe_theft_features"
      ]
    },
    {
      "cell_type": "markdown",
      "metadata": {
        "id": "XLSFvHH1NDOa"
      },
      "source": [
        "###Intersect for theft class"
      ]
    },
    {
      "cell_type": "code",
      "execution_count": null,
      "metadata": {
        "id": "TKDndnh9HUDm"
      },
      "outputs": [],
      "source": [
        "# int_rfe_gini_theft=intersect(df_imp_feat_theft.index,rfe_theft_features)"
      ]
    },
    {
      "cell_type": "code",
      "execution_count": null,
      "metadata": {
        "id": "cD2KKkjJHUAw"
      },
      "outputs": [],
      "source": [
        "# int_rfe_gini_theft"
      ]
    },
    {
      "cell_type": "code",
      "execution_count": null,
      "metadata": {
        "id": "3TgWWIdQHT-_"
      },
      "outputs": [],
      "source": [
        "# int_rfe_IG_theft=intersect(rfe_theft_features,IG_features_theft)"
      ]
    },
    {
      "cell_type": "code",
      "execution_count": null,
      "metadata": {
        "id": "fRkuFMryHT8w"
      },
      "outputs": [],
      "source": [
        "# int_rfe_IG_theft"
      ]
    },
    {
      "cell_type": "markdown",
      "metadata": {
        "id": "ofqpeLV_Pq9L"
      },
      "source": [
        "###union for theft class"
      ]
    },
    {
      "cell_type": "code",
      "execution_count": null,
      "metadata": {
        "id": "6Vqj86eRHT6w"
      },
      "outputs": [],
      "source": [
        "# un_rfe_gini_theft=union(rfe_theft_features,df_imp_feat_theft.index)"
      ]
    },
    {
      "cell_type": "code",
      "execution_count": null,
      "metadata": {
        "id": "RxRaYN6LHT5D"
      },
      "outputs": [],
      "source": [
        "# un_rfe_gini_theft"
      ]
    },
    {
      "cell_type": "code",
      "execution_count": null,
      "metadata": {
        "id": "xHTgXy9zHT0S"
      },
      "outputs": [],
      "source": [
        "# un_rfe_IG_theft=union(rfe_theft_features,IG_features_theft)"
      ]
    },
    {
      "cell_type": "code",
      "execution_count": null,
      "metadata": {
        "id": "PtgK_lXVHTwT"
      },
      "outputs": [],
      "source": [
        "# un_rfe_IG_theft"
      ]
    },
    {
      "cell_type": "markdown",
      "metadata": {
        "id": "j0d6F_leQNKI"
      },
      "source": [
        "##Reconssance class\n"
      ]
    },
    {
      "cell_type": "markdown",
      "metadata": {
        "id": "NuE5KYRRV_WJ"
      },
      "source": [
        "###gini"
      ]
    },
    {
      "cell_type": "code",
      "execution_count": null,
      "metadata": {
        "id": "MSp-UxTTQS9x"
      },
      "outputs": [],
      "source": [
        "# from sklearn.pipeline import Pipeline\n",
        "# rf_model_Reconnaissance = RandomForestClassifier()\n",
        "# gini_pipe_Reconnaissance= Pipeline(steps=[\n",
        "#     ('preprocessing' ,preprocessing),\n",
        "#     ('rf',rf_model_Reconnaissance )])\n",
        "\n",
        "# gini_pipe_Reconnaissance.fit(X_train_reconn,y_train_reconn)"
      ]
    },
    {
      "cell_type": "code",
      "execution_count": null,
      "metadata": {
        "id": "Cj36quTYHTr8"
      },
      "outputs": [],
      "source": [
        "# feat_importances_Reconnaissance= pd.Series(gini_pipe_Reconnaissance[-1].feature_importances_)\n",
        "# # determine 20 most important features\n",
        "# df_imp_feat_Reconnaissance= feat_importances_Reconnaissance.nlargest(5)\n",
        "# print(rf_model_Reconnaissance.feature_importances_)\n",
        "\n",
        "\n",
        "# # plot 20 most important features\n",
        "# # feat_importances.nlargest(18).plot(kind='barh')\n",
        "# df_imp_feat_Reconnaissance.plot(kind='barh')\n",
        "# plt.show()\n",
        "# print(df_imp_feat_Reconnaissance)"
      ]
    },
    {
      "cell_type": "code",
      "execution_count": null,
      "metadata": {
        "id": "8l8BzYCKHTo6"
      },
      "outputs": [],
      "source": [
        "# df_imp_feat_Reconnaissance.index"
      ]
    },
    {
      "cell_type": "markdown",
      "metadata": {
        "id": "QsIHh7E9Wne3"
      },
      "source": [
        "###IG"
      ]
    },
    {
      "cell_type": "code",
      "execution_count": null,
      "metadata": {
        "id": "WYEmv0m_Wqpm"
      },
      "outputs": [],
      "source": [
        "# X_train_MI_reconn=MI_pipe.fit_transform(X_train_reconn,y_train_reconn)\n",
        "# X_test_MI_reconn=MI_pipe.transform(X_test_reconn)\n",
        "# IG_reconn=MI_pipe[-1]"
      ]
    },
    {
      "cell_type": "code",
      "execution_count": null,
      "metadata": {
        "id": "Sd507wHMWqvk"
      },
      "outputs": [],
      "source": [
        "# # what are scores for the features\n",
        "# for i in range(len(IG_reconn.scores_)):\n",
        "# \tprint('Feature %d: %f' % (i,IG_reconn.scores_[i]))\n",
        "# # plot the scores\n",
        "# pyplot.bar([i for i in range(len(IG_reconn.scores_))], IG_reconn.scores_)\n",
        "# pyplot.show()"
      ]
    },
    {
      "cell_type": "code",
      "execution_count": null,
      "metadata": {
        "id": "lfwFObSkWqsp"
      },
      "outputs": [],
      "source": [
        "# IG_features_reconn=pd.DataFrame(IG_reconn.get_feature_names_out())\n",
        "# IG_features_reconn=IG_features_reconn.iloc[:,0].str.replace('x','')\n",
        "# IG_features_reconn=pd.to_numeric(IG_features_reconn)"
      ]
    },
    {
      "cell_type": "code",
      "execution_count": null,
      "metadata": {
        "id": "rsSI4_OTHTmf"
      },
      "outputs": [],
      "source": [
        "# IG_features_reconn"
      ]
    },
    {
      "cell_type": "markdown",
      "metadata": {
        "id": "-jWRpjSfW7i-"
      },
      "source": [
        "###RFE"
      ]
    },
    {
      "cell_type": "code",
      "execution_count": null,
      "metadata": {
        "id": "tHyXFg8RrpDx"
      },
      "outputs": [],
      "source": [
        "# s_recon=time.time()"
      ]
    },
    {
      "cell_type": "code",
      "execution_count": null,
      "metadata": {
        "id": "1rs_eqiUHTjQ"
      },
      "outputs": [],
      "source": [
        "# estimator= DecisionTreeClassifier()\n",
        "\n",
        "# selector = RFE(estimator, n_features_to_select=5, step=1,)\n",
        "# rfe_pipe_Reconnaissance= Pipeline(steps=[\n",
        "#     ('preprocessing' ,preprocessing),\n",
        "#     ('rfe',selector)])\n",
        "# rfe_pipe_Reconnaissance.fit(X_train_reconn, y_train_reconn)\n",
        "# rfe_pipe_Reconnaissance[-1].support_\n",
        "# rfe_Reconnaissance_features=rfe_pipe_Reconnaissance[-1].get_feature_names_out()\n",
        "# rfe_Reconnaissance_features=pd.DataFrame(rfe_Reconnaissance_features)\n",
        "# rfe_Reconnaissance_features=rfe_Reconnaissance_features.iloc[:,0].str.replace('x','')\n",
        "# rfe_Reconnaissance_features=pd.to_numeric(rfe_Reconnaissance_features)"
      ]
    },
    {
      "cell_type": "code",
      "execution_count": null,
      "metadata": {
        "id": "iZbCy07VrrwD"
      },
      "outputs": [],
      "source": [
        "# e_recon=time.time()\n",
        "# t_recon=e_recon-s_recon\n",
        "# t_recon"
      ]
    },
    {
      "cell_type": "code",
      "execution_count": null,
      "metadata": {
        "id": "Sx4tgIq4HTgv"
      },
      "outputs": [],
      "source": [
        "# rfe_Reconnaissance_features"
      ]
    },
    {
      "cell_type": "markdown",
      "metadata": {
        "id": "DsxbxaQzXEq4"
      },
      "source": [
        "###intersect for reconn class"
      ]
    },
    {
      "cell_type": "code",
      "execution_count": null,
      "metadata": {
        "id": "jLtsFMMSHTdx"
      },
      "outputs": [],
      "source": [
        "# int_rfe_gini_reconn=intersect(rfe_Reconnaissance_features,df_imp_feat_Reconnaissance.index)"
      ]
    },
    {
      "cell_type": "code",
      "execution_count": null,
      "metadata": {
        "id": "_nEpMmOSHTbk"
      },
      "outputs": [],
      "source": [
        "# int_rfe_gini_reconn"
      ]
    },
    {
      "cell_type": "code",
      "execution_count": null,
      "metadata": {
        "id": "4T9o5_TuHTYQ"
      },
      "outputs": [],
      "source": [
        "#int_rfe_IG_reconn=intersect(rfe_Reconnaissance_features,IG_features_reconn)"
      ]
    },
    {
      "cell_type": "code",
      "execution_count": null,
      "metadata": {
        "id": "Fc9wnS0JHTVi"
      },
      "outputs": [],
      "source": [
        "# int_rfe_IG_reconn"
      ]
    },
    {
      "cell_type": "markdown",
      "metadata": {
        "id": "ikGKNqJBX7V8"
      },
      "source": [
        "###union for reconn *class*"
      ]
    },
    {
      "cell_type": "code",
      "execution_count": null,
      "metadata": {
        "id": "FRzcisMRHTS6"
      },
      "outputs": [],
      "source": [
        "#un_rfe_gini_reconn=union(rfe_Reconnaissance_features,df_imp_feat_Reconnaissance.index)"
      ]
    },
    {
      "cell_type": "code",
      "execution_count": null,
      "metadata": {
        "id": "mU-vTlIvHTPf"
      },
      "outputs": [],
      "source": [
        "#un_rfe_gini_reconn"
      ]
    },
    {
      "cell_type": "code",
      "execution_count": null,
      "metadata": {
        "id": "C6IVKOd7Yhwm"
      },
      "outputs": [],
      "source": [
        "#un_rfe_IG_reconn=union(rfe_Reconnaissance_features,IG_features_reconn)"
      ]
    },
    {
      "cell_type": "code",
      "execution_count": null,
      "metadata": {
        "id": "MV-yKX-uY2Nb"
      },
      "outputs": [],
      "source": [
        "#un_rfe_IG_reconn"
      ]
    },
    {
      "cell_type": "markdown",
      "metadata": {
        "id": "zw7uVKZiY-9j"
      },
      "source": [
        "#method"
      ]
    },
    {
      "cell_type": "markdown",
      "metadata": {
        "id": "XBJaw156Hf7P"
      },
      "source": [
        "method1: اجتماع (اشتراک اجتماع ها)"
      ]
    },
    {
      "cell_type": "code",
      "execution_count": null,
      "metadata": {
        "id": "BqZH1778HTJr"
      },
      "outputs": [],
      "source": [
        "# def method1(lst1,lst2,lst3,lst4,lst5):\n",
        "#   return list((set(lst1) & set(lst2)) | (set(lst1)&set(lst3)) | (set(lst1)&set(lst4)) | (set(lst1)& set(lst5)) | (set(lst2) & set(lst3))\n",
        "#   | (set(lst2) & set(lst4)) | (set(lst2) & set(lst5)) | (set(lst3) & set(lst4)) | (set(lst3) & set(lst5)) | (set(lst4) & set(lst5)))"
      ]
    },
    {
      "cell_type": "markdown",
      "metadata": {
        "id": "Bi_Z6Av0HpZj"
      },
      "source": [
        "method2: اشتراک (اجتماع اشتراک ها)"
      ]
    },
    {
      "cell_type": "code",
      "execution_count": null,
      "metadata": {
        "id": "Yb05grs1GzNx"
      },
      "outputs": [],
      "source": [
        "# def method2(lst1,lst2,lst3,lst4,lst5):\n",
        "#   return list((set(lst1) | set(lst2)) & (set(lst1) | set(lst3)) & (set(lst1) | set(lst4)) & (set(lst1) | set(lst5)) & (set(lst2) | set(lst3))\n",
        "#   & (set(lst2) | set(lst4)) & (set(lst2) | set(lst5)) & (set(lst3) | set(lst4)) & (set(lst3) | set(lst5)) & (set(lst4) | set(lst5)))"
      ]
    },
    {
      "cell_type": "markdown",
      "metadata": {
        "id": "rzCOZaXAIZni"
      },
      "source": [
        "methos3: اشتراک اجتماع ها\n",
        "و\n",
        "اشتراک اشتراک ها"
      ]
    },
    {
      "cell_type": "code",
      "execution_count": null,
      "metadata": {
        "id": "IBYgLmAZHTHS"
      },
      "outputs": [],
      "source": [
        "# def method3(lst1,lst2,lst3,lst4,lst5):\n",
        "#   return list(set(lst1) & set(lst2) & set(lst3) & set(lst4) & set(lst5))"
      ]
    },
    {
      "cell_type": "markdown",
      "metadata": {
        "id": "SFrKnALAImS2"
      },
      "source": [
        "method4: اجتماع اشتراک ها و اجتماع اجتماع ها"
      ]
    },
    {
      "cell_type": "code",
      "execution_count": null,
      "metadata": {
        "id": "RaMYpgK5HTET"
      },
      "outputs": [],
      "source": [
        "# def method4(lst1, lst2,lst3,lst4,lst5):\n",
        "#   return list(set(lst1) | set(lst2) | set(lst3) | set(lst4) | set(lst5))"
      ]
    },
    {
      "cell_type": "markdown",
      "metadata": {
        "id": "mL7RCCfcWhhr"
      },
      "source": [
        "##CALL method"
      ]
    },
    {
      "cell_type": "code",
      "execution_count": null,
      "metadata": {
        "id": "BkubQRKvZc2g"
      },
      "outputs": [],
      "source": [
        "# print(int_rfe_gini_normal)\n",
        "# print(int_rfe_IG_normal)\n",
        "# print(int_rfe_gini_dos)\n",
        "# print(int_rfe_IG_dos)\n",
        "# print(int_rfe_gini_ddos)\n",
        "# print(int_rfe_IG_ddos)\n",
        "# print(int_rfe_gini_theft)\n",
        "# print(int_rfe_IG_theft)\n",
        "# print(int_rfe_gini_reconn)\n",
        "# print(int_rfe_IG_reconn)\n",
        "# print(int_gini_IG_p)"
      ]
    },
    {
      "cell_type": "code",
      "execution_count": null,
      "metadata": {
        "id": "i-jL2OkAZeOL"
      },
      "outputs": [],
      "source": [
        "# print(un_rfe_gini_normal)\n",
        "# print(un_rfe_IG_normal)\n",
        "# print(un_rfe_gini_dos)\n",
        "# print(un_rfe_IG_dos)\n",
        "# print(un_rfe_gini_ddos)\n",
        "# print(un_rfe_IG_ddos)\n",
        "# print(un_rfe_gini_theft)\n",
        "# print(un_rfe_IG_theft)\n",
        "# print(un_rfe_gini_reconn)\n",
        "# print(un_rfe_IG_reconn)\n",
        "# print(un_gini_IG_p)"
      ]
    },
    {
      "cell_type": "markdown",
      "metadata": {
        "id": "bbiE5Q4eWl1m"
      },
      "source": [
        "###method1"
      ]
    },
    {
      "cell_type": "markdown",
      "metadata": {
        "id": "-VageXH9SQ4o"
      },
      "source": [
        "اجتماع اشتراک اجتماع های الگوریتم رپر با الگوریتم فیلتر جینی"
      ]
    },
    {
      "cell_type": "code",
      "execution_count": null,
      "metadata": {
        "id": "yj9rgccFRNA3"
      },
      "outputs": [],
      "source": [
        "# method1_gini=method1(un_rfe_gini_normal,un_rfe_gini_dos,un_rfe_gini_reconn,un_rfe_gini_ddos,un_rfe_gini_theft)\n",
        "# method1_gini\n",
        "# print((\"len of method1_gini:\",len(method1_gini)),method1_gini)"
      ]
    },
    {
      "cell_type": "markdown",
      "metadata": {
        "id": "ue_C_ygEWSgI"
      },
      "source": [
        "اجتماع اشتراک اجتماع های الگوریتم رپر با الگوریتم فیلتر بهره اطلاعات"
      ]
    },
    {
      "cell_type": "code",
      "execution_count": null,
      "metadata": {
        "id": "fmIJ-u4VSuFq"
      },
      "outputs": [],
      "source": [
        "# method1_IG=method1(un_rfe_IG_normal,un_rfe_IG_dos,un_rfe_IG_ddos, un_rfe_IG_reconn, un_rfe_IG_theft)\n",
        "# method1_IG\n",
        "# print((\"len of method1_IG:\",len(method1_IG)),method1_IG)"
      ]
    },
    {
      "cell_type": "markdown",
      "metadata": {
        "id": "ysR37EPpWpCP"
      },
      "source": [
        "###method2"
      ]
    },
    {
      "cell_type": "markdown",
      "metadata": {
        "id": "Ydx2IF51WvNP"
      },
      "source": [
        "اشتراک اجتماع اشتراک الگوریتم رپر با الگوریتم فیلترجینی"
      ]
    },
    {
      "cell_type": "code",
      "execution_count": null,
      "metadata": {
        "id": "8SEV-T6mWuLn"
      },
      "outputs": [],
      "source": [
        "# method2_gini=method2(int_rfe_gini_normal,int_rfe_gini_dos,int_rfe_gini_ddos,int_rfe_gini_theft,int_rfe_gini_reconn)\n",
        "# method2_gini"
      ]
    },
    {
      "cell_type": "code",
      "execution_count": null,
      "metadata": {
        "id": "onT9QOA3g3I0"
      },
      "outputs": [],
      "source": [
        "# method2_gini=method1(int_rfe_gini_normal,int_rfe_gini_dos,int_rfe_gini_ddos,int_rfe_gini_theft,int_rfe_gini_reconn)\n",
        "# method2_gini"
      ]
    },
    {
      "cell_type": "markdown",
      "metadata": {
        "id": "BlLC9UgtNAmm"
      },
      "source": [
        "اشتراک اجتماع اشتراک الگوریتم رپر با الگوریتم فیلتر بهره اطلاعات"
      ]
    },
    {
      "cell_type": "code",
      "execution_count": null,
      "metadata": {
        "id": "CTtja_H6XBWW"
      },
      "outputs": [],
      "source": [
        "# method2_IG=method2(int_rfe_IG_normal,int_rfe_IG_dos,int_rfe_IG_ddos,int_rfe_IG_theft,int_rfe_IG_reconn)\n",
        "# method2_IG"
      ]
    },
    {
      "cell_type": "code",
      "execution_count": null,
      "metadata": {
        "id": "mxKU7MExhhy8"
      },
      "outputs": [],
      "source": [
        "# method2_IG=method1(int_rfe_IG_normal,int_rfe_IG_dos,int_rfe_IG_ddos,int_rfe_IG_theft,int_rfe_IG_reconn)\n",
        "# method2_IG"
      ]
    },
    {
      "cell_type": "markdown",
      "metadata": {
        "id": "B7FiS2wnOp8X"
      },
      "source": [
        "##method3"
      ]
    },
    {
      "cell_type": "markdown",
      "metadata": {
        "id": "9oY2YRmmOxgu"
      },
      "source": [
        "اشتراک اجتماع های الگوریتم رپر با الگوریتم فیلتر جینی"
      ]
    },
    {
      "cell_type": "code",
      "execution_count": null,
      "metadata": {
        "id": "nMUlD3fiWt7g"
      },
      "outputs": [],
      "source": [
        "# method3_gini=method3(un_rfe_gini_normal,un_rfe_gini_dos,un_rfe_gini_reconn,un_rfe_gini_ddos,un_rfe_gini_theft)\n",
        "# method3_gini"
      ]
    },
    {
      "cell_type": "markdown",
      "metadata": {
        "id": "Hn3JXvIHPL0V"
      },
      "source": [
        "اشتراک اجتماع های الگوریتم رپر با الگوریتم فیلتر بهره اطلاعات"
      ]
    },
    {
      "cell_type": "code",
      "execution_count": null,
      "metadata": {
        "id": "w0mO8HjdPSz1"
      },
      "outputs": [],
      "source": [
        "# method3_IG=method3(un_rfe_IG_normal,un_rfe_IG_dos,un_rfe_IG_ddos, un_rfe_IG_reconn, un_rfe_IG_theft)\n",
        "# method3_IG"
      ]
    },
    {
      "cell_type": "markdown",
      "metadata": {
        "id": "-e9h-BlqZpsz"
      },
      "source": [
        "اشتراک اشتراک ها=تهی"
      ]
    },
    {
      "cell_type": "code",
      "execution_count": null,
      "metadata": {
        "id": "p9cl0N-9ZpYw"
      },
      "outputs": [],
      "source": [
        "# method3_gini=method3(int_rfe_gini_normal,int_rfe_gini_dos,int_rfe_gini_ddos,int_rfe_gini_theft,int_rfe_gini_reconn)\n",
        "# method3_gini"
      ]
    },
    {
      "cell_type": "markdown",
      "metadata": {
        "id": "ZAz3HHPuPfQ9"
      },
      "source": [
        "##method4"
      ]
    },
    {
      "cell_type": "markdown",
      "metadata": {
        "id": "aWWh6PG-Ppl1"
      },
      "source": [
        "اجتماع اشتراک های الگوریتم رپر با فیلتر جینی"
      ]
    },
    {
      "cell_type": "code",
      "execution_count": null,
      "metadata": {
        "id": "bgXixWIGPjsV"
      },
      "outputs": [],
      "source": [
        "# method4_gini=method4(int_rfe_gini_normal,int_rfe_gini_dos,int_rfe_gini_ddos,int_rfe_gini_theft,int_rfe_gini_reconn)\n",
        "# method4_gini\n",
        "# print((\"len of method4_gini:\",len(method4_gini)),method4_gini)"
      ]
    },
    {
      "cell_type": "markdown",
      "metadata": {
        "id": "xOW4PXqvZOml"
      },
      "source": [
        "اجتماع اشتراک های الگوریتم رپر با فیلتر بهره اطلاعات"
      ]
    },
    {
      "cell_type": "code",
      "execution_count": null,
      "metadata": {
        "id": "rWVw_q1rZU6-"
      },
      "outputs": [],
      "source": [
        "#method4_IG = method4(int_rfe_IG_normal,int_rfe_IG_dos,int_rfe_IG_ddos,int_rfe_IG_theft,int_rfe_IG_reconn)\n",
        "#method4_IG\n",
        "#print((\"len of method4_IG:\",len(method4_IG)),method4_IG)"
      ]
    },
    {
      "cell_type": "markdown",
      "metadata": {
        "id": "cyPH7iyMZ5_g"
      },
      "source": [
        "اجتماع اجتماع ها=22\n",
        "```\n",
        "\n"
      ]
    },
    {
      "cell_type": "code",
      "source": [
        "method1_gini=[34,7,8,10,11,13,16,19,22,25,27,29]\n",
        "method1_IG=[1,3,6,7,8,16,18,19,25,27,28,29]\n",
        "method4_gini=[7,24,25,26,28,13,8,31]\n",
        "method4_IG=[1,19,6,8,27,31]\n",
        "int_gini_IG_p=[32,5,8,9,10,11,13,16,18,19,26,27,28,31]\n",
        "un_gini_IG_p=[3,5,8,9,10,11,12,13,14,16,18,19,21,22,24,25,26,27,28,29,31,32]"
      ],
      "metadata": {
        "id": "6nngI--1hl8O"
      },
      "execution_count": null,
      "outputs": []
    },
    {
      "cell_type": "markdown",
      "metadata": {
        "id": "Dy4FuT-V7dlN"
      },
      "source": [
        "##no of selected features"
      ]
    },
    {
      "cell_type": "code",
      "execution_count": null,
      "metadata": {
        "id": "UwvwDBo06mpX"
      },
      "outputs": [],
      "source": [
        "a=len(method1_gini)\n",
        "b=len(method1_IG)\n",
        "c=len(method4_gini)\n",
        "d=len(method4_IG)\n",
        "e=len(int_gini_IG_p)\n",
        "f=len(un_gini_IG_p)"
      ]
    },
    {
      "cell_type": "markdown",
      "metadata": {
        "id": "DP207KcpZ83b"
      },
      "source": [
        "#CLF"
      ]
    },
    {
      "cell_type": "code",
      "execution_count": null,
      "metadata": {
        "id": "ZItqfUki0Umd"
      },
      "outputs": [],
      "source": [
        "X_train=preprocessing.fit_transform(X_train)\n",
        "X_test=preprocessing.transform(X_test)"
      ]
    },
    {
      "cell_type": "code",
      "execution_count": null,
      "metadata": {
        "colab": {
          "base_uri": "https://localhost:8080/"
        },
        "id": "AtRfGljL0Ujb",
        "outputId": "7073a932-62a1-4810-d080-d8f4f234bfa3"
      },
      "outputs": [
        {
          "output_type": "stream",
          "name": "stdout",
          "text": [
            "(197135, 35) (84487, 35)\n"
          ]
        }
      ],
      "source": [
        "print(X_train.shape , X_test.shape)"
      ]
    },
    {
      "cell_type": "code",
      "execution_count": null,
      "metadata": {
        "id": "TqR_Vhma0UhF"
      },
      "outputs": [],
      "source": [
        "X_train=pd.DataFrame(X_train)\n",
        "X_test=pd.DataFrame(X_test)"
      ]
    },
    {
      "cell_type": "code",
      "execution_count": null,
      "metadata": {
        "colab": {
          "base_uri": "https://localhost:8080/",
          "height": 424
        },
        "id": "7_iCH9dJ0UeO",
        "outputId": "649173c4-958d-406c-a2bd-ce0e2fe81d8c"
      },
      "outputs": [
        {
          "output_type": "execute_result",
          "data": {
            "text/plain": [
              "              0         1         2         3         4         5         6   \\\n",
              "0      -0.606981 -0.687512  0.267394  0.039193  0.006449 -0.007615  2.428125   \n",
              "1       0.239485 -0.687512  0.803892 -0.305543 -0.007046 -0.008130 -1.118492   \n",
              "2      -0.606981  1.455061 -0.552820 -0.305543 -0.009295 -0.009354  1.009478   \n",
              "3      -0.606981  1.455061  0.525882 -0.305543  0.006449 -0.008384  1.009478   \n",
              "4      -0.606981  1.455061 -1.559246 -0.305543  0.004199 -0.008523  1.009478   \n",
              "...          ...       ...       ...       ...       ...       ...       ...   \n",
              "197130 -0.606981  1.455061  0.017069 -0.305543 -0.007046 -0.009216  1.009478   \n",
              "197131  0.239485 -0.687512 -1.701286 -0.305543 -0.011545 -0.008407  0.300155   \n",
              "197132  0.239485 -0.687512  0.374526 -0.305543 -0.009295 -0.008486  0.300155   \n",
              "197133 -0.606981 -0.687512 -0.050235  0.049666 -0.018292 -0.009909 -1.118492   \n",
              "197134  0.239485 -0.687512 -0.846897 -0.305543 -0.007046 -0.008130 -1.118492   \n",
              "\n",
              "              7         8         9   ...        25        26        27  \\\n",
              "0      -0.801086 -0.420915 -0.754878  ...  0.119442  0.378301 -0.130768   \n",
              "1      -0.277427 -0.119411  0.417201  ... -0.047627 -0.019820 -0.132750   \n",
              "2       0.781524 -0.112322  0.898703  ... -0.019577  0.047021 -0.132753   \n",
              "3      -0.247098 -0.065498  1.669370  ...  0.119442  0.378301 -0.132740   \n",
              "4      -0.551867  0.294266  1.223040  ...  0.098968  0.329512 -0.132755   \n",
              "...          ...       ...       ...  ...       ...       ...       ...   \n",
              "197130  0.159950 -0.120965  0.833218  ...  0.044916  0.200708 -0.132750   \n",
              "197131  1.774530 -0.090452  0.614726  ... -0.050903 -0.027626 -0.132756   \n",
              "197132  0.863037  0.679840 -0.836974  ... -0.040256 -0.002256 -0.132764   \n",
              "197133 -0.830495 -0.425903 -0.880939  ... -0.105774 -0.254985  0.383539   \n",
              "197134  0.532392  0.671564 -0.851475  ...  0.013386  0.125572 -0.132762   \n",
              "\n",
              "              28        29        30        31        32        33        34  \n",
              "0      -0.250907  0.458337 -1.810792 -0.113276 -0.122589  0.931182 -0.115843  \n",
              "1      -0.255445  0.458337 -1.708348 -0.114536 -0.123751 -0.314204 -0.290953  \n",
              "2      -0.255440  0.458337  0.647853 -0.114538 -0.123750  0.165224  0.233020  \n",
              "3      -0.255411  0.458337  0.750297 -0.114530 -0.123742  0.931182  1.207665  \n",
              "4      -0.255445  0.458337  0.750297 -0.114539 -0.123751  0.818375  1.071921  \n",
              "...          ...       ...       ...       ...       ...       ...       ...  \n",
              "197130 -0.255424  0.458337 -1.298574 -0.114536 -0.123746  0.520566 -0.176928  \n",
              "197131 -0.255449  0.458337 -0.342434 -0.114540 -0.123752 -0.007370 -0.095481  \n",
              "197132 -0.255466  0.458337  0.750297 -0.114545 -0.123756 -0.090847 -0.022179  \n",
              "197133  0.922010  0.458337  0.750297  0.214222  0.135004 -0.309692 -0.285523  \n",
              "197134 -0.255461  0.458337  0.135636 -0.114544 -0.123755  0.265622  0.262884  \n",
              "\n",
              "[197135 rows x 35 columns]"
            ],
            "text/html": [
              "\n",
              "  <div id=\"df-7d7fb67b-9fb3-47bc-8d3a-4303acc6ff67\">\n",
              "    <div class=\"colab-df-container\">\n",
              "      <div>\n",
              "<style scoped>\n",
              "    .dataframe tbody tr th:only-of-type {\n",
              "        vertical-align: middle;\n",
              "    }\n",
              "\n",
              "    .dataframe tbody tr th {\n",
              "        vertical-align: top;\n",
              "    }\n",
              "\n",
              "    .dataframe thead th {\n",
              "        text-align: right;\n",
              "    }\n",
              "</style>\n",
              "<table border=\"1\" class=\"dataframe\">\n",
              "  <thead>\n",
              "    <tr style=\"text-align: right;\">\n",
              "      <th></th>\n",
              "      <th>0</th>\n",
              "      <th>1</th>\n",
              "      <th>2</th>\n",
              "      <th>3</th>\n",
              "      <th>4</th>\n",
              "      <th>5</th>\n",
              "      <th>6</th>\n",
              "      <th>7</th>\n",
              "      <th>8</th>\n",
              "      <th>9</th>\n",
              "      <th>...</th>\n",
              "      <th>25</th>\n",
              "      <th>26</th>\n",
              "      <th>27</th>\n",
              "      <th>28</th>\n",
              "      <th>29</th>\n",
              "      <th>30</th>\n",
              "      <th>31</th>\n",
              "      <th>32</th>\n",
              "      <th>33</th>\n",
              "      <th>34</th>\n",
              "    </tr>\n",
              "  </thead>\n",
              "  <tbody>\n",
              "    <tr>\n",
              "      <th>0</th>\n",
              "      <td>-0.606981</td>\n",
              "      <td>-0.687512</td>\n",
              "      <td>0.267394</td>\n",
              "      <td>0.039193</td>\n",
              "      <td>0.006449</td>\n",
              "      <td>-0.007615</td>\n",
              "      <td>2.428125</td>\n",
              "      <td>-0.801086</td>\n",
              "      <td>-0.420915</td>\n",
              "      <td>-0.754878</td>\n",
              "      <td>...</td>\n",
              "      <td>0.119442</td>\n",
              "      <td>0.378301</td>\n",
              "      <td>-0.130768</td>\n",
              "      <td>-0.250907</td>\n",
              "      <td>0.458337</td>\n",
              "      <td>-1.810792</td>\n",
              "      <td>-0.113276</td>\n",
              "      <td>-0.122589</td>\n",
              "      <td>0.931182</td>\n",
              "      <td>-0.115843</td>\n",
              "    </tr>\n",
              "    <tr>\n",
              "      <th>1</th>\n",
              "      <td>0.239485</td>\n",
              "      <td>-0.687512</td>\n",
              "      <td>0.803892</td>\n",
              "      <td>-0.305543</td>\n",
              "      <td>-0.007046</td>\n",
              "      <td>-0.008130</td>\n",
              "      <td>-1.118492</td>\n",
              "      <td>-0.277427</td>\n",
              "      <td>-0.119411</td>\n",
              "      <td>0.417201</td>\n",
              "      <td>...</td>\n",
              "      <td>-0.047627</td>\n",
              "      <td>-0.019820</td>\n",
              "      <td>-0.132750</td>\n",
              "      <td>-0.255445</td>\n",
              "      <td>0.458337</td>\n",
              "      <td>-1.708348</td>\n",
              "      <td>-0.114536</td>\n",
              "      <td>-0.123751</td>\n",
              "      <td>-0.314204</td>\n",
              "      <td>-0.290953</td>\n",
              "    </tr>\n",
              "    <tr>\n",
              "      <th>2</th>\n",
              "      <td>-0.606981</td>\n",
              "      <td>1.455061</td>\n",
              "      <td>-0.552820</td>\n",
              "      <td>-0.305543</td>\n",
              "      <td>-0.009295</td>\n",
              "      <td>-0.009354</td>\n",
              "      <td>1.009478</td>\n",
              "      <td>0.781524</td>\n",
              "      <td>-0.112322</td>\n",
              "      <td>0.898703</td>\n",
              "      <td>...</td>\n",
              "      <td>-0.019577</td>\n",
              "      <td>0.047021</td>\n",
              "      <td>-0.132753</td>\n",
              "      <td>-0.255440</td>\n",
              "      <td>0.458337</td>\n",
              "      <td>0.647853</td>\n",
              "      <td>-0.114538</td>\n",
              "      <td>-0.123750</td>\n",
              "      <td>0.165224</td>\n",
              "      <td>0.233020</td>\n",
              "    </tr>\n",
              "    <tr>\n",
              "      <th>3</th>\n",
              "      <td>-0.606981</td>\n",
              "      <td>1.455061</td>\n",
              "      <td>0.525882</td>\n",
              "      <td>-0.305543</td>\n",
              "      <td>0.006449</td>\n",
              "      <td>-0.008384</td>\n",
              "      <td>1.009478</td>\n",
              "      <td>-0.247098</td>\n",
              "      <td>-0.065498</td>\n",
              "      <td>1.669370</td>\n",
              "      <td>...</td>\n",
              "      <td>0.119442</td>\n",
              "      <td>0.378301</td>\n",
              "      <td>-0.132740</td>\n",
              "      <td>-0.255411</td>\n",
              "      <td>0.458337</td>\n",
              "      <td>0.750297</td>\n",
              "      <td>-0.114530</td>\n",
              "      <td>-0.123742</td>\n",
              "      <td>0.931182</td>\n",
              "      <td>1.207665</td>\n",
              "    </tr>\n",
              "    <tr>\n",
              "      <th>4</th>\n",
              "      <td>-0.606981</td>\n",
              "      <td>1.455061</td>\n",
              "      <td>-1.559246</td>\n",
              "      <td>-0.305543</td>\n",
              "      <td>0.004199</td>\n",
              "      <td>-0.008523</td>\n",
              "      <td>1.009478</td>\n",
              "      <td>-0.551867</td>\n",
              "      <td>0.294266</td>\n",
              "      <td>1.223040</td>\n",
              "      <td>...</td>\n",
              "      <td>0.098968</td>\n",
              "      <td>0.329512</td>\n",
              "      <td>-0.132755</td>\n",
              "      <td>-0.255445</td>\n",
              "      <td>0.458337</td>\n",
              "      <td>0.750297</td>\n",
              "      <td>-0.114539</td>\n",
              "      <td>-0.123751</td>\n",
              "      <td>0.818375</td>\n",
              "      <td>1.071921</td>\n",
              "    </tr>\n",
              "    <tr>\n",
              "      <th>...</th>\n",
              "      <td>...</td>\n",
              "      <td>...</td>\n",
              "      <td>...</td>\n",
              "      <td>...</td>\n",
              "      <td>...</td>\n",
              "      <td>...</td>\n",
              "      <td>...</td>\n",
              "      <td>...</td>\n",
              "      <td>...</td>\n",
              "      <td>...</td>\n",
              "      <td>...</td>\n",
              "      <td>...</td>\n",
              "      <td>...</td>\n",
              "      <td>...</td>\n",
              "      <td>...</td>\n",
              "      <td>...</td>\n",
              "      <td>...</td>\n",
              "      <td>...</td>\n",
              "      <td>...</td>\n",
              "      <td>...</td>\n",
              "      <td>...</td>\n",
              "    </tr>\n",
              "    <tr>\n",
              "      <th>197130</th>\n",
              "      <td>-0.606981</td>\n",
              "      <td>1.455061</td>\n",
              "      <td>0.017069</td>\n",
              "      <td>-0.305543</td>\n",
              "      <td>-0.007046</td>\n",
              "      <td>-0.009216</td>\n",
              "      <td>1.009478</td>\n",
              "      <td>0.159950</td>\n",
              "      <td>-0.120965</td>\n",
              "      <td>0.833218</td>\n",
              "      <td>...</td>\n",
              "      <td>0.044916</td>\n",
              "      <td>0.200708</td>\n",
              "      <td>-0.132750</td>\n",
              "      <td>-0.255424</td>\n",
              "      <td>0.458337</td>\n",
              "      <td>-1.298574</td>\n",
              "      <td>-0.114536</td>\n",
              "      <td>-0.123746</td>\n",
              "      <td>0.520566</td>\n",
              "      <td>-0.176928</td>\n",
              "    </tr>\n",
              "    <tr>\n",
              "      <th>197131</th>\n",
              "      <td>0.239485</td>\n",
              "      <td>-0.687512</td>\n",
              "      <td>-1.701286</td>\n",
              "      <td>-0.305543</td>\n",
              "      <td>-0.011545</td>\n",
              "      <td>-0.008407</td>\n",
              "      <td>0.300155</td>\n",
              "      <td>1.774530</td>\n",
              "      <td>-0.090452</td>\n",
              "      <td>0.614726</td>\n",
              "      <td>...</td>\n",
              "      <td>-0.050903</td>\n",
              "      <td>-0.027626</td>\n",
              "      <td>-0.132756</td>\n",
              "      <td>-0.255449</td>\n",
              "      <td>0.458337</td>\n",
              "      <td>-0.342434</td>\n",
              "      <td>-0.114540</td>\n",
              "      <td>-0.123752</td>\n",
              "      <td>-0.007370</td>\n",
              "      <td>-0.095481</td>\n",
              "    </tr>\n",
              "    <tr>\n",
              "      <th>197132</th>\n",
              "      <td>0.239485</td>\n",
              "      <td>-0.687512</td>\n",
              "      <td>0.374526</td>\n",
              "      <td>-0.305543</td>\n",
              "      <td>-0.009295</td>\n",
              "      <td>-0.008486</td>\n",
              "      <td>0.300155</td>\n",
              "      <td>0.863037</td>\n",
              "      <td>0.679840</td>\n",
              "      <td>-0.836974</td>\n",
              "      <td>...</td>\n",
              "      <td>-0.040256</td>\n",
              "      <td>-0.002256</td>\n",
              "      <td>-0.132764</td>\n",
              "      <td>-0.255466</td>\n",
              "      <td>0.458337</td>\n",
              "      <td>0.750297</td>\n",
              "      <td>-0.114545</td>\n",
              "      <td>-0.123756</td>\n",
              "      <td>-0.090847</td>\n",
              "      <td>-0.022179</td>\n",
              "    </tr>\n",
              "    <tr>\n",
              "      <th>197133</th>\n",
              "      <td>-0.606981</td>\n",
              "      <td>-0.687512</td>\n",
              "      <td>-0.050235</td>\n",
              "      <td>0.049666</td>\n",
              "      <td>-0.018292</td>\n",
              "      <td>-0.009909</td>\n",
              "      <td>-1.118492</td>\n",
              "      <td>-0.830495</td>\n",
              "      <td>-0.425903</td>\n",
              "      <td>-0.880939</td>\n",
              "      <td>...</td>\n",
              "      <td>-0.105774</td>\n",
              "      <td>-0.254985</td>\n",
              "      <td>0.383539</td>\n",
              "      <td>0.922010</td>\n",
              "      <td>0.458337</td>\n",
              "      <td>0.750297</td>\n",
              "      <td>0.214222</td>\n",
              "      <td>0.135004</td>\n",
              "      <td>-0.309692</td>\n",
              "      <td>-0.285523</td>\n",
              "    </tr>\n",
              "    <tr>\n",
              "      <th>197134</th>\n",
              "      <td>0.239485</td>\n",
              "      <td>-0.687512</td>\n",
              "      <td>-0.846897</td>\n",
              "      <td>-0.305543</td>\n",
              "      <td>-0.007046</td>\n",
              "      <td>-0.008130</td>\n",
              "      <td>-1.118492</td>\n",
              "      <td>0.532392</td>\n",
              "      <td>0.671564</td>\n",
              "      <td>-0.851475</td>\n",
              "      <td>...</td>\n",
              "      <td>0.013386</td>\n",
              "      <td>0.125572</td>\n",
              "      <td>-0.132762</td>\n",
              "      <td>-0.255461</td>\n",
              "      <td>0.458337</td>\n",
              "      <td>0.135636</td>\n",
              "      <td>-0.114544</td>\n",
              "      <td>-0.123755</td>\n",
              "      <td>0.265622</td>\n",
              "      <td>0.262884</td>\n",
              "    </tr>\n",
              "  </tbody>\n",
              "</table>\n",
              "<p>197135 rows × 35 columns</p>\n",
              "</div>\n",
              "      <button class=\"colab-df-convert\" onclick=\"convertToInteractive('df-7d7fb67b-9fb3-47bc-8d3a-4303acc6ff67')\"\n",
              "              title=\"Convert this dataframe to an interactive table.\"\n",
              "              style=\"display:none;\">\n",
              "        \n",
              "  <svg xmlns=\"http://www.w3.org/2000/svg\" height=\"24px\"viewBox=\"0 0 24 24\"\n",
              "       width=\"24px\">\n",
              "    <path d=\"M0 0h24v24H0V0z\" fill=\"none\"/>\n",
              "    <path d=\"M18.56 5.44l.94 2.06.94-2.06 2.06-.94-2.06-.94-.94-2.06-.94 2.06-2.06.94zm-11 1L8.5 8.5l.94-2.06 2.06-.94-2.06-.94L8.5 2.5l-.94 2.06-2.06.94zm10 10l.94 2.06.94-2.06 2.06-.94-2.06-.94-.94-2.06-.94 2.06-2.06.94z\"/><path d=\"M17.41 7.96l-1.37-1.37c-.4-.4-.92-.59-1.43-.59-.52 0-1.04.2-1.43.59L10.3 9.45l-7.72 7.72c-.78.78-.78 2.05 0 2.83L4 21.41c.39.39.9.59 1.41.59.51 0 1.02-.2 1.41-.59l7.78-7.78 2.81-2.81c.8-.78.8-2.07 0-2.86zM5.41 20L4 18.59l7.72-7.72 1.47 1.35L5.41 20z\"/>\n",
              "  </svg>\n",
              "      </button>\n",
              "      \n",
              "  <style>\n",
              "    .colab-df-container {\n",
              "      display:flex;\n",
              "      flex-wrap:wrap;\n",
              "      gap: 12px;\n",
              "    }\n",
              "\n",
              "    .colab-df-convert {\n",
              "      background-color: #E8F0FE;\n",
              "      border: none;\n",
              "      border-radius: 50%;\n",
              "      cursor: pointer;\n",
              "      display: none;\n",
              "      fill: #1967D2;\n",
              "      height: 32px;\n",
              "      padding: 0 0 0 0;\n",
              "      width: 32px;\n",
              "    }\n",
              "\n",
              "    .colab-df-convert:hover {\n",
              "      background-color: #E2EBFA;\n",
              "      box-shadow: 0px 1px 2px rgba(60, 64, 67, 0.3), 0px 1px 3px 1px rgba(60, 64, 67, 0.15);\n",
              "      fill: #174EA6;\n",
              "    }\n",
              "\n",
              "    [theme=dark] .colab-df-convert {\n",
              "      background-color: #3B4455;\n",
              "      fill: #D2E3FC;\n",
              "    }\n",
              "\n",
              "    [theme=dark] .colab-df-convert:hover {\n",
              "      background-color: #434B5C;\n",
              "      box-shadow: 0px 1px 3px 1px rgba(0, 0, 0, 0.15);\n",
              "      filter: drop-shadow(0px 1px 2px rgba(0, 0, 0, 0.3));\n",
              "      fill: #FFFFFF;\n",
              "    }\n",
              "  </style>\n",
              "\n",
              "      <script>\n",
              "        const buttonEl =\n",
              "          document.querySelector('#df-7d7fb67b-9fb3-47bc-8d3a-4303acc6ff67 button.colab-df-convert');\n",
              "        buttonEl.style.display =\n",
              "          google.colab.kernel.accessAllowed ? 'block' : 'none';\n",
              "\n",
              "        async function convertToInteractive(key) {\n",
              "          const element = document.querySelector('#df-7d7fb67b-9fb3-47bc-8d3a-4303acc6ff67');\n",
              "          const dataTable =\n",
              "            await google.colab.kernel.invokeFunction('convertToInteractive',\n",
              "                                                     [key], {});\n",
              "          if (!dataTable) return;\n",
              "\n",
              "          const docLinkHtml = 'Like what you see? Visit the ' +\n",
              "            '<a target=\"_blank\" href=https://colab.research.google.com/notebooks/data_table.ipynb>data table notebook</a>'\n",
              "            + ' to learn more about interactive tables.';\n",
              "          element.innerHTML = '';\n",
              "          dataTable['output_type'] = 'display_data';\n",
              "          await google.colab.output.renderOutput(dataTable, element);\n",
              "          const docLink = document.createElement('div');\n",
              "          docLink.innerHTML = docLinkHtml;\n",
              "          element.appendChild(docLink);\n",
              "        }\n",
              "      </script>\n",
              "    </div>\n",
              "  </div>\n",
              "  "
            ]
          },
          "metadata": {},
          "execution_count": 844
        }
      ],
      "source": [
        "X_train\n"
      ]
    },
    {
      "cell_type": "markdown",
      "metadata": {
        "id": "Zv2Iw9Zv2ycy"
      },
      "source": [
        "method1_gini"
      ]
    },
    {
      "cell_type": "code",
      "execution_count": null,
      "metadata": {
        "id": "VFLaUjRD0UYS"
      },
      "outputs": [],
      "source": [
        "X_train_method1_gini=X_train[method1_gini]\n",
        "X_test_method1_gini=X_test[method1_gini]"
      ]
    },
    {
      "cell_type": "code",
      "execution_count": null,
      "metadata": {
        "colab": {
          "base_uri": "https://localhost:8080/"
        },
        "id": "Z4P_6c2B5CkQ",
        "outputId": "87b59b3e-55b0-43e6-a65f-5fc75cbb8f05"
      },
      "outputs": [
        {
          "output_type": "stream",
          "name": "stdout",
          "text": [
            "(197135, 12) (84487, 12)\n"
          ]
        }
      ],
      "source": [
        "print(X_train_method1_gini.shape, X_test_method1_gini.shape)"
      ]
    },
    {
      "cell_type": "code",
      "execution_count": null,
      "metadata": {
        "colab": {
          "base_uri": "https://localhost:8080/",
          "height": 424
        },
        "id": "4tw0RfLC5vJ-",
        "outputId": "1faede8e-132e-4e00-d31d-0de376f57399"
      },
      "outputs": [
        {
          "output_type": "execute_result",
          "data": {
            "text/plain": [
              "              34        7         8         10        11        13        16  \\\n",
              "0      -0.115843 -0.801086 -0.420915 -0.726252 -0.222001 -0.848420 -0.009603   \n",
              "1      -0.290953 -0.277427 -0.119411  1.031829  0.070623  0.541713 -0.008498   \n",
              "2       0.233020  0.781524 -0.112322  1.894499  0.182788  1.224737 -0.010241   \n",
              "3       1.207665 -0.247098 -0.065498 -0.675179  0.362314  1.081346 -0.008683   \n",
              "4       1.071921 -0.551867  0.294266  1.622858  0.585101  1.395288 -0.008906   \n",
              "...          ...       ...       ...       ...       ...       ...       ...   \n",
              "197130 -0.176928  0.159950 -0.120965  1.792980  0.167534  1.073186 -0.010019   \n",
              "197131 -0.095481  1.774530 -0.090452  1.471910  0.116636  0.818412 -0.008720   \n",
              "197132 -0.022179  0.863037  0.679840 -0.567676 -0.218114 -0.809131 -0.009069   \n",
              "197133 -0.285523 -0.830495 -0.425903 -0.726252 -0.231790 -0.947358 -0.011354   \n",
              "197134  0.262884  0.532392  0.671564 -0.603415 -0.220323 -0.831458 -0.008498   \n",
              "\n",
              "              19        22        25        27        29  \n",
              "0       0.000998  0.028888  0.119442 -0.130768  0.458337  \n",
              "1      -0.015148  0.001438 -0.047627 -0.132750  0.458337  \n",
              "2      -0.015153 -0.019470 -0.019577 -0.132753  0.458337  \n",
              "3      -0.014917  0.007139  0.119442 -0.132740  0.458337  \n",
              "4      -0.015162  0.003220  0.098968 -0.132755  0.458337  \n",
              "...          ...       ...       ...       ...       ...  \n",
              "197130 -0.015102 -0.007125  0.044916 -0.132750  0.458337  \n",
              "197131 -0.015207  0.003267 -0.050903 -0.132756  0.458337  \n",
              "197132 -0.015321  0.001130 -0.040256 -0.132764  0.458337  \n",
              "197133 -0.015370 -0.035968 -0.105774  0.383539  0.458337  \n",
              "197134 -0.015308  0.017537  0.013386 -0.132762  0.458337  \n",
              "\n",
              "[197135 rows x 12 columns]"
            ],
            "text/html": [
              "\n",
              "  <div id=\"df-da303299-b1b1-4fa2-98fc-26720cd11d6f\">\n",
              "    <div class=\"colab-df-container\">\n",
              "      <div>\n",
              "<style scoped>\n",
              "    .dataframe tbody tr th:only-of-type {\n",
              "        vertical-align: middle;\n",
              "    }\n",
              "\n",
              "    .dataframe tbody tr th {\n",
              "        vertical-align: top;\n",
              "    }\n",
              "\n",
              "    .dataframe thead th {\n",
              "        text-align: right;\n",
              "    }\n",
              "</style>\n",
              "<table border=\"1\" class=\"dataframe\">\n",
              "  <thead>\n",
              "    <tr style=\"text-align: right;\">\n",
              "      <th></th>\n",
              "      <th>34</th>\n",
              "      <th>7</th>\n",
              "      <th>8</th>\n",
              "      <th>10</th>\n",
              "      <th>11</th>\n",
              "      <th>13</th>\n",
              "      <th>16</th>\n",
              "      <th>19</th>\n",
              "      <th>22</th>\n",
              "      <th>25</th>\n",
              "      <th>27</th>\n",
              "      <th>29</th>\n",
              "    </tr>\n",
              "  </thead>\n",
              "  <tbody>\n",
              "    <tr>\n",
              "      <th>0</th>\n",
              "      <td>-0.115843</td>\n",
              "      <td>-0.801086</td>\n",
              "      <td>-0.420915</td>\n",
              "      <td>-0.726252</td>\n",
              "      <td>-0.222001</td>\n",
              "      <td>-0.848420</td>\n",
              "      <td>-0.009603</td>\n",
              "      <td>0.000998</td>\n",
              "      <td>0.028888</td>\n",
              "      <td>0.119442</td>\n",
              "      <td>-0.130768</td>\n",
              "      <td>0.458337</td>\n",
              "    </tr>\n",
              "    <tr>\n",
              "      <th>1</th>\n",
              "      <td>-0.290953</td>\n",
              "      <td>-0.277427</td>\n",
              "      <td>-0.119411</td>\n",
              "      <td>1.031829</td>\n",
              "      <td>0.070623</td>\n",
              "      <td>0.541713</td>\n",
              "      <td>-0.008498</td>\n",
              "      <td>-0.015148</td>\n",
              "      <td>0.001438</td>\n",
              "      <td>-0.047627</td>\n",
              "      <td>-0.132750</td>\n",
              "      <td>0.458337</td>\n",
              "    </tr>\n",
              "    <tr>\n",
              "      <th>2</th>\n",
              "      <td>0.233020</td>\n",
              "      <td>0.781524</td>\n",
              "      <td>-0.112322</td>\n",
              "      <td>1.894499</td>\n",
              "      <td>0.182788</td>\n",
              "      <td>1.224737</td>\n",
              "      <td>-0.010241</td>\n",
              "      <td>-0.015153</td>\n",
              "      <td>-0.019470</td>\n",
              "      <td>-0.019577</td>\n",
              "      <td>-0.132753</td>\n",
              "      <td>0.458337</td>\n",
              "    </tr>\n",
              "    <tr>\n",
              "      <th>3</th>\n",
              "      <td>1.207665</td>\n",
              "      <td>-0.247098</td>\n",
              "      <td>-0.065498</td>\n",
              "      <td>-0.675179</td>\n",
              "      <td>0.362314</td>\n",
              "      <td>1.081346</td>\n",
              "      <td>-0.008683</td>\n",
              "      <td>-0.014917</td>\n",
              "      <td>0.007139</td>\n",
              "      <td>0.119442</td>\n",
              "      <td>-0.132740</td>\n",
              "      <td>0.458337</td>\n",
              "    </tr>\n",
              "    <tr>\n",
              "      <th>4</th>\n",
              "      <td>1.071921</td>\n",
              "      <td>-0.551867</td>\n",
              "      <td>0.294266</td>\n",
              "      <td>1.622858</td>\n",
              "      <td>0.585101</td>\n",
              "      <td>1.395288</td>\n",
              "      <td>-0.008906</td>\n",
              "      <td>-0.015162</td>\n",
              "      <td>0.003220</td>\n",
              "      <td>0.098968</td>\n",
              "      <td>-0.132755</td>\n",
              "      <td>0.458337</td>\n",
              "    </tr>\n",
              "    <tr>\n",
              "      <th>...</th>\n",
              "      <td>...</td>\n",
              "      <td>...</td>\n",
              "      <td>...</td>\n",
              "      <td>...</td>\n",
              "      <td>...</td>\n",
              "      <td>...</td>\n",
              "      <td>...</td>\n",
              "      <td>...</td>\n",
              "      <td>...</td>\n",
              "      <td>...</td>\n",
              "      <td>...</td>\n",
              "      <td>...</td>\n",
              "    </tr>\n",
              "    <tr>\n",
              "      <th>197130</th>\n",
              "      <td>-0.176928</td>\n",
              "      <td>0.159950</td>\n",
              "      <td>-0.120965</td>\n",
              "      <td>1.792980</td>\n",
              "      <td>0.167534</td>\n",
              "      <td>1.073186</td>\n",
              "      <td>-0.010019</td>\n",
              "      <td>-0.015102</td>\n",
              "      <td>-0.007125</td>\n",
              "      <td>0.044916</td>\n",
              "      <td>-0.132750</td>\n",
              "      <td>0.458337</td>\n",
              "    </tr>\n",
              "    <tr>\n",
              "      <th>197131</th>\n",
              "      <td>-0.095481</td>\n",
              "      <td>1.774530</td>\n",
              "      <td>-0.090452</td>\n",
              "      <td>1.471910</td>\n",
              "      <td>0.116636</td>\n",
              "      <td>0.818412</td>\n",
              "      <td>-0.008720</td>\n",
              "      <td>-0.015207</td>\n",
              "      <td>0.003267</td>\n",
              "      <td>-0.050903</td>\n",
              "      <td>-0.132756</td>\n",
              "      <td>0.458337</td>\n",
              "    </tr>\n",
              "    <tr>\n",
              "      <th>197132</th>\n",
              "      <td>-0.022179</td>\n",
              "      <td>0.863037</td>\n",
              "      <td>0.679840</td>\n",
              "      <td>-0.567676</td>\n",
              "      <td>-0.218114</td>\n",
              "      <td>-0.809131</td>\n",
              "      <td>-0.009069</td>\n",
              "      <td>-0.015321</td>\n",
              "      <td>0.001130</td>\n",
              "      <td>-0.040256</td>\n",
              "      <td>-0.132764</td>\n",
              "      <td>0.458337</td>\n",
              "    </tr>\n",
              "    <tr>\n",
              "      <th>197133</th>\n",
              "      <td>-0.285523</td>\n",
              "      <td>-0.830495</td>\n",
              "      <td>-0.425903</td>\n",
              "      <td>-0.726252</td>\n",
              "      <td>-0.231790</td>\n",
              "      <td>-0.947358</td>\n",
              "      <td>-0.011354</td>\n",
              "      <td>-0.015370</td>\n",
              "      <td>-0.035968</td>\n",
              "      <td>-0.105774</td>\n",
              "      <td>0.383539</td>\n",
              "      <td>0.458337</td>\n",
              "    </tr>\n",
              "    <tr>\n",
              "      <th>197134</th>\n",
              "      <td>0.262884</td>\n",
              "      <td>0.532392</td>\n",
              "      <td>0.671564</td>\n",
              "      <td>-0.603415</td>\n",
              "      <td>-0.220323</td>\n",
              "      <td>-0.831458</td>\n",
              "      <td>-0.008498</td>\n",
              "      <td>-0.015308</td>\n",
              "      <td>0.017537</td>\n",
              "      <td>0.013386</td>\n",
              "      <td>-0.132762</td>\n",
              "      <td>0.458337</td>\n",
              "    </tr>\n",
              "  </tbody>\n",
              "</table>\n",
              "<p>197135 rows × 12 columns</p>\n",
              "</div>\n",
              "      <button class=\"colab-df-convert\" onclick=\"convertToInteractive('df-da303299-b1b1-4fa2-98fc-26720cd11d6f')\"\n",
              "              title=\"Convert this dataframe to an interactive table.\"\n",
              "              style=\"display:none;\">\n",
              "        \n",
              "  <svg xmlns=\"http://www.w3.org/2000/svg\" height=\"24px\"viewBox=\"0 0 24 24\"\n",
              "       width=\"24px\">\n",
              "    <path d=\"M0 0h24v24H0V0z\" fill=\"none\"/>\n",
              "    <path d=\"M18.56 5.44l.94 2.06.94-2.06 2.06-.94-2.06-.94-.94-2.06-.94 2.06-2.06.94zm-11 1L8.5 8.5l.94-2.06 2.06-.94-2.06-.94L8.5 2.5l-.94 2.06-2.06.94zm10 10l.94 2.06.94-2.06 2.06-.94-2.06-.94-.94-2.06-.94 2.06-2.06.94z\"/><path d=\"M17.41 7.96l-1.37-1.37c-.4-.4-.92-.59-1.43-.59-.52 0-1.04.2-1.43.59L10.3 9.45l-7.72 7.72c-.78.78-.78 2.05 0 2.83L4 21.41c.39.39.9.59 1.41.59.51 0 1.02-.2 1.41-.59l7.78-7.78 2.81-2.81c.8-.78.8-2.07 0-2.86zM5.41 20L4 18.59l7.72-7.72 1.47 1.35L5.41 20z\"/>\n",
              "  </svg>\n",
              "      </button>\n",
              "      \n",
              "  <style>\n",
              "    .colab-df-container {\n",
              "      display:flex;\n",
              "      flex-wrap:wrap;\n",
              "      gap: 12px;\n",
              "    }\n",
              "\n",
              "    .colab-df-convert {\n",
              "      background-color: #E8F0FE;\n",
              "      border: none;\n",
              "      border-radius: 50%;\n",
              "      cursor: pointer;\n",
              "      display: none;\n",
              "      fill: #1967D2;\n",
              "      height: 32px;\n",
              "      padding: 0 0 0 0;\n",
              "      width: 32px;\n",
              "    }\n",
              "\n",
              "    .colab-df-convert:hover {\n",
              "      background-color: #E2EBFA;\n",
              "      box-shadow: 0px 1px 2px rgba(60, 64, 67, 0.3), 0px 1px 3px 1px rgba(60, 64, 67, 0.15);\n",
              "      fill: #174EA6;\n",
              "    }\n",
              "\n",
              "    [theme=dark] .colab-df-convert {\n",
              "      background-color: #3B4455;\n",
              "      fill: #D2E3FC;\n",
              "    }\n",
              "\n",
              "    [theme=dark] .colab-df-convert:hover {\n",
              "      background-color: #434B5C;\n",
              "      box-shadow: 0px 1px 3px 1px rgba(0, 0, 0, 0.15);\n",
              "      filter: drop-shadow(0px 1px 2px rgba(0, 0, 0, 0.3));\n",
              "      fill: #FFFFFF;\n",
              "    }\n",
              "  </style>\n",
              "\n",
              "      <script>\n",
              "        const buttonEl =\n",
              "          document.querySelector('#df-da303299-b1b1-4fa2-98fc-26720cd11d6f button.colab-df-convert');\n",
              "        buttonEl.style.display =\n",
              "          google.colab.kernel.accessAllowed ? 'block' : 'none';\n",
              "\n",
              "        async function convertToInteractive(key) {\n",
              "          const element = document.querySelector('#df-da303299-b1b1-4fa2-98fc-26720cd11d6f');\n",
              "          const dataTable =\n",
              "            await google.colab.kernel.invokeFunction('convertToInteractive',\n",
              "                                                     [key], {});\n",
              "          if (!dataTable) return;\n",
              "\n",
              "          const docLinkHtml = 'Like what you see? Visit the ' +\n",
              "            '<a target=\"_blank\" href=https://colab.research.google.com/notebooks/data_table.ipynb>data table notebook</a>'\n",
              "            + ' to learn more about interactive tables.';\n",
              "          element.innerHTML = '';\n",
              "          dataTable['output_type'] = 'display_data';\n",
              "          await google.colab.output.renderOutput(dataTable, element);\n",
              "          const docLink = document.createElement('div');\n",
              "          docLink.innerHTML = docLinkHtml;\n",
              "          element.appendChild(docLink);\n",
              "        }\n",
              "      </script>\n",
              "    </div>\n",
              "  </div>\n",
              "  "
            ]
          },
          "metadata": {},
          "execution_count": 847
        }
      ],
      "source": [
        "X_train_method1_gini"
      ]
    },
    {
      "cell_type": "markdown",
      "metadata": {
        "id": "nHd8Rge83OUU"
      },
      "source": [
        "method1_IG"
      ]
    },
    {
      "cell_type": "code",
      "execution_count": null,
      "metadata": {
        "id": "Zvh0pb-r0UVI"
      },
      "outputs": [],
      "source": [
        "X_train_method1_IG=X_train[method1_IG]\n",
        "X_test_method1_IG=X_test[method1_IG]"
      ]
    },
    {
      "cell_type": "code",
      "execution_count": null,
      "metadata": {
        "colab": {
          "base_uri": "https://localhost:8080/"
        },
        "id": "tFvGDxmD46hz",
        "outputId": "f0a0389a-b512-42d0-d504-6599e3866b99"
      },
      "outputs": [
        {
          "output_type": "stream",
          "name": "stdout",
          "text": [
            "(197135, 12) (84487, 12)\n"
          ]
        }
      ],
      "source": [
        "print(X_train_method1_IG.shape, X_test_method1_IG.shape)"
      ]
    },
    {
      "cell_type": "code",
      "execution_count": null,
      "metadata": {
        "colab": {
          "base_uri": "https://localhost:8080/",
          "height": 424
        },
        "id": "81nqDp7257Yv",
        "outputId": "f2e04f57-b9c7-4f59-dad0-1bc4be682bf4"
      },
      "outputs": [
        {
          "output_type": "execute_result",
          "data": {
            "text/plain": [
              "             1         3         6         7         8         16        18  \\\n",
              "0     -0.687512 -0.313985 -1.118492 -1.055756 -0.425904 -0.011354  0.309692   \n",
              "1     -0.687512 -0.305543  0.300155  0.003409  0.391836 -0.008720 -0.111076   \n",
              "2     -0.687512  0.233041 -1.118492 -0.826861 -0.425904 -0.011354  0.304742   \n",
              "3     -0.687512 -0.305543  0.300155  0.872234  0.135479 -0.008720 -0.111075   \n",
              "4     -0.687512 -0.305543  0.300155  1.463592  0.235451 -0.008720 -0.111076   \n",
              "...         ...       ...       ...       ...       ...       ...       ...   \n",
              "84482 -0.687512 -0.305543  0.300155 -0.176977  0.292655 -0.009291 -0.111076   \n",
              "84483 -0.687512  0.411393 -1.118492 -1.011840 -0.425898 -0.011354  0.000066   \n",
              "84484  1.455061 -0.305543  1.009478  0.811033  0.204352 -0.009128 -0.111067   \n",
              "84485 -0.687512 -0.305543 -1.118492 -0.335474  0.818703 -0.009195 -0.111075   \n",
              "84486  1.455061 -0.305543  1.009478  1.598989  0.150556 -0.010241 -0.111074   \n",
              "\n",
              "             19        25        27        28        29  \n",
              "0     -0.015370 -0.105774  0.835537  2.398042  0.350137  \n",
              "1     -0.015303 -0.027972 -0.132762 -0.255462  0.458337  \n",
              "2     -0.015370 -0.105569  0.660069  1.552664  0.079636  \n",
              "3     -0.015273 -0.044556 -0.132761 -0.255459 -0.190866  \n",
              "4     -0.015287 -0.045375 -0.132762 -0.255461 -0.190866  \n",
              "...         ...       ...       ...       ...       ...  \n",
              "84482 -0.015313 -0.042918 -0.132763 -0.255463 -1.759773  \n",
              "84483 -0.015370 -0.105774 -0.019257  0.003396  0.458337  \n",
              "84484 -0.015154  0.075218 -0.132754 -0.255444  0.241936  \n",
              "84485 -0.015315  0.025466 -0.132762 -0.255462 -0.244966  \n",
              "84486 -0.015252 -0.020192 -0.132759 -0.255456  0.133736  \n",
              "\n",
              "[84487 rows x 12 columns]"
            ],
            "text/html": [
              "\n",
              "  <div id=\"df-24f61e61-58d7-4408-a570-2e967bf8054e\">\n",
              "    <div class=\"colab-df-container\">\n",
              "      <div>\n",
              "<style scoped>\n",
              "    .dataframe tbody tr th:only-of-type {\n",
              "        vertical-align: middle;\n",
              "    }\n",
              "\n",
              "    .dataframe tbody tr th {\n",
              "        vertical-align: top;\n",
              "    }\n",
              "\n",
              "    .dataframe thead th {\n",
              "        text-align: right;\n",
              "    }\n",
              "</style>\n",
              "<table border=\"1\" class=\"dataframe\">\n",
              "  <thead>\n",
              "    <tr style=\"text-align: right;\">\n",
              "      <th></th>\n",
              "      <th>1</th>\n",
              "      <th>3</th>\n",
              "      <th>6</th>\n",
              "      <th>7</th>\n",
              "      <th>8</th>\n",
              "      <th>16</th>\n",
              "      <th>18</th>\n",
              "      <th>19</th>\n",
              "      <th>25</th>\n",
              "      <th>27</th>\n",
              "      <th>28</th>\n",
              "      <th>29</th>\n",
              "    </tr>\n",
              "  </thead>\n",
              "  <tbody>\n",
              "    <tr>\n",
              "      <th>0</th>\n",
              "      <td>-0.687512</td>\n",
              "      <td>-0.313985</td>\n",
              "      <td>-1.118492</td>\n",
              "      <td>-1.055756</td>\n",
              "      <td>-0.425904</td>\n",
              "      <td>-0.011354</td>\n",
              "      <td>0.309692</td>\n",
              "      <td>-0.015370</td>\n",
              "      <td>-0.105774</td>\n",
              "      <td>0.835537</td>\n",
              "      <td>2.398042</td>\n",
              "      <td>0.350137</td>\n",
              "    </tr>\n",
              "    <tr>\n",
              "      <th>1</th>\n",
              "      <td>-0.687512</td>\n",
              "      <td>-0.305543</td>\n",
              "      <td>0.300155</td>\n",
              "      <td>0.003409</td>\n",
              "      <td>0.391836</td>\n",
              "      <td>-0.008720</td>\n",
              "      <td>-0.111076</td>\n",
              "      <td>-0.015303</td>\n",
              "      <td>-0.027972</td>\n",
              "      <td>-0.132762</td>\n",
              "      <td>-0.255462</td>\n",
              "      <td>0.458337</td>\n",
              "    </tr>\n",
              "    <tr>\n",
              "      <th>2</th>\n",
              "      <td>-0.687512</td>\n",
              "      <td>0.233041</td>\n",
              "      <td>-1.118492</td>\n",
              "      <td>-0.826861</td>\n",
              "      <td>-0.425904</td>\n",
              "      <td>-0.011354</td>\n",
              "      <td>0.304742</td>\n",
              "      <td>-0.015370</td>\n",
              "      <td>-0.105569</td>\n",
              "      <td>0.660069</td>\n",
              "      <td>1.552664</td>\n",
              "      <td>0.079636</td>\n",
              "    </tr>\n",
              "    <tr>\n",
              "      <th>3</th>\n",
              "      <td>-0.687512</td>\n",
              "      <td>-0.305543</td>\n",
              "      <td>0.300155</td>\n",
              "      <td>0.872234</td>\n",
              "      <td>0.135479</td>\n",
              "      <td>-0.008720</td>\n",
              "      <td>-0.111075</td>\n",
              "      <td>-0.015273</td>\n",
              "      <td>-0.044556</td>\n",
              "      <td>-0.132761</td>\n",
              "      <td>-0.255459</td>\n",
              "      <td>-0.190866</td>\n",
              "    </tr>\n",
              "    <tr>\n",
              "      <th>4</th>\n",
              "      <td>-0.687512</td>\n",
              "      <td>-0.305543</td>\n",
              "      <td>0.300155</td>\n",
              "      <td>1.463592</td>\n",
              "      <td>0.235451</td>\n",
              "      <td>-0.008720</td>\n",
              "      <td>-0.111076</td>\n",
              "      <td>-0.015287</td>\n",
              "      <td>-0.045375</td>\n",
              "      <td>-0.132762</td>\n",
              "      <td>-0.255461</td>\n",
              "      <td>-0.190866</td>\n",
              "    </tr>\n",
              "    <tr>\n",
              "      <th>...</th>\n",
              "      <td>...</td>\n",
              "      <td>...</td>\n",
              "      <td>...</td>\n",
              "      <td>...</td>\n",
              "      <td>...</td>\n",
              "      <td>...</td>\n",
              "      <td>...</td>\n",
              "      <td>...</td>\n",
              "      <td>...</td>\n",
              "      <td>...</td>\n",
              "      <td>...</td>\n",
              "      <td>...</td>\n",
              "    </tr>\n",
              "    <tr>\n",
              "      <th>84482</th>\n",
              "      <td>-0.687512</td>\n",
              "      <td>-0.305543</td>\n",
              "      <td>0.300155</td>\n",
              "      <td>-0.176977</td>\n",
              "      <td>0.292655</td>\n",
              "      <td>-0.009291</td>\n",
              "      <td>-0.111076</td>\n",
              "      <td>-0.015313</td>\n",
              "      <td>-0.042918</td>\n",
              "      <td>-0.132763</td>\n",
              "      <td>-0.255463</td>\n",
              "      <td>-1.759773</td>\n",
              "    </tr>\n",
              "    <tr>\n",
              "      <th>84483</th>\n",
              "      <td>-0.687512</td>\n",
              "      <td>0.411393</td>\n",
              "      <td>-1.118492</td>\n",
              "      <td>-1.011840</td>\n",
              "      <td>-0.425898</td>\n",
              "      <td>-0.011354</td>\n",
              "      <td>0.000066</td>\n",
              "      <td>-0.015370</td>\n",
              "      <td>-0.105774</td>\n",
              "      <td>-0.019257</td>\n",
              "      <td>0.003396</td>\n",
              "      <td>0.458337</td>\n",
              "    </tr>\n",
              "    <tr>\n",
              "      <th>84484</th>\n",
              "      <td>1.455061</td>\n",
              "      <td>-0.305543</td>\n",
              "      <td>1.009478</td>\n",
              "      <td>0.811033</td>\n",
              "      <td>0.204352</td>\n",
              "      <td>-0.009128</td>\n",
              "      <td>-0.111067</td>\n",
              "      <td>-0.015154</td>\n",
              "      <td>0.075218</td>\n",
              "      <td>-0.132754</td>\n",
              "      <td>-0.255444</td>\n",
              "      <td>0.241936</td>\n",
              "    </tr>\n",
              "    <tr>\n",
              "      <th>84485</th>\n",
              "      <td>-0.687512</td>\n",
              "      <td>-0.305543</td>\n",
              "      <td>-1.118492</td>\n",
              "      <td>-0.335474</td>\n",
              "      <td>0.818703</td>\n",
              "      <td>-0.009195</td>\n",
              "      <td>-0.111075</td>\n",
              "      <td>-0.015315</td>\n",
              "      <td>0.025466</td>\n",
              "      <td>-0.132762</td>\n",
              "      <td>-0.255462</td>\n",
              "      <td>-0.244966</td>\n",
              "    </tr>\n",
              "    <tr>\n",
              "      <th>84486</th>\n",
              "      <td>1.455061</td>\n",
              "      <td>-0.305543</td>\n",
              "      <td>1.009478</td>\n",
              "      <td>1.598989</td>\n",
              "      <td>0.150556</td>\n",
              "      <td>-0.010241</td>\n",
              "      <td>-0.111074</td>\n",
              "      <td>-0.015252</td>\n",
              "      <td>-0.020192</td>\n",
              "      <td>-0.132759</td>\n",
              "      <td>-0.255456</td>\n",
              "      <td>0.133736</td>\n",
              "    </tr>\n",
              "  </tbody>\n",
              "</table>\n",
              "<p>84487 rows × 12 columns</p>\n",
              "</div>\n",
              "      <button class=\"colab-df-convert\" onclick=\"convertToInteractive('df-24f61e61-58d7-4408-a570-2e967bf8054e')\"\n",
              "              title=\"Convert this dataframe to an interactive table.\"\n",
              "              style=\"display:none;\">\n",
              "        \n",
              "  <svg xmlns=\"http://www.w3.org/2000/svg\" height=\"24px\"viewBox=\"0 0 24 24\"\n",
              "       width=\"24px\">\n",
              "    <path d=\"M0 0h24v24H0V0z\" fill=\"none\"/>\n",
              "    <path d=\"M18.56 5.44l.94 2.06.94-2.06 2.06-.94-2.06-.94-.94-2.06-.94 2.06-2.06.94zm-11 1L8.5 8.5l.94-2.06 2.06-.94-2.06-.94L8.5 2.5l-.94 2.06-2.06.94zm10 10l.94 2.06.94-2.06 2.06-.94-2.06-.94-.94-2.06-.94 2.06-2.06.94z\"/><path d=\"M17.41 7.96l-1.37-1.37c-.4-.4-.92-.59-1.43-.59-.52 0-1.04.2-1.43.59L10.3 9.45l-7.72 7.72c-.78.78-.78 2.05 0 2.83L4 21.41c.39.39.9.59 1.41.59.51 0 1.02-.2 1.41-.59l7.78-7.78 2.81-2.81c.8-.78.8-2.07 0-2.86zM5.41 20L4 18.59l7.72-7.72 1.47 1.35L5.41 20z\"/>\n",
              "  </svg>\n",
              "      </button>\n",
              "      \n",
              "  <style>\n",
              "    .colab-df-container {\n",
              "      display:flex;\n",
              "      flex-wrap:wrap;\n",
              "      gap: 12px;\n",
              "    }\n",
              "\n",
              "    .colab-df-convert {\n",
              "      background-color: #E8F0FE;\n",
              "      border: none;\n",
              "      border-radius: 50%;\n",
              "      cursor: pointer;\n",
              "      display: none;\n",
              "      fill: #1967D2;\n",
              "      height: 32px;\n",
              "      padding: 0 0 0 0;\n",
              "      width: 32px;\n",
              "    }\n",
              "\n",
              "    .colab-df-convert:hover {\n",
              "      background-color: #E2EBFA;\n",
              "      box-shadow: 0px 1px 2px rgba(60, 64, 67, 0.3), 0px 1px 3px 1px rgba(60, 64, 67, 0.15);\n",
              "      fill: #174EA6;\n",
              "    }\n",
              "\n",
              "    [theme=dark] .colab-df-convert {\n",
              "      background-color: #3B4455;\n",
              "      fill: #D2E3FC;\n",
              "    }\n",
              "\n",
              "    [theme=dark] .colab-df-convert:hover {\n",
              "      background-color: #434B5C;\n",
              "      box-shadow: 0px 1px 3px 1px rgba(0, 0, 0, 0.15);\n",
              "      filter: drop-shadow(0px 1px 2px rgba(0, 0, 0, 0.3));\n",
              "      fill: #FFFFFF;\n",
              "    }\n",
              "  </style>\n",
              "\n",
              "      <script>\n",
              "        const buttonEl =\n",
              "          document.querySelector('#df-24f61e61-58d7-4408-a570-2e967bf8054e button.colab-df-convert');\n",
              "        buttonEl.style.display =\n",
              "          google.colab.kernel.accessAllowed ? 'block' : 'none';\n",
              "\n",
              "        async function convertToInteractive(key) {\n",
              "          const element = document.querySelector('#df-24f61e61-58d7-4408-a570-2e967bf8054e');\n",
              "          const dataTable =\n",
              "            await google.colab.kernel.invokeFunction('convertToInteractive',\n",
              "                                                     [key], {});\n",
              "          if (!dataTable) return;\n",
              "\n",
              "          const docLinkHtml = 'Like what you see? Visit the ' +\n",
              "            '<a target=\"_blank\" href=https://colab.research.google.com/notebooks/data_table.ipynb>data table notebook</a>'\n",
              "            + ' to learn more about interactive tables.';\n",
              "          element.innerHTML = '';\n",
              "          dataTable['output_type'] = 'display_data';\n",
              "          await google.colab.output.renderOutput(dataTable, element);\n",
              "          const docLink = document.createElement('div');\n",
              "          docLink.innerHTML = docLinkHtml;\n",
              "          element.appendChild(docLink);\n",
              "        }\n",
              "      </script>\n",
              "    </div>\n",
              "  </div>\n",
              "  "
            ]
          },
          "metadata": {},
          "execution_count": 850
        }
      ],
      "source": [
        "X_test_method1_IG"
      ]
    },
    {
      "cell_type": "markdown",
      "metadata": {
        "id": "MZqb2ug73fKj"
      },
      "source": [
        "method4_gini"
      ]
    },
    {
      "cell_type": "code",
      "execution_count": null,
      "metadata": {
        "id": "v3PLrHoZ0URu"
      },
      "outputs": [],
      "source": [
        "X_train_method4_gini=X_train[method4_gini]\n",
        "X_test_method4_gini=X_test[method4_gini]"
      ]
    },
    {
      "cell_type": "code",
      "execution_count": null,
      "metadata": {
        "colab": {
          "base_uri": "https://localhost:8080/"
        },
        "id": "xvhrnDAU5Ulu",
        "outputId": "9e1f2b9d-c034-4fcd-9fac-9c59d1a5d19f"
      },
      "outputs": [
        {
          "output_type": "stream",
          "name": "stdout",
          "text": [
            "(197135, 8) (84487, 8)\n"
          ]
        }
      ],
      "source": [
        "print(X_train_method4_gini.shape, X_test_method4_gini.shape)"
      ]
    },
    {
      "cell_type": "code",
      "execution_count": null,
      "metadata": {
        "colab": {
          "base_uri": "https://localhost:8080/",
          "height": 424
        },
        "id": "o4skqcLB8IQ-",
        "outputId": "cae8319f-9c72-48d6-acdc-6c884b61016d"
      },
      "outputs": [
        {
          "output_type": "execute_result",
          "data": {
            "text/plain": [
              "              7         24        25        26        28        13        8   \\\n",
              "0      -0.801086  0.438518  0.119442  0.378301 -0.250907 -0.848420 -0.420915   \n",
              "1      -0.277427 -0.031745 -0.047627 -0.019820 -0.255445  0.541713 -0.119411   \n",
              "2       0.781524  0.047208 -0.019577  0.047021 -0.255440  1.224737 -0.112322   \n",
              "3      -0.247098  0.438518  0.119442  0.378301 -0.255411  1.081346 -0.065498   \n",
              "4      -0.551867  0.380888  0.098968  0.329512 -0.255445  1.395288  0.294266   \n",
              "...          ...       ...       ...       ...       ...       ...       ...   \n",
              "197130  0.159950  0.228744  0.044916  0.200708 -0.255424  1.073186 -0.120965   \n",
              "197131  1.774530 -0.040966 -0.050903 -0.027626 -0.255449  0.818412 -0.090452   \n",
              "197132  0.863037 -0.010998 -0.040256 -0.002256 -0.255466 -0.809131  0.679840   \n",
              "197133 -0.830495 -0.195415 -0.105774 -0.254985  0.922010 -0.947358 -0.425903   \n",
              "197134  0.532392  0.139993  0.013386  0.125572 -0.255461 -0.831458  0.671564   \n",
              "\n",
              "              31  \n",
              "0      -0.113276  \n",
              "1      -0.114536  \n",
              "2      -0.114538  \n",
              "3      -0.114530  \n",
              "4      -0.114539  \n",
              "...          ...  \n",
              "197130 -0.114536  \n",
              "197131 -0.114540  \n",
              "197132 -0.114545  \n",
              "197133  0.214222  \n",
              "197134 -0.114544  \n",
              "\n",
              "[197135 rows x 8 columns]"
            ],
            "text/html": [
              "\n",
              "  <div id=\"df-3f54c66a-cb31-4a2f-ac65-cac1f19b2050\">\n",
              "    <div class=\"colab-df-container\">\n",
              "      <div>\n",
              "<style scoped>\n",
              "    .dataframe tbody tr th:only-of-type {\n",
              "        vertical-align: middle;\n",
              "    }\n",
              "\n",
              "    .dataframe tbody tr th {\n",
              "        vertical-align: top;\n",
              "    }\n",
              "\n",
              "    .dataframe thead th {\n",
              "        text-align: right;\n",
              "    }\n",
              "</style>\n",
              "<table border=\"1\" class=\"dataframe\">\n",
              "  <thead>\n",
              "    <tr style=\"text-align: right;\">\n",
              "      <th></th>\n",
              "      <th>7</th>\n",
              "      <th>24</th>\n",
              "      <th>25</th>\n",
              "      <th>26</th>\n",
              "      <th>28</th>\n",
              "      <th>13</th>\n",
              "      <th>8</th>\n",
              "      <th>31</th>\n",
              "    </tr>\n",
              "  </thead>\n",
              "  <tbody>\n",
              "    <tr>\n",
              "      <th>0</th>\n",
              "      <td>-0.801086</td>\n",
              "      <td>0.438518</td>\n",
              "      <td>0.119442</td>\n",
              "      <td>0.378301</td>\n",
              "      <td>-0.250907</td>\n",
              "      <td>-0.848420</td>\n",
              "      <td>-0.420915</td>\n",
              "      <td>-0.113276</td>\n",
              "    </tr>\n",
              "    <tr>\n",
              "      <th>1</th>\n",
              "      <td>-0.277427</td>\n",
              "      <td>-0.031745</td>\n",
              "      <td>-0.047627</td>\n",
              "      <td>-0.019820</td>\n",
              "      <td>-0.255445</td>\n",
              "      <td>0.541713</td>\n",
              "      <td>-0.119411</td>\n",
              "      <td>-0.114536</td>\n",
              "    </tr>\n",
              "    <tr>\n",
              "      <th>2</th>\n",
              "      <td>0.781524</td>\n",
              "      <td>0.047208</td>\n",
              "      <td>-0.019577</td>\n",
              "      <td>0.047021</td>\n",
              "      <td>-0.255440</td>\n",
              "      <td>1.224737</td>\n",
              "      <td>-0.112322</td>\n",
              "      <td>-0.114538</td>\n",
              "    </tr>\n",
              "    <tr>\n",
              "      <th>3</th>\n",
              "      <td>-0.247098</td>\n",
              "      <td>0.438518</td>\n",
              "      <td>0.119442</td>\n",
              "      <td>0.378301</td>\n",
              "      <td>-0.255411</td>\n",
              "      <td>1.081346</td>\n",
              "      <td>-0.065498</td>\n",
              "      <td>-0.114530</td>\n",
              "    </tr>\n",
              "    <tr>\n",
              "      <th>4</th>\n",
              "      <td>-0.551867</td>\n",
              "      <td>0.380888</td>\n",
              "      <td>0.098968</td>\n",
              "      <td>0.329512</td>\n",
              "      <td>-0.255445</td>\n",
              "      <td>1.395288</td>\n",
              "      <td>0.294266</td>\n",
              "      <td>-0.114539</td>\n",
              "    </tr>\n",
              "    <tr>\n",
              "      <th>...</th>\n",
              "      <td>...</td>\n",
              "      <td>...</td>\n",
              "      <td>...</td>\n",
              "      <td>...</td>\n",
              "      <td>...</td>\n",
              "      <td>...</td>\n",
              "      <td>...</td>\n",
              "      <td>...</td>\n",
              "    </tr>\n",
              "    <tr>\n",
              "      <th>197130</th>\n",
              "      <td>0.159950</td>\n",
              "      <td>0.228744</td>\n",
              "      <td>0.044916</td>\n",
              "      <td>0.200708</td>\n",
              "      <td>-0.255424</td>\n",
              "      <td>1.073186</td>\n",
              "      <td>-0.120965</td>\n",
              "      <td>-0.114536</td>\n",
              "    </tr>\n",
              "    <tr>\n",
              "      <th>197131</th>\n",
              "      <td>1.774530</td>\n",
              "      <td>-0.040966</td>\n",
              "      <td>-0.050903</td>\n",
              "      <td>-0.027626</td>\n",
              "      <td>-0.255449</td>\n",
              "      <td>0.818412</td>\n",
              "      <td>-0.090452</td>\n",
              "      <td>-0.114540</td>\n",
              "    </tr>\n",
              "    <tr>\n",
              "      <th>197132</th>\n",
              "      <td>0.863037</td>\n",
              "      <td>-0.010998</td>\n",
              "      <td>-0.040256</td>\n",
              "      <td>-0.002256</td>\n",
              "      <td>-0.255466</td>\n",
              "      <td>-0.809131</td>\n",
              "      <td>0.679840</td>\n",
              "      <td>-0.114545</td>\n",
              "    </tr>\n",
              "    <tr>\n",
              "      <th>197133</th>\n",
              "      <td>-0.830495</td>\n",
              "      <td>-0.195415</td>\n",
              "      <td>-0.105774</td>\n",
              "      <td>-0.254985</td>\n",
              "      <td>0.922010</td>\n",
              "      <td>-0.947358</td>\n",
              "      <td>-0.425903</td>\n",
              "      <td>0.214222</td>\n",
              "    </tr>\n",
              "    <tr>\n",
              "      <th>197134</th>\n",
              "      <td>0.532392</td>\n",
              "      <td>0.139993</td>\n",
              "      <td>0.013386</td>\n",
              "      <td>0.125572</td>\n",
              "      <td>-0.255461</td>\n",
              "      <td>-0.831458</td>\n",
              "      <td>0.671564</td>\n",
              "      <td>-0.114544</td>\n",
              "    </tr>\n",
              "  </tbody>\n",
              "</table>\n",
              "<p>197135 rows × 8 columns</p>\n",
              "</div>\n",
              "      <button class=\"colab-df-convert\" onclick=\"convertToInteractive('df-3f54c66a-cb31-4a2f-ac65-cac1f19b2050')\"\n",
              "              title=\"Convert this dataframe to an interactive table.\"\n",
              "              style=\"display:none;\">\n",
              "        \n",
              "  <svg xmlns=\"http://www.w3.org/2000/svg\" height=\"24px\"viewBox=\"0 0 24 24\"\n",
              "       width=\"24px\">\n",
              "    <path d=\"M0 0h24v24H0V0z\" fill=\"none\"/>\n",
              "    <path d=\"M18.56 5.44l.94 2.06.94-2.06 2.06-.94-2.06-.94-.94-2.06-.94 2.06-2.06.94zm-11 1L8.5 8.5l.94-2.06 2.06-.94-2.06-.94L8.5 2.5l-.94 2.06-2.06.94zm10 10l.94 2.06.94-2.06 2.06-.94-2.06-.94-.94-2.06-.94 2.06-2.06.94z\"/><path d=\"M17.41 7.96l-1.37-1.37c-.4-.4-.92-.59-1.43-.59-.52 0-1.04.2-1.43.59L10.3 9.45l-7.72 7.72c-.78.78-.78 2.05 0 2.83L4 21.41c.39.39.9.59 1.41.59.51 0 1.02-.2 1.41-.59l7.78-7.78 2.81-2.81c.8-.78.8-2.07 0-2.86zM5.41 20L4 18.59l7.72-7.72 1.47 1.35L5.41 20z\"/>\n",
              "  </svg>\n",
              "      </button>\n",
              "      \n",
              "  <style>\n",
              "    .colab-df-container {\n",
              "      display:flex;\n",
              "      flex-wrap:wrap;\n",
              "      gap: 12px;\n",
              "    }\n",
              "\n",
              "    .colab-df-convert {\n",
              "      background-color: #E8F0FE;\n",
              "      border: none;\n",
              "      border-radius: 50%;\n",
              "      cursor: pointer;\n",
              "      display: none;\n",
              "      fill: #1967D2;\n",
              "      height: 32px;\n",
              "      padding: 0 0 0 0;\n",
              "      width: 32px;\n",
              "    }\n",
              "\n",
              "    .colab-df-convert:hover {\n",
              "      background-color: #E2EBFA;\n",
              "      box-shadow: 0px 1px 2px rgba(60, 64, 67, 0.3), 0px 1px 3px 1px rgba(60, 64, 67, 0.15);\n",
              "      fill: #174EA6;\n",
              "    }\n",
              "\n",
              "    [theme=dark] .colab-df-convert {\n",
              "      background-color: #3B4455;\n",
              "      fill: #D2E3FC;\n",
              "    }\n",
              "\n",
              "    [theme=dark] .colab-df-convert:hover {\n",
              "      background-color: #434B5C;\n",
              "      box-shadow: 0px 1px 3px 1px rgba(0, 0, 0, 0.15);\n",
              "      filter: drop-shadow(0px 1px 2px rgba(0, 0, 0, 0.3));\n",
              "      fill: #FFFFFF;\n",
              "    }\n",
              "  </style>\n",
              "\n",
              "      <script>\n",
              "        const buttonEl =\n",
              "          document.querySelector('#df-3f54c66a-cb31-4a2f-ac65-cac1f19b2050 button.colab-df-convert');\n",
              "        buttonEl.style.display =\n",
              "          google.colab.kernel.accessAllowed ? 'block' : 'none';\n",
              "\n",
              "        async function convertToInteractive(key) {\n",
              "          const element = document.querySelector('#df-3f54c66a-cb31-4a2f-ac65-cac1f19b2050');\n",
              "          const dataTable =\n",
              "            await google.colab.kernel.invokeFunction('convertToInteractive',\n",
              "                                                     [key], {});\n",
              "          if (!dataTable) return;\n",
              "\n",
              "          const docLinkHtml = 'Like what you see? Visit the ' +\n",
              "            '<a target=\"_blank\" href=https://colab.research.google.com/notebooks/data_table.ipynb>data table notebook</a>'\n",
              "            + ' to learn more about interactive tables.';\n",
              "          element.innerHTML = '';\n",
              "          dataTable['output_type'] = 'display_data';\n",
              "          await google.colab.output.renderOutput(dataTable, element);\n",
              "          const docLink = document.createElement('div');\n",
              "          docLink.innerHTML = docLinkHtml;\n",
              "          element.appendChild(docLink);\n",
              "        }\n",
              "      </script>\n",
              "    </div>\n",
              "  </div>\n",
              "  "
            ]
          },
          "metadata": {},
          "execution_count": 853
        }
      ],
      "source": [
        "X_train_method4_gini"
      ]
    },
    {
      "cell_type": "markdown",
      "metadata": {
        "id": "LuYGWZl53xKT"
      },
      "source": [
        "method4_IG"
      ]
    },
    {
      "cell_type": "code",
      "execution_count": null,
      "metadata": {
        "id": "-ln3tyjk0UOx"
      },
      "outputs": [],
      "source": [
        "X_train_method4_IG=X_train[method4_IG]\n",
        "X_test_method4_IG=X_test[method4_IG]"
      ]
    },
    {
      "cell_type": "code",
      "execution_count": null,
      "metadata": {
        "colab": {
          "base_uri": "https://localhost:8080/",
          "height": 424
        },
        "id": "gobXPYUW8Slo",
        "outputId": "cfd16c5e-5c6c-499f-ab10-3e017076c891"
      },
      "outputs": [
        {
          "output_type": "execute_result",
          "data": {
            "text/plain": [
              "             1         19        6         8         27        31\n",
              "0     -0.687512 -0.015370 -1.118492 -0.425904  0.835537  0.348783\n",
              "1     -0.687512 -0.015303  0.300155  0.391836 -0.132762 -0.114544\n",
              "2     -0.687512 -0.015370 -1.118492 -0.425904  0.660069  0.390308\n",
              "3     -0.687512 -0.015273  0.300155  0.135479 -0.132761 -0.114543\n",
              "4     -0.687512 -0.015287  0.300155  0.235451 -0.132762 -0.114543\n",
              "...         ...       ...       ...       ...       ...       ...\n",
              "84482 -0.687512 -0.015313  0.300155  0.292655 -0.132763 -0.114544\n",
              "84483 -0.687512 -0.015370 -1.118492 -0.425898 -0.019257 -0.042267\n",
              "84484  1.455061 -0.015154  1.009478  0.204352 -0.132754 -0.114539\n",
              "84485 -0.687512 -0.015315 -1.118492  0.818703 -0.132762 -0.114544\n",
              "84486  1.455061 -0.015252  1.009478  0.150556 -0.132759 -0.114542\n",
              "\n",
              "[84487 rows x 6 columns]"
            ],
            "text/html": [
              "\n",
              "  <div id=\"df-b1aeac92-1c87-4c9b-a01c-3dbefa20e150\">\n",
              "    <div class=\"colab-df-container\">\n",
              "      <div>\n",
              "<style scoped>\n",
              "    .dataframe tbody tr th:only-of-type {\n",
              "        vertical-align: middle;\n",
              "    }\n",
              "\n",
              "    .dataframe tbody tr th {\n",
              "        vertical-align: top;\n",
              "    }\n",
              "\n",
              "    .dataframe thead th {\n",
              "        text-align: right;\n",
              "    }\n",
              "</style>\n",
              "<table border=\"1\" class=\"dataframe\">\n",
              "  <thead>\n",
              "    <tr style=\"text-align: right;\">\n",
              "      <th></th>\n",
              "      <th>1</th>\n",
              "      <th>19</th>\n",
              "      <th>6</th>\n",
              "      <th>8</th>\n",
              "      <th>27</th>\n",
              "      <th>31</th>\n",
              "    </tr>\n",
              "  </thead>\n",
              "  <tbody>\n",
              "    <tr>\n",
              "      <th>0</th>\n",
              "      <td>-0.687512</td>\n",
              "      <td>-0.015370</td>\n",
              "      <td>-1.118492</td>\n",
              "      <td>-0.425904</td>\n",
              "      <td>0.835537</td>\n",
              "      <td>0.348783</td>\n",
              "    </tr>\n",
              "    <tr>\n",
              "      <th>1</th>\n",
              "      <td>-0.687512</td>\n",
              "      <td>-0.015303</td>\n",
              "      <td>0.300155</td>\n",
              "      <td>0.391836</td>\n",
              "      <td>-0.132762</td>\n",
              "      <td>-0.114544</td>\n",
              "    </tr>\n",
              "    <tr>\n",
              "      <th>2</th>\n",
              "      <td>-0.687512</td>\n",
              "      <td>-0.015370</td>\n",
              "      <td>-1.118492</td>\n",
              "      <td>-0.425904</td>\n",
              "      <td>0.660069</td>\n",
              "      <td>0.390308</td>\n",
              "    </tr>\n",
              "    <tr>\n",
              "      <th>3</th>\n",
              "      <td>-0.687512</td>\n",
              "      <td>-0.015273</td>\n",
              "      <td>0.300155</td>\n",
              "      <td>0.135479</td>\n",
              "      <td>-0.132761</td>\n",
              "      <td>-0.114543</td>\n",
              "    </tr>\n",
              "    <tr>\n",
              "      <th>4</th>\n",
              "      <td>-0.687512</td>\n",
              "      <td>-0.015287</td>\n",
              "      <td>0.300155</td>\n",
              "      <td>0.235451</td>\n",
              "      <td>-0.132762</td>\n",
              "      <td>-0.114543</td>\n",
              "    </tr>\n",
              "    <tr>\n",
              "      <th>...</th>\n",
              "      <td>...</td>\n",
              "      <td>...</td>\n",
              "      <td>...</td>\n",
              "      <td>...</td>\n",
              "      <td>...</td>\n",
              "      <td>...</td>\n",
              "    </tr>\n",
              "    <tr>\n",
              "      <th>84482</th>\n",
              "      <td>-0.687512</td>\n",
              "      <td>-0.015313</td>\n",
              "      <td>0.300155</td>\n",
              "      <td>0.292655</td>\n",
              "      <td>-0.132763</td>\n",
              "      <td>-0.114544</td>\n",
              "    </tr>\n",
              "    <tr>\n",
              "      <th>84483</th>\n",
              "      <td>-0.687512</td>\n",
              "      <td>-0.015370</td>\n",
              "      <td>-1.118492</td>\n",
              "      <td>-0.425898</td>\n",
              "      <td>-0.019257</td>\n",
              "      <td>-0.042267</td>\n",
              "    </tr>\n",
              "    <tr>\n",
              "      <th>84484</th>\n",
              "      <td>1.455061</td>\n",
              "      <td>-0.015154</td>\n",
              "      <td>1.009478</td>\n",
              "      <td>0.204352</td>\n",
              "      <td>-0.132754</td>\n",
              "      <td>-0.114539</td>\n",
              "    </tr>\n",
              "    <tr>\n",
              "      <th>84485</th>\n",
              "      <td>-0.687512</td>\n",
              "      <td>-0.015315</td>\n",
              "      <td>-1.118492</td>\n",
              "      <td>0.818703</td>\n",
              "      <td>-0.132762</td>\n",
              "      <td>-0.114544</td>\n",
              "    </tr>\n",
              "    <tr>\n",
              "      <th>84486</th>\n",
              "      <td>1.455061</td>\n",
              "      <td>-0.015252</td>\n",
              "      <td>1.009478</td>\n",
              "      <td>0.150556</td>\n",
              "      <td>-0.132759</td>\n",
              "      <td>-0.114542</td>\n",
              "    </tr>\n",
              "  </tbody>\n",
              "</table>\n",
              "<p>84487 rows × 6 columns</p>\n",
              "</div>\n",
              "      <button class=\"colab-df-convert\" onclick=\"convertToInteractive('df-b1aeac92-1c87-4c9b-a01c-3dbefa20e150')\"\n",
              "              title=\"Convert this dataframe to an interactive table.\"\n",
              "              style=\"display:none;\">\n",
              "        \n",
              "  <svg xmlns=\"http://www.w3.org/2000/svg\" height=\"24px\"viewBox=\"0 0 24 24\"\n",
              "       width=\"24px\">\n",
              "    <path d=\"M0 0h24v24H0V0z\" fill=\"none\"/>\n",
              "    <path d=\"M18.56 5.44l.94 2.06.94-2.06 2.06-.94-2.06-.94-.94-2.06-.94 2.06-2.06.94zm-11 1L8.5 8.5l.94-2.06 2.06-.94-2.06-.94L8.5 2.5l-.94 2.06-2.06.94zm10 10l.94 2.06.94-2.06 2.06-.94-2.06-.94-.94-2.06-.94 2.06-2.06.94z\"/><path d=\"M17.41 7.96l-1.37-1.37c-.4-.4-.92-.59-1.43-.59-.52 0-1.04.2-1.43.59L10.3 9.45l-7.72 7.72c-.78.78-.78 2.05 0 2.83L4 21.41c.39.39.9.59 1.41.59.51 0 1.02-.2 1.41-.59l7.78-7.78 2.81-2.81c.8-.78.8-2.07 0-2.86zM5.41 20L4 18.59l7.72-7.72 1.47 1.35L5.41 20z\"/>\n",
              "  </svg>\n",
              "      </button>\n",
              "      \n",
              "  <style>\n",
              "    .colab-df-container {\n",
              "      display:flex;\n",
              "      flex-wrap:wrap;\n",
              "      gap: 12px;\n",
              "    }\n",
              "\n",
              "    .colab-df-convert {\n",
              "      background-color: #E8F0FE;\n",
              "      border: none;\n",
              "      border-radius: 50%;\n",
              "      cursor: pointer;\n",
              "      display: none;\n",
              "      fill: #1967D2;\n",
              "      height: 32px;\n",
              "      padding: 0 0 0 0;\n",
              "      width: 32px;\n",
              "    }\n",
              "\n",
              "    .colab-df-convert:hover {\n",
              "      background-color: #E2EBFA;\n",
              "      box-shadow: 0px 1px 2px rgba(60, 64, 67, 0.3), 0px 1px 3px 1px rgba(60, 64, 67, 0.15);\n",
              "      fill: #174EA6;\n",
              "    }\n",
              "\n",
              "    [theme=dark] .colab-df-convert {\n",
              "      background-color: #3B4455;\n",
              "      fill: #D2E3FC;\n",
              "    }\n",
              "\n",
              "    [theme=dark] .colab-df-convert:hover {\n",
              "      background-color: #434B5C;\n",
              "      box-shadow: 0px 1px 3px 1px rgba(0, 0, 0, 0.15);\n",
              "      filter: drop-shadow(0px 1px 2px rgba(0, 0, 0, 0.3));\n",
              "      fill: #FFFFFF;\n",
              "    }\n",
              "  </style>\n",
              "\n",
              "      <script>\n",
              "        const buttonEl =\n",
              "          document.querySelector('#df-b1aeac92-1c87-4c9b-a01c-3dbefa20e150 button.colab-df-convert');\n",
              "        buttonEl.style.display =\n",
              "          google.colab.kernel.accessAllowed ? 'block' : 'none';\n",
              "\n",
              "        async function convertToInteractive(key) {\n",
              "          const element = document.querySelector('#df-b1aeac92-1c87-4c9b-a01c-3dbefa20e150');\n",
              "          const dataTable =\n",
              "            await google.colab.kernel.invokeFunction('convertToInteractive',\n",
              "                                                     [key], {});\n",
              "          if (!dataTable) return;\n",
              "\n",
              "          const docLinkHtml = 'Like what you see? Visit the ' +\n",
              "            '<a target=\"_blank\" href=https://colab.research.google.com/notebooks/data_table.ipynb>data table notebook</a>'\n",
              "            + ' to learn more about interactive tables.';\n",
              "          element.innerHTML = '';\n",
              "          dataTable['output_type'] = 'display_data';\n",
              "          await google.colab.output.renderOutput(dataTable, element);\n",
              "          const docLink = document.createElement('div');\n",
              "          docLink.innerHTML = docLinkHtml;\n",
              "          element.appendChild(docLink);\n",
              "        }\n",
              "      </script>\n",
              "    </div>\n",
              "  </div>\n",
              "  "
            ]
          },
          "metadata": {},
          "execution_count": 855
        }
      ],
      "source": [
        "X_test_method4_IG"
      ]
    },
    {
      "cell_type": "code",
      "execution_count": null,
      "metadata": {
        "colab": {
          "base_uri": "https://localhost:8080/"
        },
        "id": "5V3EjcWD35_0",
        "outputId": "aac963f5-e9b7-4bfe-a009-0da9460f7f6b"
      },
      "outputs": [
        {
          "output_type": "stream",
          "name": "stdout",
          "text": [
            "(197135, 6) (84487, 6)\n"
          ]
        }
      ],
      "source": [
        "print(X_train_method4_IG.shape, X_test_method4_IG.shape)"
      ]
    },
    {
      "cell_type": "markdown",
      "metadata": {
        "id": "dvE6Z8m3etoo"
      },
      "source": [
        "intersect_paper"
      ]
    },
    {
      "cell_type": "code",
      "execution_count": null,
      "metadata": {
        "id": "8CLq8vowesuD"
      },
      "outputs": [],
      "source": [
        "X_train_int_paper=X_train[int_gini_IG_p]\n",
        "X_test_int_paper=X_test[int_gini_IG_p]"
      ]
    },
    {
      "cell_type": "code",
      "execution_count": null,
      "metadata": {
        "colab": {
          "base_uri": "https://localhost:8080/",
          "height": 424
        },
        "id": "9eKJoXVyfL9X",
        "outputId": "029198f6-4f21-4a59-adf3-f5705acc8cd3"
      },
      "outputs": [
        {
          "output_type": "execute_result",
          "data": {
            "text/plain": [
              "             32        5         8         9         10        11        13  \\\n",
              "0      0.556017 -0.009909 -0.425904 -0.880973 -0.726252 -0.231793 -0.947384   \n",
              "1     -0.123755 -0.008269  0.391836 -0.126105  1.991263  0.002680  1.422542   \n",
              "2      0.296348 -0.009909 -0.425904 -0.880973 -0.726252 -0.231792 -0.947384   \n",
              "3     -0.123755 -0.008407  0.135479 -0.244725  1.564265 -0.034163  1.050153   \n",
              "4     -0.123755 -0.008407  0.235451 -0.881026 -0.726252 -0.231797 -0.947426   \n",
              "...         ...       ...       ...       ...       ...       ...       ...   \n",
              "84482 -0.123755 -0.008624  0.292655 -0.874621 -0.703193 -0.229807 -0.927316   \n",
              "84483 -0.011466 -0.009909 -0.425898 -0.880825 -0.726252 -0.231781 -0.947268   \n",
              "84484 -0.123751 -0.008661  0.204352  1.996809 -0.556901  0.662052  1.410237   \n",
              "84485 -0.123755 -0.008287  0.818703 -0.786414 -0.722303 -0.209757 -0.871220   \n",
              "84486 -0.123754 -0.009354  0.150556  0.456450  2.054955  0.183620  1.201120   \n",
              "\n",
              "             16        18        19        26        27        28        31  \n",
              "0     -0.011354  0.309692 -0.015370 -0.160334  0.835537  2.398042  0.348783  \n",
              "1     -0.008720 -0.111076 -0.015303  0.027018 -0.132762 -0.255462 -0.114544  \n",
              "2     -0.011354  0.304742 -0.015370 -0.254985  0.660069  1.552664  0.390308  \n",
              "3     -0.008720 -0.111075 -0.015273 -0.012502 -0.132761 -0.255459 -0.114543  \n",
              "4     -0.008720 -0.111076 -0.015287 -0.014453 -0.132762 -0.255461 -0.114543  \n",
              "...         ...       ...       ...       ...       ...       ...       ...  \n",
              "84482 -0.009291 -0.111076 -0.015313 -0.008599 -0.132763 -0.255463 -0.114544  \n",
              "84483 -0.011354  0.000066 -0.015370 -0.254985 -0.019257  0.003396 -0.042267  \n",
              "84484 -0.009128 -0.111067 -0.015154  0.272916 -0.132754 -0.255444 -0.114539  \n",
              "84485 -0.009195 -0.111075 -0.015315  0.154358 -0.132762 -0.255462 -0.114544  \n",
              "84486 -0.010241 -0.111074 -0.015252  0.045558 -0.132759 -0.255456 -0.114542  \n",
              "\n",
              "[84487 rows x 14 columns]"
            ],
            "text/html": [
              "\n",
              "  <div id=\"df-1b65cb54-72ff-4433-ae7e-b9a01ac950b9\">\n",
              "    <div class=\"colab-df-container\">\n",
              "      <div>\n",
              "<style scoped>\n",
              "    .dataframe tbody tr th:only-of-type {\n",
              "        vertical-align: middle;\n",
              "    }\n",
              "\n",
              "    .dataframe tbody tr th {\n",
              "        vertical-align: top;\n",
              "    }\n",
              "\n",
              "    .dataframe thead th {\n",
              "        text-align: right;\n",
              "    }\n",
              "</style>\n",
              "<table border=\"1\" class=\"dataframe\">\n",
              "  <thead>\n",
              "    <tr style=\"text-align: right;\">\n",
              "      <th></th>\n",
              "      <th>32</th>\n",
              "      <th>5</th>\n",
              "      <th>8</th>\n",
              "      <th>9</th>\n",
              "      <th>10</th>\n",
              "      <th>11</th>\n",
              "      <th>13</th>\n",
              "      <th>16</th>\n",
              "      <th>18</th>\n",
              "      <th>19</th>\n",
              "      <th>26</th>\n",
              "      <th>27</th>\n",
              "      <th>28</th>\n",
              "      <th>31</th>\n",
              "    </tr>\n",
              "  </thead>\n",
              "  <tbody>\n",
              "    <tr>\n",
              "      <th>0</th>\n",
              "      <td>0.556017</td>\n",
              "      <td>-0.009909</td>\n",
              "      <td>-0.425904</td>\n",
              "      <td>-0.880973</td>\n",
              "      <td>-0.726252</td>\n",
              "      <td>-0.231793</td>\n",
              "      <td>-0.947384</td>\n",
              "      <td>-0.011354</td>\n",
              "      <td>0.309692</td>\n",
              "      <td>-0.015370</td>\n",
              "      <td>-0.160334</td>\n",
              "      <td>0.835537</td>\n",
              "      <td>2.398042</td>\n",
              "      <td>0.348783</td>\n",
              "    </tr>\n",
              "    <tr>\n",
              "      <th>1</th>\n",
              "      <td>-0.123755</td>\n",
              "      <td>-0.008269</td>\n",
              "      <td>0.391836</td>\n",
              "      <td>-0.126105</td>\n",
              "      <td>1.991263</td>\n",
              "      <td>0.002680</td>\n",
              "      <td>1.422542</td>\n",
              "      <td>-0.008720</td>\n",
              "      <td>-0.111076</td>\n",
              "      <td>-0.015303</td>\n",
              "      <td>0.027018</td>\n",
              "      <td>-0.132762</td>\n",
              "      <td>-0.255462</td>\n",
              "      <td>-0.114544</td>\n",
              "    </tr>\n",
              "    <tr>\n",
              "      <th>2</th>\n",
              "      <td>0.296348</td>\n",
              "      <td>-0.009909</td>\n",
              "      <td>-0.425904</td>\n",
              "      <td>-0.880973</td>\n",
              "      <td>-0.726252</td>\n",
              "      <td>-0.231792</td>\n",
              "      <td>-0.947384</td>\n",
              "      <td>-0.011354</td>\n",
              "      <td>0.304742</td>\n",
              "      <td>-0.015370</td>\n",
              "      <td>-0.254985</td>\n",
              "      <td>0.660069</td>\n",
              "      <td>1.552664</td>\n",
              "      <td>0.390308</td>\n",
              "    </tr>\n",
              "    <tr>\n",
              "      <th>3</th>\n",
              "      <td>-0.123755</td>\n",
              "      <td>-0.008407</td>\n",
              "      <td>0.135479</td>\n",
              "      <td>-0.244725</td>\n",
              "      <td>1.564265</td>\n",
              "      <td>-0.034163</td>\n",
              "      <td>1.050153</td>\n",
              "      <td>-0.008720</td>\n",
              "      <td>-0.111075</td>\n",
              "      <td>-0.015273</td>\n",
              "      <td>-0.012502</td>\n",
              "      <td>-0.132761</td>\n",
              "      <td>-0.255459</td>\n",
              "      <td>-0.114543</td>\n",
              "    </tr>\n",
              "    <tr>\n",
              "      <th>4</th>\n",
              "      <td>-0.123755</td>\n",
              "      <td>-0.008407</td>\n",
              "      <td>0.235451</td>\n",
              "      <td>-0.881026</td>\n",
              "      <td>-0.726252</td>\n",
              "      <td>-0.231797</td>\n",
              "      <td>-0.947426</td>\n",
              "      <td>-0.008720</td>\n",
              "      <td>-0.111076</td>\n",
              "      <td>-0.015287</td>\n",
              "      <td>-0.014453</td>\n",
              "      <td>-0.132762</td>\n",
              "      <td>-0.255461</td>\n",
              "      <td>-0.114543</td>\n",
              "    </tr>\n",
              "    <tr>\n",
              "      <th>...</th>\n",
              "      <td>...</td>\n",
              "      <td>...</td>\n",
              "      <td>...</td>\n",
              "      <td>...</td>\n",
              "      <td>...</td>\n",
              "      <td>...</td>\n",
              "      <td>...</td>\n",
              "      <td>...</td>\n",
              "      <td>...</td>\n",
              "      <td>...</td>\n",
              "      <td>...</td>\n",
              "      <td>...</td>\n",
              "      <td>...</td>\n",
              "      <td>...</td>\n",
              "    </tr>\n",
              "    <tr>\n",
              "      <th>84482</th>\n",
              "      <td>-0.123755</td>\n",
              "      <td>-0.008624</td>\n",
              "      <td>0.292655</td>\n",
              "      <td>-0.874621</td>\n",
              "      <td>-0.703193</td>\n",
              "      <td>-0.229807</td>\n",
              "      <td>-0.927316</td>\n",
              "      <td>-0.009291</td>\n",
              "      <td>-0.111076</td>\n",
              "      <td>-0.015313</td>\n",
              "      <td>-0.008599</td>\n",
              "      <td>-0.132763</td>\n",
              "      <td>-0.255463</td>\n",
              "      <td>-0.114544</td>\n",
              "    </tr>\n",
              "    <tr>\n",
              "      <th>84483</th>\n",
              "      <td>-0.011466</td>\n",
              "      <td>-0.009909</td>\n",
              "      <td>-0.425898</td>\n",
              "      <td>-0.880825</td>\n",
              "      <td>-0.726252</td>\n",
              "      <td>-0.231781</td>\n",
              "      <td>-0.947268</td>\n",
              "      <td>-0.011354</td>\n",
              "      <td>0.000066</td>\n",
              "      <td>-0.015370</td>\n",
              "      <td>-0.254985</td>\n",
              "      <td>-0.019257</td>\n",
              "      <td>0.003396</td>\n",
              "      <td>-0.042267</td>\n",
              "    </tr>\n",
              "    <tr>\n",
              "      <th>84484</th>\n",
              "      <td>-0.123751</td>\n",
              "      <td>-0.008661</td>\n",
              "      <td>0.204352</td>\n",
              "      <td>1.996809</td>\n",
              "      <td>-0.556901</td>\n",
              "      <td>0.662052</td>\n",
              "      <td>1.410237</td>\n",
              "      <td>-0.009128</td>\n",
              "      <td>-0.111067</td>\n",
              "      <td>-0.015154</td>\n",
              "      <td>0.272916</td>\n",
              "      <td>-0.132754</td>\n",
              "      <td>-0.255444</td>\n",
              "      <td>-0.114539</td>\n",
              "    </tr>\n",
              "    <tr>\n",
              "      <th>84485</th>\n",
              "      <td>-0.123755</td>\n",
              "      <td>-0.008287</td>\n",
              "      <td>0.818703</td>\n",
              "      <td>-0.786414</td>\n",
              "      <td>-0.722303</td>\n",
              "      <td>-0.209757</td>\n",
              "      <td>-0.871220</td>\n",
              "      <td>-0.009195</td>\n",
              "      <td>-0.111075</td>\n",
              "      <td>-0.015315</td>\n",
              "      <td>0.154358</td>\n",
              "      <td>-0.132762</td>\n",
              "      <td>-0.255462</td>\n",
              "      <td>-0.114544</td>\n",
              "    </tr>\n",
              "    <tr>\n",
              "      <th>84486</th>\n",
              "      <td>-0.123754</td>\n",
              "      <td>-0.009354</td>\n",
              "      <td>0.150556</td>\n",
              "      <td>0.456450</td>\n",
              "      <td>2.054955</td>\n",
              "      <td>0.183620</td>\n",
              "      <td>1.201120</td>\n",
              "      <td>-0.010241</td>\n",
              "      <td>-0.111074</td>\n",
              "      <td>-0.015252</td>\n",
              "      <td>0.045558</td>\n",
              "      <td>-0.132759</td>\n",
              "      <td>-0.255456</td>\n",
              "      <td>-0.114542</td>\n",
              "    </tr>\n",
              "  </tbody>\n",
              "</table>\n",
              "<p>84487 rows × 14 columns</p>\n",
              "</div>\n",
              "      <button class=\"colab-df-convert\" onclick=\"convertToInteractive('df-1b65cb54-72ff-4433-ae7e-b9a01ac950b9')\"\n",
              "              title=\"Convert this dataframe to an interactive table.\"\n",
              "              style=\"display:none;\">\n",
              "        \n",
              "  <svg xmlns=\"http://www.w3.org/2000/svg\" height=\"24px\"viewBox=\"0 0 24 24\"\n",
              "       width=\"24px\">\n",
              "    <path d=\"M0 0h24v24H0V0z\" fill=\"none\"/>\n",
              "    <path d=\"M18.56 5.44l.94 2.06.94-2.06 2.06-.94-2.06-.94-.94-2.06-.94 2.06-2.06.94zm-11 1L8.5 8.5l.94-2.06 2.06-.94-2.06-.94L8.5 2.5l-.94 2.06-2.06.94zm10 10l.94 2.06.94-2.06 2.06-.94-2.06-.94-.94-2.06-.94 2.06-2.06.94z\"/><path d=\"M17.41 7.96l-1.37-1.37c-.4-.4-.92-.59-1.43-.59-.52 0-1.04.2-1.43.59L10.3 9.45l-7.72 7.72c-.78.78-.78 2.05 0 2.83L4 21.41c.39.39.9.59 1.41.59.51 0 1.02-.2 1.41-.59l7.78-7.78 2.81-2.81c.8-.78.8-2.07 0-2.86zM5.41 20L4 18.59l7.72-7.72 1.47 1.35L5.41 20z\"/>\n",
              "  </svg>\n",
              "      </button>\n",
              "      \n",
              "  <style>\n",
              "    .colab-df-container {\n",
              "      display:flex;\n",
              "      flex-wrap:wrap;\n",
              "      gap: 12px;\n",
              "    }\n",
              "\n",
              "    .colab-df-convert {\n",
              "      background-color: #E8F0FE;\n",
              "      border: none;\n",
              "      border-radius: 50%;\n",
              "      cursor: pointer;\n",
              "      display: none;\n",
              "      fill: #1967D2;\n",
              "      height: 32px;\n",
              "      padding: 0 0 0 0;\n",
              "      width: 32px;\n",
              "    }\n",
              "\n",
              "    .colab-df-convert:hover {\n",
              "      background-color: #E2EBFA;\n",
              "      box-shadow: 0px 1px 2px rgba(60, 64, 67, 0.3), 0px 1px 3px 1px rgba(60, 64, 67, 0.15);\n",
              "      fill: #174EA6;\n",
              "    }\n",
              "\n",
              "    [theme=dark] .colab-df-convert {\n",
              "      background-color: #3B4455;\n",
              "      fill: #D2E3FC;\n",
              "    }\n",
              "\n",
              "    [theme=dark] .colab-df-convert:hover {\n",
              "      background-color: #434B5C;\n",
              "      box-shadow: 0px 1px 3px 1px rgba(0, 0, 0, 0.15);\n",
              "      filter: drop-shadow(0px 1px 2px rgba(0, 0, 0, 0.3));\n",
              "      fill: #FFFFFF;\n",
              "    }\n",
              "  </style>\n",
              "\n",
              "      <script>\n",
              "        const buttonEl =\n",
              "          document.querySelector('#df-1b65cb54-72ff-4433-ae7e-b9a01ac950b9 button.colab-df-convert');\n",
              "        buttonEl.style.display =\n",
              "          google.colab.kernel.accessAllowed ? 'block' : 'none';\n",
              "\n",
              "        async function convertToInteractive(key) {\n",
              "          const element = document.querySelector('#df-1b65cb54-72ff-4433-ae7e-b9a01ac950b9');\n",
              "          const dataTable =\n",
              "            await google.colab.kernel.invokeFunction('convertToInteractive',\n",
              "                                                     [key], {});\n",
              "          if (!dataTable) return;\n",
              "\n",
              "          const docLinkHtml = 'Like what you see? Visit the ' +\n",
              "            '<a target=\"_blank\" href=https://colab.research.google.com/notebooks/data_table.ipynb>data table notebook</a>'\n",
              "            + ' to learn more about interactive tables.';\n",
              "          element.innerHTML = '';\n",
              "          dataTable['output_type'] = 'display_data';\n",
              "          await google.colab.output.renderOutput(dataTable, element);\n",
              "          const docLink = document.createElement('div');\n",
              "          docLink.innerHTML = docLinkHtml;\n",
              "          element.appendChild(docLink);\n",
              "        }\n",
              "      </script>\n",
              "    </div>\n",
              "  </div>\n",
              "  "
            ]
          },
          "metadata": {},
          "execution_count": 858
        }
      ],
      "source": [
        "X_test_int_paper"
      ]
    },
    {
      "cell_type": "code",
      "execution_count": null,
      "metadata": {
        "colab": {
          "base_uri": "https://localhost:8080/"
        },
        "id": "49E5kCsffX8k",
        "outputId": "84e079af-ba08-4fb7-8796-44bf79441365"
      },
      "outputs": [
        {
          "output_type": "stream",
          "name": "stdout",
          "text": [
            "(197135, 14) (84487, 14)\n"
          ]
        }
      ],
      "source": [
        "print(X_train_int_paper.shape, X_test_int_paper.shape)"
      ]
    },
    {
      "cell_type": "markdown",
      "metadata": {
        "id": "FQX5csoFfmb6"
      },
      "source": [
        "union_paper"
      ]
    },
    {
      "cell_type": "code",
      "execution_count": null,
      "metadata": {
        "id": "N2VITFxxfpTy"
      },
      "outputs": [],
      "source": [
        "X_train_un_paper=X_train[un_gini_IG_p]\n",
        "X_test_un_paper=X_test[un_gini_IG_p]"
      ]
    },
    {
      "cell_type": "code",
      "execution_count": null,
      "metadata": {
        "colab": {
          "base_uri": "https://localhost:8080/",
          "height": 424
        },
        "id": "uKZtNZD_gcL7",
        "outputId": "f38e7734-168e-4712-ad69-cbdb78885dbe"
      },
      "outputs": [
        {
          "output_type": "execute_result",
          "data": {
            "text/plain": [
              "              3         5         8         9         10        11        12  \\\n",
              "0       0.039193 -0.007615 -0.420915 -0.754878 -0.726252 -0.222001 -0.346494   \n",
              "1      -0.305543 -0.008130 -0.119411  0.417201  1.031829  0.070623 -0.375063   \n",
              "2      -0.305543 -0.009354 -0.112322  0.898703  1.894499  0.182788 -0.495218   \n",
              "3      -0.305543 -0.008384 -0.065498  1.669370 -0.675179  0.362314  2.487325   \n",
              "4      -0.305543 -0.008523  0.294266  1.223040  1.622858  0.585101 -0.495218   \n",
              "...          ...       ...       ...       ...       ...       ...       ...   \n",
              "197130 -0.305543 -0.009216 -0.120965  0.833218  1.792980  0.167534 -0.495218   \n",
              "197131 -0.305543 -0.008407 -0.090452  0.614726  1.471910  0.116636 -0.495218   \n",
              "197132 -0.305543 -0.008486  0.679840 -0.836974 -0.567676 -0.218114 -0.495218   \n",
              "197133  0.049666 -0.009909 -0.425903 -0.880939 -0.726252 -0.231790 -0.495115   \n",
              "197134 -0.305543 -0.008130  0.671564 -0.851475 -0.603415 -0.220323 -0.495218   \n",
              "\n",
              "              13        14        16  ...        21        22        24  \\\n",
              "0      -0.848420 -0.004099 -0.009603  ... -0.020417  0.028888  0.438518   \n",
              "1       0.541713 -0.007543 -0.008498  ... -0.022283  0.001438 -0.031745   \n",
              "2       1.224737 -0.007543 -0.010241  ... -0.015858 -0.019470  0.047208   \n",
              "3       1.081346  0.016564 -0.008683  ...  0.011818  0.007139  0.438518   \n",
              "4       1.395288  0.013120 -0.008906  ...  0.007964  0.003220  0.380888   \n",
              "...          ...       ...       ...  ...       ...       ...       ...   \n",
              "197130  1.073186 -0.004099 -0.010019  ... -0.027500 -0.007125  0.228744   \n",
              "197131  0.818412 -0.010987 -0.008720  ... -0.004654  0.003267 -0.040966   \n",
              "197132 -0.809131 -0.010987 -0.009069  ...  0.005908  0.001130 -0.010998   \n",
              "197133 -0.947358 -0.024762 -0.011354  ... -0.030583 -0.035968 -0.195415   \n",
              "197134 -0.831458 -0.007543 -0.008498  ...  0.010906  0.017537  0.139993   \n",
              "\n",
              "              25        26        27        28        29        31        32  \n",
              "0       0.119442  0.378301 -0.130768 -0.250907  0.458337 -0.113276 -0.122589  \n",
              "1      -0.047627 -0.019820 -0.132750 -0.255445  0.458337 -0.114536 -0.123751  \n",
              "2      -0.019577  0.047021 -0.132753 -0.255440  0.458337 -0.114538 -0.123750  \n",
              "3       0.119442  0.378301 -0.132740 -0.255411  0.458337 -0.114530 -0.123742  \n",
              "4       0.098968  0.329512 -0.132755 -0.255445  0.458337 -0.114539 -0.123751  \n",
              "...          ...       ...       ...       ...       ...       ...       ...  \n",
              "197130  0.044916  0.200708 -0.132750 -0.255424  0.458337 -0.114536 -0.123746  \n",
              "197131 -0.050903 -0.027626 -0.132756 -0.255449  0.458337 -0.114540 -0.123752  \n",
              "197132 -0.040256 -0.002256 -0.132764 -0.255466  0.458337 -0.114545 -0.123756  \n",
              "197133 -0.105774 -0.254985  0.383539  0.922010  0.458337  0.214222  0.135004  \n",
              "197134  0.013386  0.125572 -0.132762 -0.255461  0.458337 -0.114544 -0.123755  \n",
              "\n",
              "[197135 rows x 22 columns]"
            ],
            "text/html": [
              "\n",
              "  <div id=\"df-ba0d16f7-4522-40eb-84d5-7ac1caa43bb7\">\n",
              "    <div class=\"colab-df-container\">\n",
              "      <div>\n",
              "<style scoped>\n",
              "    .dataframe tbody tr th:only-of-type {\n",
              "        vertical-align: middle;\n",
              "    }\n",
              "\n",
              "    .dataframe tbody tr th {\n",
              "        vertical-align: top;\n",
              "    }\n",
              "\n",
              "    .dataframe thead th {\n",
              "        text-align: right;\n",
              "    }\n",
              "</style>\n",
              "<table border=\"1\" class=\"dataframe\">\n",
              "  <thead>\n",
              "    <tr style=\"text-align: right;\">\n",
              "      <th></th>\n",
              "      <th>3</th>\n",
              "      <th>5</th>\n",
              "      <th>8</th>\n",
              "      <th>9</th>\n",
              "      <th>10</th>\n",
              "      <th>11</th>\n",
              "      <th>12</th>\n",
              "      <th>13</th>\n",
              "      <th>14</th>\n",
              "      <th>16</th>\n",
              "      <th>...</th>\n",
              "      <th>21</th>\n",
              "      <th>22</th>\n",
              "      <th>24</th>\n",
              "      <th>25</th>\n",
              "      <th>26</th>\n",
              "      <th>27</th>\n",
              "      <th>28</th>\n",
              "      <th>29</th>\n",
              "      <th>31</th>\n",
              "      <th>32</th>\n",
              "    </tr>\n",
              "  </thead>\n",
              "  <tbody>\n",
              "    <tr>\n",
              "      <th>0</th>\n",
              "      <td>0.039193</td>\n",
              "      <td>-0.007615</td>\n",
              "      <td>-0.420915</td>\n",
              "      <td>-0.754878</td>\n",
              "      <td>-0.726252</td>\n",
              "      <td>-0.222001</td>\n",
              "      <td>-0.346494</td>\n",
              "      <td>-0.848420</td>\n",
              "      <td>-0.004099</td>\n",
              "      <td>-0.009603</td>\n",
              "      <td>...</td>\n",
              "      <td>-0.020417</td>\n",
              "      <td>0.028888</td>\n",
              "      <td>0.438518</td>\n",
              "      <td>0.119442</td>\n",
              "      <td>0.378301</td>\n",
              "      <td>-0.130768</td>\n",
              "      <td>-0.250907</td>\n",
              "      <td>0.458337</td>\n",
              "      <td>-0.113276</td>\n",
              "      <td>-0.122589</td>\n",
              "    </tr>\n",
              "    <tr>\n",
              "      <th>1</th>\n",
              "      <td>-0.305543</td>\n",
              "      <td>-0.008130</td>\n",
              "      <td>-0.119411</td>\n",
              "      <td>0.417201</td>\n",
              "      <td>1.031829</td>\n",
              "      <td>0.070623</td>\n",
              "      <td>-0.375063</td>\n",
              "      <td>0.541713</td>\n",
              "      <td>-0.007543</td>\n",
              "      <td>-0.008498</td>\n",
              "      <td>...</td>\n",
              "      <td>-0.022283</td>\n",
              "      <td>0.001438</td>\n",
              "      <td>-0.031745</td>\n",
              "      <td>-0.047627</td>\n",
              "      <td>-0.019820</td>\n",
              "      <td>-0.132750</td>\n",
              "      <td>-0.255445</td>\n",
              "      <td>0.458337</td>\n",
              "      <td>-0.114536</td>\n",
              "      <td>-0.123751</td>\n",
              "    </tr>\n",
              "    <tr>\n",
              "      <th>2</th>\n",
              "      <td>-0.305543</td>\n",
              "      <td>-0.009354</td>\n",
              "      <td>-0.112322</td>\n",
              "      <td>0.898703</td>\n",
              "      <td>1.894499</td>\n",
              "      <td>0.182788</td>\n",
              "      <td>-0.495218</td>\n",
              "      <td>1.224737</td>\n",
              "      <td>-0.007543</td>\n",
              "      <td>-0.010241</td>\n",
              "      <td>...</td>\n",
              "      <td>-0.015858</td>\n",
              "      <td>-0.019470</td>\n",
              "      <td>0.047208</td>\n",
              "      <td>-0.019577</td>\n",
              "      <td>0.047021</td>\n",
              "      <td>-0.132753</td>\n",
              "      <td>-0.255440</td>\n",
              "      <td>0.458337</td>\n",
              "      <td>-0.114538</td>\n",
              "      <td>-0.123750</td>\n",
              "    </tr>\n",
              "    <tr>\n",
              "      <th>3</th>\n",
              "      <td>-0.305543</td>\n",
              "      <td>-0.008384</td>\n",
              "      <td>-0.065498</td>\n",
              "      <td>1.669370</td>\n",
              "      <td>-0.675179</td>\n",
              "      <td>0.362314</td>\n",
              "      <td>2.487325</td>\n",
              "      <td>1.081346</td>\n",
              "      <td>0.016564</td>\n",
              "      <td>-0.008683</td>\n",
              "      <td>...</td>\n",
              "      <td>0.011818</td>\n",
              "      <td>0.007139</td>\n",
              "      <td>0.438518</td>\n",
              "      <td>0.119442</td>\n",
              "      <td>0.378301</td>\n",
              "      <td>-0.132740</td>\n",
              "      <td>-0.255411</td>\n",
              "      <td>0.458337</td>\n",
              "      <td>-0.114530</td>\n",
              "      <td>-0.123742</td>\n",
              "    </tr>\n",
              "    <tr>\n",
              "      <th>4</th>\n",
              "      <td>-0.305543</td>\n",
              "      <td>-0.008523</td>\n",
              "      <td>0.294266</td>\n",
              "      <td>1.223040</td>\n",
              "      <td>1.622858</td>\n",
              "      <td>0.585101</td>\n",
              "      <td>-0.495218</td>\n",
              "      <td>1.395288</td>\n",
              "      <td>0.013120</td>\n",
              "      <td>-0.008906</td>\n",
              "      <td>...</td>\n",
              "      <td>0.007964</td>\n",
              "      <td>0.003220</td>\n",
              "      <td>0.380888</td>\n",
              "      <td>0.098968</td>\n",
              "      <td>0.329512</td>\n",
              "      <td>-0.132755</td>\n",
              "      <td>-0.255445</td>\n",
              "      <td>0.458337</td>\n",
              "      <td>-0.114539</td>\n",
              "      <td>-0.123751</td>\n",
              "    </tr>\n",
              "    <tr>\n",
              "      <th>...</th>\n",
              "      <td>...</td>\n",
              "      <td>...</td>\n",
              "      <td>...</td>\n",
              "      <td>...</td>\n",
              "      <td>...</td>\n",
              "      <td>...</td>\n",
              "      <td>...</td>\n",
              "      <td>...</td>\n",
              "      <td>...</td>\n",
              "      <td>...</td>\n",
              "      <td>...</td>\n",
              "      <td>...</td>\n",
              "      <td>...</td>\n",
              "      <td>...</td>\n",
              "      <td>...</td>\n",
              "      <td>...</td>\n",
              "      <td>...</td>\n",
              "      <td>...</td>\n",
              "      <td>...</td>\n",
              "      <td>...</td>\n",
              "      <td>...</td>\n",
              "    </tr>\n",
              "    <tr>\n",
              "      <th>197130</th>\n",
              "      <td>-0.305543</td>\n",
              "      <td>-0.009216</td>\n",
              "      <td>-0.120965</td>\n",
              "      <td>0.833218</td>\n",
              "      <td>1.792980</td>\n",
              "      <td>0.167534</td>\n",
              "      <td>-0.495218</td>\n",
              "      <td>1.073186</td>\n",
              "      <td>-0.004099</td>\n",
              "      <td>-0.010019</td>\n",
              "      <td>...</td>\n",
              "      <td>-0.027500</td>\n",
              "      <td>-0.007125</td>\n",
              "      <td>0.228744</td>\n",
              "      <td>0.044916</td>\n",
              "      <td>0.200708</td>\n",
              "      <td>-0.132750</td>\n",
              "      <td>-0.255424</td>\n",
              "      <td>0.458337</td>\n",
              "      <td>-0.114536</td>\n",
              "      <td>-0.123746</td>\n",
              "    </tr>\n",
              "    <tr>\n",
              "      <th>197131</th>\n",
              "      <td>-0.305543</td>\n",
              "      <td>-0.008407</td>\n",
              "      <td>-0.090452</td>\n",
              "      <td>0.614726</td>\n",
              "      <td>1.471910</td>\n",
              "      <td>0.116636</td>\n",
              "      <td>-0.495218</td>\n",
              "      <td>0.818412</td>\n",
              "      <td>-0.010987</td>\n",
              "      <td>-0.008720</td>\n",
              "      <td>...</td>\n",
              "      <td>-0.004654</td>\n",
              "      <td>0.003267</td>\n",
              "      <td>-0.040966</td>\n",
              "      <td>-0.050903</td>\n",
              "      <td>-0.027626</td>\n",
              "      <td>-0.132756</td>\n",
              "      <td>-0.255449</td>\n",
              "      <td>0.458337</td>\n",
              "      <td>-0.114540</td>\n",
              "      <td>-0.123752</td>\n",
              "    </tr>\n",
              "    <tr>\n",
              "      <th>197132</th>\n",
              "      <td>-0.305543</td>\n",
              "      <td>-0.008486</td>\n",
              "      <td>0.679840</td>\n",
              "      <td>-0.836974</td>\n",
              "      <td>-0.567676</td>\n",
              "      <td>-0.218114</td>\n",
              "      <td>-0.495218</td>\n",
              "      <td>-0.809131</td>\n",
              "      <td>-0.010987</td>\n",
              "      <td>-0.009069</td>\n",
              "      <td>...</td>\n",
              "      <td>0.005908</td>\n",
              "      <td>0.001130</td>\n",
              "      <td>-0.010998</td>\n",
              "      <td>-0.040256</td>\n",
              "      <td>-0.002256</td>\n",
              "      <td>-0.132764</td>\n",
              "      <td>-0.255466</td>\n",
              "      <td>0.458337</td>\n",
              "      <td>-0.114545</td>\n",
              "      <td>-0.123756</td>\n",
              "    </tr>\n",
              "    <tr>\n",
              "      <th>197133</th>\n",
              "      <td>0.049666</td>\n",
              "      <td>-0.009909</td>\n",
              "      <td>-0.425903</td>\n",
              "      <td>-0.880939</td>\n",
              "      <td>-0.726252</td>\n",
              "      <td>-0.231790</td>\n",
              "      <td>-0.495115</td>\n",
              "      <td>-0.947358</td>\n",
              "      <td>-0.024762</td>\n",
              "      <td>-0.011354</td>\n",
              "      <td>...</td>\n",
              "      <td>-0.030583</td>\n",
              "      <td>-0.035968</td>\n",
              "      <td>-0.195415</td>\n",
              "      <td>-0.105774</td>\n",
              "      <td>-0.254985</td>\n",
              "      <td>0.383539</td>\n",
              "      <td>0.922010</td>\n",
              "      <td>0.458337</td>\n",
              "      <td>0.214222</td>\n",
              "      <td>0.135004</td>\n",
              "    </tr>\n",
              "    <tr>\n",
              "      <th>197134</th>\n",
              "      <td>-0.305543</td>\n",
              "      <td>-0.008130</td>\n",
              "      <td>0.671564</td>\n",
              "      <td>-0.851475</td>\n",
              "      <td>-0.603415</td>\n",
              "      <td>-0.220323</td>\n",
              "      <td>-0.495218</td>\n",
              "      <td>-0.831458</td>\n",
              "      <td>-0.007543</td>\n",
              "      <td>-0.008498</td>\n",
              "      <td>...</td>\n",
              "      <td>0.010906</td>\n",
              "      <td>0.017537</td>\n",
              "      <td>0.139993</td>\n",
              "      <td>0.013386</td>\n",
              "      <td>0.125572</td>\n",
              "      <td>-0.132762</td>\n",
              "      <td>-0.255461</td>\n",
              "      <td>0.458337</td>\n",
              "      <td>-0.114544</td>\n",
              "      <td>-0.123755</td>\n",
              "    </tr>\n",
              "  </tbody>\n",
              "</table>\n",
              "<p>197135 rows × 22 columns</p>\n",
              "</div>\n",
              "      <button class=\"colab-df-convert\" onclick=\"convertToInteractive('df-ba0d16f7-4522-40eb-84d5-7ac1caa43bb7')\"\n",
              "              title=\"Convert this dataframe to an interactive table.\"\n",
              "              style=\"display:none;\">\n",
              "        \n",
              "  <svg xmlns=\"http://www.w3.org/2000/svg\" height=\"24px\"viewBox=\"0 0 24 24\"\n",
              "       width=\"24px\">\n",
              "    <path d=\"M0 0h24v24H0V0z\" fill=\"none\"/>\n",
              "    <path d=\"M18.56 5.44l.94 2.06.94-2.06 2.06-.94-2.06-.94-.94-2.06-.94 2.06-2.06.94zm-11 1L8.5 8.5l.94-2.06 2.06-.94-2.06-.94L8.5 2.5l-.94 2.06-2.06.94zm10 10l.94 2.06.94-2.06 2.06-.94-2.06-.94-.94-2.06-.94 2.06-2.06.94z\"/><path d=\"M17.41 7.96l-1.37-1.37c-.4-.4-.92-.59-1.43-.59-.52 0-1.04.2-1.43.59L10.3 9.45l-7.72 7.72c-.78.78-.78 2.05 0 2.83L4 21.41c.39.39.9.59 1.41.59.51 0 1.02-.2 1.41-.59l7.78-7.78 2.81-2.81c.8-.78.8-2.07 0-2.86zM5.41 20L4 18.59l7.72-7.72 1.47 1.35L5.41 20z\"/>\n",
              "  </svg>\n",
              "      </button>\n",
              "      \n",
              "  <style>\n",
              "    .colab-df-container {\n",
              "      display:flex;\n",
              "      flex-wrap:wrap;\n",
              "      gap: 12px;\n",
              "    }\n",
              "\n",
              "    .colab-df-convert {\n",
              "      background-color: #E8F0FE;\n",
              "      border: none;\n",
              "      border-radius: 50%;\n",
              "      cursor: pointer;\n",
              "      display: none;\n",
              "      fill: #1967D2;\n",
              "      height: 32px;\n",
              "      padding: 0 0 0 0;\n",
              "      width: 32px;\n",
              "    }\n",
              "\n",
              "    .colab-df-convert:hover {\n",
              "      background-color: #E2EBFA;\n",
              "      box-shadow: 0px 1px 2px rgba(60, 64, 67, 0.3), 0px 1px 3px 1px rgba(60, 64, 67, 0.15);\n",
              "      fill: #174EA6;\n",
              "    }\n",
              "\n",
              "    [theme=dark] .colab-df-convert {\n",
              "      background-color: #3B4455;\n",
              "      fill: #D2E3FC;\n",
              "    }\n",
              "\n",
              "    [theme=dark] .colab-df-convert:hover {\n",
              "      background-color: #434B5C;\n",
              "      box-shadow: 0px 1px 3px 1px rgba(0, 0, 0, 0.15);\n",
              "      filter: drop-shadow(0px 1px 2px rgba(0, 0, 0, 0.3));\n",
              "      fill: #FFFFFF;\n",
              "    }\n",
              "  </style>\n",
              "\n",
              "      <script>\n",
              "        const buttonEl =\n",
              "          document.querySelector('#df-ba0d16f7-4522-40eb-84d5-7ac1caa43bb7 button.colab-df-convert');\n",
              "        buttonEl.style.display =\n",
              "          google.colab.kernel.accessAllowed ? 'block' : 'none';\n",
              "\n",
              "        async function convertToInteractive(key) {\n",
              "          const element = document.querySelector('#df-ba0d16f7-4522-40eb-84d5-7ac1caa43bb7');\n",
              "          const dataTable =\n",
              "            await google.colab.kernel.invokeFunction('convertToInteractive',\n",
              "                                                     [key], {});\n",
              "          if (!dataTable) return;\n",
              "\n",
              "          const docLinkHtml = 'Like what you see? Visit the ' +\n",
              "            '<a target=\"_blank\" href=https://colab.research.google.com/notebooks/data_table.ipynb>data table notebook</a>'\n",
              "            + ' to learn more about interactive tables.';\n",
              "          element.innerHTML = '';\n",
              "          dataTable['output_type'] = 'display_data';\n",
              "          await google.colab.output.renderOutput(dataTable, element);\n",
              "          const docLink = document.createElement('div');\n",
              "          docLink.innerHTML = docLinkHtml;\n",
              "          element.appendChild(docLink);\n",
              "        }\n",
              "      </script>\n",
              "    </div>\n",
              "  </div>\n",
              "  "
            ]
          },
          "metadata": {},
          "execution_count": 861
        }
      ],
      "source": [
        "X_train_un_paper"
      ]
    },
    {
      "cell_type": "code",
      "execution_count": null,
      "metadata": {
        "colab": {
          "base_uri": "https://localhost:8080/"
        },
        "id": "YQhw3paGgllk",
        "outputId": "1acf18d2-ac3b-4cbb-accf-2648cc406d1f"
      },
      "outputs": [
        {
          "output_type": "stream",
          "name": "stdout",
          "text": [
            "(197135, 22) (84487, 22)\n"
          ]
        }
      ],
      "source": [
        "print(X_train_un_paper.shape, X_test_un_paper.shape)"
      ]
    },
    {
      "cell_type": "markdown",
      "metadata": {
        "id": "24VNTY5o6JhC"
      },
      "source": [
        "#import lib"
      ]
    },
    {
      "cell_type": "code",
      "execution_count": null,
      "metadata": {
        "id": "jdbWsFZ7359K"
      },
      "outputs": [],
      "source": [
        "from sklearn.model_selection import KFold\n",
        "import time\n",
        "from time import perf_counter\n",
        "from sklearn.model_selection import cross_val_score\n",
        "from statistics import mean\n",
        "from sklearn.metrics import precision_score, recall_score , accuracy_score\n",
        "import seaborn as sns\n",
        "from sklearn.metrics import confusion_matrix\n",
        "from sklearn.tree import DecisionTreeClassifier\n",
        "from sklearn.model_selection import StratifiedKFold, cross_val_predict\n",
        "from sklearn.svm import SVC\n",
        "from sklearn.neighbors import KNeighborsClassifier\n",
        "from xgboost import XGBClassifier\n",
        "from sklearn.metrics import classification_report\n"
      ]
    },
    {
      "cell_type": "code",
      "execution_count": null,
      "metadata": {
        "id": "l69Msajr355N"
      },
      "outputs": [],
      "source": [
        "yy=le.inverse_transform(y_test)"
      ]
    },
    {
      "cell_type": "code",
      "execution_count": null,
      "metadata": {
        "colab": {
          "base_uri": "https://localhost:8080/"
        },
        "id": "Nr-f-ITc352F",
        "outputId": "a037bf4a-4177-4ac8-eb49-1ebf481a90ce"
      },
      "outputs": [
        {
          "output_type": "execute_result",
          "data": {
            "text/plain": [
              "3"
            ]
          },
          "metadata": {},
          "execution_count": 865
        }
      ],
      "source": [
        "y_test[565]"
      ]
    },
    {
      "cell_type": "code",
      "execution_count": null,
      "metadata": {
        "colab": {
          "base_uri": "https://localhost:8080/"
        },
        "id": "7EJiIqCd6dVW",
        "outputId": "7157caba-1305-49df-c70f-11d4247a1048"
      },
      "outputs": [
        {
          "output_type": "execute_result",
          "data": {
            "text/plain": [
              "array(['Reconnaissance', 'DoS', 'Reconnaissance', ..., 'DoS', 'DoS',\n",
              "       'DoS'], dtype=object)"
            ]
          },
          "metadata": {},
          "execution_count": 866
        }
      ],
      "source": [
        "yy"
      ]
    },
    {
      "cell_type": "code",
      "execution_count": null,
      "metadata": {
        "id": "DbTtX7456fvR"
      },
      "outputs": [],
      "source": [
        "def fitandeval(model, X_train , y_train,X_test , y_test):\n",
        "  start=perf_counter()\n",
        "  model.fit(X_train , y_train)\n",
        "  end=perf_counter()\n",
        "  build_time=(end-start)\n",
        "  st=perf_counter()\n",
        "  yhat=model.predict(X_test)\n",
        "  ed=perf_counter()\n",
        "  test_time=(ed-st)\n",
        "  accuracy=accuracy_score(y_test , yhat)\n",
        "  recall=recall_score(y_test , yhat,average='macro')\n",
        "  precision=precision_score(y_test , yhat,average='macro')\n",
        "  f1score=f1_score(y_test , yhat,average='macro')\n",
        "  print(classification_report(y_test, yhat, target_names=['DDoS','DoS','Normal','Reconnaissance','Theft'], digits=4))\n",
        "\n",
        "\n",
        "\n",
        "  return accuracy,recall,precision,f1score,build_time,test_time"
      ]
    },
    {
      "cell_type": "markdown",
      "metadata": {
        "id": "7-PjJghOaHYv"
      },
      "source": [
        "##number of selected features"
      ]
    },
    {
      "cell_type": "code",
      "execution_count": null,
      "metadata": {
        "colab": {
          "base_uri": "https://localhost:8080/",
          "height": 238
        },
        "id": "tXkXo3R-aGkf",
        "outputId": "ce732d03-5103-480b-ec5e-c08630079d15"
      },
      "outputs": [
        {
          "output_type": "execute_result",
          "data": {
            "text/plain": [
              "                  no of selected features\n",
              "method1_gini                           12\n",
              "method1_IG                             12\n",
              "method4_gini                            8\n",
              "method4_IG                              6\n",
              "intesection_paper                      14\n",
              "union_paper                            22"
            ],
            "text/html": [
              "\n",
              "  <div id=\"df-ee710c0e-dd3d-4fdf-aae9-08fc8f267931\">\n",
              "    <div class=\"colab-df-container\">\n",
              "      <div>\n",
              "<style scoped>\n",
              "    .dataframe tbody tr th:only-of-type {\n",
              "        vertical-align: middle;\n",
              "    }\n",
              "\n",
              "    .dataframe tbody tr th {\n",
              "        vertical-align: top;\n",
              "    }\n",
              "\n",
              "    .dataframe thead th {\n",
              "        text-align: right;\n",
              "    }\n",
              "</style>\n",
              "<table border=\"1\" class=\"dataframe\">\n",
              "  <thead>\n",
              "    <tr style=\"text-align: right;\">\n",
              "      <th></th>\n",
              "      <th>no of selected features</th>\n",
              "    </tr>\n",
              "  </thead>\n",
              "  <tbody>\n",
              "    <tr>\n",
              "      <th>method1_gini</th>\n",
              "      <td>12</td>\n",
              "    </tr>\n",
              "    <tr>\n",
              "      <th>method1_IG</th>\n",
              "      <td>12</td>\n",
              "    </tr>\n",
              "    <tr>\n",
              "      <th>method4_gini</th>\n",
              "      <td>8</td>\n",
              "    </tr>\n",
              "    <tr>\n",
              "      <th>method4_IG</th>\n",
              "      <td>6</td>\n",
              "    </tr>\n",
              "    <tr>\n",
              "      <th>intesection_paper</th>\n",
              "      <td>14</td>\n",
              "    </tr>\n",
              "    <tr>\n",
              "      <th>union_paper</th>\n",
              "      <td>22</td>\n",
              "    </tr>\n",
              "  </tbody>\n",
              "</table>\n",
              "</div>\n",
              "      <button class=\"colab-df-convert\" onclick=\"convertToInteractive('df-ee710c0e-dd3d-4fdf-aae9-08fc8f267931')\"\n",
              "              title=\"Convert this dataframe to an interactive table.\"\n",
              "              style=\"display:none;\">\n",
              "        \n",
              "  <svg xmlns=\"http://www.w3.org/2000/svg\" height=\"24px\"viewBox=\"0 0 24 24\"\n",
              "       width=\"24px\">\n",
              "    <path d=\"M0 0h24v24H0V0z\" fill=\"none\"/>\n",
              "    <path d=\"M18.56 5.44l.94 2.06.94-2.06 2.06-.94-2.06-.94-.94-2.06-.94 2.06-2.06.94zm-11 1L8.5 8.5l.94-2.06 2.06-.94-2.06-.94L8.5 2.5l-.94 2.06-2.06.94zm10 10l.94 2.06.94-2.06 2.06-.94-2.06-.94-.94-2.06-.94 2.06-2.06.94z\"/><path d=\"M17.41 7.96l-1.37-1.37c-.4-.4-.92-.59-1.43-.59-.52 0-1.04.2-1.43.59L10.3 9.45l-7.72 7.72c-.78.78-.78 2.05 0 2.83L4 21.41c.39.39.9.59 1.41.59.51 0 1.02-.2 1.41-.59l7.78-7.78 2.81-2.81c.8-.78.8-2.07 0-2.86zM5.41 20L4 18.59l7.72-7.72 1.47 1.35L5.41 20z\"/>\n",
              "  </svg>\n",
              "      </button>\n",
              "      \n",
              "  <style>\n",
              "    .colab-df-container {\n",
              "      display:flex;\n",
              "      flex-wrap:wrap;\n",
              "      gap: 12px;\n",
              "    }\n",
              "\n",
              "    .colab-df-convert {\n",
              "      background-color: #E8F0FE;\n",
              "      border: none;\n",
              "      border-radius: 50%;\n",
              "      cursor: pointer;\n",
              "      display: none;\n",
              "      fill: #1967D2;\n",
              "      height: 32px;\n",
              "      padding: 0 0 0 0;\n",
              "      width: 32px;\n",
              "    }\n",
              "\n",
              "    .colab-df-convert:hover {\n",
              "      background-color: #E2EBFA;\n",
              "      box-shadow: 0px 1px 2px rgba(60, 64, 67, 0.3), 0px 1px 3px 1px rgba(60, 64, 67, 0.15);\n",
              "      fill: #174EA6;\n",
              "    }\n",
              "\n",
              "    [theme=dark] .colab-df-convert {\n",
              "      background-color: #3B4455;\n",
              "      fill: #D2E3FC;\n",
              "    }\n",
              "\n",
              "    [theme=dark] .colab-df-convert:hover {\n",
              "      background-color: #434B5C;\n",
              "      box-shadow: 0px 1px 3px 1px rgba(0, 0, 0, 0.15);\n",
              "      filter: drop-shadow(0px 1px 2px rgba(0, 0, 0, 0.3));\n",
              "      fill: #FFFFFF;\n",
              "    }\n",
              "  </style>\n",
              "\n",
              "      <script>\n",
              "        const buttonEl =\n",
              "          document.querySelector('#df-ee710c0e-dd3d-4fdf-aae9-08fc8f267931 button.colab-df-convert');\n",
              "        buttonEl.style.display =\n",
              "          google.colab.kernel.accessAllowed ? 'block' : 'none';\n",
              "\n",
              "        async function convertToInteractive(key) {\n",
              "          const element = document.querySelector('#df-ee710c0e-dd3d-4fdf-aae9-08fc8f267931');\n",
              "          const dataTable =\n",
              "            await google.colab.kernel.invokeFunction('convertToInteractive',\n",
              "                                                     [key], {});\n",
              "          if (!dataTable) return;\n",
              "\n",
              "          const docLinkHtml = 'Like what you see? Visit the ' +\n",
              "            '<a target=\"_blank\" href=https://colab.research.google.com/notebooks/data_table.ipynb>data table notebook</a>'\n",
              "            + ' to learn more about interactive tables.';\n",
              "          element.innerHTML = '';\n",
              "          dataTable['output_type'] = 'display_data';\n",
              "          await google.colab.output.renderOutput(dataTable, element);\n",
              "          const docLink = document.createElement('div');\n",
              "          docLink.innerHTML = docLinkHtml;\n",
              "          element.appendChild(docLink);\n",
              "        }\n",
              "      </script>\n",
              "    </div>\n",
              "  </div>\n",
              "  "
            ]
          },
          "metadata": {},
          "execution_count": 868
        }
      ],
      "source": [
        "dic1={\"no of selected features\":[(\"{0}\".format(a)),(\"{0}\".format(b)),(\"{0}\".format(c)),\n",
        "                                 (\"{0}\".format(d)),(\"{0}\".format(e)),(\"{0}\".format(f))]\n",
        "     }\n",
        "\n",
        "no_of_f = pd.DataFrame.from_dict( dic1 , orient='index')\n",
        "no_of_f.columns=['method1_gini','method1_IG','method4_gini','method4_IG','intesection_paper','union_paper']\n",
        "no_of_f = no_of_f.T\n",
        "no_of_f"
      ]
    },
    {
      "cell_type": "markdown",
      "metadata": {
        "id": "GThJK0tF7LFp"
      },
      "source": [
        "##fit SVM,KNN,XGB"
      ]
    },
    {
      "cell_type": "markdown",
      "metadata": {
        "id": "XlfKaaVe85-q"
      },
      "source": [
        "###KNN"
      ]
    },
    {
      "cell_type": "code",
      "execution_count": null,
      "metadata": {
        "colab": {
          "base_uri": "https://localhost:8080/"
        },
        "id": "-ocLGN856fsQ",
        "outputId": "51d1491a-ff62-4b14-9891-15c5e5202a3a"
      },
      "outputs": [
        {
          "output_type": "stream",
          "name": "stdout",
          "text": [
            "                precision    recall  f1-score   support\n",
            "\n",
            "          DDoS     0.9993    0.9984    0.9989     30202\n",
            "           DoS     0.9983    0.9994    0.9989     29967\n",
            "        Normal     0.9645    0.9444    0.9544       144\n",
            "Reconnaissance     0.9996    0.9997    0.9996     24155\n",
            "         Theft     1.0000    0.7895    0.8824        19\n",
            "\n",
            "      accuracy                         0.9990     84487\n",
            "     macro avg     0.9924    0.9463    0.9668     84487\n",
            "  weighted avg     0.9990    0.9990    0.9990     84487\n",
            "\n"
          ]
        }
      ],
      "source": [
        "start=time.time()\n",
        "acc_method1_gini_KNN, recall_method1_gini_KNN , precision_method1_gini_KNN , f1score_method1_gini_KNN, build_time_method1_gini_KNN, test_time_method1_gini_KNN =fitandeval(model=KNeighborsClassifier(), X_train=X_train_method1_gini, y_train=y_train\n",
        "                                                                              ,X_test=X_test_method1_gini, y_test=y_test)\n",
        "end=time.time()\n",
        "method1_gini_time_KNN=end-start"
      ]
    },
    {
      "cell_type": "code",
      "execution_count": null,
      "metadata": {
        "colab": {
          "base_uri": "https://localhost:8080/"
        },
        "id": "rAz5yesm6fpu",
        "outputId": "8a4fd7e2-836c-4e17-cff3-3bc731774e8a"
      },
      "outputs": [
        {
          "output_type": "stream",
          "name": "stdout",
          "text": [
            "                precision    recall  f1-score   support\n",
            "\n",
            "          DDoS     0.9995    0.9982    0.9989     30202\n",
            "           DoS     0.9981    0.9996    0.9989     29967\n",
            "        Normal     0.9655    0.9722    0.9689       144\n",
            "Reconnaissance     0.9997    0.9997    0.9997     24155\n",
            "         Theft     1.0000    0.7895    0.8824        19\n",
            "\n",
            "      accuracy                         0.9990     84487\n",
            "     macro avg     0.9926    0.9518    0.9697     84487\n",
            "  weighted avg     0.9990    0.9990    0.9990     84487\n",
            "\n"
          ]
        }
      ],
      "source": [
        "start=time.time()\n",
        "acc_method1_IG_KNN, recall_method1_IG_KNN , precision_method1_IG_KNN , f1score_method1_IG_KNN, build_time_method1_IG_KNN, test_time_method1_IG_KNN =fitandeval(model=KNeighborsClassifier(), X_train=X_train_method1_IG, y_train=y_train\n",
        "                                                                              ,X_test=X_test_method1_IG, y_test=y_test)\n",
        "end=time.time()\n",
        "method1_IG_time_KNN=end-start"
      ]
    },
    {
      "cell_type": "code",
      "execution_count": null,
      "metadata": {
        "id": "jMUaIEJazkHe"
      },
      "outputs": [],
      "source": []
    },
    {
      "cell_type": "code",
      "execution_count": null,
      "metadata": {
        "colab": {
          "base_uri": "https://localhost:8080/"
        },
        "id": "fwl6bpCm-IOQ",
        "outputId": "9f0a5160-d636-4a9d-d83b-15516955864c"
      },
      "outputs": [
        {
          "output_type": "stream",
          "name": "stdout",
          "text": [
            "                precision    recall  f1-score   support\n",
            "\n",
            "          DDoS     0.9996    0.9992    0.9994     30202\n",
            "           DoS     0.9992    0.9996    0.9994     29967\n",
            "        Normal     0.9580    0.9514    0.9547       144\n",
            "Reconnaissance     0.9995    0.9997    0.9996     24155\n",
            "         Theft     1.0000    0.6842    0.8125        19\n",
            "\n",
            "      accuracy                         0.9993     84487\n",
            "     macro avg     0.9913    0.9268    0.9531     84487\n",
            "  weighted avg     0.9993    0.9993    0.9993     84487\n",
            "\n"
          ]
        }
      ],
      "source": [
        "start=time.time()\n",
        "acc_method4_gini_KNN, recall_method4_gini_KNN , precision_method4_gini_KNN , f1score_method4_gini_KNN, build_time_method4_gini_KNN, test_time_method4_gini_KNN =fitandeval(model=KNeighborsClassifier(), X_train=X_train_method4_gini, y_train=y_train\n",
        "                                                                              ,X_test=X_test_method4_gini, y_test=y_test)\n",
        "end=time.time()\n",
        "method4_gini_time_KNN=end-start"
      ]
    },
    {
      "cell_type": "code",
      "execution_count": null,
      "metadata": {
        "id": "H5kF2ATVzwOa"
      },
      "outputs": [],
      "source": []
    },
    {
      "cell_type": "code",
      "execution_count": null,
      "metadata": {
        "colab": {
          "base_uri": "https://localhost:8080/"
        },
        "id": "3VtoYYoD-H7g",
        "outputId": "3688ebc1-5ef0-411f-f5ae-80cf63c8c51d"
      },
      "outputs": [
        {
          "output_type": "stream",
          "name": "stdout",
          "text": [
            "                precision    recall  f1-score   support\n",
            "\n",
            "          DDoS     0.9904    0.9924    0.9914     30202\n",
            "           DoS     0.9922    0.9903    0.9912     29967\n",
            "        Normal     0.9481    0.8889    0.9176       144\n",
            "Reconnaissance     0.9989    0.9995    0.9992     24155\n",
            "         Theft     0.8750    0.3684    0.5185        19\n",
            "\n",
            "      accuracy                         0.9934     84487\n",
            "     macro avg     0.9609    0.8479    0.8836     84487\n",
            "  weighted avg     0.9933    0.9934    0.9933     84487\n",
            "\n"
          ]
        }
      ],
      "source": [
        "start=time.time()\n",
        "acc_method4_IG_KNN, recall_method4_IG_KNN , precision_method4_IG_KNN , f1score_method4_IG_KNN, build_time_method4_IG_KNN, test_time_method4_IG_KNN =fitandeval(model=KNeighborsClassifier(), X_train=X_train_method4_IG, y_train=y_train\n",
        "                                                                              ,X_test=X_test_method4_IG, y_test=y_test)\n",
        "end=time.time()\n",
        "method4_IG_time_KNN=end-start"
      ]
    },
    {
      "cell_type": "code",
      "execution_count": null,
      "metadata": {
        "id": "mqTaeR-Gz2WI"
      },
      "outputs": [],
      "source": []
    },
    {
      "cell_type": "code",
      "execution_count": null,
      "metadata": {
        "colab": {
          "base_uri": "https://localhost:8080/"
        },
        "id": "crALxq_vhXFE",
        "outputId": "3c753499-33ff-4288-9b0b-c7a1fb8a466f"
      },
      "outputs": [
        {
          "output_type": "stream",
          "name": "stdout",
          "text": [
            "                precision    recall  f1-score   support\n",
            "\n",
            "          DDoS     0.9988    0.9978    0.9983     30202\n",
            "           DoS     0.9975    0.9990    0.9982     29967\n",
            "        Normal     0.9355    0.8056    0.8657       144\n",
            "Reconnaissance     0.9985    0.9991    0.9988     24155\n",
            "         Theft     1.0000    0.4737    0.6429        19\n",
            "\n",
            "      accuracy                         0.9982     84487\n",
            "     macro avg     0.9861    0.8550    0.9008     84487\n",
            "  weighted avg     0.9981    0.9982    0.9981     84487\n",
            "\n"
          ]
        }
      ],
      "source": [
        "start=time.time()\n",
        "acc_int_paper_KNN, recall_int_paper_KNN , precision_int_paper_KNN, f1score_int_paper_KNN, build_time_int_paper_KNN, test_time_int_paper_KNN =fitandeval(model=KNeighborsClassifier(), X_train=X_train_int_paper, y_train=y_train\n",
        "                                                                              ,X_test=X_test_int_paper, y_test=y_test)\n",
        "end=time.time()\n",
        "int_paper_time_KNN=end-start"
      ]
    },
    {
      "cell_type": "code",
      "execution_count": null,
      "metadata": {
        "colab": {
          "base_uri": "https://localhost:8080/"
        },
        "id": "nY5jJuec1E-e",
        "outputId": "fe98ef92-1d7d-4e7a-e22b-df1939109769"
      },
      "outputs": [
        {
          "output_type": "stream",
          "name": "stdout",
          "text": [
            "                precision    recall  f1-score   support\n",
            "\n",
            "          DDoS     0.9996    0.9991    0.9994     30202\n",
            "           DoS     0.9988    0.9996    0.9992     29967\n",
            "        Normal     0.9720    0.9653    0.9686       144\n",
            "Reconnaissance     0.9997    0.9995    0.9996     24155\n",
            "         Theft     1.0000    0.7895    0.8824        19\n",
            "\n",
            "      accuracy                         0.9993     84487\n",
            "     macro avg     0.9940    0.9506    0.9698     84487\n",
            "  weighted avg     0.9993    0.9993    0.9993     84487\n",
            "\n"
          ]
        }
      ],
      "source": [
        "start=time.time()\n",
        "acc_un_paper_KNN, recall_un_paper_KNN , precision_un_paper_KNN, f1score_un_paper_KNN, build_time_un_paper_KNN, test_time_un_paper_KNN =fitandeval(model=KNeighborsClassifier(), X_train=X_train_un_paper, y_train=y_train\n",
        "                                                                              ,X_test=X_test_un_paper, y_test=y_test)\n",
        "end=time.time()\n",
        "un_paper_time_KNN=end-start"
      ]
    },
    {
      "cell_type": "markdown",
      "metadata": {
        "id": "6V4Z6liN_ZAH"
      },
      "source": [
        "###XGB"
      ]
    },
    {
      "cell_type": "code",
      "execution_count": null,
      "metadata": {
        "colab": {
          "base_uri": "https://localhost:8080/"
        },
        "id": "O4pf5mzo_e4-",
        "outputId": "f63b107d-ab11-4ceb-b665-ce949b5abf8c"
      },
      "outputs": [
        {
          "output_type": "stream",
          "name": "stdout",
          "text": [
            "                precision    recall  f1-score   support\n",
            "\n",
            "          DDoS     0.9993    0.9988    0.9991     30202\n",
            "           DoS     0.9988    0.9992    0.9990     29967\n",
            "        Normal     0.9793    0.9861    0.9827       144\n",
            "Reconnaissance     0.9997    0.9998    0.9997     24155\n",
            "         Theft     0.9412    0.8421    0.8889        19\n",
            "\n",
            "      accuracy                         0.9992     84487\n",
            "     macro avg     0.9836    0.9652    0.9739     84487\n",
            "  weighted avg     0.9992    0.9992    0.9992     84487\n",
            "\n"
          ]
        }
      ],
      "source": [
        "start=time.time()\n",
        "acc_method1_gini_XGB, recall_method1_gini_XGB, precision_method1_gini_XGB , f1score_method1_gini_XGB, build_time_method1_gini_XGB, test_time_method1_gini_XGB =fitandeval(model=XGBClassifier(random_state=55), X_train=X_train_method1_gini, y_train=y_train\n",
        "                                                                              ,X_test=X_test_method1_gini, y_test=y_test)\n",
        "end=time.time()\n",
        "method1_gini_time_XGB=end-start"
      ]
    },
    {
      "cell_type": "code",
      "execution_count": null,
      "metadata": {
        "colab": {
          "base_uri": "https://localhost:8080/"
        },
        "id": "nwaus2QP_esv",
        "outputId": "f3d414c0-9dd9-47d0-9985-dd4f55f30ebd"
      },
      "outputs": [
        {
          "output_type": "stream",
          "name": "stdout",
          "text": [
            "                precision    recall  f1-score   support\n",
            "\n",
            "          DDoS     0.9988    0.9957    0.9973     30202\n",
            "           DoS     0.9957    0.9988    0.9973     29967\n",
            "        Normal     0.9792    0.9792    0.9792       144\n",
            "Reconnaissance     0.9998    0.9999    0.9998     24155\n",
            "         Theft     1.0000    0.8421    0.9143        19\n",
            "\n",
            "      accuracy                         0.9980     84487\n",
            "     macro avg     0.9947    0.9631    0.9776     84487\n",
            "  weighted avg     0.9980    0.9980    0.9980     84487\n",
            "\n"
          ]
        }
      ],
      "source": [
        "start=time.time()\n",
        "acc_method1_IG_XGB, recall_method1_IG_XGB, precision_method1_IG_XGB , f1score_method1_IG_XGB, build_time_method1_IG_XGB, test_time_method1_IG_XGB =fitandeval(model=XGBClassifier(random_state=55), X_train=X_train_method1_IG, y_train=y_train\n",
        "                                                                              ,X_test=X_test_method1_IG, y_test=y_test)\n",
        "end=time.time()\n",
        "method1_IG_time_XGB=end-start"
      ]
    },
    {
      "cell_type": "code",
      "execution_count": null,
      "metadata": {
        "colab": {
          "base_uri": "https://localhost:8080/"
        },
        "id": "FSA4yR6C_edd",
        "outputId": "f97c8af1-e3f3-4e2c-e546-85fdbca324f4"
      },
      "outputs": [
        {
          "output_type": "stream",
          "name": "stdout",
          "text": [
            "                precision    recall  f1-score   support\n",
            "\n",
            "          DDoS     0.9997    0.9950    0.9973     30202\n",
            "           DoS     0.9950    0.9997    0.9973     29967\n",
            "        Normal     0.9929    0.9653    0.9789       144\n",
            "Reconnaissance     0.9997    1.0000    0.9998     24155\n",
            "         Theft     0.9412    0.8421    0.8889        19\n",
            "\n",
            "      accuracy                         0.9980     84487\n",
            "     macro avg     0.9857    0.9604    0.9725     84487\n",
            "  weighted avg     0.9980    0.9980    0.9980     84487\n",
            "\n"
          ]
        }
      ],
      "source": [
        "start=time.time()\n",
        "acc_method4_gini_XGB, recall_method4_gini_XGB, precision_method4_gini_XGB , f1score_method4_gini_XGB, build_time_method4_gini_XGB, test_time_method4_gini_XGB =fitandeval(model=XGBClassifier(random_state=55), X_train=X_train_method4_gini, y_train=y_train\n",
        "                                                                              ,X_test=X_test_method4_gini, y_test=y_test)\n",
        "end=time.time()\n",
        "method4_gini_time_XGB=end-start"
      ]
    },
    {
      "cell_type": "code",
      "execution_count": null,
      "metadata": {
        "colab": {
          "base_uri": "https://localhost:8080/"
        },
        "id": "MFqmwzb6_eaX",
        "outputId": "e160e789-f057-4db1-8fb2-4ce33cc84c57"
      },
      "outputs": [
        {
          "output_type": "stream",
          "name": "stdout",
          "text": [
            "                precision    recall  f1-score   support\n",
            "\n",
            "          DDoS     0.9959    0.9815    0.9886     30202\n",
            "           DoS     0.9811    0.9955    0.9883     29967\n",
            "        Normal     0.9922    0.8819    0.9338       144\n",
            "Reconnaissance     0.9981    0.9991    0.9986     24155\n",
            "         Theft     1.0000    0.5789    0.7333        19\n",
            "\n",
            "      accuracy                         0.9912     84487\n",
            "     macro avg     0.9935    0.8874    0.9285     84487\n",
            "  weighted avg     0.9913    0.9912    0.9912     84487\n",
            "\n"
          ]
        }
      ],
      "source": [
        "start=time.time()\n",
        "acc_method4_IG_XGB, recall_method4_IG_XGB, precision_method4_IG_XGB , f1score_method4_IG_XGB, build_time_method4_IG_XGB, test_time_method4_IG_XGB =fitandeval(model=XGBClassifier(random_state=55), X_train=X_train_method4_IG, y_train=y_train\n",
        "                                                                              ,X_test=X_test_method4_IG, y_test=y_test)\n",
        "end=time.time()\n",
        "method4_IG_time_XGB=end-start"
      ]
    },
    {
      "cell_type": "code",
      "execution_count": null,
      "metadata": {
        "colab": {
          "base_uri": "https://localhost:8080/"
        },
        "id": "VI3P4l5Y1fcN",
        "outputId": "4bcded7a-eab2-471c-bd17-06877fa169f6"
      },
      "outputs": [
        {
          "output_type": "stream",
          "name": "stdout",
          "text": [
            "                precision    recall  f1-score   support\n",
            "\n",
            "          DDoS     0.9990    0.9985    0.9988     30202\n",
            "           DoS     0.9985    0.9991    0.9988     29967\n",
            "        Normal     0.9922    0.8889    0.9377       144\n",
            "Reconnaissance     0.9993    1.0000    0.9996     24155\n",
            "         Theft     1.0000    0.7895    0.8824        19\n",
            "\n",
            "      accuracy                         0.9989     84487\n",
            "     macro avg     0.9978    0.9352    0.9634     84487\n",
            "  weighted avg     0.9989    0.9989    0.9989     84487\n",
            "\n"
          ]
        }
      ],
      "source": [
        "start=time.time()\n",
        "acc_int_paper_XGB, recall_int_paper_XGB, precision_int_paper_XGB , f1score_int_paper_XGB, build_time_int_paper_XGB, test_time_int_paper_XGB =fitandeval(model=XGBClassifier(random_state=55), X_train=X_train_int_paper, y_train=y_train\n",
        "                                                                              ,X_test=X_test_int_paper, y_test=y_test)\n",
        "end=time.time()\n",
        "int_paper_time_XGB=end-start"
      ]
    },
    {
      "cell_type": "code",
      "execution_count": null,
      "metadata": {
        "colab": {
          "base_uri": "https://localhost:8080/"
        },
        "id": "qhdzeg6J2aWL",
        "outputId": "a20c5e89-7c98-4a3d-bf91-10c8228c86dc"
      },
      "outputs": [
        {
          "output_type": "stream",
          "name": "stdout",
          "text": [
            "                precision    recall  f1-score   support\n",
            "\n",
            "          DDoS     0.9992    0.9990    0.9991     30202\n",
            "           DoS     0.9990    0.9992    0.9991     29967\n",
            "        Normal     0.9929    0.9722    0.9825       144\n",
            "Reconnaissance     0.9998    1.0000    0.9999     24155\n",
            "         Theft     1.0000    0.8947    0.9444        19\n",
            "\n",
            "      accuracy                         0.9993     84487\n",
            "     macro avg     0.9982    0.9730    0.9850     84487\n",
            "  weighted avg     0.9993    0.9993    0.9993     84487\n",
            "\n"
          ]
        }
      ],
      "source": [
        "start=time.time()\n",
        "acc_un_paper_XGB, recall_un_paper_XGB, precision_un_paper_XGB , f1score_un_paper_XGB, build_time_un_paper_XGB, test_time_un_paper_XGB =fitandeval(model=XGBClassifier(random_state=55), X_train=X_train_un_paper, y_train=y_train\n",
        "                                                                              ,X_test=X_test_un_paper, y_test=y_test)\n",
        "end=time.time()\n",
        "un_paper_time_XGB=end-start"
      ]
    },
    {
      "cell_type": "markdown",
      "metadata": {
        "id": "0Md-6cOlBD6h"
      },
      "source": [
        "###SVM"
      ]
    },
    {
      "cell_type": "code",
      "execution_count": null,
      "metadata": {
        "colab": {
          "base_uri": "https://localhost:8080/"
        },
        "id": "V9vGFpVxBIMh",
        "outputId": "2acd302b-f7f1-4821-b4c4-99e7b9a845be"
      },
      "outputs": [
        {
          "output_type": "stream",
          "name": "stdout",
          "text": [
            "[LibSVM]                precision    recall  f1-score   support\n",
            "\n",
            "          DDoS     0.9953    0.9912    0.9932     30202\n",
            "           DoS     0.9911    0.9954    0.9932     29967\n",
            "        Normal     0.9600    0.8333    0.8922       144\n",
            "Reconnaissance     0.9989    0.9997    0.9993     24155\n",
            "         Theft     1.0000    0.7895    0.8824        19\n",
            "\n",
            "      accuracy                         0.9948     84487\n",
            "     macro avg     0.9891    0.9218    0.9521     84487\n",
            "  weighted avg     0.9948    0.9948    0.9948     84487\n",
            "\n"
          ]
        }
      ],
      "source": [
        "start=time.time()\n",
        "acc_method1_gini_SVM, recall_method1_gini_SVM, precision_method1_gini_SVM , f1score_method1_gini_SVM, build_time_method1_gini_SVM, test_time_method1_gini_SVM =fitandeval(model=SVC(random_state=55, C=1,gamma=1 ,kernel='rbf', verbose=True), X_train=X_train_method1_gini,y_train=y_train\n",
        "                                                                              ,X_test=X_test_method1_gini, y_test=y_test)\n",
        "end=time.time()\n",
        "method1_gini_time_SVM=end-start"
      ]
    },
    {
      "cell_type": "code",
      "execution_count": null,
      "metadata": {
        "id": "Usmrm8oPBJmI",
        "colab": {
          "base_uri": "https://localhost:8080/"
        },
        "outputId": "33173e5f-1237-4fda-dcf1-4de77ceb2fb9"
      },
      "outputs": [
        {
          "output_type": "stream",
          "name": "stdout",
          "text": [
            "[LibSVM]                precision    recall  f1-score   support\n",
            "\n",
            "          DDoS     0.9758    0.9658    0.9708     30202\n",
            "           DoS     0.9659    0.9764    0.9711     29967\n",
            "        Normal     0.9845    0.8819    0.9304       144\n",
            "Reconnaissance     0.9990    0.9992    0.9991     24155\n",
            "         Theft     1.0000    0.7895    0.8824        19\n",
            "\n",
            "      accuracy                         0.9789     84487\n",
            "     macro avg     0.9850    0.9226    0.9508     84487\n",
            "  weighted avg     0.9790    0.9789    0.9789     84487\n",
            "\n"
          ]
        }
      ],
      "source": [
        "start=time.time()\n",
        "acc_method1_IG_SVM, recall_method1_IG_SVM, precision_method1_IG_SVM , f1score_method1_IG_SVM, build_time_method1_IG_SVM, test_time_method1_IG_SVM =fitandeval(model=SVC(random_state=55, C=1,gamma=1 , kernel='rbf', verbose=True), X_train=X_train_method1_IG,y_train=y_train\n",
        "                                                                              ,X_test=X_test_method1_IG, y_test=y_test)\n",
        "end=time.time()\n",
        "method1_IG_time_SVM=end-start"
      ]
    },
    {
      "cell_type": "code",
      "execution_count": null,
      "metadata": {
        "id": "IZ5kt0Z_BJaq",
        "colab": {
          "base_uri": "https://localhost:8080/"
        },
        "outputId": "25d8e92e-3d1a-4124-d0e3-e01132b2d44f"
      },
      "outputs": [
        {
          "output_type": "stream",
          "name": "stdout",
          "text": [
            "[LibSVM]                precision    recall  f1-score   support\n",
            "\n",
            "          DDoS     0.9939    0.9866    0.9902     30202\n",
            "           DoS     0.9866    0.9940    0.9903     29967\n",
            "        Normal     0.9709    0.6944    0.8097       144\n",
            "Reconnaissance     0.9976    0.9998    0.9987     24155\n",
            "         Theft     1.0000    0.1579    0.2727        19\n",
            "\n",
            "      accuracy                         0.9923     84487\n",
            "     macro avg     0.9898    0.7666    0.8123     84487\n",
            "  weighted avg     0.9923    0.9923    0.9922     84487\n",
            "\n"
          ]
        }
      ],
      "source": [
        "start=time.time()\n",
        "acc_method4_gini_SVM, recall_method4_gini_SVM, precision_method4_gini_SVM , f1score_method4_gini_SVM, build_time_method4_gini_SVM, test_time_method4_gini_SVM =fitandeval(model=SVC(random_state=55, C=1,gamma=1 , kernel='rbf', verbose=True), X_train=X_train_method4_gini,y_train=y_train\n",
        "                                                                              ,X_test=X_test_method4_gini, y_test=y_test)\n",
        "end=time.time()\n",
        "method4_gini_time_SVM=end-start"
      ]
    },
    {
      "cell_type": "code",
      "execution_count": null,
      "metadata": {
        "id": "KmvAsDc9BJKb",
        "colab": {
          "base_uri": "https://localhost:8080/"
        },
        "outputId": "3772f238-7495-45c0-89aa-e2528ba058e8"
      },
      "outputs": [
        {
          "output_type": "stream",
          "name": "stdout",
          "text": [
            "[LibSVM]                precision    recall  f1-score   support\n",
            "\n",
            "          DDoS     0.9706    0.9460    0.9582     30202\n",
            "           DoS     0.9125    0.9723    0.9415     29967\n",
            "        Normal     0.8137    0.9097    0.8590       144\n",
            "Reconnaissance     0.9988    0.9494    0.9735     24155\n",
            "         Theft     0.0000    0.0000    0.0000        19\n",
            "\n",
            "      accuracy                         0.9560     84487\n",
            "     macro avg     0.7391    0.7555    0.7464     84487\n",
            "  weighted avg     0.9576    0.9560    0.9562     84487\n",
            "\n"
          ]
        },
        {
          "output_type": "stream",
          "name": "stderr",
          "text": [
            "/usr/local/lib/python3.7/dist-packages/sklearn/metrics/_classification.py:1318: UndefinedMetricWarning: Precision is ill-defined and being set to 0.0 in labels with no predicted samples. Use `zero_division` parameter to control this behavior.\n",
            "  _warn_prf(average, modifier, msg_start, len(result))\n",
            "/usr/local/lib/python3.7/dist-packages/sklearn/metrics/_classification.py:1318: UndefinedMetricWarning: Precision and F-score are ill-defined and being set to 0.0 in labels with no predicted samples. Use `zero_division` parameter to control this behavior.\n",
            "  _warn_prf(average, modifier, msg_start, len(result))\n",
            "/usr/local/lib/python3.7/dist-packages/sklearn/metrics/_classification.py:1318: UndefinedMetricWarning: Precision and F-score are ill-defined and being set to 0.0 in labels with no predicted samples. Use `zero_division` parameter to control this behavior.\n",
            "  _warn_prf(average, modifier, msg_start, len(result))\n",
            "/usr/local/lib/python3.7/dist-packages/sklearn/metrics/_classification.py:1318: UndefinedMetricWarning: Precision and F-score are ill-defined and being set to 0.0 in labels with no predicted samples. Use `zero_division` parameter to control this behavior.\n",
            "  _warn_prf(average, modifier, msg_start, len(result))\n"
          ]
        }
      ],
      "source": [
        "start=time.time()\n",
        "acc_method4_IG_SVM, recall_method4_IG_SVM, precision_method4_IG_SVM , f1score_method4_IG_SVM, build_time_method4_IG_SVM, test_time_method4_IG_SVM =fitandeval(model=SVC(random_state=55, C=1,gamma=1 , kernel='rbf', verbose=True), X_train=X_train_method4_IG,y_train=y_train\n",
        "                                                                              ,X_test=X_test_method4_IG, y_test=y_test)\n",
        "end=time.time()\n",
        "method4_IG_time_SVM=end-start"
      ]
    },
    {
      "cell_type": "code",
      "execution_count": null,
      "metadata": {
        "id": "5cTjO1QC222a",
        "colab": {
          "base_uri": "https://localhost:8080/"
        },
        "outputId": "3b3e552f-a600-4aef-ffe6-d88fbb67dada"
      },
      "outputs": [
        {
          "output_type": "stream",
          "name": "stdout",
          "text": [
            "[LibSVM]                precision    recall  f1-score   support\n",
            "\n",
            "          DDoS     0.9865    0.9766    0.9815     30202\n",
            "           DoS     0.9713    0.9870    0.9791     29967\n",
            "        Normal     0.7333    0.0764    0.1384       144\n",
            "Reconnaissance     0.9937    0.9923    0.9930     24155\n",
            "         Theft     1.0000    0.1053    0.1905        19\n",
            "\n",
            "      accuracy                         0.9830     84487\n",
            "     macro avg     0.9370    0.6275    0.6565     84487\n",
            "  weighted avg     0.9827    0.9830    0.9823     84487\n",
            "\n"
          ]
        }
      ],
      "source": [
        "start=time.time()\n",
        "acc_int_paper_SVM, recall_int_paper_SVM, precision_int_paper_SVM , f1score_int_paper_SVM, build_time_int_paper_SVM, test_time_int_paper_SVM =fitandeval(model=SVC(random_state=55, C=1,gamma=1 , kernel='rbf', verbose=True), X_train=X_train_int_paper, y_train=y_train\n",
        "                                                                              ,X_test=X_test_int_paper, y_test=y_test)\n",
        "end=time.time()\n",
        "int_paper_time_SVM=end-start"
      ]
    },
    {
      "cell_type": "code",
      "execution_count": null,
      "metadata": {
        "id": "kjCUNrf27iYC",
        "colab": {
          "base_uri": "https://localhost:8080/"
        },
        "outputId": "c7940ef5-fb70-4624-d563-47042de43632"
      },
      "outputs": [
        {
          "output_type": "stream",
          "name": "stdout",
          "text": [
            "[LibSVM]                precision    recall  f1-score   support\n",
            "\n",
            "          DDoS     0.9930    0.9876    0.9903     30202\n",
            "           DoS     0.9874    0.9930    0.9902     29967\n",
            "        Normal     0.9683    0.8472    0.9037       144\n",
            "Reconnaissance     0.9990    0.9998    0.9994     24155\n",
            "         Theft     1.0000    0.7895    0.8824        19\n",
            "\n",
            "      accuracy                         0.9927     84487\n",
            "     macro avg     0.9895    0.9234    0.9532     84487\n",
            "  weighted avg     0.9927    0.9927    0.9927     84487\n",
            "\n"
          ]
        }
      ],
      "source": [
        "start=time.time()\n",
        "acc_un_paper_SVM, recall_un_paper_SVM, precision_un_paper_SVM , f1score_un_paper_SVM, build_time_un_paper_SVM, test_time_un_paper_SVM =fitandeval(model=SVC(random_state=55, C=1,gamma=1 , kernel='rbf', verbose=True), X_train=X_train_un_paper, y_train=y_train\n",
        "                                                                              ,X_test=X_test_un_paper, y_test=y_test)\n",
        "end=time.time()\n",
        "un_paper_time_SVM=end-start"
      ]
    },
    {
      "cell_type": "markdown",
      "metadata": {
        "id": "bfubMu7iDOWL"
      },
      "source": [
        "##Result Comparision"
      ]
    },
    {
      "cell_type": "code",
      "execution_count": null,
      "metadata": {
        "id": "Rul1gH69DdlL",
        "colab": {
          "base_uri": "https://localhost:8080/"
        },
        "outputId": "dee67642-17c7-43b0-8971-006d8060affa"
      },
      "outputs": [
        {
          "output_type": "execute_result",
          "data": {
            "text/plain": [
              "                  Accuracy    Recall Precision  F1_score     Time(s)  \\\n",
              "method1_gini_KNN  0.998994  0.946286  0.992361  0.966825    5.815234   \n",
              "method1_IG_KNN    0.999029  0.951835  0.992579  0.969728   10.454499   \n",
              "method4_gini_KNN  0.999337  0.926823  0.991256  0.953116    3.351403   \n",
              "method4_IG_KNN    0.993360  0.847897  0.960912  0.883575    3.764947   \n",
              "int_paper_KNN     0.998154  0.855030  0.986052  0.900774    4.353956   \n",
              "un_paper_KNN      0.999302  0.950599  0.994026  0.969833  254.304013   \n",
              "method1_gini_XGB  0.999171  0.965203  0.983645  0.973871   50.001080   \n",
              "method1_IG_XGB    0.997952  0.963142  0.994693  0.977563   43.679552   \n",
              "method4_gini_XGB  0.998000  0.960408  0.985686  0.972456   36.690786   \n",
              "method4_IG_XGB    0.991218  0.887387  0.993468  0.928530   28.321667   \n",
              "int_paper_XGB     0.998887  0.935179  0.997802  0.963446   58.929815   \n",
              "un_paper_XGB      0.999266  0.973018  0.998166  0.984985   82.227546   \n",
              "method1_gini_SVM  0.994780  0.921806  0.989058  0.952059  119.413894   \n",
              "method1_IG_SVM    0.978920  0.922561  0.985049  0.950754  510.459246   \n",
              "method4_gini_SVM  0.992318  0.766551  0.989790  0.812333  132.377610   \n",
              "method4_IG_SVM    0.956029  0.755486  0.739124  0.746423  707.575811   \n",
              "int_paper_SVM     0.983039  0.627506  0.936972  0.656491  251.979500   \n",
              "un_paper_SVM      0.992685  0.923398  0.989532  0.953178  442.770244   \n",
              "\n",
              "                   B_Time(s)   T_Time(s)  \n",
              "method1_gini_KNN    0.467235    5.164404  \n",
              "method1_IG_KNN      0.407766    9.863705  \n",
              "method4_gini_KNN    0.281176    2.877071  \n",
              "method4_IG_KNN      0.227469    3.353838  \n",
              "int_paper_KNN       0.482093    3.689793  \n",
              "un_paper_KNN        0.017843  254.096851  \n",
              "method1_gini_XGB   48.960493    0.857807  \n",
              "method1_IG_XGB     42.610527    0.882947  \n",
              "method4_gini_XGB   35.662756    0.840241  \n",
              "method4_IG_XGB     27.149248    0.990762  \n",
              "int_paper_XGB      57.754267    0.994138  \n",
              "un_paper_XGB       81.095051    0.943541  \n",
              "method1_gini_SVM   82.994658   36.237272  \n",
              "method1_IG_SVM    413.146792   97.130129  \n",
              "method4_gini_SVM   89.491274   42.706711  \n",
              "method4_IG_SVM    540.889447  166.507243  \n",
              "int_paper_SVM     171.353499   80.444637  \n",
              "un_paper_SVM      375.833144   66.760884  "
            ],
            "text/html": [
              "\n",
              "  <div id=\"df-dce5a775-fc93-4b7e-ada8-71d5bac5c2fc\">\n",
              "    <div class=\"colab-df-container\">\n",
              "      <div>\n",
              "<style scoped>\n",
              "    .dataframe tbody tr th:only-of-type {\n",
              "        vertical-align: middle;\n",
              "    }\n",
              "\n",
              "    .dataframe tbody tr th {\n",
              "        vertical-align: top;\n",
              "    }\n",
              "\n",
              "    .dataframe thead th {\n",
              "        text-align: right;\n",
              "    }\n",
              "</style>\n",
              "<table border=\"1\" class=\"dataframe\">\n",
              "  <thead>\n",
              "    <tr style=\"text-align: right;\">\n",
              "      <th></th>\n",
              "      <th>Accuracy</th>\n",
              "      <th>Recall</th>\n",
              "      <th>Precision</th>\n",
              "      <th>F1_score</th>\n",
              "      <th>Time(s)</th>\n",
              "      <th>B_Time(s)</th>\n",
              "      <th>T_Time(s)</th>\n",
              "    </tr>\n",
              "  </thead>\n",
              "  <tbody>\n",
              "    <tr>\n",
              "      <th>method1_gini_KNN</th>\n",
              "      <td>0.998994</td>\n",
              "      <td>0.946286</td>\n",
              "      <td>0.992361</td>\n",
              "      <td>0.966825</td>\n",
              "      <td>5.815234</td>\n",
              "      <td>0.467235</td>\n",
              "      <td>5.164404</td>\n",
              "    </tr>\n",
              "    <tr>\n",
              "      <th>method1_IG_KNN</th>\n",
              "      <td>0.999029</td>\n",
              "      <td>0.951835</td>\n",
              "      <td>0.992579</td>\n",
              "      <td>0.969728</td>\n",
              "      <td>10.454499</td>\n",
              "      <td>0.407766</td>\n",
              "      <td>9.863705</td>\n",
              "    </tr>\n",
              "    <tr>\n",
              "      <th>method4_gini_KNN</th>\n",
              "      <td>0.999337</td>\n",
              "      <td>0.926823</td>\n",
              "      <td>0.991256</td>\n",
              "      <td>0.953116</td>\n",
              "      <td>3.351403</td>\n",
              "      <td>0.281176</td>\n",
              "      <td>2.877071</td>\n",
              "    </tr>\n",
              "    <tr>\n",
              "      <th>method4_IG_KNN</th>\n",
              "      <td>0.993360</td>\n",
              "      <td>0.847897</td>\n",
              "      <td>0.960912</td>\n",
              "      <td>0.883575</td>\n",
              "      <td>3.764947</td>\n",
              "      <td>0.227469</td>\n",
              "      <td>3.353838</td>\n",
              "    </tr>\n",
              "    <tr>\n",
              "      <th>int_paper_KNN</th>\n",
              "      <td>0.998154</td>\n",
              "      <td>0.855030</td>\n",
              "      <td>0.986052</td>\n",
              "      <td>0.900774</td>\n",
              "      <td>4.353956</td>\n",
              "      <td>0.482093</td>\n",
              "      <td>3.689793</td>\n",
              "    </tr>\n",
              "    <tr>\n",
              "      <th>un_paper_KNN</th>\n",
              "      <td>0.999302</td>\n",
              "      <td>0.950599</td>\n",
              "      <td>0.994026</td>\n",
              "      <td>0.969833</td>\n",
              "      <td>254.304013</td>\n",
              "      <td>0.017843</td>\n",
              "      <td>254.096851</td>\n",
              "    </tr>\n",
              "    <tr>\n",
              "      <th>method1_gini_XGB</th>\n",
              "      <td>0.999171</td>\n",
              "      <td>0.965203</td>\n",
              "      <td>0.983645</td>\n",
              "      <td>0.973871</td>\n",
              "      <td>50.001080</td>\n",
              "      <td>48.960493</td>\n",
              "      <td>0.857807</td>\n",
              "    </tr>\n",
              "    <tr>\n",
              "      <th>method1_IG_XGB</th>\n",
              "      <td>0.997952</td>\n",
              "      <td>0.963142</td>\n",
              "      <td>0.994693</td>\n",
              "      <td>0.977563</td>\n",
              "      <td>43.679552</td>\n",
              "      <td>42.610527</td>\n",
              "      <td>0.882947</td>\n",
              "    </tr>\n",
              "    <tr>\n",
              "      <th>method4_gini_XGB</th>\n",
              "      <td>0.998000</td>\n",
              "      <td>0.960408</td>\n",
              "      <td>0.985686</td>\n",
              "      <td>0.972456</td>\n",
              "      <td>36.690786</td>\n",
              "      <td>35.662756</td>\n",
              "      <td>0.840241</td>\n",
              "    </tr>\n",
              "    <tr>\n",
              "      <th>method4_IG_XGB</th>\n",
              "      <td>0.991218</td>\n",
              "      <td>0.887387</td>\n",
              "      <td>0.993468</td>\n",
              "      <td>0.928530</td>\n",
              "      <td>28.321667</td>\n",
              "      <td>27.149248</td>\n",
              "      <td>0.990762</td>\n",
              "    </tr>\n",
              "    <tr>\n",
              "      <th>int_paper_XGB</th>\n",
              "      <td>0.998887</td>\n",
              "      <td>0.935179</td>\n",
              "      <td>0.997802</td>\n",
              "      <td>0.963446</td>\n",
              "      <td>58.929815</td>\n",
              "      <td>57.754267</td>\n",
              "      <td>0.994138</td>\n",
              "    </tr>\n",
              "    <tr>\n",
              "      <th>un_paper_XGB</th>\n",
              "      <td>0.999266</td>\n",
              "      <td>0.973018</td>\n",
              "      <td>0.998166</td>\n",
              "      <td>0.984985</td>\n",
              "      <td>82.227546</td>\n",
              "      <td>81.095051</td>\n",
              "      <td>0.943541</td>\n",
              "    </tr>\n",
              "    <tr>\n",
              "      <th>method1_gini_SVM</th>\n",
              "      <td>0.994780</td>\n",
              "      <td>0.921806</td>\n",
              "      <td>0.989058</td>\n",
              "      <td>0.952059</td>\n",
              "      <td>119.413894</td>\n",
              "      <td>82.994658</td>\n",
              "      <td>36.237272</td>\n",
              "    </tr>\n",
              "    <tr>\n",
              "      <th>method1_IG_SVM</th>\n",
              "      <td>0.978920</td>\n",
              "      <td>0.922561</td>\n",
              "      <td>0.985049</td>\n",
              "      <td>0.950754</td>\n",
              "      <td>510.459246</td>\n",
              "      <td>413.146792</td>\n",
              "      <td>97.130129</td>\n",
              "    </tr>\n",
              "    <tr>\n",
              "      <th>method4_gini_SVM</th>\n",
              "      <td>0.992318</td>\n",
              "      <td>0.766551</td>\n",
              "      <td>0.989790</td>\n",
              "      <td>0.812333</td>\n",
              "      <td>132.377610</td>\n",
              "      <td>89.491274</td>\n",
              "      <td>42.706711</td>\n",
              "    </tr>\n",
              "    <tr>\n",
              "      <th>method4_IG_SVM</th>\n",
              "      <td>0.956029</td>\n",
              "      <td>0.755486</td>\n",
              "      <td>0.739124</td>\n",
              "      <td>0.746423</td>\n",
              "      <td>707.575811</td>\n",
              "      <td>540.889447</td>\n",
              "      <td>166.507243</td>\n",
              "    </tr>\n",
              "    <tr>\n",
              "      <th>int_paper_SVM</th>\n",
              "      <td>0.983039</td>\n",
              "      <td>0.627506</td>\n",
              "      <td>0.936972</td>\n",
              "      <td>0.656491</td>\n",
              "      <td>251.979500</td>\n",
              "      <td>171.353499</td>\n",
              "      <td>80.444637</td>\n",
              "    </tr>\n",
              "    <tr>\n",
              "      <th>un_paper_SVM</th>\n",
              "      <td>0.992685</td>\n",
              "      <td>0.923398</td>\n",
              "      <td>0.989532</td>\n",
              "      <td>0.953178</td>\n",
              "      <td>442.770244</td>\n",
              "      <td>375.833144</td>\n",
              "      <td>66.760884</td>\n",
              "    </tr>\n",
              "  </tbody>\n",
              "</table>\n",
              "</div>\n",
              "      <button class=\"colab-df-convert\" onclick=\"convertToInteractive('df-dce5a775-fc93-4b7e-ada8-71d5bac5c2fc')\"\n",
              "              title=\"Convert this dataframe to an interactive table.\"\n",
              "              style=\"display:none;\">\n",
              "        \n",
              "  <svg xmlns=\"http://www.w3.org/2000/svg\" height=\"24px\"viewBox=\"0 0 24 24\"\n",
              "       width=\"24px\">\n",
              "    <path d=\"M0 0h24v24H0V0z\" fill=\"none\"/>\n",
              "    <path d=\"M18.56 5.44l.94 2.06.94-2.06 2.06-.94-2.06-.94-.94-2.06-.94 2.06-2.06.94zm-11 1L8.5 8.5l.94-2.06 2.06-.94-2.06-.94L8.5 2.5l-.94 2.06-2.06.94zm10 10l.94 2.06.94-2.06 2.06-.94-2.06-.94-.94-2.06-.94 2.06-2.06.94z\"/><path d=\"M17.41 7.96l-1.37-1.37c-.4-.4-.92-.59-1.43-.59-.52 0-1.04.2-1.43.59L10.3 9.45l-7.72 7.72c-.78.78-.78 2.05 0 2.83L4 21.41c.39.39.9.59 1.41.59.51 0 1.02-.2 1.41-.59l7.78-7.78 2.81-2.81c.8-.78.8-2.07 0-2.86zM5.41 20L4 18.59l7.72-7.72 1.47 1.35L5.41 20z\"/>\n",
              "  </svg>\n",
              "      </button>\n",
              "      \n",
              "  <style>\n",
              "    .colab-df-container {\n",
              "      display:flex;\n",
              "      flex-wrap:wrap;\n",
              "      gap: 12px;\n",
              "    }\n",
              "\n",
              "    .colab-df-convert {\n",
              "      background-color: #E8F0FE;\n",
              "      border: none;\n",
              "      border-radius: 50%;\n",
              "      cursor: pointer;\n",
              "      display: none;\n",
              "      fill: #1967D2;\n",
              "      height: 32px;\n",
              "      padding: 0 0 0 0;\n",
              "      width: 32px;\n",
              "    }\n",
              "\n",
              "    .colab-df-convert:hover {\n",
              "      background-color: #E2EBFA;\n",
              "      box-shadow: 0px 1px 2px rgba(60, 64, 67, 0.3), 0px 1px 3px 1px rgba(60, 64, 67, 0.15);\n",
              "      fill: #174EA6;\n",
              "    }\n",
              "\n",
              "    [theme=dark] .colab-df-convert {\n",
              "      background-color: #3B4455;\n",
              "      fill: #D2E3FC;\n",
              "    }\n",
              "\n",
              "    [theme=dark] .colab-df-convert:hover {\n",
              "      background-color: #434B5C;\n",
              "      box-shadow: 0px 1px 3px 1px rgba(0, 0, 0, 0.15);\n",
              "      filter: drop-shadow(0px 1px 2px rgba(0, 0, 0, 0.3));\n",
              "      fill: #FFFFFF;\n",
              "    }\n",
              "  </style>\n",
              "\n",
              "      <script>\n",
              "        const buttonEl =\n",
              "          document.querySelector('#df-dce5a775-fc93-4b7e-ada8-71d5bac5c2fc button.colab-df-convert');\n",
              "        buttonEl.style.display =\n",
              "          google.colab.kernel.accessAllowed ? 'block' : 'none';\n",
              "\n",
              "        async function convertToInteractive(key) {\n",
              "          const element = document.querySelector('#df-dce5a775-fc93-4b7e-ada8-71d5bac5c2fc');\n",
              "          const dataTable =\n",
              "            await google.colab.kernel.invokeFunction('convertToInteractive',\n",
              "                                                     [key], {});\n",
              "          if (!dataTable) return;\n",
              "\n",
              "          const docLinkHtml = 'Like what you see? Visit the ' +\n",
              "            '<a target=\"_blank\" href=https://colab.research.google.com/notebooks/data_table.ipynb>data table notebook</a>'\n",
              "            + ' to learn more about interactive tables.';\n",
              "          element.innerHTML = '';\n",
              "          dataTable['output_type'] = 'display_data';\n",
              "          await google.colab.output.renderOutput(dataTable, element);\n",
              "          const docLink = document.createElement('div');\n",
              "          docLink.innerHTML = docLinkHtml;\n",
              "          element.appendChild(docLink);\n",
              "        }\n",
              "      </script>\n",
              "    </div>\n",
              "  </div>\n",
              "  "
            ]
          },
          "metadata": {},
          "execution_count": 887
        }
      ],
      "source": [
        "dic4={\"Accuracy\":[(\"{:.6f}\".format(acc_method1_gini_KNN)),(\"{:.6f}\".format(acc_method1_IG_KNN)),\n",
        "                  (\"{:.6f}\".format(acc_method4_gini_KNN)),(\"{:.6f}\".format(acc_method4_IG_KNN)),\n",
        "                  (\"{:.6f}\".format(acc_int_paper_KNN)), (\"{:.6f}\".format(acc_un_paper_KNN)),\n",
        "                  (\"{:.6f}\".format(acc_method1_gini_XGB)),(\"{:.6f}\".format(acc_method1_IG_XGB)),\n",
        "                  (\"{:.6f}\".format(acc_method4_gini_XGB)),(\"{:.6f}\".format(acc_method4_IG_XGB)),\n",
        "                  (\"{:.6f}\".format(acc_int_paper_XGB)), (\"{:.6f}\".format(acc_un_paper_XGB)),\n",
        "                  (\"{:.6f}\".format(acc_method1_gini_SVM)),(\"{:.6f}\".format(acc_method1_IG_SVM)),\n",
        "                  (\"{:.6f}\".format(acc_method4_gini_SVM)),(\"{:.6f}\".format(acc_method4_IG_SVM)),\n",
        "                  (\"{:.6f}\".format(acc_int_paper_SVM)), (\"{:.6f}\".format(acc_un_paper_SVM))\n",
        "                  ],\n",
        "\n",
        "      \"Recall\":[(\"{:.6f}\".format(recall_method1_gini_KNN)),(\"{:.6f}\".format(recall_method1_IG_KNN)),\n",
        "                  (\"{:.6f}\".format(recall_method4_gini_KNN)),(\"{:.6f}\".format(recall_method4_IG_KNN)),\n",
        "                  (\"{:.6f}\".format(recall_int_paper_KNN)), (\"{:.6f}\".format(recall_un_paper_KNN)),\n",
        "                  (\"{:.6f}\".format(recall_method1_gini_XGB)),(\"{:.6f}\".format(recall_method1_IG_XGB)),\n",
        "                  (\"{:.6f}\".format(recall_method4_gini_XGB)),(\"{:.6f}\".format(recall_method4_IG_XGB)),\n",
        "                  (\"{:.6f}\".format(recall_int_paper_XGB)), (\"{:.6f}\".format(recall_un_paper_XGB)),\n",
        "                  (\"{:.6f}\".format(recall_method1_gini_SVM)),(\"{:.6f}\".format(recall_method1_IG_SVM)),\n",
        "                  (\"{:.6f}\".format(recall_method4_gini_SVM)),(\"{:.6f}\".format(recall_method4_IG_SVM)),\n",
        "                  (\"{:.6f}\".format(recall_int_paper_SVM)), (\"{:.6f}\".format(recall_un_paper_SVM)),\n",
        "                  ],\n",
        "\n",
        "\n",
        "      \"Precision\":[(\"{:.6f}\".format(precision_method1_gini_KNN)),(\"{:.6f}\".format(precision_method1_IG_KNN)),\n",
        "                  (\"{:.6f}\".format(precision_method4_gini_KNN)),(\"{:.6f}\".format(precision_method4_IG_KNN)),\n",
        "                  (\"{:.6f}\".format(precision_int_paper_KNN)),(\"{:.6f}\".format(precision_un_paper_KNN)),\n",
        "                  (\"{:.6f}\".format(precision_method1_gini_XGB)),(\"{:.6f}\".format(precision_method1_IG_XGB)),\n",
        "                  (\"{:.6f}\".format(precision_method4_gini_XGB)),(\"{:.6f}\".format(precision_method4_IG_XGB)),\n",
        "                    (\"{:.6f}\".format(precision_int_paper_XGB)),(\"{:.6f}\".format(precision_un_paper_XGB)),\n",
        "                  (\"{:.6f}\".format(precision_method1_gini_SVM)),(\"{:.6f}\".format(precision_method1_IG_SVM)),\n",
        "                  (\"{:.6f}\".format(precision_method4_gini_SVM)),(\"{:.6f}\".format(precision_method4_IG_SVM)),\n",
        "                    (\"{:.6f}\".format(precision_int_paper_SVM)),(\"{:.6f}\".format(precision_un_paper_SVM))],\n",
        "\n",
        "\n",
        "\n",
        "      \"F1_score\":[(\"{:.6f}\".format(f1score_method1_gini_KNN)),(\"{:.6f}\".format(f1score_method1_IG_KNN)),\n",
        "                  (\"{:.6f}\".format(f1score_method4_gini_KNN)),(\"{:.6f}\".format(f1score_method4_IG_KNN)),\n",
        "                  (\"{:.6f}\".format(f1score_int_paper_KNN)),(\"{:.6f}\".format(f1score_un_paper_KNN)),\n",
        "                  (\"{:.6f}\".format(f1score_method1_gini_XGB)),(\"{:.6f}\".format(f1score_method1_IG_XGB)),\n",
        "                  (\"{:.6f}\".format(f1score_method4_gini_XGB)),(\"{:.6f}\".format(f1score_method4_IG_XGB)),\n",
        "                  (\"{:.6f}\".format(f1score_int_paper_XGB)),(\"{:.6f}\".format(f1score_un_paper_XGB)),\n",
        "                  (\"{:.6f}\".format(f1score_method1_gini_SVM)),(\"{:.6f}\".format(f1score_method1_IG_SVM)),\n",
        "                  (\"{:.6f}\".format(f1score_method4_gini_SVM)),(\"{:.6f}\".format(f1score_method4_IG_SVM)),\n",
        "                  (\"{:.6f}\".format(f1score_int_paper_SVM)),(\"{:.6f}\".format(f1score_un_paper_SVM))],\n",
        "\n",
        "\n",
        "      \"Time(s)\":[(\"{:.6f}\".format(method1_gini_time_KNN)),(\"{:.6f}\".format(method1_IG_time_KNN)),\n",
        "                  (\"{:.6f}\".format(method4_gini_time_KNN)),(\"{:.6f}\".format(method4_IG_time_KNN)),\n",
        "                  (\"{:.6f}\".format(int_paper_time_KNN)),(\"{:.6f}\".format(un_paper_time_KNN)),\n",
        "                  (\"{:.6f}\".format(method1_gini_time_XGB)),(\"{:.6f}\".format(method1_IG_time_XGB)),\n",
        "                  (\"{:.6f}\".format(method4_gini_time_XGB)),(\"{:.6f}\".format(method4_IG_time_XGB)),\n",
        "                  (\"{:.6f}\".format(int_paper_time_XGB)),(\"{:.6f}\".format(un_paper_time_XGB)),\n",
        "                  (\"{:.6f}\".format(method1_gini_time_SVM)),(\"{:.6f}\".format(method1_IG_time_SVM)),\n",
        "                  (\"{:.6f}\".format(method4_gini_time_SVM)),(\"{:.6f}\".format(method4_IG_time_SVM)),\n",
        "                  (\"{:.6f}\".format(int_paper_time_SVM)),(\"{:.6f}\".format(un_paper_time_SVM))],\n",
        "\n",
        "\n",
        "      \"B_Time(s)\":[(\"{:.6f}\".format(build_time_method1_gini_KNN)),(\"{:.6f}\".format(build_time_method1_IG_KNN)),\n",
        "                  (\"{:.6f}\".format(build_time_method4_gini_KNN)),(\"{:.6f}\".format(build_time_method4_IG_KNN)),\n",
        "                   (\"{:.6f}\".format(build_time_int_paper_KNN)),(\"{:.6f}\".format(build_time_un_paper_KNN)),\n",
        "                  (\"{:.6f}\".format(build_time_method1_gini_XGB)),(\"{:.6f}\".format(build_time_method1_IG_XGB)),\n",
        "                  (\"{:.6f}\".format(build_time_method4_gini_XGB)),(\"{:.6f}\".format(build_time_method4_IG_XGB)),\n",
        "                   (\"{:.6f}\".format(build_time_int_paper_XGB)),(\"{:.6f}\".format(build_time_un_paper_XGB)),\n",
        "                  (\"{:.6f}\".format(build_time_method1_gini_SVM)),(\"{:.6f}\".format(build_time_method1_IG_SVM)),\n",
        "                  (\"{:.6f}\".format(build_time_method4_gini_SVM)),(\"{:.6f}\".format(build_time_method4_IG_SVM)),\n",
        "                   (\"{:.6f}\".format(build_time_int_paper_SVM)),(\"{:.6f}\".format(build_time_un_paper_SVM))],\n",
        "\n",
        "      \"T_Time(s)\":[(\"{:.6f}\".format(test_time_method1_gini_KNN)),(\"{:.6f}\".format(test_time_method1_IG_KNN)),\n",
        "                  (\"{:.6f}\".format(test_time_method4_gini_KNN)),(\"{:.6f}\".format(test_time_method4_IG_KNN)),\n",
        "                   (\"{:.6f}\".format(test_time_int_paper_KNN)),(\"{:.6f}\".format(test_time_un_paper_KNN)),\n",
        "                  (\"{:.6f}\".format(test_time_method1_gini_XGB)),(\"{:.6f}\".format(test_time_method1_IG_XGB)),\n",
        "                  (\"{:.6f}\".format(test_time_method4_gini_XGB)),(\"{:.6f}\".format(test_time_method4_IG_XGB)),\n",
        "                    (\"{:.6f}\".format(test_time_int_paper_XGB)),(\"{:.6f}\".format(test_time_un_paper_XGB)),\n",
        "                  (\"{:.6f}\".format(test_time_method1_gini_SVM)),(\"{:.6f}\".format(test_time_method1_IG_SVM)),\n",
        "                  (\"{:.6f}\".format(test_time_method4_gini_SVM)),(\"{:.6f}\".format(test_time_method4_IG_SVM)),\n",
        "                    (\"{:.6f}\".format(test_time_int_paper_SVM)),(\"{:.6f}\".format(test_time_un_paper_SVM)),],}\n",
        "\n",
        "\n",
        "main_data = pd.DataFrame.from_dict( dic4 , orient='index')\n",
        "main_data.columns=['method1_gini_KNN', 'method1_IG_KNN','method4_gini_KNN','method4_IG_KNN', 'int_paper_KNN', 'un_paper_KNN',\n",
        "                   'method1_gini_XGB', 'method1_IG_XGB', 'method4_gini_XGB', 'method4_IG_XGB', 'int_paper_XGB', 'un_paper_XGB',\n",
        "                   'method1_gini_SVM', 'method1_IG_SVM', 'method4_gini_SVM', 'method4_IG_SVM', 'int_paper_SVM', 'un_paper_SVM'\n",
        "                   ]\n",
        "main_data = main_data.T\n",
        "main_data"
      ]
    },
    {
      "cell_type": "code",
      "execution_count": null,
      "metadata": {
        "id": "194ahUmyDeHo",
        "colab": {
          "base_uri": "https://localhost:8080/"
        },
        "outputId": "3180f539-9586-4f9c-9de1-e6046e70fce5"
      },
      "outputs": [
        {
          "output_type": "execute_result",
          "data": {
            "text/plain": [
              "2918.7940018177032"
            ]
          },
          "metadata": {},
          "execution_count": 888
        }
      ],
      "source": [
        "end_all=time.time()\n",
        "time_all=end_all-start_all\n",
        "time_all"
      ]
    },
    {
      "cell_type": "code",
      "execution_count": null,
      "metadata": {
        "id": "Kf-G3MCusetE"
      },
      "outputs": [],
      "source": []
    },
    {
      "cell_type": "code",
      "execution_count": null,
      "metadata": {
        "id": "hjWMWUiC0BnE"
      },
      "outputs": [],
      "source": []
    },
    {
      "cell_type": "code",
      "execution_count": null,
      "metadata": {
        "id": "cjY-1UQX0BkN"
      },
      "outputs": [],
      "source": []
    },
    {
      "cell_type": "code",
      "execution_count": null,
      "metadata": {
        "id": "fwZk7zSG0BYY"
      },
      "outputs": [],
      "source": []
    }
  ],
  "metadata": {
    "accelerator": "GPU",
    "colab": {
      "collapsed_sections": [
        "uubleNZvqO4g",
        "MefWVl8Cqkf7",
        "k1VSjYemqttu",
        "xQ90svMpr2S1",
        "UhzhTclbsNPD",
        "pTIw1I7ispaK",
        "M9Svgpa1SE22",
        "N57-WQRqtHuw",
        "NV3hYk5YtOcB",
        "3FleK5HFtpBP",
        "UpO29IlUuAA1",
        "nJjmNSviuL9t",
        "K_gCerwjudhO",
        "YhO8BMSYBC5I",
        "XFxL82eUBsqU",
        "tPwq_PxvCl2u",
        "GEEEeyocCz91",
        "9GVZZGq8DR-7",
        "gde-XuO1F1rb",
        "aKVWF81TGoW7",
        "rmvWYW-mHKcJ",
        "AVmidTupKtKt",
        "soMQqIcMK5h2",
        "LlAmIdaOLtkA",
        "MZck9E1kMKtl",
        "j0d6F_leQNKI",
        "mL7RCCfcWhhr",
        "B7FiS2wnOp8X"
      ],
      "provenance": []
    },
    "gpuClass": "standard",
    "kernelspec": {
      "display_name": "Python 3 (ipykernel)",
      "language": "python",
      "name": "python3"
    },
    "language_info": {
      "codemirror_mode": {
        "name": "ipython",
        "version": 3
      },
      "file_extension": ".py",
      "mimetype": "text/x-python",
      "name": "python",
      "nbconvert_exporter": "python",
      "pygments_lexer": "ipython3",
      "version": "3.9.7"
    }
  },
  "nbformat": 4,
  "nbformat_minor": 0
}